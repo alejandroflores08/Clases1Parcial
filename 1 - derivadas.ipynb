{
 "cells": [
  {
   "cell_type": "code",
   "execution_count": 5,
   "metadata": {},
   "outputs": [],
   "source": [
    "%matplotlib notebook\n",
    "from sympy import * \n",
    "import numpy as np \n",
    "import math\n",
    "import matplotlib.pyplot as plt\n",
    "init_printing()"
   ]
  },
  {
   "cell_type": "code",
   "execution_count": 6,
   "metadata": {},
   "outputs": [
    {
     "data": {
      "image/png": "[encoded data removed]",
      "text/latex": [
       "$$\\left ( x, \\quad y, \\quad t\\right )$$"
      ],
      "text/plain": [
       "(x, y, t)"
      ]
     },
     "execution_count": 6,
     "metadata": {},
     "output_type": "execute_result"
    }
   ],
   "source": [
    "var (\"x y t\")"
   ]
  },
  {
   "cell_type": "code",
   "execution_count": 7,
   "metadata": {},
   "outputs": [
    {
     "data": {
      "application/javascript": [
       "/* Put everything inside the global mpl namespace */\n",
       "window.mpl = {};\n",
       "\n",
       "\n",
       "mpl.get_websocket_type = function() {\n",
       "    if (typeof(WebSocket) !== 'undefined') {\n",
       "        return WebSocket;\n",
       "    } else if (typeof(MozWebSocket) !== 'undefined') {\n",
       "        return MozWebSocket;\n",
       "    } else {\n",
       "        alert('Your browser does not have WebSocket support.' +\n",
       "              'Please try Chrome, Safari or Firefox ≥ 6. ' +\n",
       "              'Firefox 4 and 5 are also supported but you ' +\n",
       "              'have to enable WebSockets in about:config.');\n",
       "    };\n",
       "}\n",
       "\n",
       "mpl.figure = function(figure_id, websocket, ondownload, parent_element) {\n",
       "    this.id = figure_id;\n",
       "\n",
       "    this.ws = websocket;\n",
       "\n",
       "    this.supports_binary = (this.ws.binaryType != undefined);\n",
       "\n",
       "    if (!this.supports_binary) {\n",
       "        var warnings = document.getElementById(\"mpl-warnings\");\n",
       "        if (warnings) {\n",
       "            warnings.style.display = 'block';\n",
       "            warnings.textContent = (\n",
       "                \"This browser does not support binary websocket messages. \" +\n",
       "                    \"Performance may be slow.\");\n",
       "        }\n",
       "    }\n",
       "\n",
       "    this.imageObj = new Image();\n",
       "\n",
       "    this.context = undefined;\n",
       "    this.message = undefined;\n",
       "    this.canvas = undefined;\n",
       "    this.rubberband_canvas = undefined;\n",
       "    this.rubberband_context = undefined;\n",
       "    this.format_dropdown = undefined;\n",
       "\n",
       "    this.image_mode = 'full';\n",
       "\n",
       "    this.root = $('<div/>');\n",
       "    this._root_extra_style(this.root)\n",
       "    this.root.attr('style', 'display: inline-block');\n",
       "\n",
       "    $(parent_element).append(this.root);\n",
       "\n",
       "    this._init_header(this);\n",
       "    this._init_canvas(this);\n",
       "    this._init_toolbar(this);\n",
       "\n",
       "    var fig = this;\n",
       "\n",
       "    this.waiting = false;\n",
       "\n",
       "    this.ws.onopen =  function () {\n",
       "            fig.send_message(\"supports_binary\", {value: fig.supports_binary});\n",
       "            fig.send_message(\"send_image_mode\", {});\n",
       "            if (mpl.ratio != 1) {\n",
       "                fig.send_message(\"set_dpi_ratio\", {'dpi_ratio': mpl.ratio});\n",
       "            }\n",
       "            fig.send_message(\"refresh\", {});\n",
       "        }\n",
       "\n",
       "    this.imageObj.onload = function() {\n",
       "            if (fig.image_mode == 'full') {\n",
       "                // Full images could contain transparency (where diff images\n",
       "                // almost always do), so we need to clear the canvas so that\n",
       "                // there is no ghosting.\n",
       "                fig.context.clearRect(0, 0, fig.canvas.width, fig.canvas.height);\n",
       "            }\n",
       "            fig.context.drawImage(fig.imageObj, 0, 0);\n",
       "        };\n",
       "\n",
       "    this.imageObj.onunload = function() {\n",
       "        fig.ws.close();\n",
       "    }\n",
       "\n",
       "    this.ws.onmessage = this._make_on_message_function(this);\n",
       "\n",
       "    this.ondownload = ondownload;\n",
       "}\n",
       "\n",
       "mpl.figure.prototype._init_header = function() {\n",
       "    var titlebar = $(\n",
       "        '<div class=\"ui-dialog-titlebar ui-widget-header ui-corner-all ' +\n",
       "        'ui-helper-clearfix\"/>');\n",
       "    var titletext = $(\n",
       "        '<div class=\"ui-dialog-title\" style=\"width: 100%; ' +\n",
       "        'text-align: center; padding: 3px;\"/>');\n",
       "    titlebar.append(titletext)\n",
       "    this.root.append(titlebar);\n",
       "    this.header = titletext[0];\n",
       "}\n",
       "\n",
       "\n",
       "\n",
       "mpl.figure.prototype._canvas_extra_style = function(canvas_div) {\n",
       "\n",
       "}\n",
       "\n",
       "\n",
       "mpl.figure.prototype._root_extra_style = function(canvas_div) {\n",
       "\n",
       "}\n",
       "\n",
       "mpl.figure.prototype._init_canvas = function() {\n",
       "    var fig = this;\n",
       "\n",
       "    var canvas_div = $('<div/>');\n",
       "\n",
       "    canvas_div.attr('style', 'position: relative; clear: both; outline: 0');\n",
       "\n",
       "    function canvas_keyboard_event(event) {\n",
       "        return fig.key_event(event, event['data']);\n",
       "    }\n",
       "\n",
       "    canvas_div.keydown('key_press', canvas_keyboard_event);\n",
       "    canvas_div.keyup('key_release', canvas_keyboard_event);\n",
       "    this.canvas_div = canvas_div\n",
       "    this._canvas_extra_style(canvas_div)\n",
       "    this.root.append(canvas_div);\n",
       "\n",
       "    var canvas = $('<canvas/>');\n",
       "    canvas.addClass('mpl-canvas');\n",
       "    canvas.attr('style', \"left: 0; top: 0; z-index: 0; outline: 0\")\n",
       "\n",
       "    this.canvas = canvas[0];\n",
       "    this.context = canvas[0].getContext(\"2d\");\n",
       "\n",
       "    var backingStore = this.context.backingStorePixelRatio ||\n",
       "\tthis.context.webkitBackingStorePixelRatio ||\n",
       "\tthis.context.mozBackingStorePixelRatio ||\n",
       "\tthis.context.msBackingStorePixelRatio ||\n",
       "\tthis.context.oBackingStorePixelRatio ||\n",
       "\tthis.context.backingStorePixelRatio || 1;\n",
       "\n",
       "    mpl.ratio = (window.devicePixelRatio || 1) / backingStore;\n",
       "\n",
       "    var rubberband = $('<canvas/>');\n",
       "    rubberband.attr('style', \"position: absolute; left: 0; top: 0; z-index: 1;\")\n",
       "\n",
       "    var pass_mouse_events = true;\n",
       "\n",
       "    canvas_div.resizable({\n",
       "        start: function(event, ui) {\n",
       "            pass_mouse_events = false;\n",
       "        },\n",
       "        resize: function(event, ui) {\n",
       "            fig.request_resize(ui.size.width, ui.size.height);\n",
       "        },\n",
       "        stop: function(event, ui) {\n",
       "            pass_mouse_events = true;\n",
       "            fig.request_resize(ui.size.width, ui.size.height);\n",
       "        },\n",
       "    });\n",
       "\n",
       "    function mouse_event_fn(event) {\n",
       "        if (pass_mouse_events)\n",
       "            return fig.mouse_event(event, event['data']);\n",
       "    }\n",
       "\n",
       "    rubberband.mousedown('button_press', mouse_event_fn);\n",
       "    rubberband.mouseup('button_release', mouse_event_fn);\n",
       "    // Throttle sequential mouse events to 1 every 20ms.\n",
       "    rubberband.mousemove('motion_notify', mouse_event_fn);\n",
       "\n",
       "    rubberband.mouseenter('figure_enter', mouse_event_fn);\n",
       "    rubberband.mouseleave('figure_leave', mouse_event_fn);\n",
       "\n",
       "    canvas_div.on(\"wheel\", function (event) {\n",
       "        event = event.originalEvent;\n",
       "        event['data'] = 'scroll'\n",
       "        if (event.deltaY < 0) {\n",
       "            event.step = 1;\n",
       "        } else {\n",
       "            event.step = -1;\n",
       "        }\n",
       "        mouse_event_fn(event);\n",
       "    });\n",
       "\n",
       "    canvas_div.append(canvas);\n",
       "    canvas_div.append(rubberband);\n",
       "\n",
       "    this.rubberband = rubberband;\n",
       "    this.rubberband_canvas = rubberband[0];\n",
       "    this.rubberband_context = rubberband[0].getContext(\"2d\");\n",
       "    this.rubberband_context.strokeStyle = \"#000000\";\n",
       "\n",
       "    this._resize_canvas = function(width, height) {\n",
       "        // Keep the size of the canvas, canvas container, and rubber band\n",
       "        // canvas in synch.\n",
       "        canvas_div.css('width', width)\n",
       "        canvas_div.css('height', height)\n",
       "\n",
       "        canvas.attr('width', width * mpl.ratio);\n",
       "        canvas.attr('height', height * mpl.ratio);\n",
       "        canvas.attr('style', 'width: ' + width + 'px; height: ' + height + 'px;');\n",
       "\n",
       "        rubberband.attr('width', width);\n",
       "        rubberband.attr('height', height);\n",
       "    }\n",
       "\n",
       "    // Set the figure to an initial 600x600px, this will subsequently be updated\n",
       "    // upon first draw.\n",
       "    this._resize_canvas(600, 600);\n",
       "\n",
       "    // Disable right mouse context menu.\n",
       "    $(this.rubberband_canvas).bind(\"contextmenu\",function(e){\n",
       "        return false;\n",
       "    });\n",
       "\n",
       "    function set_focus () {\n",
       "        canvas.focus();\n",
       "        canvas_div.focus();\n",
       "    }\n",
       "\n",
       "    window.setTimeout(set_focus, 100);\n",
       "}\n",
       "\n",
       "mpl.figure.prototype._init_toolbar = function() {\n",
       "    var fig = this;\n",
       "\n",
       "    var nav_element = $('<div/>')\n",
       "    nav_element.attr('style', 'width: 100%');\n",
       "    this.root.append(nav_element);\n",
       "\n",
       "    // Define a callback function for later on.\n",
       "    function toolbar_event(event) {\n",
       "        return fig.toolbar_button_onclick(event['data']);\n",
       "    }\n",
       "    function toolbar_mouse_event(event) {\n",
       "        return fig.toolbar_button_onmouseover(event['data']);\n",
       "    }\n",
       "\n",
       "    for(var toolbar_ind in mpl.toolbar_items) {\n",
       "        var name = mpl.toolbar_items[toolbar_ind][0];\n",
       "        var tooltip = mpl.toolbar_items[toolbar_ind][1];\n",
       "        var image = mpl.toolbar_items[toolbar_ind][2];\n",
       "        var method_name = mpl.toolbar_items[toolbar_ind][3];\n",
       "\n",
       "        if (!name) {\n",
       "            // put a spacer in here.\n",
       "            continue;\n",
       "        }\n",
       "        var button = $('<button/>');\n",
       "        button.addClass('ui-button ui-widget ui-state-default ui-corner-all ' +\n",
       "                        'ui-button-icon-only');\n",
       "        button.attr('role', 'button');\n",
       "        button.attr('aria-disabled', 'false');\n",
       "        button.click(method_name, toolbar_event);\n",
       "        button.mouseover(tooltip, toolbar_mouse_event);\n",
       "\n",
       "        var icon_img = $('<span/>');\n",
       "        icon_img.addClass('ui-button-icon-primary ui-icon');\n",
       "        icon_img.addClass(image);\n",
       "        icon_img.addClass('ui-corner-all');\n",
       "\n",
       "        var tooltip_span = $('<span/>');\n",
       "        tooltip_span.addClass('ui-button-text');\n",
       "        tooltip_span.html(tooltip);\n",
       "\n",
       "        button.append(icon_img);\n",
       "        button.append(tooltip_span);\n",
       "\n",
       "        nav_element.append(button);\n",
       "    }\n",
       "\n",
       "    var fmt_picker_span = $('<span/>');\n",
       "\n",
       "    var fmt_picker = $('<select/>');\n",
       "    fmt_picker.addClass('mpl-toolbar-option ui-widget ui-widget-content');\n",
       "    fmt_picker_span.append(fmt_picker);\n",
       "    nav_element.append(fmt_picker_span);\n",
       "    this.format_dropdown = fmt_picker[0];\n",
       "\n",
       "    for (var ind in mpl.extensions) {\n",
       "        var fmt = mpl.extensions[ind];\n",
       "        var option = $(\n",
       "            '<option/>', {selected: fmt === mpl.default_extension}).html(fmt);\n",
       "        fmt_picker.append(option)\n",
       "    }\n",
       "\n",
       "    // Add hover states to the ui-buttons\n",
       "    $( \".ui-button\" ).hover(\n",
       "        function() { $(this).addClass(\"ui-state-hover\");},\n",
       "        function() { $(this).removeClass(\"ui-state-hover\");}\n",
       "    );\n",
       "\n",
       "    var status_bar = $('<span class=\"mpl-message\"/>');\n",
       "    nav_element.append(status_bar);\n",
       "    this.message = status_bar[0];\n",
       "}\n",
       "\n",
       "mpl.figure.prototype.request_resize = function(x_pixels, y_pixels) {\n",
       "    // Request matplotlib to resize the figure. Matplotlib will then trigger a resize in the client,\n",
       "    // which will in turn request a refresh of the image.\n",
       "    this.send_message('resize', {'width': x_pixels, 'height': y_pixels});\n",
       "}\n",
       "\n",
       "mpl.figure.prototype.send_message = function(type, properties) {\n",
       "    properties['type'] = type;\n",
       "    properties['figure_id'] = this.id;\n",
       "    this.ws.send(JSON.stringify(properties));\n",
       "}\n",
       "\n",
       "mpl.figure.prototype.send_draw_message = function() {\n",
       "    if (!this.waiting) {\n",
       "        this.waiting = true;\n",
       "        this.ws.send(JSON.stringify({type: \"draw\", figure_id: this.id}));\n",
       "    }\n",
       "}\n",
       "\n",
       "\n",
       "mpl.figure.prototype.handle_save = function(fig, msg) {\n",
       "    var format_dropdown = fig.format_dropdown;\n",
       "    var format = format_dropdown.options[format_dropdown.selectedIndex].value;\n",
       "    fig.ondownload(fig, format);\n",
       "}\n",
       "\n",
       "\n",
       "mpl.figure.prototype.handle_resize = function(fig, msg) {\n",
       "    var size = msg['size'];\n",
       "    if (size[0] != fig.canvas.width || size[1] != fig.canvas.height) {\n",
       "        fig._resize_canvas(size[0], size[1]);\n",
       "        fig.send_message(\"refresh\", {});\n",
       "    };\n",
       "}\n",
       "\n",
       "mpl.figure.prototype.handle_rubberband = function(fig, msg) {\n",
       "    var x0 = msg['x0'] / mpl.ratio;\n",
       "    var y0 = (fig.canvas.height - msg['y0']) / mpl.ratio;\n",
       "    var x1 = msg['x1'] / mpl.ratio;\n",
       "    var y1 = (fig.canvas.height - msg['y1']) / mpl.ratio;\n",
       "    x0 = Math.floor(x0) + 0.5;\n",
       "    y0 = Math.floor(y0) + 0.5;\n",
       "    x1 = Math.floor(x1) + 0.5;\n",
       "    y1 = Math.floor(y1) + 0.5;\n",
       "    var min_x = Math.min(x0, x1);\n",
       "    var min_y = Math.min(y0, y1);\n",
       "    var width = Math.abs(x1 - x0);\n",
       "    var height = Math.abs(y1 - y0);\n",
       "\n",
       "    fig.rubberband_context.clearRect(\n",
       "        0, 0, fig.canvas.width, fig.canvas.height);\n",
       "\n",
       "    fig.rubberband_context.strokeRect(min_x, min_y, width, height);\n",
       "}\n",
       "\n",
       "mpl.figure.prototype.handle_figure_label = function(fig, msg) {\n",
       "    // Updates the figure title.\n",
       "    fig.header.textContent = msg['label'];\n",
       "}\n",
       "\n",
       "mpl.figure.prototype.handle_cursor = function(fig, msg) {\n",
       "    var cursor = msg['cursor'];\n",
       "    switch(cursor)\n",
       "    {\n",
       "    case 0:\n",
       "        cursor = 'pointer';\n",
       "        break;\n",
       "    case 1:\n",
       "        cursor = 'default';\n",
       "        break;\n",
       "    case 2:\n",
       "        cursor = 'crosshair';\n",
       "        break;\n",
       "    case 3:\n",
       "        cursor = 'move';\n",
       "        break;\n",
       "    }\n",
       "    fig.rubberband_canvas.style.cursor = cursor;\n",
       "}\n",
       "\n",
       "mpl.figure.prototype.handle_message = function(fig, msg) {\n",
       "    fig.message.textContent = msg['message'];\n",
       "}\n",
       "\n",
       "mpl.figure.prototype.handle_draw = function(fig, msg) {\n",
       "    // Request the server to send over a new figure.\n",
       "    fig.send_draw_message();\n",
       "}\n",
       "\n",
       "mpl.figure.prototype.handle_image_mode = function(fig, msg) {\n",
       "    fig.image_mode = msg['mode'];\n",
       "}\n",
       "\n",
       "mpl.figure.prototype.updated_canvas_event = function() {\n",
       "    // Called whenever the canvas gets updated.\n",
       "    this.send_message(\"ack\", {});\n",
       "}\n",
       "\n",
       "// A function to construct a web socket function for onmessage handling.\n",
       "// Called in the figure constructor.\n",
       "mpl.figure.prototype._make_on_message_function = function(fig) {\n",
       "    return function socket_on_message(evt) {\n",
       "        if (evt.data instanceof Blob) {\n",
       "            /* FIXME: We get \"Resource interpreted as Image but\n",
       "             * transferred with MIME type text/plain:\" errors on\n",
       "             * Chrome.  But how to set the MIME type?  It doesn't seem\n",
       "             * to be part of the websocket stream */\n",
       "            evt.data.type = \"image/png\";\n",
       "\n",
       "            /* Free the memory for the previous frames */\n",
       "            if (fig.imageObj.src) {\n",
       "                (window.URL || window.webkitURL).revokeObjectURL(\n",
       "                    fig.imageObj.src);\n",
       "            }\n",
       "\n",
       "            fig.imageObj.src = (window.URL || window.webkitURL).createObjectURL(\n",
       "                evt.data);\n",
       "            fig.updated_canvas_event();\n",
       "            fig.waiting = false;\n",
       "            return;\n",
       "        }\n",
       "        else if (typeof evt.data === 'string' && evt.data.slice(0, 21) == \"data:image/png;base64\") {\n",
       "            fig.imageObj.src = evt.data;\n",
       "            fig.updated_canvas_event();\n",
       "            fig.waiting = false;\n",
       "            return;\n",
       "        }\n",
       "\n",
       "        var msg = JSON.parse(evt.data);\n",
       "        var msg_type = msg['type'];\n",
       "\n",
       "        // Call the  \"handle_{type}\" callback, which takes\n",
       "        // the figure and JSON message as its only arguments.\n",
       "        try {\n",
       "            var callback = fig[\"handle_\" + msg_type];\n",
       "        } catch (e) {\n",
       "            console.log(\"No handler for the '\" + msg_type + \"' message type: \", msg);\n",
       "            return;\n",
       "        }\n",
       "\n",
       "        if (callback) {\n",
       "            try {\n",
       "                // console.log(\"Handling '\" + msg_type + \"' message: \", msg);\n",
       "                callback(fig, msg);\n",
       "            } catch (e) {\n",
       "                console.log(\"Exception inside the 'handler_\" + msg_type + \"' callback:\", e, e.stack, msg);\n",
       "            }\n",
       "        }\n",
       "    };\n",
       "}\n",
       "\n",
       "// from http://stackoverflow.com/questions/1114465/getting-mouse-location-in-canvas\n",
       "mpl.findpos = function(e) {\n",
       "    //this section is from http://www.quirksmode.org/js/events_properties.html\n",
       "    var targ;\n",
       "    if (!e)\n",
       "        e = window.event;\n",
       "    if (e.target)\n",
       "        targ = e.target;\n",
       "    else if (e.srcElement)\n",
       "        targ = e.srcElement;\n",
       "    if (targ.nodeType == 3) // defeat Safari bug\n",
       "        targ = targ.parentNode;\n",
       "\n",
       "    // jQuery normalizes the pageX and pageY\n",
       "    // pageX,Y are the mouse positions relative to the document\n",
       "    // offset() returns the position of the element relative to the document\n",
       "    var x = e.pageX - $(targ).offset().left;\n",
       "    var y = e.pageY - $(targ).offset().top;\n",
       "\n",
       "    return {\"x\": x, \"y\": y};\n",
       "};\n",
       "\n",
       "/*\n",
       " * return a copy of an object with only non-object keys\n",
       " * we need this to avoid circular references\n",
       " * http://stackoverflow.com/a/24161582/3208463\n",
       " */\n",
       "function simpleKeys (original) {\n",
       "  return Object.keys(original).reduce(function (obj, key) {\n",
       "    if (typeof original[key] !== 'object')\n",
       "        obj[key] = original[key]\n",
       "    return obj;\n",
       "  }, {});\n",
       "}\n",
       "\n",
       "mpl.figure.prototype.mouse_event = function(event, name) {\n",
       "    var canvas_pos = mpl.findpos(event)\n",
       "\n",
       "    if (name === 'button_press')\n",
       "    {\n",
       "        this.canvas.focus();\n",
       "        this.canvas_div.focus();\n",
       "    }\n",
       "\n",
       "    var x = canvas_pos.x * mpl.ratio;\n",
       "    var y = canvas_pos.y * mpl.ratio;\n",
       "\n",
       "    this.send_message(name, {x: x, y: y, button: event.button,\n",
       "                             step: event.step,\n",
       "                             guiEvent: simpleKeys(event)});\n",
       "\n",
       "    /* This prevents the web browser from automatically changing to\n",
       "     * the text insertion cursor when the button is pressed.  We want\n",
       "     * to control all of the cursor setting manually through the\n",
       "     * 'cursor' event from matplotlib */\n",
       "    event.preventDefault();\n",
       "    return false;\n",
       "}\n",
       "\n",
       "mpl.figure.prototype._key_event_extra = function(event, name) {\n",
       "    // Handle any extra behaviour associated with a key event\n",
       "}\n",
       "\n",
       "mpl.figure.prototype.key_event = function(event, name) {\n",
       "\n",
       "    // Prevent repeat events\n",
       "    if (name == 'key_press')\n",
       "    {\n",
       "        if (event.which === this._key)\n",
       "            return;\n",
       "        else\n",
       "            this._key = event.which;\n",
       "    }\n",
       "    if (name == 'key_release')\n",
       "        this._key = null;\n",
       "\n",
       "    var value = '';\n",
       "    if (event.ctrlKey && event.which != 17)\n",
       "        value += \"ctrl+\";\n",
       "    if (event.altKey && event.which != 18)\n",
       "        value += \"alt+\";\n",
       "    if (event.shiftKey && event.which != 16)\n",
       "        value += \"shift+\";\n",
       "\n",
       "    value += 'k';\n",
       "    value += event.which.toString();\n",
       "\n",
       "    this._key_event_extra(event, name);\n",
       "\n",
       "    this.send_message(name, {key: value,\n",
       "                             guiEvent: simpleKeys(event)});\n",
       "    return false;\n",
       "}\n",
       "\n",
       "mpl.figure.prototype.toolbar_button_onclick = function(name) {\n",
       "    if (name == 'download') {\n",
       "        this.handle_save(this, null);\n",
       "    } else {\n",
       "        this.send_message(\"toolbar_button\", {name: name});\n",
       "    }\n",
       "};\n",
       "\n",
       "mpl.figure.prototype.toolbar_button_onmouseover = function(tooltip) {\n",
       "    this.message.textContent = tooltip;\n",
       "};\n",
       "mpl.toolbar_items = [[\"Home\", \"Reset original view\", \"fa fa-home icon-home\", \"home\"], [\"Back\", \"Back to  previous view\", \"fa fa-arrow-left icon-arrow-left\", \"back\"], [\"Forward\", \"Forward to next view\", \"fa fa-arrow-right icon-arrow-right\", \"forward\"], [\"\", \"\", \"\", \"\"], [\"Pan\", \"Pan axes with left mouse, zoom with right\", \"fa fa-arrows icon-move\", \"pan\"], [\"Zoom\", \"Zoom to rectangle\", \"fa fa-square-o icon-check-empty\", \"zoom\"], [\"\", \"\", \"\", \"\"], [\"Download\", \"Download plot\", \"fa fa-floppy-o icon-save\", \"download\"]];\n",
       "\n",
       "mpl.extensions = [\"eps\", \"jpeg\", \"pdf\", \"png\", \"ps\", \"raw\", \"svg\", \"tif\"];\n",
       "\n",
       "mpl.default_extension = \"png\";var comm_websocket_adapter = function(comm) {\n",
       "    // Create a \"websocket\"-like object which calls the given IPython comm\n",
       "    // object with the appropriate methods. Currently this is a non binary\n",
       "    // socket, so there is still some room for performance tuning.\n",
       "    var ws = {};\n",
       "\n",
       "    ws.close = function() {\n",
       "        comm.close()\n",
       "    };\n",
       "    ws.send = function(m) {\n",
       "        //console.log('sending', m);\n",
       "        comm.send(m);\n",
       "    };\n",
       "    // Register the callback with on_msg.\n",
       "    comm.on_msg(function(msg) {\n",
       "        //console.log('receiving', msg['content']['data'], msg);\n",
       "        // Pass the mpl event to the overridden (by mpl) onmessage function.\n",
       "        ws.onmessage(msg['content']['data'])\n",
       "    });\n",
       "    return ws;\n",
       "}\n",
       "\n",
       "mpl.mpl_figure_comm = function(comm, msg) {\n",
       "    // This is the function which gets called when the mpl process\n",
       "    // starts-up an IPython Comm through the \"matplotlib\" channel.\n",
       "\n",
       "    var id = msg.content.data.id;\n",
       "    // Get hold of the div created by the display call when the Comm\n",
       "    // socket was opened in Python.\n",
       "    var element = $(\"#\" + id);\n",
       "    var ws_proxy = comm_websocket_adapter(comm)\n",
       "\n",
       "    function ondownload(figure, format) {\n",
       "        window.open(figure.imageObj.src);\n",
       "    }\n",
       "\n",
       "    var fig = new mpl.figure(id, ws_proxy,\n",
       "                           ondownload,\n",
       "                           element.get(0));\n",
       "\n",
       "    // Call onopen now - mpl needs it, as it is assuming we've passed it a real\n",
       "    // web socket which is closed, not our websocket->open comm proxy.\n",
       "    ws_proxy.onopen();\n",
       "\n",
       "    fig.parent_element = element.get(0);\n",
       "    fig.cell_info = mpl.find_output_cell(\"<div id='\" + id + \"'></div>\");\n",
       "    if (!fig.cell_info) {\n",
       "        console.error(\"Failed to find cell for figure\", id, fig);\n",
       "        return;\n",
       "    }\n",
       "\n",
       "    var output_index = fig.cell_info[2]\n",
       "    var cell = fig.cell_info[0];\n",
       "\n",
       "};\n",
       "\n",
       "mpl.figure.prototype.handle_close = function(fig, msg) {\n",
       "    var width = fig.canvas.width/mpl.ratio\n",
       "    fig.root.unbind('remove')\n",
       "\n",
       "    // Update the output cell to use the data from the current canvas.\n",
       "    fig.push_to_output();\n",
       "    var dataURL = fig.canvas.toDataURL();\n",
       "    // Re-enable the keyboard manager in IPython - without this line, in FF,\n",
       "    // the notebook keyboard shortcuts fail.\n",
       "    IPython.keyboard_manager.enable()\n",
       "    $(fig.parent_element).html('<img src=\"' + dataURL + '\" width=\"' + width + '\">');\n",
       "    fig.close_ws(fig, msg);\n",
       "}\n",
       "\n",
       "mpl.figure.prototype.close_ws = function(fig, msg){\n",
       "    fig.send_message('closing', msg);\n",
       "    // fig.ws.close()\n",
       "}\n",
       "\n",
       "mpl.figure.prototype.push_to_output = function(remove_interactive) {\n",
       "    // Turn the data on the canvas into data in the output cell.\n",
       "    var width = this.canvas.width/mpl.ratio\n",
       "    var dataURL = this.canvas.toDataURL();\n",
       "    this.cell_info[1]['text/html'] = '<img src=\"' + dataURL + '\" width=\"' + width + '\">';\n",
       "}\n",
       "\n",
       "mpl.figure.prototype.updated_canvas_event = function() {\n",
       "    // Tell IPython that the notebook contents must change.\n",
       "    IPython.notebook.set_dirty(true);\n",
       "    this.send_message(\"ack\", {});\n",
       "    var fig = this;\n",
       "    // Wait a second, then push the new image to the DOM so\n",
       "    // that it is saved nicely (might be nice to debounce this).\n",
       "    setTimeout(function () { fig.push_to_output() }, 1000);\n",
       "}\n",
       "\n",
       "mpl.figure.prototype._init_toolbar = function() {\n",
       "    var fig = this;\n",
       "\n",
       "    var nav_element = $('<div/>')\n",
       "    nav_element.attr('style', 'width: 100%');\n",
       "    this.root.append(nav_element);\n",
       "\n",
       "    // Define a callback function for later on.\n",
       "    function toolbar_event(event) {\n",
       "        return fig.toolbar_button_onclick(event['data']);\n",
       "    }\n",
       "    function toolbar_mouse_event(event) {\n",
       "        return fig.toolbar_button_onmouseover(event['data']);\n",
       "    }\n",
       "\n",
       "    for(var toolbar_ind in mpl.toolbar_items){\n",
       "        var name = mpl.toolbar_items[toolbar_ind][0];\n",
       "        var tooltip = mpl.toolbar_items[toolbar_ind][1];\n",
       "        var image = mpl.toolbar_items[toolbar_ind][2];\n",
       "        var method_name = mpl.toolbar_items[toolbar_ind][3];\n",
       "\n",
       "        if (!name) { continue; };\n",
       "\n",
       "        var button = $('<button class=\"btn btn-default\" href=\"#\" title=\"' + name + '\"><i class=\"fa ' + image + ' fa-lg\"></i></button>');\n",
       "        button.click(method_name, toolbar_event);\n",
       "        button.mouseover(tooltip, toolbar_mouse_event);\n",
       "        nav_element.append(button);\n",
       "    }\n",
       "\n",
       "    // Add the status bar.\n",
       "    var status_bar = $('<span class=\"mpl-message\" style=\"text-align:right; float: right;\"/>');\n",
       "    nav_element.append(status_bar);\n",
       "    this.message = status_bar[0];\n",
       "\n",
       "    // Add the close button to the window.\n",
       "    var buttongrp = $('<div class=\"btn-group inline pull-right\"></div>');\n",
       "    var button = $('<button class=\"btn btn-mini btn-primary\" href=\"#\" title=\"Stop Interaction\"><i class=\"fa fa-power-off icon-remove icon-large\"></i></button>');\n",
       "    button.click(function (evt) { fig.handle_close(fig, {}); } );\n",
       "    button.mouseover('Stop Interaction', toolbar_mouse_event);\n",
       "    buttongrp.append(button);\n",
       "    var titlebar = this.root.find($('.ui-dialog-titlebar'));\n",
       "    titlebar.prepend(buttongrp);\n",
       "}\n",
       "\n",
       "mpl.figure.prototype._root_extra_style = function(el){\n",
       "    var fig = this\n",
       "    el.on(\"remove\", function(){\n",
       "\tfig.close_ws(fig, {});\n",
       "    });\n",
       "}\n",
       "\n",
       "mpl.figure.prototype._canvas_extra_style = function(el){\n",
       "    // this is important to make the div 'focusable\n",
       "    el.attr('tabindex', 0)\n",
       "    // reach out to IPython and tell the keyboard manager to turn it's self\n",
       "    // off when our div gets focus\n",
       "\n",
       "    // location in version 3\n",
       "    if (IPython.notebook.keyboard_manager) {\n",
       "        IPython.notebook.keyboard_manager.register_events(el);\n",
       "    }\n",
       "    else {\n",
       "        // location in version 2\n",
       "        IPython.keyboard_manager.register_events(el);\n",
       "    }\n",
       "\n",
       "}\n",
       "\n",
       "mpl.figure.prototype._key_event_extra = function(event, name) {\n",
       "    var manager = IPython.notebook.keyboard_manager;\n",
       "    if (!manager)\n",
       "        manager = IPython.keyboard_manager;\n",
       "\n",
       "    // Check for shift+enter\n",
       "    if (event.shiftKey && event.which == 13) {\n",
       "        this.canvas_div.blur();\n",
       "        event.shiftKey = false;\n",
       "        // Send a \"J\" for go to next cell\n",
       "        event.which = 74;\n",
       "        event.keyCode = 74;\n",
       "        manager.command_mode();\n",
       "        manager.handle_keydown(event);\n",
       "    }\n",
       "}\n",
       "\n",
       "mpl.figure.prototype.handle_save = function(fig, msg) {\n",
       "    fig.ondownload(fig, null);\n",
       "}\n",
       "\n",
       "\n",
       "mpl.find_output_cell = function(html_output) {\n",
       "    // Return the cell and output element which can be found *uniquely* in the notebook.\n",
       "    // Note - this is a bit hacky, but it is done because the \"notebook_saving.Notebook\"\n",
       "    // IPython event is triggered only after the cells have been serialised, which for\n",
       "    // our purposes (turning an active figure into a static one), is too late.\n",
       "    var cells = IPython.notebook.get_cells();\n",
       "    var ncells = cells.length;\n",
       "    for (var i=0; i<ncells; i++) {\n",
       "        var cell = cells[i];\n",
       "        if (cell.cell_type === 'code'){\n",
       "            for (var j=0; j<cell.output_area.outputs.length; j++) {\n",
       "                var data = cell.output_area.outputs[j];\n",
       "                if (data.data) {\n",
       "                    // IPython >= 3 moved mimebundle to data attribute of output\n",
       "                    data = data.data;\n",
       "                }\n",
       "                if (data['text/html'] == html_output) {\n",
       "                    return [cell, data, j];\n",
       "                }\n",
       "            }\n",
       "        }\n",
       "    }\n",
       "}\n",
       "\n",
       "// Register the function which deals with the matplotlib target/channel.\n",
       "// The kernel may be null if the page has been refreshed.\n",
       "if (IPython.notebook.kernel != null) {\n",
       "    IPython.notebook.kernel.comm_manager.register_target('matplotlib', mpl.mpl_figure_comm);\n",
       "}\n"
      ],
      "text/plain": [
       "<IPython.core.display.Javascript object>"
      ]
     },
     "metadata": {},
     "output_type": "display_data"
    },
    {
     "data": {
      "text/html": [
       "<img src=\"data:image/png;base64,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\" width=\"640\">"
      ],
      "text/plain": [
       "<IPython.core.display.HTML object>"
      ]
     },
     "metadata": {},
     "output_type": "display_data"
    },
    {
     "data": {
      "text/plain": [
       "<sympy.plotting.plot.Plot at 0x108f48898>"
      ]
     },
     "execution_count": 7,
     "metadata": {},
     "output_type": "execute_result"
    }
   ],
   "source": [
    "f= x**3 - 3*x**2 - 24*x + 32\n",
    "plot(f)"
   ]
  },
  {
   "cell_type": "code",
   "execution_count": 8,
   "metadata": {},
   "outputs": [
    {
     "data": {
      "image/png": "[encoded data removed]",
      "text/latex": [
       "$$\\left ( 3 x^{2} - 6 x - 24, \\quad 6 x - 6\\right )$$"
      ],
      "text/plain": [
       "⎛   2                    ⎞\n",
       "⎝3⋅x  - 6⋅x - 24, 6⋅x - 6⎠"
      ]
     },
     "execution_count": 8,
     "metadata": {},
     "output_type": "execute_result"
    }
   ],
   "source": [
    "f = x**3 - 3*x**2 - 24*x + 32 \n",
    "df = f.diff()\n",
    "ddf = df.diff()\n",
    "df,ddf"
   ]
  },
  {
   "cell_type": "code",
   "execution_count": 9,
   "metadata": {},
   "outputs": [
    {
     "data": {
      "image/png": "[encoded data removed]",
      "text/latex": [
       "$$\\left [ -2, \\quad 4\\right ]$$"
      ],
      "text/plain": [
       "[-2, 4]"
      ]
     },
     "execution_count": 9,
     "metadata": {},
     "output_type": "execute_result"
    }
   ],
   "source": [
    "pc = solve(df)\n",
    "pc"
   ]
  },
  {
   "cell_type": "code",
   "execution_count": 10,
   "metadata": {},
   "outputs": [
    {
     "data": {
      "image/png": "[encoded data removed]",
      "text/latex": [
       "$$\\left ( -18, \\quad 18\\right )$$"
      ],
      "text/plain": [
       "(-18, 18)"
      ]
     },
     "execution_count": 10,
     "metadata": {},
     "output_type": "execute_result"
    }
   ],
   "source": [
    "ddf.subs(x,pc[0]), ddf.subs(x,pc[1])"
   ]
  },
  {
   "cell_type": "markdown",
   "metadata": {},
   "source": [
    "# Siguiente ejercicio en clase "
   ]
  },
  {
   "cell_type": "code",
   "execution_count": 11,
   "metadata": {},
   "outputs": [
    {
     "data": {
      "image/png": "[encoded data removed]",
      "text/latex": [
       "$$\\left ( x y, \\quad 2 x + y = 2400\\right )$$"
      ],
      "text/plain": [
       "(x⋅y, 2⋅x + y = 2400)"
      ]
     },
     "execution_count": 11,
     "metadata": {},
     "output_type": "execute_result"
    }
   ],
   "source": [
    "#Maximizar el área de un rectángulo donde se requiere la mayor área posible.\n",
    "#eq1 & Eq son para asignarse como función, definirlo.\n",
    "A = x*y #función\n",
    "eq1 = Eq(2*x + y, 2400) #ecuación\n",
    "A, eq1"
   ]
  },
  {
   "cell_type": "code",
   "execution_count": 12,
   "metadata": {},
   "outputs": [
    {
     "data": {
      "image/png": "[encoded data removed]",
      "text/latex": [
       "$$\\left [ - 2 x + 2400\\right ]$$"
      ],
      "text/plain": [
       "[-2⋅x + 2400]"
      ]
     },
     "execution_count": 12,
     "metadata": {},
     "output_type": "execute_result"
    }
   ],
   "source": [
    "#para despejar la y de la función\n",
    "y_ = solve(eq1, y)\n",
    "y_ #simplificar nueva variable"
   ]
  },
  {
   "cell_type": "code",
   "execution_count": 13,
   "metadata": {},
   "outputs": [
    {
     "data": {
      "image/png": "[encoded data removed]",
      "text/latex": [
       "$$x \\left(- 2 x + 2400\\right)$$"
      ],
      "text/plain": [
       "x⋅(-2⋅x + 2400)"
      ]
     },
     "execution_count": 13,
     "metadata": {},
     "output_type": "execute_result"
    }
   ],
   "source": [
    "#Dando el siguiente resultado, sustituyendo\n",
    "f = A.subs(y, y_[0])\n",
    "f"
   ]
  },
  {
   "cell_type": "code",
   "execution_count": 14,
   "metadata": {},
   "outputs": [
    {
     "data": {
      "image/png": "[encoded data removed]",
      "text/latex": [
       "$$t y^{2} + y$$"
      ],
      "text/plain": [
       "   2    \n",
       "t⋅y  + y"
      ]
     },
     "execution_count": 14,
     "metadata": {},
     "output_type": "execute_result"
    }
   ],
   "source": [
    "A = x*y*t + x\n",
    "A.subs(x, y)"
   ]
  },
  {
   "cell_type": "code",
   "execution_count": 15,
   "metadata": {},
   "outputs": [
    {
     "data": {
      "image/png": "[encoded data removed]",
      "text/latex": [
       "$$\\left [ 600\\right ]$$"
      ],
      "text/plain": [
       "[600]"
      ]
     },
     "execution_count": 15,
     "metadata": {},
     "output_type": "execute_result"
    }
   ],
   "source": [
    "#Aquí se evalúa la función obtenida\n",
    "df = f.diff()\n",
    "ddf = df.diff()\n",
    "pc = solve(df)\n",
    "pc "
   ]
  },
  {
   "cell_type": "markdown",
   "metadata": {},
   "source": [
    "# Ejercicio en casa\n",
    "- Se va a fabricar una lata que ha de contener 1L de aceite. Encuentre las dimensiones que debe tener la lata de manera que minimicen el costo del metar para fabricarla."
   ]
  },
  {
   "cell_type": "code",
   "execution_count": 16,
   "metadata": {},
   "outputs": [
    {
     "data": {
      "image/png": "[encoded data removed]",
      "text/latex": [
       "$$\\left ( r, \\quad l\\right )$$"
      ],
      "text/plain": [
       "(r, l)"
      ]
     },
     "execution_count": 16,
     "metadata": {},
     "output_type": "execute_result"
    }
   ],
   "source": [
    "var ('r l')"
   ]
  },
  {
   "cell_type": "code",
   "execution_count": 17,
   "metadata": {},
   "outputs": [
    {
     "data": {
      "image/png": "[encoded data removed]",
      "text/latex": [
       "$$\\left ( 2 \\pi l r + 2 \\pi r^{2}, \\quad \\pi l r^{2} = 1000\\right )$$"
      ],
      "text/plain": [
       "⎛               2       2       ⎞\n",
       "⎝2⋅π⋅l⋅r + 2⋅π⋅r , π⋅l⋅r  = 1000⎠"
      ]
     },
     "execution_count": 17,
     "metadata": {},
     "output_type": "execute_result"
    }
   ],
   "source": [
    "A = 2*(pi*r**2) + 2*pi*r*l\n",
    "eq2 = Eq((pi*r**2)*l, 1000)\n",
    "A, eq2"
   ]
  },
  {
   "cell_type": "code",
   "execution_count": 18,
   "metadata": {},
   "outputs": [
    {
     "data": {
      "image/png": "[encoded data removed]",
      "text/latex": [
       "$$\\left [ \\frac{1000}{\\pi r^{2}}\\right ]$$"
      ],
      "text/plain": [
       "⎡1000⎤\n",
       "⎢────⎥\n",
       "⎢   2⎥\n",
       "⎣π⋅r ⎦"
      ]
     },
     "execution_count": 18,
     "metadata": {},
     "output_type": "execute_result"
    }
   ],
   "source": [
    "L = solve(eq2, l)\n",
    "L"
   ]
  },
  {
   "cell_type": "code",
   "execution_count": 19,
   "metadata": {},
   "outputs": [
    {
     "data": {
      "image/png": "[encoded data removed]",
      "text/latex": [
       "$$2 \\pi r^{2} + \\frac{2000}{r}$$"
      ],
      "text/plain": [
       "     2   2000\n",
       "2⋅π⋅r  + ────\n",
       "          r  "
      ]
     },
     "execution_count": 19,
     "metadata": {},
     "output_type": "execute_result"
    }
   ],
   "source": [
    "g = A.subs(l, L[0])\n",
    "g"
   ]
  },
  {
   "cell_type": "code",
   "execution_count": 20,
   "metadata": {},
   "outputs": [
    {
     "data": {
      "image/png": "[encoded data removed]",
      "text/latex": [
       "$$\\left ( 4 \\pi r - \\frac{2000}{r^{2}}, \\quad 4 \\pi + \\frac{4000}{r^{3}}\\right )$$"
      ],
      "text/plain": [
       "⎛        2000        4000⎞\n",
       "⎜4⋅π⋅r - ────, 4⋅π + ────⎟\n",
       "⎜          2           3 ⎟\n",
       "⎝         r           r  ⎠"
      ]
     },
     "execution_count": 20,
     "metadata": {},
     "output_type": "execute_result"
    }
   ],
   "source": [
    "dg = g.diff()\n",
    "dgg = dg.diff()\n",
    "dg, dgg "
   ]
  },
  {
   "cell_type": "code",
   "execution_count": 21,
   "metadata": {},
   "outputs": [
    {
     "data": {
      "image/png": "[encoded data removed]",
      "text/latex": [
       "$$\\left [ \\frac{5}{\\sqrt[3]{\\pi}} 2^{\\frac{2}{3}}, \\quad - \\frac{5 \\cdot 2^{\\frac{2}{3}}}{2 \\sqrt[3]{\\pi}} - \\frac{5 \\cdot 2^{\\frac{2}{3}} i}{2 \\sqrt[3]{\\pi}} \\sqrt{3}, \\quad - \\frac{5 \\cdot 2^{\\frac{2}{3}}}{2 \\sqrt[3]{\\pi}} + \\frac{5 \\cdot 2^{\\frac{2}{3}} i}{2 \\sqrt[3]{\\pi}} \\sqrt{3}\\right ]$$"
      ],
      "text/plain": [
       "⎡   2/3        2/3      2/3             2/3      2/3     ⎤\n",
       "⎢5⋅2        5⋅2      5⋅2   ⋅√3⋅ⅈ     5⋅2      5⋅2   ⋅√3⋅ⅈ⎥\n",
       "⎢──────, - ─────── - ───────────, - ─────── + ───────────⎥\n",
       "⎢3 ___       3 ___       3 ___        3 ___       3 ___  ⎥\n",
       "⎣╲╱ π      2⋅╲╱ π      2⋅╲╱ π       2⋅╲╱ π      2⋅╲╱ π   ⎦"
      ]
     },
     "execution_count": 21,
     "metadata": {},
     "output_type": "execute_result"
    }
   ],
   "source": [
    "cdg = solve (dg)\n",
    "cdg"
   ]
  },
  {
   "cell_type": "code",
   "execution_count": 22,
   "metadata": {},
   "outputs": [],
   "source": [
    "s = dgg.subs(r, cdg[0])"
   ]
  },
  {
   "cell_type": "code",
   "execution_count": 23,
   "metadata": {},
   "outputs": [
    {
     "name": "stdout",
     "output_type": "stream",
     "text": [
      "El minimo en:  l =  5.41926070139289  , en r =  10.83852140278578\n"
     ]
    }
   ],
   "source": [
    "if s < 0:\n",
    "    print ('El maximo en: ', 'l = ', float (cdg[0]), ' , en r = ', L[0].subs(r,cdg[0]))\n",
    "else : \n",
    "        print ('El minimo en: ', 'l = ', float (cdg[0]), ' , en r = ', float(L[0].subs(r,cdg[0])))\n",
    "#10.8"
   ]
  },
  {
   "cell_type": "code",
   "execution_count": 24,
   "metadata": {},
   "outputs": [],
   "source": [
    "#float para números con decimales \n",
    "#int numeros enteros"
   ]
  },
  {
   "cell_type": "markdown",
   "metadata": {},
   "source": [
    "# Determinar extremos relativos"
   ]
  },
  {
   "cell_type": "code",
   "execution_count": 25,
   "metadata": {},
   "outputs": [
    {
     "data": {
      "image/png": "[encoded data removed]",
      "text/latex": [
       "$$\\left ( x, \\quad y\\right )$$"
      ],
      "text/plain": [
       "(x, y)"
      ]
     },
     "execution_count": 25,
     "metadata": {},
     "output_type": "execute_result"
    }
   ],
   "source": [
    "var ('x y')"
   ]
  },
  {
   "cell_type": "code",
   "execution_count": 26,
   "metadata": {
    "scrolled": true
   },
   "outputs": [
    {
     "data": {
      "image/png": "[encoded data removed]",
      "text/latex": [
       "$$\\left ( 2 x, \\quad 2 y, \\quad \\left \\{ x : 0, \\quad y : 0\\right \\}\\right )$$"
      ],
      "text/plain": [
       "(2⋅x, 2⋅y, {x: 0, y: 0})"
      ]
     },
     "execution_count": 26,
     "metadata": {},
     "output_type": "execute_result"
    }
   ],
   "source": [
    "f = x**2 + y**2\n",
    "dfx = f.diff(x)\n",
    "dfy = f.diff(y)\n",
    "\n",
    "#Resuelve el sist. de ecuaciones y entrega el resultado en la variable por puntos criticos.\n",
    "pc_ = solve([dfx, dfy], [x, y])\n",
    "\n",
    "dfx, dfy, pc_"
   ]
  },
  {
   "cell_type": "code",
   "execution_count": 27,
   "metadata": {},
   "outputs": [
    {
     "data": {
      "image/png": "[encoded data removed]",
      "text/latex": [
       "$$\\left ( 4, \\quad 2\\right )$$"
      ],
      "text/plain": [
       "(4, 2)"
      ]
     },
     "execution_count": 27,
     "metadata": {},
     "output_type": "execute_result"
    }
   ],
   "source": [
    "ddfx = dfx.diff(x) #también puede ser dfxx = dfx.diff(x)\n",
    "ddfy = dfy.diff(y)\n",
    "dfxy = dfx.diff(y)\n",
    "dfyx = dfy.diff(x)\n",
    "D = ddfx*ddfy - dfxy\n",
    "D.subs(pc_), ddfx.subs(pc_)"
   ]
  },
  {
   "cell_type": "markdown",
   "metadata": {},
   "source": [
    "# Ejercicio Multivariable"
   ]
  },
  {
   "cell_type": "code",
   "execution_count": 28,
   "metadata": {},
   "outputs": [
    {
     "data": {
      "text/latex": [
       "$$\\left[\\begin{matrix}2 & 0\\\\0 & 2\\end{matrix}\\right]$$"
      ],
      "text/plain": [
       "⎡2  0⎤\n",
       "⎢    ⎥\n",
       "⎣0  2⎦"
      ]
     },
     "execution_count": 28,
     "metadata": {},
     "output_type": "execute_result"
    }
   ],
   "source": [
    "H = hessian(f, [x, y])\n",
    "H"
   ]
  },
  {
   "cell_type": "code",
   "execution_count": 29,
   "metadata": {},
   "outputs": [
    {
     "data": {
      "image/png": "[encoded data removed]",
      "text/latex": [
       "$$\\left \\{ 2 : 2\\right \\}$$"
      ],
      "text/plain": [
       "{2: 2}"
      ]
     },
     "execution_count": 29,
     "metadata": {},
     "output_type": "execute_result"
    }
   ],
   "source": [
    "H.eigenvals()"
   ]
  },
  {
   "cell_type": "code",
   "execution_count": 30,
   "metadata": {},
   "outputs": [
    {
     "data": {
      "image/png": "[encoded data removed]",
      "text/latex": [
       "$$x^{3} + 3 x^{2} + 3 y^{3} + 3 y^{2} + 24$$"
      ],
      "text/plain": [
       " 3      2      3      2     \n",
       "x  + 3⋅x  + 3⋅y  + 3⋅y  + 24"
      ]
     },
     "execution_count": 30,
     "metadata": {},
     "output_type": "execute_result"
    }
   ],
   "source": [
    "f = x**3 + 3*y**3 + 3*x**2 + 3*y**2 + 24\n",
    "f"
   ]
  },
  {
   "cell_type": "code",
   "execution_count": 31,
   "metadata": {},
   "outputs": [
    {
     "data": {
      "image/png": "[encoded data removed]",
      "text/latex": [
       "$$\\left [ 3 x^{2} + 6 x, \\quad 9 y^{2} + 6 y\\right ]$$"
      ],
      "text/plain": [
       "⎡   2           2      ⎤\n",
       "⎣3⋅x  + 6⋅x, 9⋅y  + 6⋅y⎦"
      ]
     },
     "execution_count": 31,
     "metadata": {},
     "output_type": "execute_result"
    }
   ],
   "source": [
    "#gradiente\n",
    "nablaf = [f.diff(var) for var in [x, y]]\n",
    "nablaf"
   ]
  },
  {
   "cell_type": "code",
   "execution_count": 32,
   "metadata": {},
   "outputs": [
    {
     "data": {
      "image/png": "[encoded data removed]",
      "text/latex": [
       "$$\\left [ \\left \\{ x : -2, \\quad y : - \\frac{2}{3}\\right \\}, \\quad \\left \\{ x : -2, \\quad y : 0\\right \\}, \\quad \\left \\{ x : 0, \\quad y : - \\frac{2}{3}\\right \\}, \\quad \\left \\{ x : 0, \\quad y : 0\\right \\}\\right ]$$"
      ],
      "text/plain": [
       "[{x: -2, y: -2/3}, {x: -2, y: 0}, {x: 0, y: -2/3}, {x: 0, y: 0}]"
      ]
     },
     "execution_count": 32,
     "metadata": {},
     "output_type": "execute_result"
    }
   ],
   "source": [
    "#puntos críticos\n",
    "pcs = solve(nablaf)\n",
    "pcs"
   ]
  },
  {
   "cell_type": "code",
   "execution_count": 33,
   "metadata": {},
   "outputs": [
    {
     "data": {
      "text/latex": [
       "$$\\left[\\begin{matrix}6 x + 6 & 0\\\\0 & 18 y + 6\\end{matrix}\\right]$$"
      ],
      "text/plain": [
       "⎡6⋅x + 6     0    ⎤\n",
       "⎢                 ⎥\n",
       "⎣   0     18⋅y + 6⎦"
      ]
     },
     "execution_count": 33,
     "metadata": {},
     "output_type": "execute_result"
    }
   ],
   "source": [
    "h = hessian(f, [x, y])\n",
    "h"
   ]
  },
  {
   "cell_type": "code",
   "execution_count": 34,
   "metadata": {},
   "outputs": [
    {
     "name": "stdout",
     "output_type": "stream",
     "text": [
      "Punto critico:  {x: -2, y: -2/3}  sus eigenvalores son:  {2: 2}\n",
      "Punto critico:  {x: -2, y: 0}  sus eigenvalores son:  {2: 2}\n",
      "Punto critico:  {x: 0, y: -2/3}  sus eigenvalores son:  {2: 2}\n",
      "Punto critico:  {x: 0, y: 0}  sus eigenvalores son:  {2: 2}\n"
     ]
    }
   ],
   "source": [
    "import numpy as np\n",
    "for pc_ in pcs:\n",
    "    eig = H.subs(pc_).eigenvals()\n",
    "    print ('Punto critico: ', pc_, ' sus eigenvalores son: ', eig)"
   ]
  },
  {
   "cell_type": "markdown",
   "metadata": {},
   "source": [
    "-solve? para saber como usar códigos"
   ]
  },
  {
   "cell_type": "code",
   "execution_count": 35,
   "metadata": {
    "scrolled": false
   },
   "outputs": [
    {
     "data": {
      "application/javascript": [
       "/* Put everything inside the global mpl namespace */\n",
       "window.mpl = {};\n",
       "\n",
       "\n",
       "mpl.get_websocket_type = function() {\n",
       "    if (typeof(WebSocket) !== 'undefined') {\n",
       "        return WebSocket;\n",
       "    } else if (typeof(MozWebSocket) !== 'undefined') {\n",
       "        return MozWebSocket;\n",
       "    } else {\n",
       "        alert('Your browser does not have WebSocket support.' +\n",
       "              'Please try Chrome, Safari or Firefox ≥ 6. ' +\n",
       "              'Firefox 4 and 5 are also supported but you ' +\n",
       "              'have to enable WebSockets in about:config.');\n",
       "    };\n",
       "}\n",
       "\n",
       "mpl.figure = function(figure_id, websocket, ondownload, parent_element) {\n",
       "    this.id = figure_id;\n",
       "\n",
       "    this.ws = websocket;\n",
       "\n",
       "    this.supports_binary = (this.ws.binaryType != undefined);\n",
       "\n",
       "    if (!this.supports_binary) {\n",
       "        var warnings = document.getElementById(\"mpl-warnings\");\n",
       "        if (warnings) {\n",
       "            warnings.style.display = 'block';\n",
       "            warnings.textContent = (\n",
       "                \"This browser does not support binary websocket messages. \" +\n",
       "                    \"Performance may be slow.\");\n",
       "        }\n",
       "    }\n",
       "\n",
       "    this.imageObj = new Image();\n",
       "\n",
       "    this.context = undefined;\n",
       "    this.message = undefined;\n",
       "    this.canvas = undefined;\n",
       "    this.rubberband_canvas = undefined;\n",
       "    this.rubberband_context = undefined;\n",
       "    this.format_dropdown = undefined;\n",
       "\n",
       "    this.image_mode = 'full';\n",
       "\n",
       "    this.root = $('<div/>');\n",
       "    this._root_extra_style(this.root)\n",
       "    this.root.attr('style', 'display: inline-block');\n",
       "\n",
       "    $(parent_element).append(this.root);\n",
       "\n",
       "    this._init_header(this);\n",
       "    this._init_canvas(this);\n",
       "    this._init_toolbar(this);\n",
       "\n",
       "    var fig = this;\n",
       "\n",
       "    this.waiting = false;\n",
       "\n",
       "    this.ws.onopen =  function () {\n",
       "            fig.send_message(\"supports_binary\", {value: fig.supports_binary});\n",
       "            fig.send_message(\"send_image_mode\", {});\n",
       "            if (mpl.ratio != 1) {\n",
       "                fig.send_message(\"set_dpi_ratio\", {'dpi_ratio': mpl.ratio});\n",
       "            }\n",
       "            fig.send_message(\"refresh\", {});\n",
       "        }\n",
       "\n",
       "    this.imageObj.onload = function() {\n",
       "            if (fig.image_mode == 'full') {\n",
       "                // Full images could contain transparency (where diff images\n",
       "                // almost always do), so we need to clear the canvas so that\n",
       "                // there is no ghosting.\n",
       "                fig.context.clearRect(0, 0, fig.canvas.width, fig.canvas.height);\n",
       "            }\n",
       "            fig.context.drawImage(fig.imageObj, 0, 0);\n",
       "        };\n",
       "\n",
       "    this.imageObj.onunload = function() {\n",
       "        fig.ws.close();\n",
       "    }\n",
       "\n",
       "    this.ws.onmessage = this._make_on_message_function(this);\n",
       "\n",
       "    this.ondownload = ondownload;\n",
       "}\n",
       "\n",
       "mpl.figure.prototype._init_header = function() {\n",
       "    var titlebar = $(\n",
       "        '<div class=\"ui-dialog-titlebar ui-widget-header ui-corner-all ' +\n",
       "        'ui-helper-clearfix\"/>');\n",
       "    var titletext = $(\n",
       "        '<div class=\"ui-dialog-title\" style=\"width: 100%; ' +\n",
       "        'text-align: center; padding: 3px;\"/>');\n",
       "    titlebar.append(titletext)\n",
       "    this.root.append(titlebar);\n",
       "    this.header = titletext[0];\n",
       "}\n",
       "\n",
       "\n",
       "\n",
       "mpl.figure.prototype._canvas_extra_style = function(canvas_div) {\n",
       "\n",
       "}\n",
       "\n",
       "\n",
       "mpl.figure.prototype._root_extra_style = function(canvas_div) {\n",
       "\n",
       "}\n",
       "\n",
       "mpl.figure.prototype._init_canvas = function() {\n",
       "    var fig = this;\n",
       "\n",
       "    var canvas_div = $('<div/>');\n",
       "\n",
       "    canvas_div.attr('style', 'position: relative; clear: both; outline: 0');\n",
       "\n",
       "    function canvas_keyboard_event(event) {\n",
       "        return fig.key_event(event, event['data']);\n",
       "    }\n",
       "\n",
       "    canvas_div.keydown('key_press', canvas_keyboard_event);\n",
       "    canvas_div.keyup('key_release', canvas_keyboard_event);\n",
       "    this.canvas_div = canvas_div\n",
       "    this._canvas_extra_style(canvas_div)\n",
       "    this.root.append(canvas_div);\n",
       "\n",
       "    var canvas = $('<canvas/>');\n",
       "    canvas.addClass('mpl-canvas');\n",
       "    canvas.attr('style', \"left: 0; top: 0; z-index: 0; outline: 0\")\n",
       "\n",
       "    this.canvas = canvas[0];\n",
       "    this.context = canvas[0].getContext(\"2d\");\n",
       "\n",
       "    var backingStore = this.context.backingStorePixelRatio ||\n",
       "\tthis.context.webkitBackingStorePixelRatio ||\n",
       "\tthis.context.mozBackingStorePixelRatio ||\n",
       "\tthis.context.msBackingStorePixelRatio ||\n",
       "\tthis.context.oBackingStorePixelRatio ||\n",
       "\tthis.context.backingStorePixelRatio || 1;\n",
       "\n",
       "    mpl.ratio = (window.devicePixelRatio || 1) / backingStore;\n",
       "\n",
       "    var rubberband = $('<canvas/>');\n",
       "    rubberband.attr('style', \"position: absolute; left: 0; top: 0; z-index: 1;\")\n",
       "\n",
       "    var pass_mouse_events = true;\n",
       "\n",
       "    canvas_div.resizable({\n",
       "        start: function(event, ui) {\n",
       "            pass_mouse_events = false;\n",
       "        },\n",
       "        resize: function(event, ui) {\n",
       "            fig.request_resize(ui.size.width, ui.size.height);\n",
       "        },\n",
       "        stop: function(event, ui) {\n",
       "            pass_mouse_events = true;\n",
       "            fig.request_resize(ui.size.width, ui.size.height);\n",
       "        },\n",
       "    });\n",
       "\n",
       "    function mouse_event_fn(event) {\n",
       "        if (pass_mouse_events)\n",
       "            return fig.mouse_event(event, event['data']);\n",
       "    }\n",
       "\n",
       "    rubberband.mousedown('button_press', mouse_event_fn);\n",
       "    rubberband.mouseup('button_release', mouse_event_fn);\n",
       "    // Throttle sequential mouse events to 1 every 20ms.\n",
       "    rubberband.mousemove('motion_notify', mouse_event_fn);\n",
       "\n",
       "    rubberband.mouseenter('figure_enter', mouse_event_fn);\n",
       "    rubberband.mouseleave('figure_leave', mouse_event_fn);\n",
       "\n",
       "    canvas_div.on(\"wheel\", function (event) {\n",
       "        event = event.originalEvent;\n",
       "        event['data'] = 'scroll'\n",
       "        if (event.deltaY < 0) {\n",
       "            event.step = 1;\n",
       "        } else {\n",
       "            event.step = -1;\n",
       "        }\n",
       "        mouse_event_fn(event);\n",
       "    });\n",
       "\n",
       "    canvas_div.append(canvas);\n",
       "    canvas_div.append(rubberband);\n",
       "\n",
       "    this.rubberband = rubberband;\n",
       "    this.rubberband_canvas = rubberband[0];\n",
       "    this.rubberband_context = rubberband[0].getContext(\"2d\");\n",
       "    this.rubberband_context.strokeStyle = \"#000000\";\n",
       "\n",
       "    this._resize_canvas = function(width, height) {\n",
       "        // Keep the size of the canvas, canvas container, and rubber band\n",
       "        // canvas in synch.\n",
       "        canvas_div.css('width', width)\n",
       "        canvas_div.css('height', height)\n",
       "\n",
       "        canvas.attr('width', width * mpl.ratio);\n",
       "        canvas.attr('height', height * mpl.ratio);\n",
       "        canvas.attr('style', 'width: ' + width + 'px; height: ' + height + 'px;');\n",
       "\n",
       "        rubberband.attr('width', width);\n",
       "        rubberband.attr('height', height);\n",
       "    }\n",
       "\n",
       "    // Set the figure to an initial 600x600px, this will subsequently be updated\n",
       "    // upon first draw.\n",
       "    this._resize_canvas(600, 600);\n",
       "\n",
       "    // Disable right mouse context menu.\n",
       "    $(this.rubberband_canvas).bind(\"contextmenu\",function(e){\n",
       "        return false;\n",
       "    });\n",
       "\n",
       "    function set_focus () {\n",
       "        canvas.focus();\n",
       "        canvas_div.focus();\n",
       "    }\n",
       "\n",
       "    window.setTimeout(set_focus, 100);\n",
       "}\n",
       "\n",
       "mpl.figure.prototype._init_toolbar = function() {\n",
       "    var fig = this;\n",
       "\n",
       "    var nav_element = $('<div/>')\n",
       "    nav_element.attr('style', 'width: 100%');\n",
       "    this.root.append(nav_element);\n",
       "\n",
       "    // Define a callback function for later on.\n",
       "    function toolbar_event(event) {\n",
       "        return fig.toolbar_button_onclick(event['data']);\n",
       "    }\n",
       "    function toolbar_mouse_event(event) {\n",
       "        return fig.toolbar_button_onmouseover(event['data']);\n",
       "    }\n",
       "\n",
       "    for(var toolbar_ind in mpl.toolbar_items) {\n",
       "        var name = mpl.toolbar_items[toolbar_ind][0];\n",
       "        var tooltip = mpl.toolbar_items[toolbar_ind][1];\n",
       "        var image = mpl.toolbar_items[toolbar_ind][2];\n",
       "        var method_name = mpl.toolbar_items[toolbar_ind][3];\n",
       "\n",
       "        if (!name) {\n",
       "            // put a spacer in here.\n",
       "            continue;\n",
       "        }\n",
       "        var button = $('<button/>');\n",
       "        button.addClass('ui-button ui-widget ui-state-default ui-corner-all ' +\n",
       "                        'ui-button-icon-only');\n",
       "        button.attr('role', 'button');\n",
       "        button.attr('aria-disabled', 'false');\n",
       "        button.click(method_name, toolbar_event);\n",
       "        button.mouseover(tooltip, toolbar_mouse_event);\n",
       "\n",
       "        var icon_img = $('<span/>');\n",
       "        icon_img.addClass('ui-button-icon-primary ui-icon');\n",
       "        icon_img.addClass(image);\n",
       "        icon_img.addClass('ui-corner-all');\n",
       "\n",
       "        var tooltip_span = $('<span/>');\n",
       "        tooltip_span.addClass('ui-button-text');\n",
       "        tooltip_span.html(tooltip);\n",
       "\n",
       "        button.append(icon_img);\n",
       "        button.append(tooltip_span);\n",
       "\n",
       "        nav_element.append(button);\n",
       "    }\n",
       "\n",
       "    var fmt_picker_span = $('<span/>');\n",
       "\n",
       "    var fmt_picker = $('<select/>');\n",
       "    fmt_picker.addClass('mpl-toolbar-option ui-widget ui-widget-content');\n",
       "    fmt_picker_span.append(fmt_picker);\n",
       "    nav_element.append(fmt_picker_span);\n",
       "    this.format_dropdown = fmt_picker[0];\n",
       "\n",
       "    for (var ind in mpl.extensions) {\n",
       "        var fmt = mpl.extensions[ind];\n",
       "        var option = $(\n",
       "            '<option/>', {selected: fmt === mpl.default_extension}).html(fmt);\n",
       "        fmt_picker.append(option)\n",
       "    }\n",
       "\n",
       "    // Add hover states to the ui-buttons\n",
       "    $( \".ui-button\" ).hover(\n",
       "        function() { $(this).addClass(\"ui-state-hover\");},\n",
       "        function() { $(this).removeClass(\"ui-state-hover\");}\n",
       "    );\n",
       "\n",
       "    var status_bar = $('<span class=\"mpl-message\"/>');\n",
       "    nav_element.append(status_bar);\n",
       "    this.message = status_bar[0];\n",
       "}\n",
       "\n",
       "mpl.figure.prototype.request_resize = function(x_pixels, y_pixels) {\n",
       "    // Request matplotlib to resize the figure. Matplotlib will then trigger a resize in the client,\n",
       "    // which will in turn request a refresh of the image.\n",
       "    this.send_message('resize', {'width': x_pixels, 'height': y_pixels});\n",
       "}\n",
       "\n",
       "mpl.figure.prototype.send_message = function(type, properties) {\n",
       "    properties['type'] = type;\n",
       "    properties['figure_id'] = this.id;\n",
       "    this.ws.send(JSON.stringify(properties));\n",
       "}\n",
       "\n",
       "mpl.figure.prototype.send_draw_message = function() {\n",
       "    if (!this.waiting) {\n",
       "        this.waiting = true;\n",
       "        this.ws.send(JSON.stringify({type: \"draw\", figure_id: this.id}));\n",
       "    }\n",
       "}\n",
       "\n",
       "\n",
       "mpl.figure.prototype.handle_save = function(fig, msg) {\n",
       "    var format_dropdown = fig.format_dropdown;\n",
       "    var format = format_dropdown.options[format_dropdown.selectedIndex].value;\n",
       "    fig.ondownload(fig, format);\n",
       "}\n",
       "\n",
       "\n",
       "mpl.figure.prototype.handle_resize = function(fig, msg) {\n",
       "    var size = msg['size'];\n",
       "    if (size[0] != fig.canvas.width || size[1] != fig.canvas.height) {\n",
       "        fig._resize_canvas(size[0], size[1]);\n",
       "        fig.send_message(\"refresh\", {});\n",
       "    };\n",
       "}\n",
       "\n",
       "mpl.figure.prototype.handle_rubberband = function(fig, msg) {\n",
       "    var x0 = msg['x0'] / mpl.ratio;\n",
       "    var y0 = (fig.canvas.height - msg['y0']) / mpl.ratio;\n",
       "    var x1 = msg['x1'] / mpl.ratio;\n",
       "    var y1 = (fig.canvas.height - msg['y1']) / mpl.ratio;\n",
       "    x0 = Math.floor(x0) + 0.5;\n",
       "    y0 = Math.floor(y0) + 0.5;\n",
       "    x1 = Math.floor(x1) + 0.5;\n",
       "    y1 = Math.floor(y1) + 0.5;\n",
       "    var min_x = Math.min(x0, x1);\n",
       "    var min_y = Math.min(y0, y1);\n",
       "    var width = Math.abs(x1 - x0);\n",
       "    var height = Math.abs(y1 - y0);\n",
       "\n",
       "    fig.rubberband_context.clearRect(\n",
       "        0, 0, fig.canvas.width, fig.canvas.height);\n",
       "\n",
       "    fig.rubberband_context.strokeRect(min_x, min_y, width, height);\n",
       "}\n",
       "\n",
       "mpl.figure.prototype.handle_figure_label = function(fig, msg) {\n",
       "    // Updates the figure title.\n",
       "    fig.header.textContent = msg['label'];\n",
       "}\n",
       "\n",
       "mpl.figure.prototype.handle_cursor = function(fig, msg) {\n",
       "    var cursor = msg['cursor'];\n",
       "    switch(cursor)\n",
       "    {\n",
       "    case 0:\n",
       "        cursor = 'pointer';\n",
       "        break;\n",
       "    case 1:\n",
       "        cursor = 'default';\n",
       "        break;\n",
       "    case 2:\n",
       "        cursor = 'crosshair';\n",
       "        break;\n",
       "    case 3:\n",
       "        cursor = 'move';\n",
       "        break;\n",
       "    }\n",
       "    fig.rubberband_canvas.style.cursor = cursor;\n",
       "}\n",
       "\n",
       "mpl.figure.prototype.handle_message = function(fig, msg) {\n",
       "    fig.message.textContent = msg['message'];\n",
       "}\n",
       "\n",
       "mpl.figure.prototype.handle_draw = function(fig, msg) {\n",
       "    // Request the server to send over a new figure.\n",
       "    fig.send_draw_message();\n",
       "}\n",
       "\n",
       "mpl.figure.prototype.handle_image_mode = function(fig, msg) {\n",
       "    fig.image_mode = msg['mode'];\n",
       "}\n",
       "\n",
       "mpl.figure.prototype.updated_canvas_event = function() {\n",
       "    // Called whenever the canvas gets updated.\n",
       "    this.send_message(\"ack\", {});\n",
       "}\n",
       "\n",
       "// A function to construct a web socket function for onmessage handling.\n",
       "// Called in the figure constructor.\n",
       "mpl.figure.prototype._make_on_message_function = function(fig) {\n",
       "    return function socket_on_message(evt) {\n",
       "        if (evt.data instanceof Blob) {\n",
       "            /* FIXME: We get \"Resource interpreted as Image but\n",
       "             * transferred with MIME type text/plain:\" errors on\n",
       "             * Chrome.  But how to set the MIME type?  It doesn't seem\n",
       "             * to be part of the websocket stream */\n",
       "            evt.data.type = \"image/png\";\n",
       "\n",
       "            /* Free the memory for the previous frames */\n",
       "            if (fig.imageObj.src) {\n",
       "                (window.URL || window.webkitURL).revokeObjectURL(\n",
       "                    fig.imageObj.src);\n",
       "            }\n",
       "\n",
       "            fig.imageObj.src = (window.URL || window.webkitURL).createObjectURL(\n",
       "                evt.data);\n",
       "            fig.updated_canvas_event();\n",
       "            fig.waiting = false;\n",
       "            return;\n",
       "        }\n",
       "        else if (typeof evt.data === 'string' && evt.data.slice(0, 21) == \"data:image/png;base64\") {\n",
       "            fig.imageObj.src = evt.data;\n",
       "            fig.updated_canvas_event();\n",
       "            fig.waiting = false;\n",
       "            return;\n",
       "        }\n",
       "\n",
       "        var msg = JSON.parse(evt.data);\n",
       "        var msg_type = msg['type'];\n",
       "\n",
       "        // Call the  \"handle_{type}\" callback, which takes\n",
       "        // the figure and JSON message as its only arguments.\n",
       "        try {\n",
       "            var callback = fig[\"handle_\" + msg_type];\n",
       "        } catch (e) {\n",
       "            console.log(\"No handler for the '\" + msg_type + \"' message type: \", msg);\n",
       "            return;\n",
       "        }\n",
       "\n",
       "        if (callback) {\n",
       "            try {\n",
       "                // console.log(\"Handling '\" + msg_type + \"' message: \", msg);\n",
       "                callback(fig, msg);\n",
       "            } catch (e) {\n",
       "                console.log(\"Exception inside the 'handler_\" + msg_type + \"' callback:\", e, e.stack, msg);\n",
       "            }\n",
       "        }\n",
       "    };\n",
       "}\n",
       "\n",
       "// from http://stackoverflow.com/questions/1114465/getting-mouse-location-in-canvas\n",
       "mpl.findpos = function(e) {\n",
       "    //this section is from http://www.quirksmode.org/js/events_properties.html\n",
       "    var targ;\n",
       "    if (!e)\n",
       "        e = window.event;\n",
       "    if (e.target)\n",
       "        targ = e.target;\n",
       "    else if (e.srcElement)\n",
       "        targ = e.srcElement;\n",
       "    if (targ.nodeType == 3) // defeat Safari bug\n",
       "        targ = targ.parentNode;\n",
       "\n",
       "    // jQuery normalizes the pageX and pageY\n",
       "    // pageX,Y are the mouse positions relative to the document\n",
       "    // offset() returns the position of the element relative to the document\n",
       "    var x = e.pageX - $(targ).offset().left;\n",
       "    var y = e.pageY - $(targ).offset().top;\n",
       "\n",
       "    return {\"x\": x, \"y\": y};\n",
       "};\n",
       "\n",
       "/*\n",
       " * return a copy of an object with only non-object keys\n",
       " * we need this to avoid circular references\n",
       " * http://stackoverflow.com/a/24161582/3208463\n",
       " */\n",
       "function simpleKeys (original) {\n",
       "  return Object.keys(original).reduce(function (obj, key) {\n",
       "    if (typeof original[key] !== 'object')\n",
       "        obj[key] = original[key]\n",
       "    return obj;\n",
       "  }, {});\n",
       "}\n",
       "\n",
       "mpl.figure.prototype.mouse_event = function(event, name) {\n",
       "    var canvas_pos = mpl.findpos(event)\n",
       "\n",
       "    if (name === 'button_press')\n",
       "    {\n",
       "        this.canvas.focus();\n",
       "        this.canvas_div.focus();\n",
       "    }\n",
       "\n",
       "    var x = canvas_pos.x * mpl.ratio;\n",
       "    var y = canvas_pos.y * mpl.ratio;\n",
       "\n",
       "    this.send_message(name, {x: x, y: y, button: event.button,\n",
       "                             step: event.step,\n",
       "                             guiEvent: simpleKeys(event)});\n",
       "\n",
       "    /* This prevents the web browser from automatically changing to\n",
       "     * the text insertion cursor when the button is pressed.  We want\n",
       "     * to control all of the cursor setting manually through the\n",
       "     * 'cursor' event from matplotlib */\n",
       "    event.preventDefault();\n",
       "    return false;\n",
       "}\n",
       "\n",
       "mpl.figure.prototype._key_event_extra = function(event, name) {\n",
       "    // Handle any extra behaviour associated with a key event\n",
       "}\n",
       "\n",
       "mpl.figure.prototype.key_event = function(event, name) {\n",
       "\n",
       "    // Prevent repeat events\n",
       "    if (name == 'key_press')\n",
       "    {\n",
       "        if (event.which === this._key)\n",
       "            return;\n",
       "        else\n",
       "            this._key = event.which;\n",
       "    }\n",
       "    if (name == 'key_release')\n",
       "        this._key = null;\n",
       "\n",
       "    var value = '';\n",
       "    if (event.ctrlKey && event.which != 17)\n",
       "        value += \"ctrl+\";\n",
       "    if (event.altKey && event.which != 18)\n",
       "        value += \"alt+\";\n",
       "    if (event.shiftKey && event.which != 16)\n",
       "        value += \"shift+\";\n",
       "\n",
       "    value += 'k';\n",
       "    value += event.which.toString();\n",
       "\n",
       "    this._key_event_extra(event, name);\n",
       "\n",
       "    this.send_message(name, {key: value,\n",
       "                             guiEvent: simpleKeys(event)});\n",
       "    return false;\n",
       "}\n",
       "\n",
       "mpl.figure.prototype.toolbar_button_onclick = function(name) {\n",
       "    if (name == 'download') {\n",
       "        this.handle_save(this, null);\n",
       "    } else {\n",
       "        this.send_message(\"toolbar_button\", {name: name});\n",
       "    }\n",
       "};\n",
       "\n",
       "mpl.figure.prototype.toolbar_button_onmouseover = function(tooltip) {\n",
       "    this.message.textContent = tooltip;\n",
       "};\n",
       "mpl.toolbar_items = [[\"Home\", \"Reset original view\", \"fa fa-home icon-home\", \"home\"], [\"Back\", \"Back to  previous view\", \"fa fa-arrow-left icon-arrow-left\", \"back\"], [\"Forward\", \"Forward to next view\", \"fa fa-arrow-right icon-arrow-right\", \"forward\"], [\"\", \"\", \"\", \"\"], [\"Pan\", \"Pan axes with left mouse, zoom with right\", \"fa fa-arrows icon-move\", \"pan\"], [\"Zoom\", \"Zoom to rectangle\", \"fa fa-square-o icon-check-empty\", \"zoom\"], [\"\", \"\", \"\", \"\"], [\"Download\", \"Download plot\", \"fa fa-floppy-o icon-save\", \"download\"]];\n",
       "\n",
       "mpl.extensions = [\"eps\", \"jpeg\", \"pdf\", \"png\", \"ps\", \"raw\", \"svg\", \"tif\"];\n",
       "\n",
       "mpl.default_extension = \"png\";var comm_websocket_adapter = function(comm) {\n",
       "    // Create a \"websocket\"-like object which calls the given IPython comm\n",
       "    // object with the appropriate methods. Currently this is a non binary\n",
       "    // socket, so there is still some room for performance tuning.\n",
       "    var ws = {};\n",
       "\n",
       "    ws.close = function() {\n",
       "        comm.close()\n",
       "    };\n",
       "    ws.send = function(m) {\n",
       "        //console.log('sending', m);\n",
       "        comm.send(m);\n",
       "    };\n",
       "    // Register the callback with on_msg.\n",
       "    comm.on_msg(function(msg) {\n",
       "        //console.log('receiving', msg['content']['data'], msg);\n",
       "        // Pass the mpl event to the overridden (by mpl) onmessage function.\n",
       "        ws.onmessage(msg['content']['data'])\n",
       "    });\n",
       "    return ws;\n",
       "}\n",
       "\n",
       "mpl.mpl_figure_comm = function(comm, msg) {\n",
       "    // This is the function which gets called when the mpl process\n",
       "    // starts-up an IPython Comm through the \"matplotlib\" channel.\n",
       "\n",
       "    var id = msg.content.data.id;\n",
       "    // Get hold of the div created by the display call when the Comm\n",
       "    // socket was opened in Python.\n",
       "    var element = $(\"#\" + id);\n",
       "    var ws_proxy = comm_websocket_adapter(comm)\n",
       "\n",
       "    function ondownload(figure, format) {\n",
       "        window.open(figure.imageObj.src);\n",
       "    }\n",
       "\n",
       "    var fig = new mpl.figure(id, ws_proxy,\n",
       "                           ondownload,\n",
       "                           element.get(0));\n",
       "\n",
       "    // Call onopen now - mpl needs it, as it is assuming we've passed it a real\n",
       "    // web socket which is closed, not our websocket->open comm proxy.\n",
       "    ws_proxy.onopen();\n",
       "\n",
       "    fig.parent_element = element.get(0);\n",
       "    fig.cell_info = mpl.find_output_cell(\"<div id='\" + id + \"'></div>\");\n",
       "    if (!fig.cell_info) {\n",
       "        console.error(\"Failed to find cell for figure\", id, fig);\n",
       "        return;\n",
       "    }\n",
       "\n",
       "    var output_index = fig.cell_info[2]\n",
       "    var cell = fig.cell_info[0];\n",
       "\n",
       "};\n",
       "\n",
       "mpl.figure.prototype.handle_close = function(fig, msg) {\n",
       "    var width = fig.canvas.width/mpl.ratio\n",
       "    fig.root.unbind('remove')\n",
       "\n",
       "    // Update the output cell to use the data from the current canvas.\n",
       "    fig.push_to_output();\n",
       "    var dataURL = fig.canvas.toDataURL();\n",
       "    // Re-enable the keyboard manager in IPython - without this line, in FF,\n",
       "    // the notebook keyboard shortcuts fail.\n",
       "    IPython.keyboard_manager.enable()\n",
       "    $(fig.parent_element).html('<img src=\"' + dataURL + '\" width=\"' + width + '\">');\n",
       "    fig.close_ws(fig, msg);\n",
       "}\n",
       "\n",
       "mpl.figure.prototype.close_ws = function(fig, msg){\n",
       "    fig.send_message('closing', msg);\n",
       "    // fig.ws.close()\n",
       "}\n",
       "\n",
       "mpl.figure.prototype.push_to_output = function(remove_interactive) {\n",
       "    // Turn the data on the canvas into data in the output cell.\n",
       "    var width = this.canvas.width/mpl.ratio\n",
       "    var dataURL = this.canvas.toDataURL();\n",
       "    this.cell_info[1]['text/html'] = '<img src=\"' + dataURL + '\" width=\"' + width + '\">';\n",
       "}\n",
       "\n",
       "mpl.figure.prototype.updated_canvas_event = function() {\n",
       "    // Tell IPython that the notebook contents must change.\n",
       "    IPython.notebook.set_dirty(true);\n",
       "    this.send_message(\"ack\", {});\n",
       "    var fig = this;\n",
       "    // Wait a second, then push the new image to the DOM so\n",
       "    // that it is saved nicely (might be nice to debounce this).\n",
       "    setTimeout(function () { fig.push_to_output() }, 1000);\n",
       "}\n",
       "\n",
       "mpl.figure.prototype._init_toolbar = function() {\n",
       "    var fig = this;\n",
       "\n",
       "    var nav_element = $('<div/>')\n",
       "    nav_element.attr('style', 'width: 100%');\n",
       "    this.root.append(nav_element);\n",
       "\n",
       "    // Define a callback function for later on.\n",
       "    function toolbar_event(event) {\n",
       "        return fig.toolbar_button_onclick(event['data']);\n",
       "    }\n",
       "    function toolbar_mouse_event(event) {\n",
       "        return fig.toolbar_button_onmouseover(event['data']);\n",
       "    }\n",
       "\n",
       "    for(var toolbar_ind in mpl.toolbar_items){\n",
       "        var name = mpl.toolbar_items[toolbar_ind][0];\n",
       "        var tooltip = mpl.toolbar_items[toolbar_ind][1];\n",
       "        var image = mpl.toolbar_items[toolbar_ind][2];\n",
       "        var method_name = mpl.toolbar_items[toolbar_ind][3];\n",
       "\n",
       "        if (!name) { continue; };\n",
       "\n",
       "        var button = $('<button class=\"btn btn-default\" href=\"#\" title=\"' + name + '\"><i class=\"fa ' + image + ' fa-lg\"></i></button>');\n",
       "        button.click(method_name, toolbar_event);\n",
       "        button.mouseover(tooltip, toolbar_mouse_event);\n",
       "        nav_element.append(button);\n",
       "    }\n",
       "\n",
       "    // Add the status bar.\n",
       "    var status_bar = $('<span class=\"mpl-message\" style=\"text-align:right; float: right;\"/>');\n",
       "    nav_element.append(status_bar);\n",
       "    this.message = status_bar[0];\n",
       "\n",
       "    // Add the close button to the window.\n",
       "    var buttongrp = $('<div class=\"btn-group inline pull-right\"></div>');\n",
       "    var button = $('<button class=\"btn btn-mini btn-primary\" href=\"#\" title=\"Stop Interaction\"><i class=\"fa fa-power-off icon-remove icon-large\"></i></button>');\n",
       "    button.click(function (evt) { fig.handle_close(fig, {}); } );\n",
       "    button.mouseover('Stop Interaction', toolbar_mouse_event);\n",
       "    buttongrp.append(button);\n",
       "    var titlebar = this.root.find($('.ui-dialog-titlebar'));\n",
       "    titlebar.prepend(buttongrp);\n",
       "}\n",
       "\n",
       "mpl.figure.prototype._root_extra_style = function(el){\n",
       "    var fig = this\n",
       "    el.on(\"remove\", function(){\n",
       "\tfig.close_ws(fig, {});\n",
       "    });\n",
       "}\n",
       "\n",
       "mpl.figure.prototype._canvas_extra_style = function(el){\n",
       "    // this is important to make the div 'focusable\n",
       "    el.attr('tabindex', 0)\n",
       "    // reach out to IPython and tell the keyboard manager to turn it's self\n",
       "    // off when our div gets focus\n",
       "\n",
       "    // location in version 3\n",
       "    if (IPython.notebook.keyboard_manager) {\n",
       "        IPython.notebook.keyboard_manager.register_events(el);\n",
       "    }\n",
       "    else {\n",
       "        // location in version 2\n",
       "        IPython.keyboard_manager.register_events(el);\n",
       "    }\n",
       "\n",
       "}\n",
       "\n",
       "mpl.figure.prototype._key_event_extra = function(event, name) {\n",
       "    var manager = IPython.notebook.keyboard_manager;\n",
       "    if (!manager)\n",
       "        manager = IPython.keyboard_manager;\n",
       "\n",
       "    // Check for shift+enter\n",
       "    if (event.shiftKey && event.which == 13) {\n",
       "        this.canvas_div.blur();\n",
       "        event.shiftKey = false;\n",
       "        // Send a \"J\" for go to next cell\n",
       "        event.which = 74;\n",
       "        event.keyCode = 74;\n",
       "        manager.command_mode();\n",
       "        manager.handle_keydown(event);\n",
       "    }\n",
       "}\n",
       "\n",
       "mpl.figure.prototype.handle_save = function(fig, msg) {\n",
       "    fig.ondownload(fig, null);\n",
       "}\n",
       "\n",
       "\n",
       "mpl.find_output_cell = function(html_output) {\n",
       "    // Return the cell and output element which can be found *uniquely* in the notebook.\n",
       "    // Note - this is a bit hacky, but it is done because the \"notebook_saving.Notebook\"\n",
       "    // IPython event is triggered only after the cells have been serialised, which for\n",
       "    // our purposes (turning an active figure into a static one), is too late.\n",
       "    var cells = IPython.notebook.get_cells();\n",
       "    var ncells = cells.length;\n",
       "    for (var i=0; i<ncells; i++) {\n",
       "        var cell = cells[i];\n",
       "        if (cell.cell_type === 'code'){\n",
       "            for (var j=0; j<cell.output_area.outputs.length; j++) {\n",
       "                var data = cell.output_area.outputs[j];\n",
       "                if (data.data) {\n",
       "                    // IPython >= 3 moved mimebundle to data attribute of output\n",
       "                    data = data.data;\n",
       "                }\n",
       "                if (data['text/html'] == html_output) {\n",
       "                    return [cell, data, j];\n",
       "                }\n",
       "            }\n",
       "        }\n",
       "    }\n",
       "}\n",
       "\n",
       "// Register the function which deals with the matplotlib target/channel.\n",
       "// The kernel may be null if the page has been refreshed.\n",
       "if (IPython.notebook.kernel != null) {\n",
       "    IPython.notebook.kernel.comm_manager.register_target('matplotlib', mpl.mpl_figure_comm);\n",
       "}\n"
      ],
      "text/plain": [
       "<IPython.core.display.Javascript object>"
      ]
     },
     "metadata": {},
     "output_type": "display_data"
    },
    {
     "data": {
      "text/html": [
       "<img src=\"data:image/png;base64,iVBORw0KGgoAAAANSUhEUgAAAoAAAAHgCAYAAAA10dzkAAAAAXNSR0IArs4c6QAAQABJREFUeAHsvQmQHdlV5321S7WpFu177/vebTfgD7dtNkcYwuPGhnCMt/F4iGAmGGOzDBAOjDEYbA8M0WCCGWZsvACeIcaADWNjvLW3du9qqdWrWvtapZJUVSrtre/8btWpunUr782Xr0qlp3rnKJ7yvcy82z+zbv7zbHfOBRFnYggYAoaAIWAIGAKGgCHQNAjMbZqR2kANAUPAEDAEDAFDwBAwBDwCRgDtRjAEDAFDwBAwBAwBQ6DJEDAC2GQX3IZrCBgChoAhYAgYAoaAEUC7BwwBQ8AQMAQMAUPAEGgyBIwANtkFt+EaAoaAIWAIGAKGgCFgBNDuAUPAEDAEDAFDwBAwBJoMASOATXbBbbiGgCFgCBgChoAhYAgYAbR7wBAwBAwBQ8AQMAQMgSZDwAhgk11wG64hYAgYAoaAIWAIGAJGAO0eMAQMAUPAEDAEDAFDoMkQMALYZBfchmsIGAKGgCFgCBgChoARQLsHDAFDwBAwBAwBQ8AQaDIEjAA22QW34RoChoAhYAgYAoaAIWAE0O4BQ8AQMAQMAUPAEDAEmgwBI4BNdsFtuIaAIWAIGAKGgCFgCBgBtHvAEDAEDAFDwBAwBAyBJkPACGCTXXAbriFgCBgChoAhYAgYAkYA7R4wBAwBQ8AQMAQMAUOgyRAwAthkF9yGawgYAoaAIWAIGAKGgBFAuwcMAUPAEDAEDAFDwBBoMgSMADbZBbfhGgKGgCFgCBgChoAhYATQ7gFDwBAwBAwBQ8AQMASaDAEjgE12wW24hoAhYAgYAoaAIWAIGAG0e8AQMAQMAUPAEDAEDIEmQ8AIYJNdcBuuIWAIGAKGgCFgCBgCRgDtHjAEDAFDwBAwBAwBQ6DJEDAC2GQX3IZrCBgChoAhYAgYAoaAEUC7BwwBQ8AQMAQMAUPAEGgyBIwANtkFt+EaAoaAIWAIGAKGgCFgBNDuAUPAEDAEDAFDwBAwBJoMASOATXbBbbiGgCFgCBgChoAhYAgYAbR7wBAwBAwBQ8AQMAQMgSZDwAhgk11wG64hYAgYAoaAIWAIGAJGAO0eMAQMAUPAEDAEDAFDoMkQMALYZBfchmsIGAKGgCFgCBgChoARQLsHDAFDwBAwBAwBQ8AQaDIEjAA22QW34RoChoAhYAgYAoaAIWAE0O4BQ8AQMAQMAUPAEDAEmgwBI4BNdsFtuIaAIWAIGAKGgCFgCBgBtHvAEDAEDAFDwBAwBAyBJkPACGCTXXAbriFgCBgChoAhYAgYAkYA7R4wBAwBQ8AQMAQMAUOgyRAwAthkF9yGawgYAoaAIWAIGAKGgBFAuwcMAUPAEDAEDAFDwBBoMgSMADbZBbfhGgKGgCFgCBgChoAhYATQ7gFDwBAwBAwBQ8AQMASaDAEjgE12wW24hoAhYAgYAoaAIWAIGAG0e8AQMAQMAUPAEDAEDIEmQ8AIYJNdcBuuIWAIGAKGgCFgCBgCRgDtHjAEDAFDwBAwBAwBQ6DJEDAC2GQX3IZrCBgChoAhYAgYAoaAEUC7BwwBQ8AQMAQMAUPAEGgyBIwANtkFt+EaAoaAIWAIGAKGgCFgBNDuAUPAEDAEDAFDwBAwBJoMASOATXbBbbiGgCFgCBgChoAhYAgYAbR7wBAwBAwBQ8AQMAQMgSZDwAhgk11wG64hYAgYAoaAIWAIGAJGAO0eMAQMAUPAEDAEDAFDoMkQMALYZBfchmsIGAKGgCFgCBgChoARQLsHDAFDwBAwBAwBQ8AQaDIEjAA22QW34RoChoAhYAgYAoaAIWAE0O4BQ8AQMAQMAUPAEDAEmgwBI4BNdsFtuIaAIWAIGAKGgCFgCBgBtHvAEDAEDAFDwBAwBAyBJkPACGCTXXAbriFgCBgChoAhYAgYAkYA7R4wBAwBQ8AQMAQMAUOgyRAwAthkF9yGawgYAoaAIWAIGAKGgBFAuwcMAUPAEDAEDAFDwBBoMgSMADbZBbfhGgKGgCFgCBgChoAhYATQ7gFDwBAwBAwBQ8AQMASaDAEjgE12wW24hoAhYAgYAoaAIWAIGAG0e8AQMAQMAUPAEDAEDIEmQ8AIYJNdcBuuIWAIGAKGgCFgCBgCRgDtHjAEDAFDwBAwBAwBQ6DJEDAC2GQX3IZrCBgChoAhYAgYAoaAEUC7BwwBQ8AQMAQMAUPAEGgyBIwANtkFt+EaAoaAIWAIGAKGgCFgBNDuAUPAEDAEDAFDwBAwBJoMASOATXbBbbiGgCFgCBgChoAhYAgYAbR7wBCY5QicP3/evfzyy+7ChQuzfKQ2PEPAEDAEDIFaEZhf64l2niFgCFx+CJw7d84NDw87SODcuXPHPvPmzXNz5szxv8Mt300MAUPAEDAEZj8CRgBn/zW2ETYpApC/s2fP+tFD7NAAsg8JtYEc04+SRCOIHib7zxAwBAyBWYuAEcBZe2ltYM2MQEz+IHZF2j0lgmxjgqiksbe317W0tLiOjg6vMYQcan1KGJVAFrXRzNfBxm4IGAKGQKMiYASwUa+M9csQqBOBmPxRDeSuiJzpPt3GTVIOAtjd3e3a29u9BpH6tT7dUp4PhNAIYoyi/TYEDAFDoPEQMALYeNfEemQI1I1ASP4gYxC0qYiSOuqB2MXCfm2Dbdg+Zdmn5JCtksNQc8j38Jy4DfttCBgChoAhMP0IGAGcfkytRkPgkiBAoMfWrVvdokWL3BVXXDFtfVAiV1ShEreiY+yLCSI+iUoYtV6tg60RxBSStt8QMAQMgelFwAjg9OJptRkClwQByN+ZM2d8tC8kCzKFKLmaSqfQ0JFGph4paz9HELU9rYOtEURFxbaGgCFgCEwNASOAU8PPShsClxwBJX90BIJUL1lLDQTipVq71Dn17ldylyqfI4h79+51CxcudCtXrhwjuimCCIlFaM/EEDAEDAFDwDkjgHYXGAKXMQIh+YPcQHTYN50yFQ3gVPuRI4gnT5701Su5gyyGJmYOKuHTeowgTvWKWHlDwBCYLQgYAZwtV9LG0XQIxORPCaDm/psuQKj3YmkAp9JHJXdKAOO6tM/hVgmijknrYEs98Sfcr+fG7dhvQ8AQMAQuRwSMAF6OV8363PQIFJE/QIHAzCYNYNmFVnJXdJ4SNt3G52hZtnwwnYMd3ymjW8rxOyaH+luPpdqJ27XfhoAhYAg0AgJGABvhKlgfDIEKCKTIH1VASmIfwKkSE8rHdVbo7kU7lX5B0uoVxUW3cT1aN1s+VQgipmbq5XqE27gN+20IGAKGwKVCwAjgpULe2jUE6kAgR/6o7mIQQOpUMlRHly9akRRxm64GtX7dxvUqJjFBPH78uNu5c6e79dZbPfnT8uCoHyOIMZr22xAwBGYaASOAM424tWcI1IlAGfmjWojFdGvrIDDTXWedEEwqpiRs0oEZ2KHETrfaJL9JyTN//sj0GhNEfnOObrV8SA75zv54q23Y1hAwBAyBqSJgBHCqCFp5Q2AGEKiF/NENCENM1pSA1NtN6qSORhMlUY3WL+2PEjvd6n7dKqZ6fdTEDHlUoayW5zrw0Uhm9vM73Go52xoChoAhUIaAEcAyhOy4IXCJEaiV/NFNCEFMAKfafQjGdNc51T5RXonRdNR1KerQ/us27kMZQdRyulWzckwQlSTqeXE79tsQMASaEwEjgM153W3UlwkCVcgfQ7pYBFDJSKPB1qj9mg6ypXXoNsZex86WD+swI2GqG35reSWI3CMxSeQcPY8yJoaAITD7ETACOPuvsY3wMkWgKvljmEUEcKoP9qI6GwFSxqUkqBH6M9N90Ouq27h9xSYkiNu3b/enXXnllWOET8srKeR664djfGer58Xt2G9DwBC4PBEwAnh5Xjfr9SxHoB7yByRFZG2qD27KK5loJNgbtV+NgpFed93SL75zjyxYsGDsmoYEUfvOPi3HVsspMdSt7tdztLxtDQFDoPERMALY+NfIethkCED+nn76abdq1SrX0dEx9iCuBYYiAkg5HtD1SqrOeuubznKNSEync3zTXVdM7Kg/dW8otmz5qImZMnE9SgS5V0JTs+5nm2qH+kwMAUNg5hEwAjjzmFuLhkASAdX89fb2us7OTrd06dLkuUUHLgZZ48GtZKCozUu1r1H71YhY6TUimKdWIqbn6Vbr0K2Oky0fJYi6n/Moqx/uTSOIip5tDYFLj4ARwEt/DawHhoBHQMkfP9CihA/SWiEqIoDUc+rUKbd48WL/AK61Lj2POuvpi5a3beMgwHVMEbqqvdR6dBuX13uGLZ+QIFJG+8J3Ptz/5E5cuHCh/819x37d8t3EEDAEpg8BI4DTh6XVZAjUjUBI/vShx76qEhNA6nj88cfdkSNH/MN00aJFngguWbLEbyGFfOejD964TfrTqGlglGTEfb7UvxuVrCjpmgl8FAPdxm3qtWPL56WXXvKnaICK9pXyfLi3NVBFf4fkMNVO3K79NgQMgREEjADanWAIXGIEYvLHg4wHXT2kiwciD04t++STT/q0ID/yIz/i96EJ5HPy5En/6e/v979Pnz7tH7JKCMMtaUWoTx/IlxiusebBiT6ZVEOgUYiS9kO3jAINIAEqiF5btnzQIPLhu157tvpRcqikkK1+13N8xfafIWAIeASMANqNYAhcQgSKyB/d4cFVrwaQ8jwoCSSB2N11113+oUmdaPqKBIKnxFBJ4uDgoMMXcXh42Nf34IMPTtAahiSRenXps6L6bV9jIKDkqTF6M7EX3IMQNRX9rlvdr1slhvzmu+Y/5DdldKx85xMSRCWGutVzKGtiCDQLAkYAm+VK2zgbDgEIHg8tJH4A8WBSLV6VjlMO2bp1q9fw3XPPPZ6YhcuLFdVHuZaWFv+Jjw8MDLjNmze7O+64YwJJPH78uDt48KDfB+GEAEIEQ2IYfucBPJ0CZjzkTWpHQElR7SVm7kzud71/a2k1/puJyzBWvT/YGkGMEbLfzY6AEcBmvwNs/JcEASV/+kDmYRZKvSZgrWdoaMjde++93q+vHiIZ9kWJVltbm+NTJDxcQw0iJmb8Dtmynz7gYxgSQiWL7ONT5eFPH3SsRf25lPuUdFzKPqTa1vstdfxS7q9KAMv6yv2Ru0fAQq8V25Agat1aB33jJYf7n/uUD8d0q+dpOdsaApcDAkYAL4erZH2cVQiUkT8GCwGsagLmIYbZF7n11ls94fI/pvgfDzd9UKaqwm+LT3t7+6RT9OGqfodqYkazqN85hwAVJYXxlmP0I5ayfsXnN/tv8CrCsRFwoW9VXwKm0u8y0kZ/9P7iXn322WfdK17xirEmFUetJ2Vi1jHp+WMV2BdD4BIjYATwEl8Aa765EKiF/IEID40qmjseVJC/Y8eO+bJF/nicU89DiL7og7Ceq0WbaP/4FOU1pG58FVVbqESxKEAl1CDim4hpmw/ks56x1TOey7lMvffATIx5ujWAU+0z91N4T0HwigJUaAdcYw2iltV6jCBO9YpY+elGwAjgdCNq9RkCCQRqJX8Uh3SV+e1pMzx8nnnmGW9yfeUrX+m++93vViKPWk9qywOsChlN1ZPaT/1qBi46h7ZVU6gkERM3WhmI43e+8x2vMdU6Yu0hv4sIcVFb07VPH/7TVd901dPoBLBRceMehMCpaD91q/t1C85IuFWCSJnwOvCbv/f4E+5PtaPt2dYQqAcBI4D1oGZlDIGKCFQhf1TNw6YW0sWDBNPU4cOHHeRPfenCslN9ePBgQsKHlt8xQ//RflGAyt69ez3pvfnmmyf5HxYFqITaw5gkhg/3GRrWJWnmUl3DWgbLPav3Wi3nz+Q5/P1W6Zv+zek27ivXAWHLh7HThl4f3XIOddB20UePpdqhvIkhkELACGAKGdtvCEwTAlXJH80y2YckrqgrPCSef/55H4kL+YPUpMpO5QGhZelPIxEl+gUG9Km1tdV/inCKA1TQJhKgwhaNIuPSAJUikqikuqjuy21fSCware9chyokayb7z9/wdN77+jel23gsXCeELR+wyRFE7nH6x73KlnrBMtzGbdhvQ8AIoN0DhsBFRKAe8kd3mLwpmxIeCi+88ILbv3+/d0xHQ6ZSC3nUc2vZ6kNZH0q1lJmJc1IPz7jtWgNUlBCyrSVARcliHKDSaDiFeNC3WnELy83E90YmgPRtOglgGZ56jXQbn6/3GFs+O3fu9P3btGmTv756nbU8f8P6UYKIiwnj6ujoiKu3302CgBHAJrnQNsyZRwACp358TMQ6GdfSEyZpJueUbN++3WECJSoR7Vco000Atd+5/oTtz+R3fRDW2yZjqxKgoiTx6NGjXnsYrqCihFBJP2ZotLKNFKCixKBevC5mOe4vfdm4mO3UUzfXtJH6pn+TuqV/3H9FQSpcc7DlnPDv5TOf+Yz7x3/8R/e1r32tHkiszCxAwAjgLLiINoTGQ4DJlrVN8c1jJQ6dqGvtaY7EQf527drlyV9RXr5c2VrbD8/TB1/48AiPX6rvYHqx+0QbPFj5FAkPVkihEkO2J06c8BGhW7Zs8S8A4Bf7HCpZDB/aRfVP9z7wqnovTncfUvXRN73XUudcqv38Pc+kBrDqOOlfGOik11i3cX1gzUo/pv2LkWmu30YAm+t622hnAAEmY3xymHwhCKlJONcVHjbUE8uOHTu8uYcVPopy7nF+EQGkD/WSJe0/YzGZiABYxwEqLJ+HSY5rxDUMySE+h7UGqChJnE7i0cgEsN6/lYlX5OL8om/TeR2mu5ckqa7SP/6mcXMwAjjdV+Lyqs8I4OV1vay3DY6Akj8etLyRF5G4WoZQROIgFWj/IBa5ibuobC1t5s6hznoJZK7eqRybCqmdSrtVyvJQzgWo8ODW1Da6jQNUMOvFGkT9DUnk2tQqjU4Aq4yl1jFPx3n8Hat5dTrqm+466F+oAaylfiOAtaA0u88xAji7r6+NbgYRCMkf5ISHf71aMx6EIXncvXu3e/HFF93dd99dmEw5HCZl6203rCf8znimu86w/nq+Xw4EsGxcPLTR5BZpcyFrYQSzEsSiABXVFsbbogAVcGtE4f5qZAIIto0qVTWAjAMT8BVXXNGoQ7J+zQACRgBnAGRrYvYjEJM/JYAhiauCQkgeCfZ47rnnPPnr7OwsrSYmj6UFajihEclWoxKZGuCs6RTGpwEqRRpfCCJBKLGJmdVgIItxgAoEBkJJAAv3CL+pvxFwZCx8GpUAQk6rmFhrusDTeBLzjGkApxHQJqnKCGCTXGgb5sVDoIj80RoPjHoJIA9CHjr79u3zq3wQSNLV1VXTILRsfDIP2Hof9tRJ+UaTZu4T1xISx6foxYD7BxKomkO27MNHkfRBRKhzXSmvJuV4O1NmT72O9KcRhb/jRu0beNWjAUSTXLQ0YyPib326OAgYAbw4uFqtTYJAivwx/FCLVxUOyjKpb9u2zd15552uu7u75ip4UPGgn06BbEx3nVPtX71kdqrtXi7luQ8gdHxUDhw44G644QbvQ8q9G2oP+U6AyqFDhzxp5P5Dq6QkMyaH/J4urZjeW41KssBqusaq12K6tmDHp6oGkOUUi14cpqtfVk/jI2AEsPGvkfWwQRHIkT+6zMOMc+oRAgHQitx+++2up6enUhVTIZ6phhiLamlS58z0fghgo/VppjGo2h54KXHmPqkaoIL5GO0hZJF7OwxQKdIk1krolABq36qO62KfT/8uFQH87otH3I9cnZ4DdI6p0j/uAzSARb6nFxtLq79xEDAC2DjXwnpyGSFQRv4YihKx8KFbyxDRwLC+L1JF86d18xDVByr7aB9TMv5fpCxRTU4V815cp7Z1qbeMrRGlUYlMlXuxSoCKahIxL+t32iIIpYgYqlZRcdL7tVbCONPXnL/3me7b8Jlz7sP//Jw7ePzUtBNA8IMAmgZwpu+kxmrPCGBjXQ/rzWWAQC3kj2HoGznn12qeIXH0U0895W6++Wa/rUfzwIMK8x3CQ1iXjONtn/p5QKt5T8lguNXv4QOP741GtpQ8+IHafzUhUIUA5ioE+7IAFXwM8TtUH0TuOwJU2PKhDggi95v+ffDyo/dfowSogAN/w/r3nMNluo5tOzDgfvXvtrpd/cPurfesy1bL3zJ9q/r3QBSw+QBmoZ31B40AzvpLbAOcTgRqJX+0qQ+MWgkg2pPNmze7W265xa1YscITQMpW0dRpu7oEHXkD0f4RRMLDVkldmF6EhzEP6b6+vqT2hvowS/OgRnsTpxeZToyr1NVopLRK3y/FudNFAMv6ruSO+6RIy8SLTRiggjaKMtyr3Iu5ABXVKHIvViU9Zf1OHa/nRSxVV27/y/LC9neP7XMf+fJz7uz5Ee32lcvbckU8OVUCnT0xOMjfPzgbAQxAacKvRgCb8KLbkOtDoAr5owV9OKl5K9cq5OrJJ590N910k1u1apU/lfK1lI3rheRRjlVDdMk4Hpr0XwVSyafIBwiSEGtv2If/FySRBzdtqBlPNTZs9XtV0qr9qrIFn0YkgI3YJ8WVvul9qfsuxZb7R+8X2uc+5AWIFxWEe1U1hapBjANUeMHS+y3ecm9WJUW+4cR/9EdfnhKnTHn33qMn3W/9/dMO2qfkj0qvXjFxre+4IdUAxvtzv8ESMQKYQ2n2HzMCOPuvsY1wGhCoSv5okgctD6mQeBV1pb+/3z3++OPuxhtvdGvWrBk7RYnc2I4av1COCD8eqLpkHG/8tQr9RnMTam8gf6tXr/YfyKVqDfXhjAYH8zK/1bysmpqih7NqR2vtU9F5jUoAi/raKPsahQDGeHBPhcSU+6MsQEXvQd0WBajoPVi0rZXQgRn9m457Nh63/v4/j+11H/uXF9zwmfPurg0Tc31evTxPAJlfqpJdzL+UwSfYpHkRMALYvNfeRl4jAvWQP626jADy0Hrsscd8ao61a9dqMb8tKzvh5OAHZAwC+MpXvnLa3vBDssWDM17/Nmh+wuoV+nBGw6lkkYcp5LLooQxZ5FhIBsK67Xv9CKhmshGx5Z6olZCBAOSlra3Nf2JEGKe6OOj9x1YDVPge3oNF9yH3oPaHc5GLQQD3HTvpPvSlZ913tx8ZG8aJ0yP+u+zobl3oOlsWjh0r+lKvBhCtq46xqF7bN/sRMAI4+6+xjXAKCDD5qz8dD86qD08m2JQGEId4yN91113n1q2b7OhNWX341DoEUnQcPHjQm9RC36uq/Y7bq9KXquZliGG8ekWsNQx/q3mZMSmpift7qX9PFe+L0X/FqhH7xn0+XWSE8dUaoBISRA1QwcUBgQRy31EXAoFEKwlhnGqACr5+n31ot3vgGy+5k2fHXTNo59DgSPt8L9P+cU49GkBeEotWl6E+k+ZBwAhg81xrG2lFBHgosQbvzp073b333luZ/NFcSouHD86jjz7qrr76ardhw4bCnuXIY1EBIiiffvppt3HjRk+ownOm+tCnvBKIsN6q36mHByufkKBqPWAePpQhhynzMlogtB8slacEkYfzxdDUaP8u561ev6neCxcDA/o2XQSwrH/hPVh0LvcgJFDvQ8yliOY/DANUirSH3Ivcmymcnz806H77i8+4LfsGJjXfsXi+Ozo87q5xVYn5lwrq0QAqAUz1cVLHbMesRMAI4Ky8rDaoqSLAQ4CJngmSN+x6J0rICHWFwuQL+bvqqqvcpk2bwkMTvheVnXBC8APtBOljbrvtNt8efoWxKAGI99fym4fzVMrX0gbn0E7OvMzDTk3JmM/BMjYvo53hIaykMNxCPOu9lrWOYSZwqrUv4Xnar4s9/rDNWr/zNzJTBLCsT/RD7x+WXzxx4oRjBZW7777bF2U+gBwqQWQLSdQUS5if+dvV+05J4rk5C9xnH+91Lx45VUj+qHxVx2I3cGrItzN/7hx34+oO/z33n2kAc+jYsRwCRgBz6NixpkRAyR9b3uRjAlcFFB4ETNAqPCgeeeQRd8UVV/iP7i/a8iCqpW2NICZ3IOljeBDF5fThX9ROLfsgDXGdtZSb7nO4Hvgu8YHMofWE9CKMUaOX9eFcZF7WB7Ju9UHNNqe5me6xzHR9eg80KgFsxH5xjfj75e9Yhe9VAlSGh4fdPzy53/31lkE3cOaCW906R6uatG1ZMHJszVJZ43nBPLehe3wZv0knj+7gpUjdIlLnxPtVAxjvt9/NhYARwOa63jbaEgQgOZAIthAwCEFI4EqKTzpMHVqewAzIHybaK6+8ctK58Y6wbHxMf6MF0whionSRWspp+Vq31KkEotYyF/u8mDDwW83LRW1zTZUY6lY1NxBFNaWp9kcJYrgNiUBRG428T69fjFsj9Fn/3hqhL3EfYgIYH49/M2dogMpTe4+7j37ngHtyz7i598TLPHbHAz3C8oNDg+4KUfrtHzzlTovh4Fz/XvfS+aMTAqa4x/l7VKF/3KNVhPu+agqYBx980H3sYx/zfstoRL/whS+4N77xjWPNvvOd73R/9Vd/NfabLwSiPfTQQ2P7MK3/yq/8ivubv/kbr8l/3ete5z7xiU8U+kCPFbIvFw0BI4AXDVqr+HJDICZ/PCh54EMM6hXKM0FjRoL8EeyB6bcWoSx9Sgl+hBpEEkYQ83DIlUvVx36Wn/qjLz/jTkg6ihOnzvrtKXFSHxwaduckQdk1q/vcc+LDpGSCMpiq5s+b65YuWSD5y172moslor1YvHCea1skD8PFkm9QtivEvLVo/jwf1dgl0Y3drYtcT9sit3D++MOM+qpI2I+ycuBSq3lZzcwp87KSwlB7OBPm5bIx5o5XwSpXz8U41sgEsJ6+kdPvj//1BfeVpw9NgKurZYE7erJ4PmldNM+t6F7qvr9jxH2jp0X+Zjrb/EsLf+vck2GAit6DaPOYqwhi4X6sJUCF+qoGgTCHoW1/17ve5e6///4J49IfP/VTP+U++clP6s+xABrd8d73vtd98YtfdH/7t3/r1zh///vf797whjf4eexyfrnS8V1uWyOAl9sVs/5eFASY5EPNn2pJlMDx8NR9VTpAebRNDz/8sM/xd80119Rcj7Zd1B5v8OpHGAeRFGnrau377iPD7m9+sKuoSb9vyeJht/vIicLjV69ocy8eHnGYLzrhjg1d7oldRycd6hDiuLJjkVvevtiTxJUdS9yqpUvc6s4lbm1Xi1sj2yULJ09VjGk6SU1oXo47STvcH6o5VIIYRy/zUAZ//MBIwq0P6UYwLytWtd4LMQYX8zd9A7dGlCoawKMnzri/fni3+8vv7JyQzFnHtbJ9USEBvGFVu+sbOu2elZcrletXL53kJsI8FQaocD/yggqhwxrAMXDkvtN7L9xyLsFXzB/Lli3Tpmravv71r3d8csJLkCayj8+jj//zf/5P95nPfMb92I/9mD/82c9+1q1fv97967/+q/vJn/zJuIj9vsgITJ5VL3KDVr0h0GgIpMgf/YQUIJxTzxsqDzaiVNHQXXvttTWTP9pkIqfdWNSUvGnTpkkPCM4tIo61PvT39BeTO+1DvzzgUoKmLydDp4o1HwMnzzo0hi8c6k0W//+uXeEGhs+49T2tboP/tLmVrfPc8NnJ+CQrmcIB8FPzcpHpjOvEw5gPfokE4ah5mX1xYECRmbme+6vKkLgXGUet90KVuqd6Lvg1KgGs5W+fe/hT39vpPvuD3a5HNNvhSh4hNq3R38jiBXPdTRLo8djuY65zyXx3LNAOFq0AAkZ67xCggrA6Dz7Fy5cv9/MF95u+oLAN78P/9J/+k08TRVn8aHmpoewmmUuuv/56/wn7W/X7N7/5Te+HDMl89atf7X7v937P/6YerBX8HfzET/zEWLUkvsd3+Xvf+54RwDFUZu6LEcCZw9paakAEmNyLNH/aVX0oV9ECaFkmYiZnJmwm16oPXiZ72g0Fh3I1Jaf8CGmHccVSS/t7ZfH5lMybc8FrKVLHF4gpOCdHRMORku62he7QwMnUYTcsyXE37znqP/FJH37on92dG3scZuUrl7e7K2Tt1KtXdnjNYS1jjuur5zfXSs3L3E88eHmwqaB50QezPpwxL+s+rpdGL4caG+4d1eZMdSxKALVPjbRl/FMd38UaD3+DKXIK8UPj9+nv75Lo3XNunvztHRw4VVNXrlvZ5galDOQPIQL42MmRCGB+XyMa9VqE/umLangfFpX91re+5V588UX34Q9/2EECOR/SxrKRWCf+7u/+rqhYTfvQDr75zW/2Ps7U94EPfMC99rWv9cSPlyfyk3KPK3HVSleuXOmP6W/bzhwCRgBnDmtrqcEQKCN/dFcn/piIlQ2FBztmXx7gvA3X83CDfIZEjjohf5hYcqZk+ky5eh74ezIEsFv8lw6fGM9RFmNwTjRMKVkimo6c9nCJ+AvmBD/ElBwTreS3nz/kzpybSHpbxGx81Yp2d+embjExL3HXiqblWiGGy8TUfDEF3GMJAwPiY5yfMi9zzflw/ygRVFLIVr8TBVp2j9VzP8R9vVi/uV/1b+1itVFvvfzt64ug1tEnyZo//dAu978f3euGgpU7Vi1d5PYdS7/ocC7+sNfI+r6P7xlZj1frbJX9oeBSUYvwchH3L1WOuYh0Nvjzvf3tb3fveMc7UqdW3v9zP/dzY2V4+aEdAt7+6Z/+yb3pTW8aOxZ/aeT7Mu7rbPs98Y6bbaOz8RgCCQRqIX8U5aHK5FqFAOKHA1HjTZeHNg/wekSJHGWpE0LZ09NTqk3Uh0E9E2uOALYtnCsEMD2SEwkTLyVWCAHb1ZcuPFdwzsnRE+mH6jLxH+wdmHycgJYte4+KVsZJFOa47yGBJ9euEjIoH/ysblgjvlaiOVwggSyXQrjHajUvq/YQNwC0y/wuMi+rFlEJIvdEPffDTOHRyASQvunf1A65h//3o3vc5x/Z685IwFMsBDblCCCJnnvlhozJH/VckH8qKNNrSQLN+aEGUMuXbTELF7kylJWrcpysBBDAF154wRfjxZUXHXwVQy0gaat++Id/uErVdu40IWAEcJqAtGouHwRqJX86oioEkAkO8keEHW/BO2UVkSrkUdtkCwGkPq2Tt/ebbrqpVNOjmpR6Hqo5H8BF8/MkrW8oTXSJEM5JrL0Lz4XAHZa0GCnB56qIAOr5C6IoY0zR33+x138455Z1Xe7ZA8e9tvB6IYM3jJJCiGHrony/tY2LueV6qnm5qJ3QvMzLBqQQH0T9zn2A6Q0tIffiSy+9NCFAALJYpj0sanc690FO9b6dznqnoy7w3XzwtPsT8WH77vY+iWxfUEj+aGtRdK9p+2s6F7vVoh18ZNeIuVf3h1tMyCrrukS7K36xZcK15aMEtex8joM1kcMXmwDi4rBnzx6n6anuuusufw9+9atfdW95y1t8V0kns3XrVvfRj360lq7bOdOMgBHAaQbUqmtsBJgsIVRseeDU8uBjcuUhUCZK1MgBdsstt9SlPQzb0HaJ9iXxLISylv7qg5QxVpHzL19wB46n/fBydeHMnjPxph6MWucxCfBICeljDhxL9wtTb07OybhyQtukr4EE8vn70ZNRSl6xrM1dt2qpgxjeuKbT3bh2qfgaLspVN+PHyszLaAiVFBKZjDY5te6tagyrmpenOmjuVfVjm2pd01We+4IEzp/7/m63b2DE9aFH/Ez7g6Xa4rbOnZ94r0HiblrT7p7ce8yh/cvJgePjLznXin9gLaIvl1WxqycRNFpn/AdV8PN78sknXXd3t/988IMf9OlhIHy8+P7mb/6mjzT+N//m3/giEM53v/vdjtQvWDIoR05A5kqNCta6bTszCOTvyJnpg7ViCMwIAvWQPzpWiwaQhyxEDU3NrbfeOqbNgIxVJWIhGLxFo/kj/5YSu/B40Xc9r2q7kKz4ARbWD0lKyUrxq9uViSCOnouTqjmccZwnuCNHAMvMx6noY+3E4UTwCa58+B7+vy37/EfPJ0UNRBBCeOv6Lm9KxsQdSi1EPTz/Yn2nH2j/+CD79u1zN9xww1hz3CMQQggiH7SGRebl2KQcEsUq2qexhqMv9KMRMEM79sjOo+7/PLbH/eszhyf5la6Ul5EcATwmQSEIuvLb1i8Vc/Ap9+hokEfs4+dPHP1vuQRB9Q6NvwRdK76rtYi+mOrffC1lGCMmYOaVKsL89prXvGasyPve9z7/HT/CP//zP3dbtmxxn/70p/3LBSSQcz//+c/7aGMt9Md//Mee6KMB5H4jEfSnPvWpShpMrcu2U0fACODUMbQaLgMEeMBU1fzpsMoIoJI//LhiolZWVtuIt7zZ87BGbr/99prJH+fzIOUTEkAmfSKIeXCnHtj7jw2LT1yHmLfOu9OSXuX0ufNeM3ZWgitOy2fo9MRADB5y88U+SyJo/OpwcCep80LxpfNb+T5fCDDn4Ph+9xXdDi0j9Z2U+gdOnnHHRJvSLpqR/oyP35IF+WmKfuakdzCtPVwh/oOHC/wHtT58uvZH2seDoiXl8/VtB2VMPe7RHUcksGSRmI7FRC/EcNWSC65zTrnGWNuYqS33QEyyIA6q7SvqR5F5GR+u/fv3+wc49xjkUgmibpUg8jdRCzmhnlrOK+rjdOwjf+UXN+93/7z1gBs8KYnPg8COsP6WTLASfw9o8a5f1eb/Xp6UVUBCmagbDI/gIytuDCEBrKABRPsXX9eJtU/8BfnjXqhqAr7vvvt8uYm1jf/6yle+Mv4j8Y3744EHHvCfxCm2ewYRyM+sM9gRa8oQuFgITIX80ScmWDW1xH3kAUl+K/yr7rjjjkkPsXoIIP194oknfFPk6koRtrgv4W8eptSDMNk//fTT/qHN7/CBrQ9qts8fOOqeERNoSvpPTdQA8kAj3xmfeUICc2lelgtB6k348a3tahOCOE+I4AK3SExmc6UutI3DQjghhphic3J8VOtSdE6b1AvJTAkEL0cAWY81JwKtF6JCvz14yEcj6/lLv37Y3XfDKr/iCf6EN4jGEJMy47sUUkQAy/rBva/LmsXnUp+al1V7yBbzIls0iwgkMLzPwu8avXwpCOCOviH31W2HZLWOg+7ZgyMJmLtbFibJXzz++Pc1QtoWyko3W/ePL/sWnhP6+IX7+R77+9VqAmb+qTo/cH2QqgTQF7L/ZhUCRgBn1eW0wcQI8GDZvn27Jz3km6rypqx1pUickj+OF5E/yqfKat3xlv7iV8ODlQStqgWMzyv7rQSQh/QzzzzjI++ItGP8GhygW13N4qGtxQ8u2uqWJLX9QZLauP2XM352+P/lAkSIvt2VWF2EdnCgZ0WQLnk4QxAhhOQFhHBiOs6ZjzHNDvWO51aL+z3VIA8ijVMCMf3+C70TAlh40F8zGn1809rOsWjkopVOUvXWu78eAphri3tJzctFZIJ7Wc3Leq+RfiSOXkYrhHZeX7JCgliV3OT6yz26df9x9z0J5PjnLQfd9oL7Ak1czsQbpnzRttbKSjXLxIT7svytbUmQP84Nffy0rG7DxNFoGddLEEgtAmZV/f/QAELqpxPbWvpq5zQeAkYAG++aWI+mCQEeQDxYdI3M1BJFZc0VkTgm3scff9wTqjvvvDM5mULE9MFW1g4P6KeeesprT+655x5P2hhDPaIEkBQMpFmgPsbBQxuNTNED+69feliaOlTYXMv8l93ICqWFhyWh7bj/UnwGflO7M/6BZT58R8Q0tu/osP/EdXdKPEa7X1d4sTc7ozlkOS7MtnxvL4k+hkzmZFjWRM7JEdH8pQTi2xtFRp8Un8KnJCUNn/XdLY60OygE13e3uusk+ljT01wrgSccr+eFJdWf6SaAqXZ0P/cgZI5Pkah5GXKoqULUvMw+/m7QEGodal7WbS3mZZZXe+ilI6KZ7XXflcjvo0LK0eqeSqwgk/PTYwyHguu9ZilLFy6Sa3lcfP1Ours3dRUN0+9bLi4SoYk3PjEMoCIBdK3XvR4NIEuyYVmotY24r/Z79iBgBHD2XEsbSYCAkj+2ORNuUCT5NSaASv6om2SnuTdpjtVC4ng4kw6Bt/NXvOIVXrOiJC7ZscwByrIEHeSP+niIQoZzktPCdbW3ur3St5QcOJrO8Yd5NydlKWByK4S0LZzjSVScv5AVGdYJgcLEe4/46eHDiAka3z2BekxOZxJMc1LON7GI4I1VLF8IFslh2tmyyPcd5Snn8fmXrfvHqvihq5eLP9pZWdWk3V0lCayvlsAAElujDa3n4T3TBHBsIIkvoXmZ6GQCB/Qljb6qeVm1h7WYl4fOz3Xbj551T+w74VfYeKl34n3JmtOHBvN/B4nuuqUs1SbuBFcsa5GI3gXuKfHx2x9E7uYCqJa3TwzyCNtgBZ1QO3htjQmgqYO5qKoGsJ4I4LC/9n32IGAEcPZcSxvJKAIh+YMIMUGWkZ8ceCEBpG5MtLx5o1Urm3zDsqk2eNipmRayhmYDqaVsqk4eDOTYeuUrX+nNPbSRE8xje0XLlhJ8/FLCKh+DGU3ZmVPpeqmzP9KShe2sEBKViwBeJAEmRXJexrtXtI5oXp7YPa67xAS7TrRtHV4zSNkLoxqhyZo+gltSfou0yeoiOc3mUlk5xR0p6t3IvkWCW04grVv3HfOf8Dw0WJvEl/AuWeGkY8lC/53l7zbKPvwoU9JoBDDsJ39X/K2qQHDLzMtHjp9wW/YccY8JRlv297lnDw+7I8PnXefiue7Y6eL7vXPxPCGA2srk7Yko0Ck8g8jcYXlh2HaguIKc6TiXqmht12K388hIoBLplIgerlXq0QDykkme0npeImrtl513eSBgBPDyuE7WyxoRiMkfkxwkDe1BvQIRQxuh5A+/plrIH+1RlnKphy/7n3vuOa+pg6xh3lKpVwOI3yCE99prr/UTvdaXm/DJ/5fTxEFGUrJSSNrOAn8qPb9dHjbu6DgJ0/1+K+NHK5eSpRIhfCB1UPYX07/xAgOnJgaAYIJ94dCIryNliVI+J9dnbWeLWy6man7j10dENAl/c6S4s3WBEMDxtuJviyQgICcXMn6TlDtxemLftS5S05CvsE80mpg4Q+kUP0nMyVeJFgnyjLaQsa0Vbeg8KZe7B8J6Zvp7TADD9rkeO0ST91LvoHyGZL3cs+67L/R5s2t4Ht8hUMfPFJM/f+65vPbvUHQvouVdLyn5Tl1Y4PgLSJE/NM65HJpEv6eEa+aEAG7qaXFn5bwNcq1qlXo0gGoCrrUNO2/2ImAEcPZe26YbWRH5AwRIGG/K9QrlSaGyefPmMf88fJNqEdVqpCZqEquiqVMzbVgn7VKuihw6dMht27bNJ45O+V4V1ZczVXL+8UwASNkqH7k8fJDH+KEb9u/86TQ55LwzmQcrx1M5/jiGiVa1i0U+hlfJ8nCdosVbLImmT4mGE6IaEq4ygpd76NN+UUAB+1WILE4JRCfsi55H8mI+Q0IedzyxV3ePbdtlOb+1D33T3bGhW4jvBZ++Bi0p6yNDRMi5SLAN32ciWvmEBPMcl/6+2C9+m+6oG35xSFIQnZdo9AFPvrkuR8SnM5R1QmrxuSuSNRKQ8VJfWuPcKr5v7mjxahxLZKWbo6P3eY+8h/Usmev2DUoQmT/9tOtuST8uV4k/4L7AHBz37WgmEh1N810bO8WkPOCvCWlkapV6NICYgIt8gGtt086bPQik7+jZM0YbSRMgkCJ/DB0NYFUiFUIGicM5HdKn/nnh8dx3SBxC/2JhSS6WSqJOVvqIpaoGkOhKgkhIRL1TMvEXtRm3ob93Z6Jw0ZQVkQ0tS96/nOQigFlZIUcAO2T1AHc0bUcdymh78NnKEVf8A5UAFvWf4JStsoJDKBCkNUJAWiQ3YasQQwJcDiWSWJcRvJx5mUjQXFqdVUtb3E5JY5ISTMOiQ5x0ePDMyIonmIofkfyFKbl1faePkiVHI+fywfTMBzM6wTXc0uR4JIobrHQtW46TM5IgHHI+skXzCtlDmwfxfnzXUbk2ZyOt84hm9rYNnW7znom4az/RtB3MEK2yl5HBYLk1rVO3uAa0yThZ0/qFw0MuTnt0fDhNyNsz74P0OUVYuf/B7uHRJeI2dC9xOXOx9lW3zGuYyqsIJmAjgFUQm73nGgGcvde2aUaWI3+AMBUNICbagwcPeg0iaVSqTrahBjC8IBA0llLClExKhiJRApgyH4dlIKjkDmStYNLd7N69uxIBzJEJtBuhk3rYLt8xoaaEPHxhhGN8Xln6E0hDSuCdKV8vyrTNu+DSWQ0lH2LeQuvTesRtE2HMByFiF/KKPyGmVsgDZnQCYoj47E0QQ8q2SuM5XPAvJE9dStBM5qSMlOfM/dRL38CeT0y48Pk8eTZt0rxxTYdo8Ir95Kh7gbwU9Wa0m4ov58biNW2yukZK5pe8jByMrgnk7LpV7ZJeSJKXy4vew7IKSEqOn+VFp1gjP+dC8X7qWt46zx0cmnz8dvH12y6m7ReCQJXrJeCniqABrKLpp24LAqmC8Ow+N//qPrvHbqObBQiUkT+GWK8GEOJFAmX8B9HQaXBGFdjwuYpNuWj9MP2yODrO2CnJaQ/DMvj0kIz6uuuuc2vWrPGHKBtrAHP+X/hWpaRHNGU5GRBNTkogMlORvBZsiZC0dO0re/LO9IOD6TFTKyuV5ETzDzL+ZyS/3CMv9bnN4hR4WMjN0kVzJEXIYkkN0uPu2NjtNva0+hVTtD5M3zkp02ShdcvJ2Qwpp9zxzNiIqzmYWB6PsqtF+5iTloV5cppbuYVYo5hwhm2htc1Jzle1S3w20QDSxnVCtO7e2OUI1Nkm5uYnZLm23HKFnWL+zSUcX7A4jUnHoonXqlXULlcsnSvrAw84SdfuQvPw1cuWZFfbiMeeci2Jzwt/mwYwRKO5v0+8M5sbCxv9ZYZALeSPIcUErJZhQv7wpWMtXoIp+F2voMlTEzRLaD377LOe/JWtxanaw5jIhf1g3VbW6Lzqqqvchg0bxg6p9nBsR8mXnX2TzYVaZHGJqiz3wB6JttWaJm9ziZQxJebMx2VkoMyHbf6SyWb3sIf7+9MEEdMovnYpQcP3nARqPLqjzz2x84jbJdq8uWIkvXJZq/h7dYvDf6vXIKbyzs2X4IOchImDi84jfUxOctdslfjR5VKadJRoH3Ptcqw/WPIsPhfSfEZMxikhEXhOUlpVfCavk1Q6d27o8hrb5yQU+FExQ4fn5+5FTP05yblIdLSN32do/eYLQd4xMDKfLBdSGsr5I7vct771LfeDH/zA+xw///zzXpvf29vr12iOfZnr8QHUKOCw3bLvDz74oPvpn/5p/4LJi+Tf//3fjxUhQO7Xf/3X3S233OJflHkJffvb3z628pCeuGnTJh+ERHn9/Jf/8l/0sG0vAQJmAr4EoFuTU0egVvJHS2gA44kz1wPIHiQNnzr88wgAUQKXK5c6pto4TMloFFk1pKsrnTRW61ECSNtFQSf065FHHvHEj1VDQqlCAHG63y9RrynJadlYOiuXK29eIk2LtpXzg1uNQ39GM4k/Wk5YzzgnRNGmBIKX8xdrn3/BpY2cTnwERc0UyRlRMfnxyJjuvrLHPX9wxEC9SsgFK5ZAbjDNQibKAkgGo+jmqCnR4KXHtlwCPnImWIh1ymeNdhbIC01OTmRWRyGdUMpnkjqXSUBKru85XGL/QFbTgLiRzPsFWesXX8THRdOXEjS3KSEiPCWLJXgk12f8H1dJ/sFu8fdD6xdKZ7toDiUARuX+193rlopLH1YHzX9IInvmDvbpXKDJsJkDsADgmsI+PjpvaJ3xlvNzlof4fH6zggvrnL/rXe9y999//4RT6ANJ8T/wgQ/4c3BHee973+t+5md+xr+chid/6EMfcu95z3vGdqXcX8ZOsC8XFQEjgBcVXqv8YiBQhfzRvmoAIXY5Myjncg5pWYim1chc0r5MlQCiScTnj0l02bJlNFUqTOT0t0gDyMMB8kfi3KuvvnpSXVUIILnsciSPZddS4pfOkvV6U5LzNcOXLBfpWqY9zPke0p+jmX75KNrMAx9CNngqTfEwL+8fSueAufDyZJ+vEKMz58aPQx5iAoHv5BXLW12nBHPg10bqF8zhRCJzrXKBMxCNXE66ZX5d5vQ1K9Oy5TR0jDFHLleL6Xvv0eIIXsqWaZtT7gaYda9f3e4jts8J0dstK6zskXb41CIkK2fFmXpkjaTZeelI8QsUEb6Y8/H1O1iQgBpSqtIlmtU1XSPawqKgMOYmXmQhgkoQmVfw6evv7/eEkXOUCOIbqESR71gLSLbN+WXWB+2Tbl//+tc7PkVCQMlXv/rVCYceeOABP3/iixxaJliBRJN9TyhgPy4JAkYALwns1mi9CFQlf7SDBpCJkbKQwZRwDktSaVqWlpYRvx4lkKlyZfupl4hfonNXrFhRdvqE4xC5mHyS4w/y193d7a6//vpCUpsigPQlJsE7Mlo2OnM4oylLmTB1EDkS5jV8Em2ZkjI/t6GMFgwXuVx+QfzYcuMuI5882LMyl6l1nOTF5x48MlETFB/fI6S8aBm6BaJRvU4SEi+UKGQCPUjlgrmXa6TkiHyGOQJI9HJOuEdywmoYKSmLXibFTI4AkpA8J0qUVwiJXSnBSaTiOSH3AYQP7eJjYtZNCZHJKcHs/eKhtBvEQCZ6eKmMSTJQT6r6Bgkuwa/wey+l+9QXkE7Ozwl/t1gC+KgGD4LFHACx4rrFay+jnYMcQv7e+MY3+vmPc//rf/2v7tvf/rZfbxzrActZbty4Mdd8pWNoGelvTDT/8A//0P3u7/6uW79+vXvzm9/sfvVXf7VyYF2ljtjJWQTyM0G2qB00BGYWgXrIHz1U0geR0u9FPScwg+XT4rQsSgCLyFNRPeE+zCFMwkx49bz50naoAcTfBp8/JvGbb755EpnTtlMEUI+H25yZtSyKV7x5wqomfPfBBJmUHSOpSiYUmfAjpz3kxCzBE63MXiEFKfEP7dRB2V8WTZoLNqDawQzZALLjGWVTh/CJATFbFgm+f5hBN++eTCraF833yazXiJatY/FCCS+44E5KPRBDtIeYImuRsvQ1Oe0jGr6Xcv6kJWb72OzeIybh5UL28KkkKfORE2f9Os+Ya2OTbZnmUsljEQYdGRMv5+ei4GMvh5XSXzTjW/YNSoRxcYQ/dS6W8YT13iAazKoS+gBCuFT7V1QPwWe84L7zne90r3rVq/wp3/nOd9ynP/1p97a3vc29//3vLypWeR/WCXz73vrWt44RVSr5z//5P3uiifvLww8/7H7jN37DW0X+8i//snIbVmB6EDACOD04Wi0XGYF6yR/dggwxOTJZptK4bN++3efkK0rLAgmD/FUlgBqdizmn3rxbIZGDwOJrwxjQJjKmlFAOsliLYOJlvVzEj1O2BJHyvU2WziL6EaXQ4MCga+9o9wmCyV1G661iOrtbliTTvlAGrRRBBGir8PHDX41PrNxhDdSchA768XnezJkx8eLHliOAZdrFsjWCc5pNRtUvS5KlZIX44OW0qmt7OtyARKam5NzpYmI7KNdxULS5jP1RCTyJpVVM7u1yPSEed0oELBozrgnXishcNI5oVXM+nWjeDheYMrWtMs0p9waCBrVtNMcg5O70ySHX09Xp/1ZvkjQyA5KQmXsH4qqR4Des7nDPHUyb5c+cG6lb+xJuMa8ezQTG6P0bltHvRHQfz7hBDI2SdbSfN0kfWSNY1xtuE1KeknXio/hikALmxooEkDmRvzcsHLUI/na33367D85497vf7W688cZailU6hznn53/+5/1L6yc+8YkJZX/5l3957DfzF0TwZ3/2Zx1awZ6ekfln7AT7MiMI1HbnzEhXrBFDoBiBqZA/amRyVy1eUQv45pGXD80fmrVYKIvkCGRcBj8bNHX452GCic248fmp3xA5yoIB5A8hiIT9OQmJo56Xesg9JAmBn95XnDHvDknKu0UeaGMyGHyXncvbZJH7hC/dLes6x5ZSg+uRu26p+LRhNiaAg7x5d0maFPzh0PxAPNSMyfk5DR/RojmiUrZKRxnB6xfikZIyzSaYHA5Me3E9aLRyBLClRBvV1dkpCRDT/poNIywAAEAASURBVIeHj0zWDtKHExIUw+f8nEFPruJ+8Zvgl/4TklxYBtkq/WjhWglhJCoZ0kZKoDVd5+RvSl6s5BUAsnuB/0YFfzfIJTzPv0x4gjmSDBqtKX6bbZIWBXOsrlqiZY+dHcqStDLTdS4qm2CQo0IyU5LLN9ktawsflwTaKeH+v0v+TvDze2Q0obOeO8p39eeELYnKQykzAYfn8p35CNH5yf8o+Q8TMZ/YNFtSrKbDkL+3vOUtXqv39a9/fYL2r6iCe++91+/G8mIEsAihi79v4h148duzFgyBSghAfFjbFl8X8ualSExZpalIYIgf2j80f0Xkj3p1gq2VxGlqFnxrNm3a5KP0ai0bj0OJK8vQMcFCUrU/8bnhbyWOui+FGw/pnC/c3DlpoonGI0X+aBeTnQoPQnzHQv8xNCCxlg5tEMuSYUpUbRHpOUgODGnSKFDISU4IBMhJToNX5j+4SszLLFGWEnLG5QhgWfLrVL26H7NuTk45sCkmsLISXJL8USerdAyeGpJULBfcGUlzczRKdXO3aIqfLDA/a39uFdL/VLR6ih5j2ybE+kSi/yMkLa21zl1RIoD3R+v4hu22ystGTnLm4ZH7eHLrvKSQ1uXgwFn32O6JL0baVpjjT/fpNiSHHUK8q6wBTB3MKfxdl70MantseTFF1IfQ/5iG/5T8YWL+xje+UROhI3E9QmCKyaVBwAjgpcHdWq0BAdX8QVKIekuRmBqq8qRJ35j1/F27dvmEzJC/nImWdpWIadnUlnQJBGjg83fllVf602otW1QnbUNSlfzVau7hoQBuoRThx1JoRcEGWu7U2XQEMCRtu6TXSEkuShdt0sGC9VwhBydkWTo0hU/tnajJosz67hZZr3aRHJ/vEywf6Dvu/eli/7ZjJYmOD2TIAlGdezL+g/il5QhgmfZx4lWZjF4uHx1n53LOoa3rzWgvl8uaZfsG0tf05VNpYkvbL0f3FPtCyWll0XyGQQ9hOb63CgnKSewfGJ67qlPW4s2sEBKeG3/HPBy+mMTHY7qNwvPWdUvFzH/GnRKz8/6EnyukNJdOJySH161M+wrG/dHfzGfMLUV/13pOvIUAEkRSdfUQXmrR1KlgNXnyySd9IBp5/zDlYqH40pe+5IkpaWsQAtVwWfn+97/vHnroIfea17zGz7XMkZiESRUTRglr/badGQTyf3Ez0wdrxRCYhICSP7ZMWPVq0LRiiFNYBw7RJFm9++67s+RPy9dC4iCpTGy80YapWYrMsVpvbguBw1zDtuoydEVtMn4+ocZge0kEcE7DV+bvlVs5gQjgPZn1hxeKv1osaAQhZnxuYLkxWX1DBZMwvnWkEUFLiF/jQiFDRYEkq0sCRLqE4OUIYKjZ1PbDbVkka87cSD253Iikr8kdRzu5M7OEXLuPAE4TwM7OpRKhMpF4h2M7dGQc83A/30c0p/n8gzkCGNcX/865BLCmbo4ADmWieFdLyp9jw+kXmYHTI5QdQnfz2g6/csfmfSOatLs3pFd0Wde12O06WowHynGNhoZQ3rOpKx5u6W/+lmt9IdTKIIBo/8I5QI/ltrizQN5U3ve+9/mv73jHO9wHP/hB94//+I/+Nz6GoaANvO+++/wqSp///Ofd7/zO7/g5jYhj8gH+2q/9Wni6fZ9hBIwAzjDg1lw5AiH5Y6KCAMbau/JaJp4BgdM6iPTV1ThqSchMTWUEUPPyLV++3C/JFr6Vl5Wd2NPxX5hT0PyhSSS6r4qAW0h4IaesLkA/WdJO84M98mI69QXapJyvGkEEKZkjEagHMsmlCeLIEcDcShS0GUeisiybLs2GKfGQaGXw1Vsna/RiUiYgBU0n5bqF4MWm53Aci2AyGTkb2u4KzhvKJELm9ByR8aufJHwqKbtK0tfkVm3pJCVJRsoSc58SP72cDJwDm+JzOmWVtiMn0/pNXAZykos+9gnHM+lnyiKA9xdom7UvLRLIlBJI3/HTL8vqLZ0SfXzKKfHT89VNQX+HW+6zFAFEk72jb1gCdhZIkujFsjJMeim5sM7wu2oAw31l3yGAKVeXXFlIXGxRCM/PHeM80sygATRpLASMADbW9Wj63sTkDyKl/ntMMiGxqgKWagBZiu2ZZ57xExLmiVolR+I0Lx9kksi6uI+U5ZwqQt5AiCp1Vn3Lpx0IIFgiaBHRTOJojbmF3xBCPjv6Dvtziv7raZnn9h6PDWDjZ55K+HJxBr5kOTNrWRRuzqEfzWMuQpiVLiCA4sbmiV5M9q6WPHo3rFkqwQgL/OoQLDe3X3z6lNeVLbM2EPnFjSMy8q03EyXL2rO5sa0Rwpozq48QvDRph+jmpGxsGnFbVMdIJG1ae7hGkmMfCQOGokqOHUtrDzk1t0IIOf9yuQ1z41ouRKxXfEhTkrJqM95NS+e77cfOJH38+jL1Eimfki65h1vXtLu9Qiq3HRxyN4tGu6pMRQMYz1FV27bzZwcCRgBnx3WcFaMoIn8MTAlQPROeAgMJIycfa2oSRVs16ixFANHQQa5yeflSZbVv8ZaAFwggAR/42iiRi8/L/VYCSP8ee+wxb/YhYSwY4v+jUYD9/3ogWU0bEQMZOXgsTURY0itHAM9mNE0oFvdntIf4Hg5kfPzQouXklETChuZjzsW0ur67VdaJXeiWiKZq47I2t0+SMRdpeHLaJMad89FbKebGnGm8zKxeRpzLVuk4nslPiMY3R8JWCO5HT6ZNpYslKXNO5izEXFp8z7TKkyjnh9dSkrw690KAe0COAB6L0sNcJSuwtEvQyNP7B9zwuXlOTcDx2IiUPpDxO0z5LHKvkV7pwRdHzMj1BIDQl3o1gDl/53iM9nt2I2AEcHZf38tmdCnyxwAgUAgTnpJBv6PCf2jgSMeCKaLWpdjC6umDmpB1P7/xjYFQ5fLyKRnTcrktEc8sRYdvovrqhKbcXNnwmJLOMG8gGtS4rpcyK3G0Sf5C11vsw7RYHn4k5U3JhfPpY5TJBQvgo5cLsiB9TE6KSFt4flEEMKTwhUODDvJJEmh8B3nAXyXaQjWrUo58efsyy4uxCkeOALZFqT/CfvE9Z1bneFkCaqKlU4JysG8ofV1Wi/ZxR5CXLq4nl9OOc8tM47nI6C7B5cRQWtt8VNbDTQnBQTlSDqFPCTo6rif5LK9b2eEIHtouplmVnDcA7gUvBedqGd3uLTA7X7uizac82ntsPEq7av4/rb+eF+J6TcDa5kxuWebuJ3/yJ926dev8XAhx5cWVj35njiS/IfsuRl7DmRzvpWjLCOClQN3anIBAjvxxIgSqiIBNqCTz4/Dhw578Qfzw0atHlFBpWcgfmjUIKY7P9DElcdnUeaw/vG3btrFs+ZxH2Xo0gJTFxIv/pOYNpM+hrw4RwAOS+DcluQjgdT2tsnRWWht0VjSNKYGI5DR85JrLEUD8C3NyPGOiHWk7vT4sS8TtG9U+kgolNsfevHapBJfM88mW6QPmXJZt02CTslx1uZVTqC9nVud4zkQLWcnhulz8zQ6eSJtwibxOaehou8xsmDNt48OXS8Tc4rXN6XtmzkJ85Iq1h13ie9h7Kn1PaOogxhAKZP8WuZ787T4ribcf3zOZZA7Li0FKyHmYkjVist4/ME7yCBzCzPv47mOe5M8ZhnqOyE0VE0BrOf6emR+qCATwctIA3nLLLX7OggySDYHk+oyBbAu81PPBr/mqq67yq5xUwcLOlZddA8EQuJQIlJE/7RtEiwmvqmDyJYfeypUrK0+WYVshiePNW3NYoVHMkT/qCMuGdYbf+/r63FNPPeVuu+22CeZp6q5KACF5TJZsyZ2Yeki8mEnhQt80qCLsp37PPfw459TL6QfTyvaFkjpj/OGoder25fNpLRbn5IIFeKzmtEE+AjiTw69HUpUoAdT+hNvFYorcKkmzw9yJEC9MxqSH6cBvrHuJTw0CgYylLMVLr/gjpsSnzsmkrymLbu4QLVuOAJaZl3O4j5jt08QaH74cAcy4y3k4DgZkKsZntayc0jsalRsf4/e+vonEbt3ShQ5Cuk/W48P/78k9ad/EvsyKLjkfv2VyHykBvF5SvLA04EiuwJFURjuCtYNZPaQeqUcDODg4eNkQQNx0PvnJTyahgfzhz8xSm7FlI1nIDkxAwAjgBDjsx0wiUCv5o0+1kKi475AqclWxZi5vibw91isQUCYZ+kydkFHyB6bIVdhOWd/xTYRQ3nTTTW7FihVhUV8/k1ytAukjyIU3ZPqMBjAlzx8a8UEqOs4awPFaq+F5OU0WhChHolZ0tmYJ4JmSNWv39adXdPDBJwWmN+17tzyY92YIYFkOvyJtEjmnd0nqFT7XiBlxZ/8IEVonkZ5EIM8XEn/i9Fmv1eyVaOWU+KjrzPG1YnLcFRCHuJ6y5e9IPZKTUyW4514I8MvM5bwry/F3MrOMG/kDc4E1uWvmo3jPznVX9ixy+LQeHDgjxE+uhXyQ7oXpl8puIfP9siRdSo5ntOcL5Y8A3z78CZ/YM/HvjOASWXxnTG6WYJB6hDmIiP4qgvYsnmOqlL8U5zKnqfYZ/2iC48g9uGnTJj/HsdRm2Uv4pej35dBmyZRwOQzB+ng5IlCF/DG+qhpATAaQKvxCyMtXtXyMKSSOCRctHYQMHz3qrEWYnFJvqLpe8HXXXecntbi+qhpAkrViSoZMMnGGopOo7suZcHmg52RICE1K1ooPXy6NC5qsnAyfT09LS8V5Hm1KSkS5mBUezDk5kzFdUy5n5uR4mPqG6OMnd/W7R3f0+aAT/yCTc25e2ylrLy9zt63vciSdVjjQ4EWXjCrHpFNM4zkpy0+Yi5Sl3pzvIhrfXKAFGq+c5MZFuSMZTRv5HXMSJwHnXPwVWZXk3qt6hPjNF8J1ym05MCzBIBMJ3eLWNPlqnTfx3LAP3ME5X1BS3qAhjMkfdYR/leQvXCM5MeuRejSAl5sJGFyYt/jb+eIXv+j+43/8j94vkPyDCPPd7/3e73krj99h/1VCoLYnWKUq7WRDII9AVfJHbVUIHBo1gh9uuOEGt3btWt+ZMi1cvscjfogQKwgZ0bk5zVpcF20z5lh0yTj8V1LZ8HPkMa4Psy9vyK985Sv9pBm3GRPA5zM+fGXRqLlcduQ/2y1+cSnJmUEhMbno4bXdbe74/okmvbCd+Xlu6U4MpzVw1NOfWcOXqkkXk5IRTVVaWwvBe/7ggGizJp6D5m+NaAs39ogZWYgUiaJJYxMHypSS10xkNX0eyBBncI9zK4bjXCUk5fjBtM/nghJfNF3jOaxTv3cumeeOnZr896HHc0EcnNMr14z+X7FsJHqXqN6XJMH5U2Kqv11IYC59zOFMyp6V3Z1uz1DxvdazeI7rK+jzuqULpC/zhfgdT76ohIE6t0pi6XqFF1LmlipyOZmAGRdzGHMgOQQheq961ascS2ySxxUh+IOMCf/wD//g3Wf8TvuvZgSMANYMlZ04HQjUQ/5ot1YCeEyiBQnOIOUJ0WMqtZbX88Mtb59oFNH8/eiP/qhf2ig8Xva9iHzit0L6GIgfE1pKUuQxPp/oYRJHY5YmKo4AELD2Wid5g1ZREogpk4ckMl8iI0idgg8YUaiYLBfLb9bqlfdv0VhckLokqETGf8HNde0SLHB4IO3vVZaL7nBi6Sz6gplT+8XvWFpEs5OTBYvQFqX7ltNyESASavDidlYLHvuzEcBLJpG7sA5SixQJyZeJxoY4PxrYBtvFhIgmFry5hFwTTNxgrzkLw/ridXvDY1zXvuG0RgtN5I6+NGlvL1l7+WzJ2ssEHKWkR0yix05NJMXhuUVR3SQSXyvXg/QwjJtl2Z49NNk1IHcvtos2OefmkItqXresw/XtHTftti+a69Z1LHDP9J52XYvPC/kLRzD+nViXPQEW9eT/09rq1QBO9zrA2p+LsWX+Qr7yla943+iPf/zj7iMf+YhPj8V+zNkQRF7OTaojkJ9Nq9dnJQyBJAL1kj8qrIXAYU4lLcs111zj1+INO1JEwsLjqe9MQLxtQqhIylzV54Z6Yy2erhqyatWqCUvGFfWBsuCWkzB6mDdihHJITAD9TvkPfzW0Juelbsy1g+cnkgN8AHWpKi0zsn3Zk7S9R3kzd544LpGHMFoa8sCx/Brf797U40kLy6KRm46l2ch/x/rAORK2tGQli/MlRKMv9eSVzjPeIxkStLxNgiQGJ+IQjr1Dnt77wx3R97KVLsZpeFRw9OfJKLE2eeQGT41r3dZ2tfpVREhPw5JvnUKciEjmGTksJvkBOR+iV+SnuEbI0p5R38Si1juFULkMAQzNlkXlY21leI7Pw5e5LuTFS4l/d5HGMedy/SDLh4QAo7lDs3e1pFV5MZO65mQmihfS+1wBadS+xJpa3c+WVEEIWtlb13X4ep7pk+Al6fCGZe3u6L7x6+ZPHP1vRetct3do/O95wcA+MV8e96mkdHUe0krxnTkvJ/VoAC9HEzAYEMyncxsvu+EKTrycM+ebVEcgf4dVr89KGAKFCEyF/FFhGQFkYoP8sQYv60zGUlY+Pl9/o1VjYfNNmzb5VDK6v8pWtXiQMU0czSokaClVI5eqr4y4Mvnhl0gewjC5tRJAcNfvYRvPSNqLVKJavJRyaVhUC4cW6oSQFj6hLBMykSJ5169qFx3iHEmjstBRD4QRIQABM2FZJGpOywVByGnw1oqZNZf3cFVXhxDA/nAoE77PeTlNDv0YTuejlwczQQOUzwVZQPrU7E508W5ZR3l3EEiwXpYS45qhxWQpvC7wFWIOIeQ6gfU5SQrOamoDQsZHFStj40Prm5NcBDA+nTkN3wofxJFQiUmj9KVbzMDLJQUPfaY+/BW51gTNbDsw6F8iivpXlroml9g6l9ewRUjpgYym+oSY0+9Yv1SCSU65R3dPDC7LmcNXdXcIARwxK/NC8Lo7rnHzXj7jXzB5gWWu4WUT7R5uJpBBJYT6nS0volU1gMw/mICVSBXhWbTvwQcfdB/72Me8ZeXAgQPuC1/4gnvjG984dir1ssbvf//v/90n28cF5c/+7M+8H7KehFvOL/3SL42tGfwzP/Mz7oEHHijti86P+Fx/6lOfcqzhDj6ayuab3/ymI83Xm970Jm3KthUQMAJYASw7tT4Epkr+aBUixBtvkTCpYU7FlApRK5IyIlVUZvv27T7iDJ8/CCYTbj1C2wgmZHwTc6uGxPXnNIA8MNTXkTQ3oSjpS2kPnxVftJSURdKey2jh0EqlyB/ttS1e6HOupTRGrUJUiGYlqKBNTKBEcZL8GL+p3sGTWWLqzceZxNadPs9datQjpvD0UecWLCYXXZrIHMmYxak3l6OvXcbdO5j2T1zb1SYm2skmTu0vuRP3SIQwmWcgPTHxuefKZe7AqHYTktgl5mYicyFcrH3cKlrbe0RrK8WFMErCcGGNaGvPSnTuWdniBrBaUrlgjkVjzDkI/0M46TskEvI2Vz6Qccg8mjKW5rtz43wfFEEZypI3UbXCaC77T74sn8njWy8uAaHJlPK1Cmlv+jI+nSMjKK6NCO7nDxebxG8Rv70hWR/4mYT2MEeWwVLlymXi97lmYtQ/x/RFEUsBZEc/zEF8Zz/EiPMIgmA+iUliSntYjwaQjAKkp3rXu97l7r//fu3+2PajH/2o+6M/+iNP0K699lr34Q9/2P34j/+4T2iv6w6/9a1v9XPpl7/8ZV/uP/yH/+De9ra3+cCOsYoKvug89pa3vMV94xvfcO9///vdww8/7Ndbxxz8J3/yJ+4nfuIn3E//9E8XlLZdZQgYASxDyI5PCQEICGH7+OYxOegbXdVKmdCY+GIhkALyh9bvyiuvjA+P/aY8BI5Js5Y+sAQbQRWQP3zqppJrSgkgUckLFy7Mrhoy1uHRL0yARcRTA0gwfYS+jlpeJ84kARQNYEoIZshpdHIEb41ocY5lVqPA5JwTtFhoAosI4gbJr4dfFvn2Fi+Q6yl1Hewf8BGkaMV0xY5U/bm8bZQZjjSZcT25cQvncUdPpynF0sVz3XEhOilZLuHLg0fSx9HoSTBxUso0p2GKF0giYwnHs6ID38LJf180iLY2F0hx5XIxwx5O932R+C4+KQmQi0R4TFbr2922MEsAc6lY1oi/5HMFpFL7kYtqLvLXxF8PzR8paQ5mgkeKVgDRNg+O5r+8SgJWXiURykXC/MQ8wafIX4+/aeZCAiNIbs+LMS+DuIJAEPnNfKcaQ+aPr3/96/4FmbrZX0Ve//rXOz5Fwnz63/7bf3O/9Vu/NaaF+6u/+iufd/Wv//qv3S/8wi/4tFQQP/qLdhD5H//jf7gf+qEf8iSRDAhlQqoXCN/v//7v+7pZLYmk+f/u3/0798u//MulmsSy+pv1uBHAZr3yMzBuJirN1s4EVQvxSnWLCS3WAPJmCvlbv359qS+dkjAmQ+rKCZG0aP8IqNA32Ho0iEVt6KocRceK9tFuTOKY5DWAZFNC4wnWfIrII+08d2Ci2SpsO5dXTRRFWU1Wi/gO5qRfiEdKVnQsEhKSPt7Tttg9sbt/EjkVDuFIPYM58O4rerx2CTKDr5g8n8Ykp5nhpIOBc/5YodEv+KkdHF0hJD7Gb/zJcvkF13a3S/RyGvP5F9Jpdaj/wst57XNI8Dg/lpxvpM/5mCB/1EMgSo4AlpHPMOo17hcpUPZl1tNdMOoiEJfzv+XC51Kx5Ey8aCqLfVxHWlINJ/cWxG9IXg627h/x67tt3dIkAVyzVBJAS4LpIukc1UjevaHTRwm/7d71RaeV7uPlTn2RyYcHUQwFN5NQe8hc9qUvfcnhO4e1hBRRBJ/xwswH0yy5UusRXpQxW6OFU6Fvr371q933vvc9TwC///3ve5Otkj/Ou/fee/0+zqmFADKPEfAB2TSZPgTyT8Lpa8dqajIElPyxxZclJm9V4YgJIBo5TAFMgPj9lYkSQH07Tp0frsWrfiacWy8BZPz46CGkpdF++B01/MdkHxJAzMiQP0y+ZeOOy2pzmOuOZLR0cTCClmPLKh57gnVMw2N8z5mHicjM+RaOaKHSBHAetssCgeOReJoH/nOBaZugDNZr7ZDAEoggJAmfQ122LawK03WR1lHPWScBGLmVU0jfkiOArSVRtF7T0x849WnDo9sjxyebR8NTILspIcL7YOb4GknMnUsJtERwzUnufsEHMZcgeploc3MEMFf3ajE9H8i8MIiyOCnrRZu840gaM8zSt0twx67eAbdllPhpZTlSirk7RQA3ilmZIBb1GbxdlqGrV/TFruhllvmWj768Yh157Wtf61NEQfTQnvGSS/oUPkV11NovyB8Su6Dwe9euXf4Y5xQln2aflvcnZv5j3sQf+7vf/a7bv3+/D5LBLM1LepGWNFOVHQoQyP9lByfaV0OgVgRC8gcJmS4CqJOekj+iaGs1K9MPPjkiioNzvBavjrkeAoh5ZOvWrWOrctB+VQnb5c2eQBeIKWSyTKNKeyF51LZDkqT7wm0uxUs7KsCM5NaqhYyFS6jF1ZDmJCdDGRMq5WIChklXic1Ijr5T3qdwowRMdIs2EXIyKOZmyq3CdD2c1tCVRScTjZsT/OlykluTmXLDLzNVF2sBUbr2ZojQKvHdC5cei/vRnlnTlnOLoorDOg5nfBfXiYZvVyb6uEx7eCgzLu+qkDl+JOP/19kiiasLCCCJmTHPvij+lNt7yfk4+aUjdx+iWSySOyVgBOK4eZRM4vN51XJ8SusT5jH+/qvMKfj/QQrxlSb36Gte85r6Gi8oFc9FsatNfJwq4nMKqh3bhRYR/z/ccjBh8yJM8AcE8DOf+UzW/WesEvsyCYHqT6RJVdgOQ2AcgZj88YfPGybkZSqiGkA1f/L2WEsUbdgmdSiJDPfznckEsnb77bdPiKbV85SIMWnVIpzHkmz4PuqqIam2c/UpiaMsAR+kh2CB9KIJNa6HPhcRwG2SIDclXUIGcrnRRtz+i0uT0Di3Dm9XyUoWRZq5sKWc9hAzJQmUU0JgC3JerssuiaB9YtcRv0LHcweP+2XaePDfvqHLm5CvX73UaxPDuuQ2zsrJM+m2KZgjxnCM3NhIyh3668UdIe1I7q6cdz6tVaWuonskbCNnwiVXYS5dCsEmOUEjlpKRII503/OuCnOy92LM066RdDKYdkkifcT7oKbnqz2ZXJDHCLMOZLn4MN64ut09LjkDjwfLypE6ppa/4aCqCV+ZD6pq7pQATqXdCZ2QH7yEI7Emj/lUtYKcU5Snj9Queo6vJPMfK4CQOeFb3/qWd8/Br/zpp5/2JJKAkiL/8Ex1dmgUASOAditMGwJK/iA/EBedaFQDWCt5KuqQkkjMnzg+16IBi+tREhfvZ83gzZs3++CM5cuXx4f9b8rS/1rHgLmCSRDyB2lLtV3YWLBTSRwBJAgEtda3fiWPQXX+mjyd8UUjX1xOjp8q1kJRZr2YuHLaohIO5RMcp9omlUgujcpyMQfmpEy7OHz2nAQqjCzb9uyBYxLledat7lw8RgrRVEF2UpIKoOB8tEK5COBV0vccecW/MCcdJdHNnZ15U+MhCaRJCYEzuXWdy5YxS2nEtL1c5DMBRTkpWgJOz0fbXJRAWo9j4sXsf9fGLrlvl7gXJJfg5n0S6S9MOhctvlbuiTjtkdbJWJUccq/fuWGppN0577YdHJLUR5J7U5YGVLltCiuAUAcaQOaGKqIRwDovVymbOhdtIgTvq1/96tgp+H1D1H74h3/Y7yPYAx9wXHZUfvCDH/h9eo7uD7eQXH1pZv31P/3TP/X5/hg7+wmAI/UMZuGqWITtNPP39IzWzKjY2CsjADFCy8eWCSacZCBv7Icg1vuHSlnqR/PH+r5h/bV2ln7EJuD+/n6/ZjCO0bm3Ue035WOn67h9/Gp4QyWCuKVl5CFG+TJNS1wPv3WcmDyoT/tRdG68LyaAtI9G8ul9xRGZlCepc0pwwTs0NFHDEZ5bZibNraOLlutgJu+aXwEjY2rMaYPoY1mQRJGG7oAEhfBBSE8DSUPTuEI+JAAmqATNHfd2jgCu6251OzMpXPB9PJgJwsgFM/jOlfxXFvwycBZ6UqyJ6xZe3XcqrV8El5zkIqtJPZMz8ZIGKCc5zLrE73OHGydcWg9+qD4XpVy/wb5z7rGC6GQNANEy4Raz877RSN5wP983kGeyb9itl5co/C4f3zNOrIlg3xmYwm8Xk/BUZCoawKrtknGAdDMqBH5AyNDIEUzy3ve+10fnQsj4EKnLvEfqF4SX9Z/6qZ9y73nPe9xf/MVf+H1o7d7whjdkA0DCuY66IJCbNm2aoPmEWEJAUTKYVEcg/xdWvT4r0cQIQDBi8gccaqqAwIV/1LVCBfnZsmWLP71e8kdh2tY3Sn7rsnFMUAST5ET7HZYvOl+dqzV9jJ4DGSsrq+fqFmKBJhHB4bnqJBcSQOrCJL19z4FsgtvhU8URjPRh9dKFbm8mACSn/ZPnrdubWR8Yjc22k2nT9CKJws0JOeVykguSIGddzgS7WvzYlAiyTnG8VvGdG3t8zjz8AAla2HNkUFblGNeUksJlZyaFC2lScpILZqBcbp1djufGRg6/HAlbu7zT9e1JvzDwAM4JaxqnhLyNz2fyNmKuT8lIvsn0vRpqm8klee2qNp86iECeo7IazN5Mv3IBUviNpqS7dYGkzBmJ8EWTGAqpdJQA0h8CTKYiU9EAVm0Xv+PQX/B973ufr+Id73iH+5QkZ/61X/s1n37mF3/xF8cSQf/Lv/zLWBAKJ3/uc5/z0cYaLUwiaDR6KcHP+4Mf/KB/4ScNF8mrf+VXfsXPoUQNE/hBUujf/M3fdL/7u7+bqsb2lyBgBLAEIDtcGwIQP0gSRCMWiAjHYu1bfF7Rb8wJmH1xXtZcfErGis7P7Qs1gDy4mNgIIinKoxfXw/jKSFwYQRxHptHnqgSQt278ZBAl0XG/cr9DAvj888/79Yxb1rBk0og5uajs3v50tGk7C5lmpC+joVuPFmx07eGiKqaiSaI+JWhFdbdL+o0yDd12IQYpWSGRnbn65fZ2T+06OqF4p6wzy3qxaIJaZQ1gNIdE4hb8eUii63GyOKGS0R85HzxO2Xe0OGExxzCN53z0WKYtRwDRdGZlYascLr5nWhfMyUabtwlGOckFcZDj79jJ9DXD9HqLRNlilt0uS9w9I2ZYlatWSMR2ggAunk+kepq0hn58Wh9bkkO7C3Pco3uKCXGoVbxuZatPwB2Wr/qduaTqnIAJOJ6Xamn3vvvuK5zXtSxzI2SNT0rQFn72s59NHZ60H60jiZ/RJOLfx1yG5eXd7363w02HfcyNjAdy+W//7b+dVIftKEfACGA5RnbGNCAQkq9aq0NjCEkjCShLneFnUosJNlW/kjByYVEvkXBFy8alyjOGFIkL1+MN16nUurRt/V22JdoNbSK5s/Bxqcd8rAQQkw0maer6zEO7fYADWidy2y2QiZWVG9Bs8LA/K6t8rBSWQnt8SOvCPpIuXzh/xomSQ5blcpKQeeIIRh6ck01uepbXgIxwWd01YctqHznJabG6hOCVpXB55mRai1WWQLoswrdI83lMNIDH9o6QwutXd3qtISbPtUKESTLMa9LAyTOiFR32y52lxs51iaObw3MxjesSceF+/T6ySkd9gRTUkfJ345j3DxQTeEo2CgHelkk4fuz4uIk0roOl73IBRbocYViOiGMink8L+UPbNiRJm4skp8XDj/WFw8VjgkzuDsy41L1BzL28vGyRtX9pOyUHg2jlOyUP4FSlHg0g8149BHCqfa2nPHMoCaWZbwn8I+crzwOsQZBDtnxw4YFcmtSHgBHA+nCzUgUI8CZYpAHkVMgTf8C1ipI/Aigwf0JmcgSslnopjxYRHz2IHw7MVSRF4ggiIdcf/QzX4w3rpv8p8hiex3fIGqZfNSNXKRvWRTkmSCL0qAsi/dReAhzOFz4cbxaNiaZNCevR7wsXLHQnRpmfXGnRbs31HxSDXRLsefKsEEmxkNGu77OEt0IWSaIrbFKrKdzmSMxIgui0VmaFRFpi1ktJmXYxVU73D5dE+OaSLFOHauggU88HeQo51iakUP5s3C3ruoSQz/NkGzKLxhHijWl8l6QkSQkEL4fdElkxJSdnpI2c5OpeK+Qnl0y5iKSFbZ2fT8BR8di4nw6dnGxN0PJnRGtK8AzmedSq+yWZ9N7RD754KfJHeQJAUtIh5Dwl3sdv9FoslZeOq2UFlCdF4+cDR1rmi4a3mGizNnZ4jJQwU5V6NYBhbtOp9uFilsfdBXcfk4uLQH52uLhtW+1NhADkq1YTMOc99thj3uctjHqtUkcRtJBTzLQ4LqP9qypFBJBFzonQJYikKNmptkHZWrR4aBLx1bvzzjvHFjyvtay2pVtI9JEjR3wkMhM/49+yt9hERZlcpCwpXsKkuxLqIxGOF3yUI2XXLut223ZoIuPJpGLBBTE/LZwjhGeumL/mSUJmIT5CFOGTZ+UJmls+yweAZIIkSO6ck7Ml2sUyE+t+STKdEvwHc8fRCunyX0V1rO1p9cmrY22XKJv86iabJMULQSJoGQeFuODLGPr8lY29zLyc89EjkCK3XBpL8uUIIAQ2JWjTcqt44Ht4KAjQWCSm2ZWtsryZPLHOiIav9+iAOzg8ZwKx0ra6hYztmWiR10Nea5nrc+y7N1ZQvnSJ+nvJwFx302o0m4MSQDL+t8SaxSmT9BqJHO4bTbzO/UJ08FSlHg0gJuAyX+ep9ms6yzNf8eFlkrkTP3DmW9yBMA2jJeSlFh9BlA8m1REwAlgdMytRBwKaCqasqJI/SE+8bNpUCCA+I6RlIYlorcmj477GBBA/Qogq+QjLJta4bFw3vyFraBIxd4eaRJ0Ai8qk9jFRMuGvXr16rC7Iw6EMkcppujaMEpVUezmShTmPSFJc3QbOQAr4jGuDN3aIf6g8eTsXzXFLJfJziRDEeWKORnF4VHKnLYANZSS3WgTFcqtg+NQdmeAUSE5RhLB2hwjfnP/gSiJ8E1Gj1FG05iz7Cfwg/cpqIRaPjhFrjlBmvpDCxbJdKObHBe6Ojd0SfHLOkzX8MMOgkZz/H0vA5e4HUrwclZx4KZlf4h+Yy124TrR0Ows0m1wPxoYm7m4ZFySyTxI6E3iz+/iI5g5T+nDsgxB0ckhMnSlZ0yGBTAPp4JGUPyTRw1wrNKq6kkfYBsQuJZRFNkok8Bp5IWD1k6kKGkCsI1UEE7CuDlKl3KU6F1LHh7kbczAJn7HeYNGA+GEC5nmBXyBrC5tUR8AIYHXMrEQCgdxbWC3kjUmNZMfUgwYM0hRKLXWE5+t3JgoCSXhrZOLI9VPLFG1DEocfivoRshZxmYRli84lIpmxY/aI09GUlY3rY6KHmOLvw3hVNu9OqEX8CRfcngwRypnGKJ4zFW4U8vjCofRDeUVPp9s10OeOnb4gHwjHRNLROvesW9kyV3wXRzSH54Qc4WPXJylpMBIeGkw/0Ekvc0jIQ0ogti9lglNWSw6+HAEs8x9cULJCSC7SlT6zUkksaAIHT40ENSyTtCShCRqugcmcXHYsgYesFbKFL2ff0ePuwryF3jzKyiNrZXm75w6mr0uZCTcXeY1/aVHgDGQIzNYKuSRtEPkVufcXLml15JjkPtovARqkI9ouufmKBPL43KHxoI74nDmLuOeLyy5y6XulfZH0OQoOgdfdtq7T7Zbkz88fOpFcEzlnVu4/cdbdLVq/pyQZ9D0bp+7/x3jr1QBeLiZgxojWj5dffL8feOAB9853vtP7RTO3/fqv/7r7xCc+4X0DSRJtUh8CRgDrw81KVUQA8pbzAVTyh8r/rrvumkT+aK4eAqhRxJAhPmjG6hWIGBMvfoQQSkzJtfoRMpHRlyKBTDKpkUNr7dq1k06pogGkbxDTTZs2+Tfn0Oz8VMouJi2SbDhnysz5imEqzGmSyvID5pIgs/LIkVPzhLSI+fPERM0hS6CtaZPobCE9q8Q8R+aVI8PnJ2iHIBoEW6Skk9VJMgSQKN6pSJl2MkcuaTcXAALuIfnjfEyYh8UXjc91YqqcTPBGfCkhip3imwaZQuNKABBLlYlhXkzzkn9S/pGH7+5N3bjYeZEwIC7HmJB78U5ZPUVO9S9VsuGrPwVNGdcMDR4BPiRtPi5klmTevaLR27DsgtscuiMEax2TJiVnpk1pTekYZTUZM79jWSrpRNxAcUBQ10Ixs4+68Ql/dZs65rrD4of4mPj5QQ57EzkwaTO13N2KNrSGc8fMxfdI4unpkHp8AHkxvJwIIM8C5Nvf/ra3spAG5gMf+IDP2kAaGSxEv/Ebv+GX78RVyKQ6AkYAq2NmJRII5DRrORMwJIXEokxqumxaURNVCaAGkqAFY/k0FhGnjXoFAog5AvJH8tGrr7665qpSWryQTELaigQCWEu/0XRC/tAg4uOIL2FYLkcAV4rWKEcAcxq+dRIMcFQCF1KC9iktaB7T2hxMrHtl6bYiIchzwcJF7vleSM34de1eMs+RhmXenJfd/LMnxLQsWqbTiT4EhKaojRNlASBD6XFT34ES/8FcdPNI/sF08Is30Q6nyW2OKEEUWXovRzBHXgqKtackRMY0m5K7hDg+UZg/EIpIBPRkzabWtU5MpbsK1unV47l1lSkbR+pqOba5ZOQrujvdsbNDEtzRIqljht0Lx8fvqWXynqDkMKyP7+s6F7hdxyaPh2APSMyTovlTufsSaQDph64Eon25XLa8tOsKTZBY0sEwHiwvuOFortTLZTyN1M+040Ij9dL6ctkjkCJvSv4gL2j+OC8lqTqKzldfwkWLFk2IImb/VIQIXdIOVF2HGAIYauPoQ0jYcmSyqGw8Bh0vWk5dJi/UHBJEsKXwgTxSEyk9UsI6uTkNXy54hDpzK3xghsSkmZLlkoMvJ0X+gf0nz7uXjp5xL/SfcxcWt3nyh/n4qp4l7qaVLe6ankWuZ4ksVSgV7+3Na4T3Z9Kc+ATSGbM5fc8FUZAbsSiFjI53RXt+Wb4lJatw5JZCo42c9hE/uzjhtfaLLXkNc3JBcuKlhHttd7AsWnxeT8ma0b0Zkz/3akq4V1LkkCXe0ISi6X5876A3R4f19HSlAzcWzx0nipTpFLJ4xdJ5QoAlQvjcOEle37XY8aI1HcKLXW6uLGrjctMAqkIBoseLMnMcmj7SWpEjkOA7cqUWWU2Kxm/7JiOQftpOPtf2GAJ1I8BkFZuAIUSswUueJ9KUlK10ARGqhcAxOeJPBwEKo4hTWrhaBqURtfTx5ptvruxHGLet2klMMkrYUv0o0wCCI5MhfSOARCdOyilez8r6vzltVs5hnxUbcsdz2hzy/+W0h6zxq2lSisZfEv/hBn1QSVHJkX1K4EZS30zUZhHV2dW22K3pFvO8RKhAiA6P+hVSWhY+yWqM8B/M+TaiwcsFYWCCdZnciJhkc4IGLyc5gkdU977RZe6K6kDzOtl8PH5m2eolRzIaYTTG+NSlJPMu4iCmccR0WI/e++E+/b6hZ0Szp78x3d64pt0HJz0rvpBDci+dwsG0QIYyLykLFuNzOOhfKG5b2y55BIfczlHtIf5/KusWnvQ5PQlEK/owR+b6r/Ww5e+aOaWKXG4aQOYv5P777/fzOem23vKWt7j/+3//r/u5n/s57//32te+1r3uda+rAoOdGyBgBDAAw75ODYHc5BVr7yAtRLyS4LMW8kfPqAMTbE6UDLHFnBxOknEfcvWEx5RQUh7tX26cYbnwe0jiqA+fP6L4ME2X1ccYGE+RYAqBRPNAuOeeezzp1fNoU8s9vktTtOjR8S0P1VwAyAJJwZESAkF3HcmYcIU89mfMpCShzkmuLG0fyER0jixzliYay0XD9lyUl48UNeu723ykbYv4/714eMAHBhTSgjPpuhlT2frEZQEged9IfP3Sfwue4GW0lxC8FzO+jznzMWPDpy8l+BPmUrz0COnPEcBjw+OkKW6DRM3PZgJAchrXkYCdYbdS2qcetIFb9o3cu/iK7osCQLRtdMW7MhpLfA6J8CXAZbMkhFbB92/Eb3VkzxtecZ27cePIyhaa3BhSw3deCJlfmBOKyCGWDCVE1FZVA0gb+CBPxQdw06ZNbteuXTq8sS1LwP3Zn/2Zu++++9y3vvWtsf18gaj97d/+7YR9VX+QYouPyuc//3n3ta99zc9tLFF3OUU26xgaZWsEsFGuxCzvR+gDCGnZunWrz+gOacGnoxYpI3CQHcgQEx31cn4osRYuPJb6Tp1oExFSvTCR1iNK4qgPbR2kL9RO5uoMiVx4Hjhu27bN48gqH0XjVQL42M7+sOiE7xuXtbptoiFMSS5P3qaetmwalLI8db2Z5eOIJN2d8P+jr5uW0XaafKKBy60B3CGRsrEMS+6Z5w6OYHH3Fct8ROoYKZQkdJhV+4R4kaJlCRHWElmbkkP96WOUyWnoOJ5bO5lUMDnN6nrBJqedLItezpmm6VtRhC/7ETRtL/amcyeieUsJx3IBIASmpIRcgamyBPO0icn8+lUdDm3focGJJNNrohMEcOOyJW5HX/Hf/ToxHa+Sz5OSExC/ylCuWCbrWx8YuT8Z8Y9cs1xyCU6+5yjDCxxzCx9ectmy1Jn+5hxIoJJDzid6mjmAffHfPueHgvkXmQoBxPcZ4qnCHP7jP/7j7s1vfrPucu95z3vchz70obHf9G2qwhj5KAGmzje84Q2+L7T17//9v/f+gFNtpxnLp/+amhENG/OUEMhpspS88YfMxMHkBWlhUqtVqCOcgMJy1EuiUHxFIH9F5mTtQ1gu910JpWrX8P8jYrcegQBSD1pPJajsq0VSxBX/F3Ib3nvvvYUkmuuhBDCnAYTgpISH6q4MCUs90LS+nNM9fnk5kgPBw3Sdks4W7p309SjLU4fZNycaPRySQj1/JJm1RMkKSWSZPKJxMWWHOfj6JfdhSlg9ZU8GVwI8WN0iJfgP5kj7Ukl/k5NiffJ4iZzpGh+9nKZtJOo7TQCJBk7JeiGPOyUAIyVnYpYVnLjBazXHA4bQRF63ql2imufICiyDkjrmxGji6MkENKeIxq8wJoDUcJsEeaAl/v6OYj/SFkllo3LV8laX809kbkKTVaTN4m8Yf2EliMxxCEFt5MVjXmG+gxjFGkTdj/mXubZq7kDtP1sNxNB9f/AHf+CDzV796lfrLp9qiwC56RTmsaJnC3lTP/KRj7if//mfn87mmqqu8Tu0qYZtg51pBJjgID5PP/20T8WC2bcK+aO/KQIH+aNeJjnqTWkUIVKcy4Sqb5MpHJSoqomatlNELFVHuJ/2mMTpI8S3iKCG54ffizSAmGJ0reDUWzb9ZawHjktCYSEUrChxTt7gSc0BUeGYPk83ikkMJyYmWh6G86S/rJnKQwsfP75fkPNPnBhynUs7pfwFWcXjZUlxMc+xRBaBHOSWCzVHJIDe2ZcmaBuF4D29rzglB+MvM0OGbYV46ffjmQhZzslpsUiTktM+oql6TMzqAsOYYHZdJxrRRXPOSzoVoabnZaUTMcMWrXO8XvwHt/eNk5WxSka/tESBBfHxsuXtyrDJaR8xXeYiwteID19/BtsQk7jf4JYLAOmW1DY7E8vDUVfumkF60fJdtQKfvDlivh9yW/aPaL46RXsbLscW90tX6oj38/tM5Bd4lUQJ83dCdO/t6zqKivh9oeb83iu6kueVHeDvn79x/TtnHtmzZ493ceEY5mMlh7olOhZN4je/+U338Y9/3GcGIBvCL/3SL3nSRpaAK6+80gezMbdVFebyz372s+5973vfBHL2uc99zu8nE8HrX/9699u//duFpLaW9piDYwmJIDhwTiepfUzqQqD6la+rGSvU7AgoeeKtDZJWz5toEQFkAiDdCfWWaRR1ouONOUUSuU5aJ1rKkFDqGOq5lixBh/YS7WRV4sskH2o+Dxw44J5//nn/AGAZpJQocXz4pSPu8V3FWgr86EiUfCrh00UeONYPniBHx/0Ju+She3SUDKAVITfd0pYFskLFfCGPi/wKFZhNWaniuPh29Q6d8qt+UF9O88jxXKJhjmOGTQn+WDnyyWoMOfPzBiGnOzI+chC4WAN3SoIyXjw0kvLjOiEJJJiGSKLV6mld7ObLD/ICQmIIPpH1wVLdd61LiH5Oa8r6B9LEmkpzGjyIai79ywYhsbkAkLKo71x6GHzvdmb86ZKAyAECisghGAsvIJhwF0vuwZOyQshmieKNhXaPBf554fEWIby53IG6TCERvKtlJQ/W/xXW46vYe7RYS4t2e8foSiebJPr8VVd3h01O6TtzAX/bfBBeJvmQASAWEuqTM+/LX/6y+1//63/5ee/BBx90n/zkJ732EA1ibgnLuL7/n703ga4rSes8w5tkWftqSZYsyfuSXjLtrH3rniHprBr2AQZqGKqhaoCi+1ANdE9z4Bxo4HQ1MIdD0cNWHIblQNE9DOt0FwUFBVlUZpXTS3rfZUveZMuSLFmSrcW25v+Lp9CLd3Uj9J5sp+3M9/k8v+XeGxE33lPc//1/3/f/3Pu/+Iu/sF6cj33sY+4j89GPftTqosIA4uVBo4+QHIScF2M+2Es7HuDLXKSdd9r+xc/mz0ARAM6fk+Ini5yB0B8sgKqnp8e2yoLk7mQL7SYJAGkXIIQbNB9Q6RZMH0yljQFdqbQ2FwsAkS2gxi/9L+bc6RfQihE0zuJK/CC1MGNGf7B8+y8MBHdbZ2PFsjplyR0R7g0Z2ZxXvIs59+uAQQcIX+yqM/t7smCRdmAXqVRRJ3BItYcXu+otQwZbR7zexGyJL/GNUQCHxMrNSBJEl87r7CwYSxv/QpnNjC8GACnBFjOANQbDellAgIdv602FjUcrV3kxDJYVzUDEk7G79zMAw75J+Q+pm5CtlNs+pi8IwDvbPx8kufYWYl5xiYcM9jAGLusqxPB5v5lkOzHwiFt8SDcRgDAe/N4uK5ED8MaDsnuO0U62G0vI6VCs3qnr6YB6tcY7oUbR7zss4WpbdWYW/LVUlyoOM10Hskug/7jYRyqAnFDd4OfbHx1LxVrAmpCPcaONakF3d7dpaGgwv/zLvzx3GOvnYu13fud3LMPnl8Ak/s8ZfSJsTyIeMdSs+4Xa5z//eetSduwnz5wPN9A8iJHE/GpHhfbxdt+/CADf7r+AR3z+gEB/YfFBGl0V4vpMDi0JAFnUiIMB/FHmbSFjbMk2ksdwR0ysX1qbPhBLHhd6T1uME3kWFkLmIwSUQ204IAcjSQIJGXHJeJy0Y91x+xO1ZP19a8TWhYy6rD0RFowLrg8Ak+2kSWfgeu5XvBwxZD0Do3OAzx0LkwO4g+0ZF9AYEwCFMUsC0TUCnzEGb6HqIwtJrODijlmsbjLH3aYsScRwL6dpK1J7mOzlCmrhdtZbQDgg1tSv+AE4HYrIrKyR3lz3QDozxZCWzcxn0fyhTodQ1OxOMYBn2cNIlq6NM/A7816ngUcXYkDSS6XYZphbXLlJdy6u4xshpWb1EdOaLPdi9bzhGOmJm42ry82hy6Op9X9b9D2FACCu6E2rK+xxgMeF2G6/34VecwPrvBkL7eu24xJOMmWFrkOuLcJP/u7v/s7KsbjP0p4Bfaz33FAXCgCJc6TcGx4O1l3OF68NDwcAEYhezA112ljfrp8VAeDb9Zt/k86bRAVAGq7Pr371qzZeZTHuX4brABggCkaRhQigVsgdIG2EGEBi6gCAtJnmWo0dmzadFC3HPc3i54K7YeRopxBjf+JdXLk4/6471g4A8Nade9FatzGpkS5lB5+N1PAl+SFkMGAXI/F/6xrFQiUkWGgLcMgD8HPIYw8BhKslPoxrGRDJM0LMafF1tBNyabMN8+OzMp/k/h/LsGXPqGyOgHNfRKyYc0kDf7RLbB4M3Mm+XFaWjGgAN9m7HE/tWUDosIA0QNgXfa6rIL4wDADNkvjv78pgmB2EeUuCL8btbCH2MKQPCKm2cXWlGGtjViop6Z5AKHGGZPWemc303qrSdoM63zSjAshQwMVL3GFMxsWxrq5dwOZmgbfjCn0YVQWZO7OstNvunv0bXfcZz1QAwW18edY9/N51j879S/uFMIDsjxF7nASAmS2F/4/7GLfxRz7ykejBxGXjpm1paYnul7YRwPdTP/VTNm4c8EryHZnMPBOXDUBkn2/6pm9KO7z4WZ4zUASAeU5Ucbf8ZsBnAAF/BCs7QMXdoHNl5tda7l7urhfwB6tGuw5Y5e4ZfgeYShsDMXpnzpyxLovQQkn/IfCY7BFXLVnJu3btMvX19XPHcXyhAJBjuNvt7Oy0j2RfofcAwNMD6S4qjlm6JO5mXYhFi7F/ALyYDMlCWarTOmffYAz9zNNOgVOSWVZXrjDVKvtWLdCDaxK2EHYsBtAAjjHtQuIYaSdkuI9jLtYWKUhfUiWSkFH9xD+X5H6wgD2JDGFc42Rj8yDz2Jf1wa1OaTayolcJGFeIKQNAMz/EHI5NTiv+csoyqvQ1MhVmNysVuzaom4aQVUnF5Hpooz6fBp0HrHZVRuj4udZqUypAy1oxfnfSDArAMqYS/X0dCMSqUj2kN+FG97spUV3ikHXIHXshkFlMjKZzSddJGHydflenlDF8QLIusJUxsJuMG2yqLDENYmevKHubmxhn717/aAEg64FbC10fCz0/qiog3MACAL/3e783ZwysxySAfPjDH7auZuSpfuzHfszW633ve9+70PDmbYfpQ0OwaI93BooA8PHO79u2dZg0x9A5No1FKw185TtJbtEDWMIohoBarL00EAdTx4IFUxeLqwO45QMAnat227ZtcwHWgDGMBbQQI9sOZhLwTExNIUafJwfCMXytFcvNldvh7cPjYRbJCudGhIYX0pnDvRuz3kiCBAzNJYlPgzWIybIk5c0sYNssrTcSLjaIUaJaBrGCflmzzobKOa2/tDGQ4OHiGNO2k00dA4BVAmHKHU071H4G+InZQr8Q3OK+MQ+sQa7fAABAAElEQVSUR3Ml0hrkQk+r3ALYIUsZ4LVFbBoajcv1GwFcaZONqYNZxV2KCxwv+AM1DtPL75bn6pVLzbo6bdPrmZkHRvcQim1VaIX+NsgUX3J/yuxoKTczS5S4pBOZ1H+0B+PaVLVKUizpsXacT6yySfsCNX5j0jK1kTCHTsX/TYptbBR4Oy4GMQP8MrNLJRgb85d5m/M/+n9XPZmeFxTrd/r6uIDfmOL9quYAIFn025rDiVo5jeb55kkygLh+WY++7/u+L2e0ADbEmT/zmc9Ylo7ybTCEZAEXesPrGvbXymTojHNfu2d3TPG5sBkoAsDC5qu4dx4zAENH4gMgzWfoAF+4BBZrADUMYLXY1P8kA5hk6mJj41gWIhYmB+iS+3On7Vy1fo1KFiqOyQdAujZZ6F3FED4rdLGjv1MRANhSXyUAmJuk4foGo1yMgLCG8uUCQW7v+c9Jt5q/h2VdbobdjGRsxjTy0Ac8diXcOYkVvvuYvisFbNZIJw4XJWLCxBQijwPISVqMTWJffZVRi7FgHJiMZ0w2FktusXV0E+ygfzwxcmngj33uqz4vsWknruW6l/3j36GknDcuhecWN+2FoeTfMJP4wFQJHN4W2xiy5TNhZpFjXLZt2vGcV6iOL7GqoW20lRbTCGu6taXS1CvJ48vnBi1rl+y3rhS2NPlp5n2zEpkAgGsFTEkwOXQpO6e+BM97xf4V+neb3mP208UwgLiA8w0dyfY0/9VLL71k18DkFgBfsgpIcp9C34fW2ELbKe4fnoH4rWj4uOKW4gykzgCsHwwd2V9Jhu5hXMBk0RJTAoh0jGLqABb40GcAcau6pIp8pBDcnWwIxBGXcuDAAbN27VrT2dk5byQcHzo2uTMg8/DhwxY00lYo3ih5nP8e99XNuykIZ3YnJ3TsH+Neb1hdpbgy927+8+h4blarvwfg8UIky3R9U6V11/rH+K+bVKItZgvVoYW1StqosmtP942Y/RcHbPwdEjII9W5pqbYu1d1r66xWIscN38m675Lt8L5fsjkxux4pTwf4jekLwm7G5G0Ax7Es3Fa5p2PmixOn7RcD7gCt3oArlbY6GubLkPh9TEEJBqxeGRcxt3js998pxjYUC0p3vqu2WnqAJGWQiX5CVTpsrd4AogdshwyQt2dtjfQSJ1X7NyvnQ/a6k3/h2A9srA81sejPF8MAPioX8KIHvYgDfQZwEYcXD8ljBooAMI9JKu6S/wxw1wb4Sys5BPhajAuYdH8qaBBPh6thMW24M3AMIIHFsGtbtmzJ+844BgBJ0gD8IYC6YcMG113Oc74AkIsd8YO06TLp8gWOfof7exP6fd5GtOAu3MxeuLxN9iWuwJBxkRuYCF8cW+Rajl2QKyiDEbF7D+Lu4Vh9YJqNVRcBgF2cZR8BO6dmQeEbl4Z0Mb9rkCmhggRxdrsAhUo88Q2Nw1gWLILbI5EM4E7FRhKXFzKyaNNYSbd/vdy7MVuo9N64EkdCBt6JiTR3CGjFQNxCwHwwHFGg7N5wNjrjvToU/q3Gwg2Qarl9957Z3lppdkq0+c7UA+vmBaRzvi7+L21OhgL3AbvUFscfVJygn3xDGxtU8cNlHAOY3/OIE0DoY7EMYPKGnLaeZisygI//2wmv8o+/72IPb8EZ6OjoCAK0xbiAEXiGCUNXCpYOdvFhACBjQC0fsIYaPq6LfM25cZP949amPdzSW7duDbp8WNAWuqsF/J0+fdoAUF3FkHyOSzuHcwI362uWSjtLhepLSuUCxH2dielqUMD7TWWcWhinKyGQDMaDeC7cYyRKoNHnjJgwMjMHh0dMfXWlBUuILae511bLtXwp4FqmvRu3wu5fy6BEpGdw5SIfEzIAWCyBo7OxUhUiwscT33ciUX6uSqwc7uMKaf+VK0nirDJ0/ZhCfyzN1avUfxjp1CpJIFa+jiSOqM0nN3N2R08wZrFEinaxhz5blmzHjj1y0xBzbSNtE4qno5/KcgHtQMJSVelS0z8eBq4jATaaWrxUuJm6P2rZvuT5dMp9e1E6gmnWKEB6cyy3zy4JOuPuJSs4lBziJze9vL1JIQcLfJ9pnS/wGetPofInuIDTbsoX6OqJbX711Vet5qnL8k0Lu6HSCV4ld2P+xAb7DHf86H+dz/BkFIf+eGegUAYQFy3aecT8OSmBQttInhELCe7kzs5Oq1qf3L7Q+ySLx2Ls4vQAqbF4n+SxaX2RPEOso1/VJJ/jkm3duXPX/NXRPjM2LcSgWDfV1cjZBTdYqNoD2oBkjYaYqCbpT7tKEzCFXPSIrSuTfAfJF8h47JTwLckKuPWGJd7rDDmTG3fCrsDVii28Ppbd3x3nntfqon7iKhma6dZaAwBLv6hzRAaAhQEgIC9pSK7cngWFL4oZBPxxYSebl/Mm23ZAmazX5FaOff+0y74xi4EojovJ02Ri4cJMWcOqpWZAbFjISB6JAcDY2K3USiRLF/mYGAC0rtjAwEjaORaJW+wbzZ5To3AkyRtDU0vkir1ry/INjqf/nuoUVxgCgM0eAKzX3wOZxEckBE10wV65fkM2oAz0Ou3frPMlxvBx2GIYwGfFBeyAHiLQ1PlFuPpTn/qUDYVx27hJ5u/sh37oh2y4zX/4D//hcUzz26LNIgB8W3zNT8dJcrfGXVs+5ly0mzdvNn4yxcMAQPqmwgd3zyE37UJj88EYCxLsJIsRlTkWcln4x6b1g2QOyTOAP1/YulAGEEby//3Svgz4S+tIn+HuDBkxVYcDemsc47NM6AhmtAQz7VUJDI5NTNkLpWsfMV/Enat0YWxQViQC0WjY4cpFD88ntdqbagQAw5VLJqUBFrOkSy6578R0Fiwkt/GeesYxuzUrwIybj5hC3zhPGMxtzauUJTtjJmeWWXexn90ak84hi7YnkniDPE30e1NyzPkIe1qrJI2BSAUR/Yyjdn0k/LcLML8YiQ9c5kqjpPRQqpuGGDNZQlBpwNYoG7eyrMQmt6AZeJ1saG+YNyM3GyPK2A0ZQA8h6O1rasQe3jZvUP5t1oYDILperDoMNdVKqP7xf37bdnfII33mppO1JF8DMD1rDCCJhITT/PZv/7at+PFzP/dzdn3lXJyxXuLFKdriZ6AIABc/d8UjU2YgxoDkC964W8WlCkgjocK3fNvwj+E1cir79++3otEIUcfGmTzWf0//3IGzEBGXSLvoEeazIMcAIKwkrt89e/bkZE7TNwAw3xhAQCmJLScHw0wTGYwxIBHDAaXLFOQeudAjHn3kcm7q5F3VGb5EDNeQ2JOOOnPAE3gmZq1ZcXbEceF2BkSR5Xvt1rhcd9nF3n0HE0tF75gwiOvuC2ew4tqmPm/ISgREXHxg2j7lYjZj9YWpkXvQOzfagBkjcQNtvzKBg1G5aAF6/Sll7IgP7J4VPU7rPyNPE47rrBG4NpnqWGmHC5rGvlkltyhpKGRk4YbEqznGls6L/C4GU2r4ur5aq1aYi8Nh4H3LY5A5plXsGq5+gDXlBF8PxLpSVaY/IMgN2L02lh6LuYJpmp60oRAHL+XOt63xmwLS+Xx7S4V55bx+5LKNigVsV7Wax2FvZQbQATykZn7kR37Eeml4JsEORpC1mzWO9RuSgPJ2RVv8DBQB4OLnrnhkgTMAeFpIBgald4BaZ2enfSS7AEQlY/CS+yTfuxg9JGnQ+UP6ZbHm+kc3EKAKW8d55WMhIEeco0tyqaubLxpLnyyMPGLA1YFSLhDnRsMMATVVw65EAF4YJLWWLzMXhsMAjBjCmCVj57iIkxXLAwDG0SSQAJLIaAV4EHc1qXOaENt4vj8rt5HshyQFhJJD1iQXaF8klqyrsSqqD0j84MmruYDA76tdwPWWkkl8I+4SUWoez3fU2+oSbEeOhe8B9opzJjkDhi8GABdK8PCZRn8M7vWtifBNAW78WHILpfdidXpjzCvAOZZcsirC8JWKOSRudc/aWhvDek0s5DUlYPDAdkdq7LaKHQwBQGr1Xki4rKmhvFUVQO7od3YyUEmlaeWMuZDAyTC+MI+DHlD9Z5sfHzAplAFkPWBdfZZiAAF3COgjBs2aBwgkdvs//sf/aNwaCavpXrvfePG5sBnI78pVWJvFvd/GMxADKAuxd9zlAf7a2tqC1L5j4PKdYhejR/Yw9XiJrysUQPp9AcYobefAH+3maxzL3atvLGIwdiSPhKRonGuZY2kjzQB/MIi0t/G5583xv/pS2m72s8mIG3S9QE53JEkCYBa2GcmEhMFjsxIBYgLKGyU9c2IWYCGzcU1C0zycPS/2EI0+KnG4zM+h0Ts25o/E20YlcMQA4JrGWgHAdN1D+piZCoNHti8koQKAjZm/lQzkZJm9nco6Biw1CxhWCRgS00fWLS73G4o7HA7Esrk+Lw9l58p95p5rJH8yGHH/rhV4Ph6JrUQwOmZX5X4NWYdY4ZOSXAnZ3XtZpne12OkmhQsQK8ocla5Yrti728rW9fy6XkMx7UDVGvH2zH1J1Y8Lsz+FcmWlb5MwNnIuh6+OKcavWjun97dK4SOZmFqVI1S4aPOqJeakBKBXSBHbD43YXq3vTKw+4SY8CH95VFYoA8iagD0LANBdP/yYxe/4ju+wY//4xz9u193/9J/+k03eA9QCEou2+BkoAsDFz13xyAJnIKYDyN0d4K+5uTla8QIAiDxKPubcoSwqzz//vHWlAqBYQBdr9E0s4bvf/e6CM/GSfVPTElf3unXrLOgNjckBQMYdAoDEDrrkkc+fvJkTg+e3W6YL67lINQbqzHb7B+S8njE3Am4zdusSAxZjDwFuYeZRMVcCPzED5FLjNwlQucyT/MG57VXmMgwOWnojHiNDuzGNO7bfX0aGbpjdvDYQZv843iXG8DrNYm53sArgmQopaSwggGjk7pStbkKiChnYgGTmA+CxXExZsnycPwbYxuHrYRCG+zpmMY0+QNsNr/RZsp1VJbngB2DbpJsBKnTMTE+Ypfqb3NhUoeQaSqhN5bB2ezvnM+KufUIZYN5CdjUSszguOZhGSf6QJXxa83KgNxvjNxaR6blqK+fMqNpHtcrLjZvukczvZVNzpTk+C3KbJYPUXHrPlsFkXcMDwbrlwGDyubS0NMrsJ8+vUAYQAMga6IvyJ9t82t6zxjr3LvP39V//9ebP/uzPzHd913eZT3ziE+Z3fud37HWgyAA+3DdXBIAPN3/FowuYARbBNBcwoArwxx88unzuLjCtadrIh8ED/B05csTuS0USB5zyPT6tb4KOYSmJS1yMGLUPAFngAH+o83d1daV1N/eZG3uSPXQ7UMeY7GFiEUke+dLJcLVWKjkcvRyOk4NpCtk6Abwk+PL3bVDMVQwATt6LA+8YOCS54kKgegj80c3Ru2ZwbMICIjcmQMZqxRcSVzihi/r1lLg7t+8qgc9YIgIxXtcTsiDuWJ5hgy5F2E+SYGLn1yGZmd4Ig9clZvaUkhGQ7kmzF8SODipBBWaUzGQAnSVrBSwBiiqXbFor9d+yEpu0Axjmc2exUmrMTcyFC/gmwxdgR5UV3NtkhzMGgCnSNrhqiQUlI5xKJdaVK4DWViXha2VQh4wM7JDZUIYAALTgMBDTuL6hzKCDOayaxwNjWeBHP7iBQ/qY65ToguxRo+pO+0khHLfCY+Zf3tFitm/fwMfWWK8Agv4DUMZ71gFu8IhtSwJD997dANIYN0GFMoCwaYA/t45kRlXY/z/zMz9jktm2JGm46kyMi+2f/exnbd1yQmN+7dd+TfOwuEQY2FOXCOeIA9bxf/iHfzDf8A3fYL71W7/VDA0NzYHEws6muLebgSIAdDNRfH4kM7AQeGPxYrFw+7nkDDT0kHtxn4cGkw+Ao/3jx48bGDZAEcc480GY+yyfZxY6XKy4HPz28jnW7cNCzvkDgpGOIR6RLOeFzpntPNIAICLZro4xQq+ArFfPhzMBVlhU4EaU+7xaAC52oY+zg5JxC4ATeuGCe/5GOH4PnbhYhuy6piqBz/DxG7T95LVcho5EC5dsQTZn/+27NhuZBAJEi+9M3rdM4bAkb9apOsnxK7nH+7OzTvGBsfJzHZIqOanMz5DVlMzE8jNMg84/BgArBOpiBpQjM9mJECf37ZCG3bVRAHgW4JcK7ODWpm0kXtYpcQFXL27+TBWMzN8psYkkYoAXFYlqn9GEvKdjqPVbormkvvGkXLlkyPpZsisEAPndh4TBK6XxZ+y4kiM2VpC7J5JY4uHXeQdbcDgbJ8hGMo23tVZJpPuerYF8WG7lNGMO0tzVuInb9bt59cLQPPFnPP8u+7pZNYX/xbamnKZZLwBgaQwcf9OAQB8cIn9FmAmfsR2G0IFBXmPciLKW5eNaJp4ure+cQebxBjBHLWBnPqD8xV/8RSvZ8nu/93tm06ZN5ud//ufN133d15kzZ84U1LcDu//m3/wb6xlxfTGHzAW6rV/5yleM0wdcbElQ1+7b/Tl7ZXy7z0Tx/B/ZDABWAGFJc4sVd8S8BgjBgsGmLaSh59piIYgxgPR76tQpMzw8bMFfMkaPRSt2vOvHf/brBfMaELcYo2/OGW1D7vjzPWf64thkv5yjE8l2sTD7LgzYLFqC8rmoU7Jt6XLAAxyaRJjFitRLjNgJPnOh5yKNfh9Zi2Sr4l4ke9UldPBVkswAm9NcSZUPyaUIPPkMEskaFyMZthubBaAizGObXHEx9nEh8LmQgLJzL98U28TDN5jChoqV5sXOepuMQTKEH8/FvgCcmJWVxmNBS22saNhdeXssHL9Hv8nxJMcSi8EjrvDyrdxz5ngA2+S9aZuFffp6GLwiCH48osMHaKStNCMr/KxXKi25z1TgOPbrEhg7cyMclxnTLHS/TcSg+e0whjdmQV9Mxw+22DdhO+vupbxbr34Xackum5srrND086o0giTSdgHNfA3AA9Pl2C7/ONYybpB9cEjcG8YNLusY66EDh8ln51qGbST+b6EbTb/vtNf0RYhO0hjnr/zKr5if/MmftMwc23//93/fyrh87nOfMz/wAz+QPGTB9wBKH2BygAOHXC8Aon/9139dELhcsNO34Q5FAPg2/NKf1Cm7P2gWLhYjwB+LFMkZ7o97obEtBADPnTtntf5wQQCyksbxSRYyuY//HpDl1wvm7rxQAOna4xwBkCzU+egGuuN45lifAYTdhEXcuHHjnEg2+/33o9fEYCTZjQzwINA9lsUqQmheYgJtYgjb+gLL+vqsu7Fa7BBuP9hDJE4AisTgwaoBtJySC+XVYsYxMRuQezdmsHsxi7lfYQlLlo3kZMEiTYP7mMxb3KW+mHVaP8ns5uQ+NyPZx+x7YzQsg4JrNVZbmeSamHu7S/IyMQC3ELs4EtC9Y9x1+v5jiRh+ZQz2942bj5AUC/vhyg5Zm9i4K4EYvzolvMBsIt6MGDQP32JM9VWvisu62hXmwdLl5pA0AJGU6Um049rE5b1T5eFwC//v7+twHz/0M2sk6yMPx3Txd4/r8wMf+IBdhxw4hBHkNWwfz4TVfOELXzAIKhNaw3H/+T//Z5tch3ZeZ2enbbeQQbK2ErLCeFhfycglftnFH7/00ktzzbHPBz/4QfPaa68tCgC6a8Vcg4kXzM2HP/zhxKfFt4XOQBEAFjpjxf0XnAH+ONMYQD4HgOHyQPaE14UCoRgAJA7uypUrlvkDZKWZW1gAgbQVM2JnAFm4NFj4MI7JNwnFb5v5QIQa8IjWnxuHv0/sNQDQMYAufpBs6U4t5M5g/P4+Ev9HLFfIuJDHSqSRwOEDQJ2OXH3T9kGbD1T14FSihBrApUXgpFYBcjCMe7vqbCwe7sTrqk6i4VqDoToXcQ/DSvZE4usQOEZGJmQLuZftdi/bmHYAjA40cvEn9g5QSKk4QCFMz7XZRJNGbfezlZPjyJSnCwPYDsVWxrKXO2pXmu5AFix91a5cIgCY7DX7Hq28mCHMHTK0GWNxne0CWUOqkBGyWEJF5wLi0dTwDdlq1fj1AWDNquVmveZxTMz0lMIgvnoxPc6Vqh69gfJvbZKNuSIA2Cl3+ZJ7U+bCLUB5Bpi36zvoT0l0eU7af7ipXRLMy8+tDg35kXzur1usRTHXMmsDcXNf/OIXzb59+8zf/u3fmu7ubhsvTLgI61G+BuD7gz/4A7sWEp+Hi/c973mPOXHixFwcIDGBvvG+t7fX/6j4+imbgfjK8JQNtjicZ38GAD64aHl+4YUXCgZCHJfGwCEc6hIhYgkaDvT5C2narHJHDUNJbWMezujfATH3WT7PZ8+etXE7LLzOFZ7PcW4f+oUB9OMHAaa+fa17QJmi6UwSDuCYi7azcZU51BMGKa4Cht+fe01ZtHMpCAR3mSubtq87Ny4RcNgmlzOl2QB4lJ6DNQRIJePFOuVGJMEjZI0qHzcUkThpk8RJTMS4TQkYse3t9RX24g8A9kEw48F9vE3xhQBCxg2wvZlIPsiUp4uMXwkiMQBYV10eBYCheXGf99tSgO5d7jPu/hjAgz0kSzZkhAWEjFjCiymiyW7/erlmQ6LixIySZRsyRMJbBQJbBcpHBfrOy8V78FIGiFLm8GIAMK9VqMHQnXTACgBkTEev3rbhEn7fdxKZwdViGTsFfrnpcuBvkzQEyWZ+nMbax1qwkHHDCDvHg7WR4/7kT/7EHsY6UqgW6ssvvzzX5Y4dO6wKAkwirt53vetddhs3+L5x05v8zN9efP3kZ6AIAJ/8d/C2GQELD+CJxSjf6hnJyQHA0Q4PFjmMLFiCjffu3WsAWDHjGBYlxoCbIs1g2JwkTbLU0GIAIC4SxshiXMhdtz82xs2YcUcz7rT4wS8cv+YfkvN6s2LwTicYOn+HmAsWhitNmsQdv1EJFId6w/p6lIdLGuCQWDseu9trzeFZAWVhBlvlgazZjAB0RhQaAKvLSbIZ+z4Uf+Z2nlT2acy4iMeMZIeQ4T5urZ0yRy5lGScSBpokMVJfXaHf6YxNOIFJSwJb1yZSLjEDGMds4G56/B3HkNUKqxWyNSqc23sr3P5C7uE0Vsz1tV7gMRb/d0dSLCHj2BMJ4Mm58DlMdr/qRV8b0Q2DHkmDBQzZA6jrhFFOrlE3IZRwSxsvYA+NQGc711TZhJ3DYj6fb0MzMGPfuLPZvXxszwvduKZ17GvqsZ21JKQ5mnZ82mfl5eUGIIhb+Ju/+ZvtLiTKuZrtfMBal2QF09oqfvbkZqAIAJ/c3L9le0676+NuELcvz7gmHBNX6CS44wBDJHiw6LgsWLJq8zHaCLF4BF3D/NFWmiRNoQAQ4IfbBVcMwDLU70LjZtEGSGIwp7z3jSoQXzjW53+U87oi4gZsEFg5m8LguQZgTVw2rfvMf8blFrNLg2EGCfHks9ezjIzwkmXZHNNGUP59gX0EoGHqqqmcIRyIJt6VWbfvFS/bMzkOmKQ0dtLtBxMZk7bR8KLbiWNLMqtozMFA8QCyUu0DkIkbnWQZXMgwWENiNfvlag7J2zBG3OOx8nVU6LiakuDhzm9Dc3VU4HmVQFXMBiWvEzKSK2Li03xXqnGSeriNa4y49Vfq98p3RxIJkjLEYXaLEQQUblBySMiNyzHsl2Z8lz6rSNIT53BMjB+gcSxQB3qdxkB832pl+DbocWRWMJvf7plZTU2Spv6nHbku0LQxPOxnrHv5MIB+P8QFLnRj7O+fz2vCYPDkvP/977cyViSH4GpGbxVjHX3llVfML/zCL+TTXHGfJzQDRQD4hCb+7dQtoI+sNe5ECWbm/WLNLX4AKSRQjh07Znbt2lWQIjxtsJAmjc+I+SMjL41hY/9CACB3wA6ckoWH+3YxAJD5Ajzy/L73vS8VPL9y5oa5HbiAcY2PxdjVrbhvBiJfyWBE3oUg/9N9WQCXnFMYm5h8y+aW6mh28CYBmMOXMuxiUkYGthBB3pGxu6amuspewK+qhrAvhbJxwfaRjwmPf4Oqk5yJgGPkY2IAMrM9A4CpgpKshAIzOy4GcINc4bCEyKuM6nvsVwINmb/I3xyLlJ9rrl4VBYALCTzft7WV07UFkU65FHCl8j23VK6wrFnyO3fvQ79HtmfYweyNAaCexA4AMtnn9/RbJ0H4VIpoeY3i+EK2vqncZuSmbd+gbWeVVbxFWbsANuReXHY0Gn9JbT/XBgzwHlUHOaZM6OteHOBWiT9TpQT7xp2r7djdMY/rmfXD3QTn2wdZwMinPIz9+I//uNXfQwOVdY0YQNr93u/9XutR+dSnPmWTQkhK40GCCOvod3/3dz9Mt8VjH/MMFAHgY57gt2PzPgMIaAEEkT2L25dYuDTwle880TYLIJlwtIs2VaHujDQGEJcy7lUAHoAyybC58YXAo9vunjlfhKhxkziJFtpcDACE+QM84kJOytq4/v7q8BWr3UbFCCRLrJ6b5mpaMh+tVSWqU/rArFgqEVnq7Gr+pnW+sFKT05ICMSwD6bGDDWUkAaQzKvS9QTFPB3vC7t9aMSwxW5FgMpP74vgNGWwh7t/zQ3IDDmXrO5N0sVrJGsjb4C4kRtEHhX57C8nHUJItZnUCbt0mLKGS2Z4FOsm2KpV8c+biYKoGIlmwzN9u1cEl1g538h3VDCZekqojGamf8PzQV6w6Cb+VCxEWbiPsYUT+hd9kyKjh231z/u8GoEdIQYuyyit18zA8cttWYEFI+vLwpH1QIQQtwdCZIeAcshDgRf+yRZVDpvR7P63SbUkLufm3KblpSPOd5kYHrNdprC36+/rApoZkk4/l/WIYQKRjHpYBJLmOKhzEDjY2Ntq4v6997Wtz8dH/7t/9O5t9/MlPfnJOCJqkk0ehP/hYJrLYqJ2BIgAs/hAe2wwA/ojNg6lzsiyAr4cBgAwWIAX4w0XrsnMLOYkkiGOcuKe5oC0Um5gPAwjTidYfIs++bhbHAjQLMRZekltgTkN3/jBFXzk/aGPk7uoCR8UFKffNdSOPmWKlPJZHIMIZiRhXldyAmxKwxAWU2DvYqKWqb1q5YolpviOwITfvhB7ECo5OCYjMNnHzVjj9lLi9nkD1DvonAeGM5/51Y3LPuNjORbZzvO/Sc8e5ZA36R6ZmbHJacYWrBApXWlAIGLwstzRl12Li07R3YwF5mSFV34jZrQXi94Yi7CpMYLe0FZOsIf3BfuK6n9Z3slNVNqzgstDVPf2+CAeg8gmu89j414u9PBkBeCv1e4jZ8HRuGAL7lul3UyFx56ayJYb6zJIvRz3a3F+yVL+ZJebWxAOB0ilzqeSOl6iRG6OIfMutgFBzpSqyhBJH6D+pDdgscNam7x6h5vM37+q3ntsXxxBbeC4BVuulINUgdhWx7DTwB/Ajs/3+AyrMTJoPvUkAcLEM4MMCwP/yX/4LUxU0bsx/5md+xj6COxU3PHUzUASAT91X8tYZ0Pnz501fX58Ff06WBRBDfMhijbtZjkcCZbFuDZ8BBPwhZQBoA6SGQJYb70IA0M8exl3i20LH+vvyGuBMnA0xfwDBEHv4345ctVmoyeN5X16yxJwfCMdxoSEHCAIUzWfJZmwyQ1qGLOCrs65MLsv7ZkvTcrNUV3nACAkNY4qBA2+2Va8wl8TqhGxra7U56iVPJPfb0lJjjlweSn489x73cax6B+5jBzD7JNnCwxlM1O61dUIoykZWjCMgGlB4dzoL0NE+jMnLwO7F4vdguJLxga5/nnFlxjJwAaxp4I9jYT9rVpXa8nC8T7PnVR6uV/GBAPoyAXmATuUqZGzEousmql5MnJOI4QKuKbEG88brlSuWG2rx2s+1HTZWfy42FIFKKqNCeNUaA8ktd3VTQdm2u7wW29zRVGtO9vqVVbLzStwh4wpZjFmkUseRK+mM61r9Hi+pXW4ccM8Chk/JzXtDMaIkeqSBP8ZA9i6Zv1iV2GJcxbiDB27ckbtYd08JA4Q+J2bwy+cyrPP3v7fDAvDEbo/l7WIYQCcE/VgGVGz0mZ6BIgB8pr++p3PwXExIfKB2Loyar3KPBAogaTHGcWTnkgXr3KqLaQeQ51hIXNK4NQB/Ifeq34cPHv3PeU1gNAkkZL4ls4fZ7gAgoJM5ilmyygdAOsQe/umhy8Gm1qpyx8mbWTbQ3xEWKQZQtig+7VSivJo7npqoNQJA++W+TDNdgxUwD+O2TBdk6pfOgoRZcMgxE3fDIMC2GZ8imxiS1rf7DAAWMoAMrNn+i1nXMfPRrkQTxo2ECWLCt8angtm7nYpvfKM3DFDXq3ycy25OG0fnAtvXIE/jxZwl22D+jQm7l91vbEpzj4oJkY43xrLgaa3kcUKl/9CFvCVAxzyl2R4Bw5h7uD8hheO3QWKKA1z+5+51byTu8N50lr12+7tnkjrI5j3XPzavfW50rgZuRviZlckdvl1izsQFOjkZBKXPJmIQEXy+ckuJO7NhEfxmvn1PmxvCY3/mJjCkXpDWOWuNi71O21787O09A0UA+Pb+/h/L2ZOZ29PTYzNfk5p8PvgqpHNfmoUFzQG4Qtpw+zoghmuVLF3An2Mo3T6hZ45lUfVlaNiX8ZBAgqtl69atqQCPYzGOda/tB4n/YDmdALWTVcDtnQYAz90YVY3acBLDgABMyKgMcjySYECMWMyQcAkZ4OpM/51UZpJ214hdW6aYxK1NZWINM/Vjb01k0QZs1amrWWmVZD8wkGcjySf4HWPZx7RHooVvsGqXh8btg89hIImz6xBQqhcoJOP3trKPHVPoyo35beS+zp5P7ufuXXx7KC7NHU0sYMi4v4hpCwKUQuCPNjuU+TokFixkkx5TmtyHtpOuWH8fMoBDRsbtBZVdC1kSHLaULzE1Amr9d2akITluegKSNiF9zBL9BomZhdHc35t7vpSROzg7B/SxVgDzqFzTm0gmEcjE3rehwepZhsb7qD9fLAP4sC7gR30exfaejhkoAsCn43t4S40CBgxQlQR/nCQAMObiSZsIXL4wf3V1dTbuj/q3DwMAGQNJJMgjwFCiaZWvOeDGnbhLFAGYEfMHu0lZO8e8JNv093ftJPcB6MIi4uLOR4D6j/f1JpuYe9+qi+PV0azrbW7D3IswAMHNdSoCDjfJxRYDYFvk3j0c0AacEHioLl85L3mEGESYGnT0VsllSSWOfsWLpRWE6JK77+zNMFDYuLpamc+5F/S509YLYgJ7IwkQaBeSOQ3IA0j5YAr80qmqEwCZvaqTiwg0rlq/Xi/QOZYdTBZqTFuRtmOVWSoljRKTh2F8PREg1S5QezNycxDSXGQOGVtaggfbsLWqpBG78bicEoeXOVKl5ZT0EgKAyL9cVDjDVmXx8lu5Indv39iU6VNAapVCHXpvpTPdNaoU0534rZDhvGNNpc043tfju6rdSIw9Bxzfz7fVZFjF2bjEcv1tYPxOP/rO9uwBb8KrQmMAuVktuoDfhC/mGe2iCACf0S/uaR42QCcN/DHmQhlAwCKAiGwyJ81SaBvJuaJWJgAQbb5C74wdcGMhBvCxwJLty3vacyAv2Sfvk8cm9+FcYf4AuskqH7SbBM5khP7FG1eSzcy9J/vVjKZfFJukZxaTP9m0utIciGT3ok8Xs8mIq47jSHBIGtUWnGttW6vEdm9l4gfJ6G1SBifAg1gzKm1wYY7ZyuXx7cT9+TGBybY2CEAeCpw/TCHu5WT2M+LVlIubURkxkmj6FQsHOGT/pG0QgD5zPeuOTW7fJPf7/JrO2b2QhzlyOcyQ4saOAUBqNocM9rBngczv05JTCZk8zkFDU5I4vZCRcZs0SvGRrMTv+bpuCE6l9I1cT0jGpVVhEMOzvzcYv7Uq1nFd4tkHVDlkQ116mEDjyhnFtS4x6wSUD13KAkRiBE9cG7UsIALR71mnONI30QplAFnrOMbVEn4Th1rs6hmYgSIAfAa+pLfSEAFN+bJ37AcgIubFZ9YeBgCSWEHMH0LPAK1CDXYPMAbgA/yRjYzLNp8EEv/YZL+wiMjQrFy5cg7o+vu4Pv3P/k51f9eIyVomNgNwhH4azrWx8TGzTGMDhG+X25kM3lViOZERITAe1yKithflpiVp467AGhmxPiaIZY+Wi507GWEHkfiIaQMi0xITnkYm5LQXe8hY/PHA/tyaWGq2iWWEjBkZHTfj95fNxcsBDmPsHnN4w0sI8efUvSaTNmZp8jU35VLmgVEjFhc5QLBVAtAkbFgAq7kGwFaujMvLlInhixkgLWYhlyfHwD7G2MMusYcXVN82ZBV27OkAkNjJGDtI6bwQACSzlgxfAF+rkjYYZ5/m6tqIBLPF9LVrHkNVPmLVXO4tUVUWkfy4dE8LdJ+/nbkpKlOYQc/I/BuRVYpZbSydMacEgpMwefPqcn02o8o3t8xPfSQ91CM0b4/i80IZQNg/rNAb3Ucx1mIbT/8MxFeZp3/8xRE+hTMQcoEy1HzBmwNEtLV79+4cZo02SLgo1NDmw32MNEtaPF2+7cHksRCT5ewkbvJJIKF9d6zfF0ASGRraTKvy4Y5Ljvm3v3xRcXbpSQAvqh7q/h4vQWEoy2KgidYvUHVLpa+cEd9WIXYD12KH3KswdFys+RxgyAUWxnFIlSFWl0uGpz/M4rTpQh1j1wCt1PwNGe7LmxH5FWLzYOdyq5NMK4NzhVmjK/1qsV/IrwAacSMnjdrBsfi3CgHMM33Z+UoeT4LL+f7MhTW5zb0HuGBkyGYSbXK/p3LNNRmt6AwSL0miBiXfbmi8uMivKdEgZHwnseQd3NcxgLdBWa+ugkVaHza7OQIAr6v8XciohRtrOwlM5Z1VxnCFfncrVPFjmTmpSh+APR6+oeEXiivEFZtM1nDHblSNa24YLgzIk5CTlWzMZrGwb3hyM3yvu+QWxnXfOzpfgbKx9IG50n9LLucZUyWpmx1Vk1blgPhhEt24uY2tfW5MD/NcKAMIAOSmspDEkYcZX/HYZ2sGigDw2fq+npnRshACbJIGeAPoAGZC7lK24VZlscOt6lynri3aGB9PZyDcPslnEkdcYgX9kqiyWGM8JI9cu3atoAQS+ksyecwRUi8s1BRV59zSjON8APha94AutOkuRC5kMRfedrlX35itvev6wk3ppGAayleEy4dpvMvkHIOlq1UWKpmyJGQQK4dG4C3p4sUqfwjrRLczHoL5Y4ZbNc2oPHFbzORKyZ8cma0eAhgis3eVAAY6htfF/HU2VpqbF7LZv8m2miuWSVw6C46T2zfKPQ6TFLI21de9ejt8POOJATTkcR7MSH9RTCmsIRnXd6RlCKgdUFbwBun3nQ1894xpnQDVkUgCx0Ls41AkNtDKBkXAaYXmOc0o0dZaq/hObd+rmxMEvAekgYiG3plZl+5zqrF7MwH8XFtrNBd9gZJ/gE5XkYP9SSAiwQkx6Sq5aV1Wr2vLPfuSPzuU3Yum4yHN2/bmVaomkr1B4YZpV3uVRKTvzWUXf+O2WokbTlsAiDoBccqsC4DBtAcg7FGAw8UwgLB/j6JvN2/F57fODKRfbd4651c8k6dsBhzAAdylsWYAIsrGAfBI0HD7+6fBZxyfrzltvq6uLptYgaQKC+lijTE6iZtQrGOobS4SPpAjE/nGjRsWSKbNh2uH4/wx/96rF92mec87VaD+jYi+3rCEnUPWLKYllhkMo5LJgJQrM0WiZLdEiUkeWSuQUyMpEVygxJuNiG28PnLHrFes1pEE+PTHskUXbt/962/jdYti7PzawcntyHmc9tg7EjNOJNzVMFzPramxGnjEFMJG+rFnpWUkBYUZwOmJLDhI9s97YsNiAJA4wcsRBrSitETsbbq8DuLDjWJmdUXX+JdZ9pA+AeCTcufD0lI3GVAOcEyz6xF2lSSMi7M1ltOOpZ4xcXi+4apF0xAGmfG9oMoluILJoCauc0CgblCgsqpspTkcyFi3NZv7w8AfjcGQEdqArZeLl98cbOChyxmGdn1DWephuJlhKnHp8vd4bLa+LztTLcTZBv3eyVI/IDadqjcYDPEnX9qp88mCXf42ibfzH5RM4z2JXQCwNGAIcwg4DN0Mu3HwzLpDP6wF+Ro3lsVqHPnO1ttvvyIAfPt950/0jFm8WAzTAKBjw9DAA/yFAFEhANCXj6GUGsYYCgGQ/oQRP4j7mbYWE1jtAznEnSnzltRK9Ptzr30GEPbnlbM33aZ5z7gSQ0ZpqyQg8velHissWchmZuKxcWNi4XB7IqCcJqLMpWubBJwpwfZAFzQAGvV7HRuzUuAlZm0CllT6CNmW1hpp86WDJ44BgJ5JkY8haaJVrmnGBcNYiw5eyjwKz5p+xR/6lVaSY7mumLWYDS5QPSS2nfJjlOa7FpgDgNfg+LQFf4BvysmtIlDy/j0LFhtryvX9GLn3y8CQihnlH+7OTPxohcArAs+YNuvzjPFdgbMQjoZd4zsmfnRcgPO2mLYhAXwAaSijllZoI2Qb5ZY+puSKNKsXI30uAA5XV6yw/fK77baC59nfBiXaugOu7A0ChvUKBTjZl9sngtHn1E6Z4gBhYg8r0YbzJgP5vMItAJnfuKs1B/wxZv6uuRlMuyEEYLIO+eCQJDQHDtkOCPQBIsDQvadtzN0Apt0U2x1S/gMAPiwD+OlPf9r82Z/9mTl9+rQd03ve8x7zC7/wC7bSkevyQx/6kHnllVfcW/v8nd/5nWahCiI5BxTfvOkzUASAb/qUvz06BOQB6JLG5yxgyYxW9jt37pwtNE5CBQtiyPIFgLhlyCB28jH0jXG8W0xDfaR9DjAlUQPZmEKkY/y2nAsYdsBV+cgnQNsHjp99pdvG5fntutfPyb0bY/DSvhN3LO6yGDjsUAbnuUhpNxiS89fDsXHo6R1KAWd8LTB77bVi3lR+bmd7rY2FS1YgEblk47PceNOeSWiJGQxRmg0oeYPH3q5Gc2w2u5asXhJW0IiDyQJ4tigb9cSVMDvYJfdyT0RepqY0noABMIu5h3Efh2LhOC/Eu132MCBtklJzXvhhbaWqXETY4eckeRISeK4QkAQ8wuylWYtKp10dSb/5QHbFaeelHUtlkpB16nczOJ6V9KEEXqd+i8QTVgiwv96T3ea3kXEb57Ld68XoUd6NbHMXp+kf0yJ2tUY/EWJED3nzRBzh3rU1yty+bb6tQOFn/uYBdDySxt8jN5QOHOKtALThFeAz1iluhAGD7oaYm1AHEIk7jBltVVdXx3ZZcBvA7od/+IdtOA43zj/5kz9pXnrpJZsA56+Dn/jEJ8zP/uzPzrXHmIv2dM9AEQA+3d/PW3J0aQCOyiEwYrBhCy0caccnJ4qFipg/Fsrt27db1tHtA5gqlAF04swbN240g4ODiwKQ9E/fxCP29vaaHTt25F3RxDGAl3VhAgDgZoONG1Vlh7KVZRYwA29xgb5D2nT2Eq3/pqanzLguKhWVVWalAvBG7k6a9apgYbN/BWqIm3MX9M0CcKHKHoy9Vm6+Hl4ErFzsUMzqdeHuSQm94z4BcEXyyP7uLLOJS7FNoJCsU9zIKwUi9kVi98i2PX0tHQwwLtyisdrC7EMMozM/q9d9tlGJA4AkmDBcruyTSXjJ3Fw0yLUYA4DrW+rMwUj1kOrl90y/6yzlOeM+zrJcyV0Wqt87EnGl8tsJJVPQD7GHfqxdsu9hAbKQETd5PMG2uX2JczynWr0hGxPqJDGpSQLTJC6RoTw4lvmetynbOmTUuHaGq5cbjVNKMtkqtjEN/NnkJwl9u5hEd+w6sX4w22Q3/+AH11s3s9v2sM/clHKzywNlAt8Ah9woAwQdMGR/1kk+YxtroWMKHSjkPfvh+n0ULuAvfOEL/rDM7/7u75qmpia7vn7gAx+Y20b/fu3zuQ3FF0/tDMRX7Kd22MWBPe0z4Ni2tHEmpWAAQ84VmuZCSbaxEIDDpQJTx367du2aF19TKAPIYguTSO3hzs5OAxO4GAaR82BR53zR+StksXTM4a/9Y3dO5qJ11FmX44QVyH39YgAADY9YaZJT8y7CmZJnsCojcuVtV2xciVyHuBJBkWSn3tUFGLB5PFKZAwbv+JWwLh0xYjF2EXbvYoJdHBNY8eVkcMlR55USaRkmb4kA2F1zRe7mB3JYEp8WSyDZvqZOpdnC7mHYtZh4c5mYQOIXAc++lYuFom/crSs0d2tFIfWPTSvpxMJwf1clGqQzZG6n+8so7xZ2wV8eCHy/OkrXfMnfhOPoqlYui57fRrGHsRJtGaewG2nuM6XjYvIvzEvINkvY+YRKsPlGHCUsH27lCzfv2uSQS4kScexzNkUTkHao1tEtULmrrcre5Jz2SrpRC9k35Gc6JV7NCA9I3sUZv0liWsmAP3J52MY5/sv3drnNj/2ZNRTWjwcsHgAL1YG9e/favrmJZW1yAJFn1iaef/VXf9V86UtfskCNdv7tv/23ZsOGDbZE5ebNmxddR52OEdDHkjJaf/RHf2T+8A//0JbCfPnll81P//RPF+MP7Uw9vf8VAeDT+928ZUfmM3hk01KPl0UtH1cok+IAHGAqCTT5LJZBzPEAQ0AiD4BVzJwbuaGhwcD+YRy/GABIHBCLJ7GDfpWPWP9uG332jd03f3mkz30075l6uyHbqAvicS/Q3d/vrgDNaiV/xNi/F9qrBQKVgCCguHLpA9NYWymQKHFq9Qk7QpxWXyR7d4OEi/dfzLJ7fv+83tFWGwdncgO6yiTdqtDhG9gCIeClch+/0FEvdmhS5dzGbOyWv9+ksoBj1qwYQBjWkG0ROE6LLyRmEF3DTYptPDgLIIAYqwWKcSOvFHBEe/G+fm+x7F3r/g3ErDGmlupSMVdhlq1NgsdXEgka/rm0K77txI0sK+Zv4zU6kiErEXtMjd2QdSlGbkjCymlmGb7IsSStwC63y93OzceQYhgRsT56ddTskds1lBm8Xn0eSukToNusTOyhOyvmJZ3UKnHDxf1xM7FTmce4zHGLIx/krEWZ4KUCXsglwbgDBn/4n623iS5unzf7mTWHtc8Zr2H50pI8uPFlXf3N3/xNm7AGKPzzP/9zW6OdOuVJVs+1udAz6+uP/uiPmve9731Wr9Tt/9GPftR0dXXZm1qS+H7iJ37CrsNf/OIX3S7F56dwBrK/pqdwcMUhvTVngIUL9wVSLAgpo32XdH/EzpzjWYgAcAAjZ3x24sSJBYWZ3SLKghoDgM6NDCvpu5EXAwA5XydqXci5unNjnP/t4n2b7ek+85+fk4zF8UhsWknk4k5VjzO6CIYM0Hfk8pB1FbuL8eXbWaYE9vDSwKit1ACIoUoGQslTAlxIa9wSIDtzPRw3R7+3J+LM2OpKZc4GYusU6qayXMvNvvNZgAnootxZtQSYEb+ekraenx2cPFdASndEWoX9k8xfsg1fXgXuDw1CX4fwHesaLGDGjVsvdybsFokRyOcg77K2fpVK32Vd0Mn22+oqBQA9bcfEDrWaoyujYZA2FpljC/A8lizRtGILK4NJGuwbEmhmG3p7JzzmeZVczYg6l6pay927EwLsU9JAVD3oO7kJGRzra1Xy3rdhT8eSzzc2ZTT/EJPeL80/4jaTRgzgG6rswQ3NJdV9dozfzjXVqvM7YiVk1teWmFP9ir+bmTZk1BMi0aXv5n/eszbZ3Jv6nvXIX+9inbNmsa6y1r3//e83JHI4Y51crP2rf/WvrGbpV77ylZwmiP9zRsUmbpa5qadEJuMo2tM5A0UA+HR+L8/8qJLMnH9CLEowYSR9cKdaX1/vb17wtQNw/oLIonbmzBlb5QM9PRcwndaYW0Q5PhREDbhENJp9/SoktFcoAARoshAS54MgK20XamflBjvQz3HzWRqw3WhKxqrro71cwDgSG7dVmcEx9q9diQ/9knAJGUH6B8SUUD1jdGL+RfzFzjplrd5RJYYKy/CwH4Dn2jCVFpaYrWLOTl3LAspkP8htHL8SBj7sTyyjb4C1c15Cyt6uBsVHChTKzVsp8WVc2/0CaH16YNvW1JqjkdJquLhjABIAFatuQh9UBiF/IgkM2YbVCcC1y+2Zkc/J3NjAWqLPODimahgRcIj791ogAYO2qd5yebYCBu+T1l693HQPhxNoYjdKuFDT2EHqScOANgrs7u1QzKS+d24gOI8zs7V511UvNaHawDCeoYokbWIz2Va7KiOojSTR2dlM4Rek2YeeX9KW6tcGk0cZRD/Bg/2YY26iEBc/PsuSkvlL3OiQ5v7/+Bdb7G832eab+T7JAObTd1oSSGxtjrX5r//1vzZ/9Vd/Zb785S/bWuWxfQF9rK2s8UUAGJupJ7utCACf7Py/LXtnISMLliQIgokLNS5GPABwTuGeGEInzBzLIKYvFsAYiANMHjt2zIq7kpTiAKMbJ+/zrURCW1T5APQBdqkeshgA+Af7rpgGeai4IFWWU/5NcsxyeXIudQJIMG3bFSOHoAf4MlPyDW24e2bJ/btmlcDPHVygiZv/ihVymUfi4taorFtMtw/276jYwZAhRULVjCGxgFfEuPgGS0fsXKMuyOVKXEESBk0+gv5929xcbfZfyLJ7/jZe465LuoX9fRgD2oG4av2YQvYBXCItg/5dKPuY/doEcvsi+nkASCRDQkZt33MRhhG20gHINDf0Wm0HnKyxNXElfaK5wwWP4VpmLm8IBC0XEKWKS5L9Qpz6zGAuSPbHWlJCNmnuvLvthMyR/eobNXGpvEL8I+LQ42JYsSlEq8W8AfLQ7pscnjDXFQ+ZHI9ri6omIVsj0N2XAmoRel4nJo+sdQS5kxU+ktVGmKWdqvDB38BrF+bHgJJIoj8lc8zTKKyVG7lSD+o9v2d9g/kftzWHhvmmfe7f8ObbKQlnD5sFzBoG+MOF/I//+I/W1btQ/3hi8Hq0tLQstGtx+xOcgSIAfIKT/1buOnSXCfNHIDOLUmtr66KnABaQBRG7dOmSQVAZsObLEsQa53iAaNJY7NC7Ypyh+r4x8Oi3R1tIvbAIuyofhYBH19bfneo3XzhF+mzmgt+nrF5nuG+v6YJI3FSa7W5TuatLGbfi0qWKaxKxhKRFVVmpQMNSU6daXKPKfASUTksrblIXb+oCj04q+UPTUzozaV1gaW3zGdIwByPAaIcyZkPgDZaO6/+XT+fGNRKLhyu5VLFhCBsThxUzJEZitr29zhy6mJJ+rIMAnegmnlLtYX1d1qrFEAIK0QR0TGEss5eDJiPxl2yn5FvMmiWhcnkofJ6rNR+XtP2qrcIxf789nQ22jq7rY7luEHAx810zj8uW3TcblM1aKpFpEnxgjd3f6HJ9CTP6YE9HmQ2tYBoQV57W38c9sXbV+o0gbE2Jugm9F64zt/X7uG3LMU6aialp0zuSDh63SjPwyNVc8OjGSC3eSxFW0pe7AfRtUiYxdzAkm5CskuYeJmO3ezYRRrjf7JQs0jWB0MNiBHH/+oYrGl3MEX3/2eznGbOlQXMkIE1cIH9fP/GR7f5hT+z1o2IACz0BJGA+97nPmb/8y7+08YauihJrOBnHKDiQAPLhD3/YECtNWM+P/diPmeeff968973vLbS74v5v4gwUAeCbONlv966QUiGbFpdvzKWUzzw5AEhVD1y/hSSR0D5AzAFIvz+AJAsc4M+xi/52d2waeEzuR1vJKh+cdz7HuraQGvn5/37SvZ33zAVsf08688TFyy8Jh/tRib563DeDApGdktZ4TcCHz+fbUlVJkNba+IREcFcYlVsVKLhvpnUsAJFSt7gV05IiXFuwVOdvzHfFue08c2FPGkLUTox6j1y3x1XVgZi5VknClK1YLtHo+9alDKuIa7Z31o2bbMe9H4jUrmUfBKD92sQjAsQjV7MxiTsEIC8qxhGNPSdJA+N6VYkmwkNKOMA9HD5PqlzEtgOCowCT7ZHqHNQSPqf6tb4Rt+ZK+1G27/KtaUEnbhLmi1ST6RorHbdTIL5P2dZp1iAX7KUA+GP/cSUfhGxdXWmwpvQWSbXgLn5hbbUNLTg/C/poi7JtR6+lg8pqy0wuN5vkvkUw+5Di/TCygp0OIbdRuxUDiN6iTeCZjX1sgm0bNQAAQABJREFUlVsZt/U5JRmR1LRZgPPDO1vENoalZmzjb9J/hTKA3IDiAs43uS50Gr/xG79hN33oQx/K2QU5mI997GM23Obv//7vzWc+8xkbf41awkc+8hGbBcw6W7SndwaKAPDp/W6e6ZE5dsGdBDpW+/fvN2vXrrV3jQC3hzEAIGr6PT09Zvfu3QUlkdBvGotHeTdcyYA/JBdCFmIP/f1DVT7otxAX8K9+8bRcj1kw4veBbhkB7SHbKtfW/oth96wFdangjxYFFwT20vTSXH/rG1W9QI3ApCyRTAzxamOqIjE08cDcU8ZwZ40qLdzIspXuOPdsteEi0jG4u3tnpWHI7OXhG6Bwg4BC+dIpU7qq0oK4ZPWO7XLNnojI18CSpVUG8fsBTCUladgO8OpqKDeIP7eLFsN1TXxfcgxbcQ9Hyt9ta6lRkkQ6oKGfLXKBx2oPI49zLMCycXxHPWAq/SaB7YGKcWyygOi0tPNCRl3lgZRMXPavKFlieobTmWm2307ErcLkrhNQo740rCR6fL4ANMdghDekWXtNqQ2LoGavS+5w+zkZGsAjySMuW7tern9+Z7uV7HFUSVTXbj0QA4icT4kZFfv8Pe9e55p44s+LYQDxPiymYpF/sgDJmAH4klVAYvsXtz09M1AEgE/Pd/GWHYlfjg0tKlixNPatkAlgUQKskXHW2NhYyKF2X8cgugNh/XD97tmzJ1VWwe3Hcxp49LfHqnwsdKzfzvFLA+b39l31P/Jez0gTT3GQAidphivskKdpltxnt2KiYhUhnhdDcihQj5a2tpIVejUdXOJepAbrA4HC7WIRp+RKJB5sYPyewEaW8bs3nQvokmPc2V5vDkSkY2DOvna+3zJEUue2h+M6xoVMTByATN7PqG1vqzMHIvGFuIJxD6cZEjiXxcyhnwgj6KxKLBKxkXVV5TbkEhdstRIlqIecZssXGCSi01FjIiKWVrPZ7e7i6Nz75PNGyeukJVS4/a4r1i9km5HFCYDDporlZkDztrZSQshiksenZsyNOwqZuD5uRCrK/TwvXNV206rEEMScneHm3S4WnHCCSrnsk8CP/bhR4qZrnbT+yPR1hgQM8jxkue9XrV8MPcBbd+6aG7rZ+P1PvMdWgXH7P+ln1syQVyI0NgDgwzKAobaLnz/7M7DAyvLsn2DxDJ7sDKCjB/Pnl2MDfBEgvFjDrYE7efXq1YuOIwSIORBKZQ+SPkjSSIqbpo0xBuIQYkWHMFTlI3as39eE4qt+8f87bDbUl5hSVfq4L6A3ovOGmVwiNzKaZQT9E2NFID0YIBPbpQQXXRRJfIAhm5DMxvidcVNWXmFmliw1d+W+vSemLpmQ4fcNKIglVVA7dnwifOEHk1ZLGPhgIu4OqRWyN2vU/ipd9Kl5W1W61MaT+f3zGo227hvpwMvt29lQJfCWWzeDeEEXM4g24CkxY8TXrRYohLEj5u+yklGYB4DqFblxYwaYJHs3ZM+pbN1hr2QY+92exEV+11wYvGvWiiG8rGesWgknaANWKHmCvsmKvav4ufMJXUO78+x/lF87FcngRj/vVMAdShPo8yGLErJNmqODERY5Ju9i6+Pa+rvprftxqbB7NsNZc/BAvx8SMr568Za5ZKff3cRkgOx6gbBj19NdxxVLcWXLbS/Nwwa5aXtvTao6yYj9vdBm0nAl49Z9fRbgue1NlStsRvDR2bm1moBiASf0u7jYf8/8r+9YY/Z2FqZO4Np+XM+FMoCsb+Pj4w+dBPK4zqfY7pOfgSIAfPLfwVtyBLiAAXnE/CFUClPn3MLJSiCFTAALGm2ic5UmgJpvW86NC5ikasjWrVvzzkgOgThXLi5W5SN0rD9uFvpP/+nXzL4buLpw/3ou4LE7pkWizb2DKi4PTZJiL3bWmFe7fXZOF8ax7AV195oKc0nJBBVKBKGaAvVUcYUC0LByrQqXBzPAKJlRyfb1VUvM+UhMWqdAzxspNd9gKwFTEGprBAQvzfZRW16qmruq+qALOFnLA2JfGjSI4325WcP07QzpkaNiSGO2UswZ3itKtWXKtWX2BjDD7G1YXW1ZwsrSFfZ8SXDwLSM/E3adsm8ou9W101Sp5I5ZAMhcJudzr7QBuwXQGgTWAexk1SLITBIG+oC1clGmsVqu/fUAOGnehaxOc3sxAtIGI5VJWpUB7uLm0tonWUYRpTmb+D0h+0IMHdVZKhWTRx/XFTTKeWLCgjb7mhuFNLs1mb6hrkzhBupzzb0pJaVMmWteaMTaihlz3nM3b2qQ/qP+PO5MTin+MjvGVQpZ2Cb2ml+6Y/02qgTinclpq1s5IMmXHU0l5vve05E2tCf6GYCO9SNfg/3DHtYFnG9/xf2evRkoAsBn7zt7JkbMYoX2HS6LpI5e0v2a7wnhSgb8kT1M+4UkUyT7YCFFHZ/2UMZva2tL7hJ8nwbi3NiIh4lV+SAJJBYDiGv78185aP70bDrDxoWLjNK+2+nMFe6uwypbFbIdrRVzcYMkc/AQFzW3+xaJ6R7wYuZWSR6EJAJcmLCKSzS+fmVxN+kz6uCi45drM4rfUsJI+jXc7vp8B27XLHNH/V2/Bi/n1y/X3GaxN2QrAxxviNkDxLn+GsuXye3qAePcQZi1yk4+HpCnQXyZSiEwpi75gtdoBDaIWUVeBWHqWolIx2oPwzA66ZZE9/YtGbgh97HdQfNEVi8gFdDLI2ldqqBCjB5AEH1AAGKpmExXtaNEoHmbMl3J0KVk35ji1u6IgaR2stUmjIg7d0rcmIobIaO2MiALdrlC51IuoFwuNg2gTtvE1VGpAyYTd/uAkjZuKwb09sQdU1NeE3T/4rI9ei03acWNgTq9vovXlmlTOAEJLVT4SEq+cBz6fqP3lbm7ZMpsFGN+W67lsxJyxtZWIoyEeuaM2Vy/QucjKSDdgfB3CDO4Uf0dUm1mgGqbJHbG1c/HtpWZMp3r02aFMoAoGXCe+ZTXfNrOtTieN2cGigDwzZnnt10vsH1IAnR2dtpFyJ8AACAgiAcLVD7mSrLhoqWWJWWOAIEPY+gGAvy6uroKagYA6PftmE6ym125uFCDaeDR7Qv4O3LshPnM6yNmVlbNbZp7hr1742o6+MONhU0HovpxvV6JlDorUzLH4O1cQADLeIljZgnFzY1ilEYAjfctICQDtkYsEyW87qlfXLuvd2fBnR2Q9x+s0dm+MEBlV9ySAETnynWHkxzQLjHpxqpVFuy01iyxYtJc3pO2bCb+26Dm8QmvNB4udhhJx0oCdgc0VkABoHCFvnMyRgGhLsmDjOCYoQ14MOF69Pff3qoElUj28IamyjlJExIXkpUvmKezgRi7UoG0XcruvXxrQuBRIHpq0pRpvCXKolbAgAV1DRUrTbkANgAUmMQzYJvvkb/Nm9LvWyUghLt8VDF6owrnMLO4jRjRfT3p3yOZ3WciwHM6cncAEF9bh3g0tamn7fkPSsaIVQIB5zTbJdctP33i+U73Z7OcKRXXrSSi55QMNaibldM3MwB7U11GAqpv7J79fqpLVUdaWpJf6x4w//KdrQKN4/bmkr9H57VI6/fN/ow1h/UjX8O7gZck3zU233aL+711ZqAIAN863+VTdSYsVCR8sIgmDQCIAZzyCWpm4aOMGhp/riQbbeQrxpzsn37RIqRaCGCyUOPcOC8ukjzDdKKH5cYWay8GAJGN+YPXr5n6ynJTXyWm0PaRYTDsxWg6I5KMcK2uk/bixPMygW0uVLgsEQEueTBhlkuFv1SVRyaFJAdHxsz9JRJdVpZkTO5jq9g/hG9DtgtNQS8pA+anV65gHlid3H5TYmkf6PtaI5duvSpbkACBRt5NuQD7VE1kvbI8D3ptJPuChTvcky76jCbgGbE3MGBHZ8WriafTaZnV9bUCL3L3KgsXpgzh55gNDqeDaHfMzrUkoAwI984XsM5kH9dYF+futXU2O/ma6iD7uFtfh9i9XDDt2p57XuDep0oMpJyYc7snX6wSaxUyvpthCTniep0zSfo4Q5qmd0jxoZYBdp9mn3coQeLYtfAcxWIDiUt940p6VjMxoD7DR4+4jZEkgjE9L2mWftUz7k3cqDAeYv18Q9cQFg+ZH18z0O3TUlWiG7Uy1cDOjgVpF+SMzkvWB9i7WxI3Ru/PqFbx/7Chyvzz9qVmZPi+rQIEcOLvmrhbnt2D96xbbzY4LJQBfBQSMG4ui89vzRkIryBvzfMtntWbOAMskGkAEBDE4gqwWwgAArKI0QPw4Up2d7O891m4fE+LRRTARhwid8eLWcQdgKV/FO8ZIwkkbmyxsYQA4NWrV82fv96ter8wV7kXOtojMQO8MKzkgmTcFdt3iZH5h7N+TFxu7OCuFoG/vjumqnylTUYg7g8haCsCrAvhyiUPbEIErjDcbUmDfTkbKdfG/mt0wT06nKGISDJJJprAuo2MjkvbrVbolYSMKZuQAVhxxrhCmc3ss7m1Zg788X5MgFdhW+bKSJZ1bKlqUFkvidSKvSI7FHDmx7oB7mLVS2CTzl3zYyjpKWvI0XQ2zggsZ+ebBJM2uZ1h26Yn7qrvElXAuG+ZKR8YulaIQTwZS+6Qy9dnKN1x7pnkjxOR5A9c4Gnl2dzxSMe8kVIuzW0XZg8aYA1dvpANIzYZMEIHYJUBgpMKwRhVLtg1iUwfEcP5wtoqC/7SDnWxkwC+TYrZ4zs4L9CGfEsu+JsxgEWqePzTueyNBJVebIavwgbQ/2upKZPA9XJzdfiu1YFsr6swP/Vt77ThDlS7ePe7323/rgkTQcKKZ24aeU24B3/rVBwKgcN81oK084x9xnrD+pGvOQZwMWtcvn0U93u2Z6AIAJ/t7++ZHX0+AA5gRUYtC9+LL76Ys/ixEBYKAGmP+r4Yrl90BBdjbhFGNobEj1DFkLS2uTAAQi2jB00kGxgYMP944IT53Ln5bCnb2W1tfaU5HrjgE6wfC/RvXmXm9PhGFR/Gw7fGCrn5JH2BVAu2Sm5BAvlt3J+AzYzkXEpmpszxcYE7GN3ZcfttPK9YsEPd1/2Pcl6jtXZr9I7Ek3OBQyb2rsKyhTB31AzG1QvblzTYTiqVxGxXR7050psFZm5f3LitusjjGuX7wxWN4HOaPd/ZmAPukvtUKpEgWT4PSZjegTH7YH8RgwIXkzbzuFVucgAIMXO4mgGtdXK/XhH4CBkJKgci7uP1bI/I/CCHc1n9h2xY7tWQtej3lGTp/H3r9NvolWs5zTao2sZ5L+sYINYmsAW7x6/9imIeBxUryMM39jvRN+tf9jfo9fbZUm07peF3Wvs4DT+Aer9cuxi/DYAfcjwnxRI36fvGYDqfW1MtMK24vyXK6Nbvb69qUx9T2b6BkQfmRQmNE+f5a//bO22GtltTuEFkjUqrLMQ6Agj0wSFKAg4c2n4D4BDQuBhwSJ883M2nPbkF/gMAPmwZuAW6KG5+xmegCACf8S/waR5+7M6ThQxXbMgASLBrZP1S4i258PHeLdahNvzPXXss2gA2tPoAYosxzosHwA2mAFdyvubAowOALNJfO/CG+b1zy8RWTdnSU7BJXNAI9OeiuVkVKE4ppko4zTJnhFCRscozcXvEdY0KXKUZF9Zp7TctN1eaLVMR1PKl980Nj/Ujs9W64Gbx8d7WMvOVc332cPT1mnVBz8T9qW0Bnwll7vZcj2fL7hbr9vpsG/44bOyd3HHDunALHtln8GVrbSbWD428UcXeEbu4bU1u8ojfDq/JYr4ZqPoxIKDAY8+6JrO/O3MuTQJmLTXldv4AnPTBuVD1I2YbW1RaLiH94u+/tnr5HPiyWoECHUjPOAMMAqBIqgCoVIrdLdF58pug8suoElD6IuCQ38eF2XJnrk3/GRY3Jiy9SYkPZ/vTfy+006rvNyQ+Tg3gkylAjaxfRJWppoEEEL+hm3LlDohxc2Byr6p65LikvUGT8LPfy2YG3G1arcovfP8Cq2lsJjGOZySgvaej2n53rhbz3o5aJToNmRc6aswlzdMBhTW0aFwIm+O+P3Bx0GxSJjA3OUf1Pf7I120xH9i82o7GrQkxkMY2mD8exP36BkgjNMWxhqw3t27dMjD8vMbwevjMoXsNOHTrg98mr924QtuT+/P+cWoA/vqv/7r5pV/6JYOgP6Evv/Irv2Le//73pw2j+NlTPANFAPgUfzlv5aHFABwXQsq7wdAB1tIAVuz4tHkjacS1x909C2khANJvkyofjBHpGOKCCjG3gLOgc6HYryzk/+fCMl2obltAJwyYY2TM/tOZDGDJ2aA3y3Uh2iYh44sKdG9Yft9UVShWSezZCl00AUOAxzK5VHHJ1Vc8sMwfmbOTnk9yvbIkT3uMTbKP9bUrzIHz2f5xqfZQnWO2QgdAdUNdibkl/UMYtgYlaJRqfifvzSiJYMImTWxSJYsD58PsIH1uUGzWoQs3bPeaWltmjVJrzmDwBoZHzM62Kok7L7MJAgA23338fBfgLtOGO85/JnvVjn32w37FC/Lw7X1bWm3b61XhAlflDcUt+kLKjON4xHVLW0uWsqyGb25WK+Fg6OaUFbC+OJk9RzcOyt9RwqxMGdiAxUrFdsJkWZkezXeFvuMB1X4GcAG0xiRhQkweYBrbrPmOaftRTi9k5WI3HWDj94NsSqXiLG3IgFg8kjNsX4BV3YSMKuu3X3qUg3cQ3V5qus8P5cRCun50nyLXaxYEu895ppIMSSOcI9qCVgNSbtpTyhR+TqxfGvhrVrjBct28KBI3hylt0JwQ28c4D80yqM2STWrW90a2L0zkXv1NEX5ADei96+rNx96/YW44/F1ycxcDgHM7p7zgOBcrmNxsAX4CHJKpC4gCHAIeQ+DQ3Uy79SPZdtr7xxUD+F//6381n/rUpwwgkFq/v/Vbv2VefvllWwOYSk9Fe3ZmILwSPDvnUBzpMzgDMS1AkiHI0AX8cVecZgBAd1ectt3/jIoh3IH77RVyvN+Wq/LB+ENj8/dPvnYXFlxIuKO/cEWCuAFXHlmgsTixPXJlve7VAb55N/cCi5DtK2fnJ3VQMYGEDWK5AA/vqJDSoJi8UV0Ubyq2CikPTFq55nr/YFzSRYkhr5/NVCu5IuaMh28NSgQpeTBpyBol7o9YLtgwH7jtlNvWgT//WP91a12lOdKTjfNjG4CoTaBTof6mtkbxhdI6xKXsgJB/PK93dDTEM5TFXL0h9zHZvr7hmm5RHWISTirlHieG7KrAZ1qsImXfTkfKuiHs3DOc277fF+yny0QGgBKjJgQ/twvbiVfLjXtj8xKbcINUyrC+v7WKMVwuGo2bBOZkfHxMrJPi3jT+OwLnzykeMwMXZzRfYpgEHjkf9BnP9I9bAET/wnXmjrKBb+gBiLt+e4XiKdPBLRnTN8T6pRnu2UMpGcvNEnTeJPAPyD6vfo97mdmEG/jfBazgdgHCaQFP5Gj2iclzxrYdigdEpgiGD+N3DtNH7Ozr+myHEj5uaC5JECIG8vyNUfN/fc87LXC1B+g/QFghIMsdl88zII41I23dAByidOAzhzB4VE0CHLq1jnhoBzAdc8h71rOkPS4X8C//8i+b7//+7zcf//jHbZewf3/zN39jqBn86U9/OjmM4vuneAbm/2qe4sEWh/ZszYC7a00bNQtWmgv40qVLc/V40+JvXFscnw+DB/Dr7u62MYR+eyzyblF1bS70jCvHVfk4d+5cXv0n23QAkMojr12fMX9xIt112qw4rEExFD5Q8tt6IQH+/G28tlp7KRdctuFSJanja4p9Smsftoc4sLKJm2bs/rTq3VYJKD6wlUfGp7LZAe0q47V/FvzRbpq1C2QeOn8tZ5ON+2uoNg3V5bNs4T1d0JfnXOz9A3aJ2Ts8yw76nwNYLs0Czh2rys3pKwMWBHU0VJoaxdg9UNk5tPUAa1T0OJwSG+i3t7GlNrX0HEwRjzUCVf0C6/QLuOqoLxeQLrUAAmZ0QCAGAeeYbZUb2wkQp+1ndfBupsfXsf8GSaScVxxdmgHi2+uV3BHIwDUKE9jTuVLZvdmsWL8dssnJCkbPL82eE4h743L6sWTyprmGaQdwdnU4c04tKuW2WokgsHQX+m9baRt0Kymnl7TdcvGyrb12pT0G4H1E75vE/nXfzIBQYksp6QYb/EDsHaXeRESa3arQcu76bQFLZaXrOyEOkLi/zQKEJcszIP6X/pe9Nu7P75c14XEBQL+f5GvWStg/HrW1SpLyDHBIjOGpU6dMS0uLBYTEHpOUAjhkHeSG1AHC119/3X7GzWqyLa/ZRb0EpKLI8O///b/POf6ll14yr732Ws5nxTdP/wwUAeDT/x29JUeYBuBg/XD97t27d8EqHxzPYs0duwNVyYliATx58qR54YUX5gVDp/WfPN5/z4JL9rCr8gFLWSiApD0Wcxb7w8rIPdC3xCDMDPvCg23gB1xh+G+RcGkSa6OXlsWZkvsI8LS6rkpgadpsqLhnVuruH7kXtNtwu94RECEG62RAaJcxNCiYcOTORCr4YzsgoHRi0Bx0SR1eqTKkXVbXVNgkhntTE6ZkSYWkVyZSM4fX1y6fB/5on3Pt7R+2jx1k5F68bvNK1gi8rK6ttGwGiSowhaX6nnsWKAm3G4B4McMOTirO6/z1XH26VQKXHSovRnwaCceAApJN7CQzIBn6ggsBxAbV9r02m1jBfPtJH7TBuZCZ2lq13CaZVOi7A5SNCDxel6uZOL8Yo6ufhRm7x7cdNuHwqNFPyGAHQ4kWHIN7/XAAPDIq5FlCtlGu2wOJGw4ydmEUV+tmg6QPqrxcEwPHw9nuVsn+pOha1qogMJqSnQK8FxXHd2lWaojjKINIrCTAr7tfSSFy9RL32Df8QExzjf1uYQHlvTbbBfwO6vUthSPAmANGicv8rnd1mXdtaHTDmHvmbzq0nszt9Ca/YL3gAcgDAPrGmgEA9JlDYqf/6Z/+yVy+fNnGAf7xH/+xleRCluubvumbzHd8x3f4TRT0mrhn5ogynL7xnnrqRXu2ZqAIAJ+t7+uZGi2LVsiSAIy7WRau3bt353XXyvFYaMH22bpkoDbHOQbQATI+C1lalQ93fOiYtM/pi7v4i3IB/vobo0o4mH81R4C4Q2AkVGGiWX5ZJE+yUi25mZ64/rqHbpkJAUQyXaulJVehGDLi8pZBjYgVW7FMzNkt6QXqajjlxQO6Me9UXPuBU7msnds2OHpXVeWmzPiqB6b7ajbbFjavRQCuXIBUl1CrkXfW2+6O9583NZZZ8Mdnmhq5j0fsw+1DybbnNrVZELVMAIMs5V6BAUCes2oxcL0301kpt8/m1nrz1TO550MCRruYQly6ws1KBNG82kSN9N/s5hbkZ8JZ4yTswGJZ2RmBE6RNBKXdEOzzC12N1n2K+xK2DcFuMoLJXB0SSNyl1OEjAQBGA9vktnTxeTkNz76h/NnZoXT3LLusrSkxx/vTQRx/qiHmj2N3rpEL/mque5/PscoSnbu+G/bhNwWrTFwgCR/jNzi/ElVyyf2dclz58pmcZBSqfnQJqGeqfiw3r57P/r7YH9sl0MfPmN/3fgG7jM1Y4NcthpA4P9jF3e11AtxLzGuSgtkhUIiA95iSa1Yq/hHR8k98aNPssblPj9MFnNtTYe9Y59ya5x/pgCHZvi7jl+QM7Nu//dvNBz/4QQM7d/78eft4VOA2ubbns4764y6+fjpmoAgAn47v4W03Cu5mXVYcYI14OOoFNzbOvytPmxznpnHuD38fYmdwUyDy3Nzc7G+ae81iyqK10IKPm5pycckqHxzPolyI9fT0mEPnrpjfeINs0/muQtiJzS3V0qhLdwvXiRXh4poFf7m9N6CxJhcNYtAYFStc1Qre0/4WgYRjvRm2jIt+XUWZRKclqLtqpS4wAomqoHHhYo/NLr6bAlBpZ0vTSnPwzCVeztnAyLhkNTKAB9Apj6CZuD1uOppqTV11pVm2XCW6BBIAWSQubGiuMReuuwv4XDM5L4gN++qp3pzPSDRYowxhqk1UVdeYyvIy89rZMPNQJTb08uB84AKDevpqBtC9sL7F7Dt7zSbQtNVX2AxnmNhhAV1ci/f0O4FdjdluxTG+ocSNkDWKtUK+JM3lzjEkZkzdX2K26PsnWQWmFyBDvBsZ3wBFe/HOfDy/G30+YUgTn+9KZecyycedH0oHf2zf0rBSyUAZNy3vfYOJgy3doqzclSQY6YdkaxXrewS4rpWb38/g9Y9Fpy+UkNJavtRMzCw325SNze+0W+zpoJg6gOCVoezfFm7e7RKXvifgf11JOTdmM72Zop2K62O+XjmT+U1T15dvir/tyypz95z6x/W7W9qTMI8ly+6bP/zB98/Orz/SzGv+pt3aMn/rk/uEda7QcbEOsv7t2bPHPh7F6KnuxDiSbB/eliQr+Cj6K7bxeGegCAAf7/wWWw/MAAAKcEWgsgNrSfdG4FD7MXegtMHC6BuuEABbV1eXiWWkucU0tuCzLVTlg+MLAYC4t/cdO2O+1KfyYlWqp1q2ylbr4EJlTU/EwZGUsUdZioAzzpFLL3uQ8DA9qTJkcl/WaL+SlWWWQWT/EYnolim7cZWYjd5IbdddcrcdOJdlwugaRo8Htra21Fy5cM5MzGrw1VdXyN1cbSqVXbxk2QqbPFAjNvGfjp63+6f9B3BB5Pj4xUw/3VdviinMCvLC6m1qbzI1y6ftRZmM0ssqwUYtWd86FHdIdnPSKPd1WRnT2FaBwYNneq1rtauxWkBTF39VPCHu77JchsyblWxJiR+0Deg/AOJFxaJhd3Xe5/pywTfz/r6tbTaDuqmqTuBV7JbqEvuZwcRM4qaMWZt0HN+I1Gje1labmiTh2gTInOgbF3BZrmQUPcQiAnyQhAEgkS08prGh/+d+M/aXo0lgHqbGhs3ycgFxJYXwfkahE9z83OdZv3PJspv11UtsOTWw7r0ZgTNhsDu6UVlbXTKvCocbF+UFQ25lQhkueq5bjgHcrVVMH9m4x1XNZWRqWmx01iXMPmtVo/iwwHSHnhuVrHROyRqHxb7u7ay14I/z3aEklmuqtIIbnoo57Yhw67vk5on41XplAcOswhYjFzMlEL1WMZsf/+BGO0f0k2b8TT8qliyt/cV+xrhY7wqxx5EFjCIDgPKLX/yi+ZZv+Za54fAe93LRnq0ZKOwX9WydW3G0T3gGkm4CfzgsZsigANbWrVsXBWv+cf7rJAB07XEnSpsxY5FnfADINJkZgNnRo0ftRRK3dPKiUAgAJID7q4eOmd86ImByy7FEuWzMi+sazSuns3Ir/ti50JNheS6nvFn2oonbuE1xVreUBbupQSWrZqVg7PmJyqKWa33ZUvPV05f9ZnNeI58xeKVnDvyxkRJyPJy9sGGNeeXQOVUTUTxdY52VnVmybLnN7EWyhYzNPeubzb6TF90hqc9UH/nasSyIZJxtjbWmSS7kFbrAjAsUasg2ziu1AX3YVL1qTtJlShf57r4h+3D7o1e4o2u1uTcxJrBQbSuBJOP+2HdDqyRXVHc4ZDWqnHJIOnIAbd+QRkGrsFKgo1Ys6jXFQS5bOiEGa76rc51YKZIZQsZYewaz32dyP02PAGgmXOC+fpdkUrvKGOwL6G5RkotLtEgeT4LG3amlZipQ/m633KqH58qlAR8xYKK0KPUccw23Kd7x2I30sSPhgvAz7evPzWo0kr08JJZve0ulwF+mD9vR7H9bpAcoctd0CCT26gagd/beYaM+vygXLxp/ZO+6koXvlIwL4O6IACKgH7A3qu9qn+r6kihFIgj1jG+LQUWO6AOb0z0CbgwLeQTcfm/2c6EMIOsXALBG2fGP2n70R3/UfM/3fI+N1UYH9bOf/awhee8Hf/AHH3VXxfYe8wwUAeBjnuBi8+kz4Baojo4Oy9al7xX/1AeALJAwicTBoM8XA5+0yvYQiGNsxOq5Kh+OLfRHEzrW34fXuGFee/2g+e1jKnuWYDrcvu9Y32j2nU8HISt0cV8vAHH8cnr8mTZLRqPCHHUZrip7lrQ9KrH1yqGLEpdeYnX66ipXmQq5adHTIw5tfFLyEzevmGsCkCHb0t5ojp69YF1rI2N3JLmSKyTMfL5/9yZze3TEvGNDi3Vb3hgel+xGFkDS9js2rzVfO3Ehpxvm+3K/LuB6YLs3tZuz3ZdNe1OdaRIDuUyu6WGxnD39IzaJA9YLENovd2DIVgoEn7oi4DbrDmc/gPRqAaXKspVmZukyZVwK3Fl20IGe+a21NdWkVhbBzX5GbGFXU7VNnCCxBcM13ao+yEJGggUGqkyZnddHFagPqk0xJFkOBrJr2Z2M1sOB+LvMdlVhiRyPtl6ofZFpGtt80OqGuVvyPWnyLWxvWCXNwJvZ30zVihlTV6oSaXIZc+4XdMMypLjI6zbhxrVIZY/cqjYkJXWKwcMtP3p30py+lm2To7oaym3Zth4Bwv0XM25qWL6NChEgxo+sbP5GAMKECNzXbxrxdHQAqfpxQrqNuOB//OXt2UEEXr2VGEDWnqqqqsCZLv7j7/zO77RZyT/7sz9rNQwJ3fn85z9vWMuL9mzNQBEAPlvf1zM12hAIQ0oAaRZYNeL0QvstdLKAMIAfizauWpi8HTt25N2eDyD9vsjwRX/rXe96Vyo7yL75AEBiHF/dt9/89eWlplYZpO9QrB2xVCzMJRL5BYDgCqMKxTvXN2WGABYRlsCtxaNKTNO1odumpUIxiwItsGx3FJvnAAdSGQcjDBaZnQdO9di2aa9fcXo8nAGm1pRMmO4rkowQMMTlC7jiu7kr99xNgThivq703TBTyuIM2Y51beYrb5y2LkV/nxq12ba6QbF6q5QgstKcvZJ1B/v7udfv3N41BxB7FSPIwxnu2I6WRrO+bbXNrO2QWPNlycDMYi+3m/3+1yj28MRsrKPbgK4dIEKw3Gr6LRN7WSL2CHdhxcoSubnlghcxi+YduTE7OxpTwZ9rj9/tipJSnXMWQE3If2qrdMy6hKk84rQaa8UmNipOE5exjaPT93FfLu1bE9K1E2Adn3W9u/Z5BrReCpRdc9tj7CEiyMciGeEAvIOJ7F3XP1VmehIi4dyQUM+3RvGoVP8ACBOTel0MKPqRt3Uu2JYGuWBTpF1WLJ0RIBxX3egVRjnS5sGyUnNRcZYDcqu/KLB2alaihr63Ku7v1p1JuY2XzyV8UOMYdzd/B6+dv2mB3WqBwSO6QXpecX76SsxVuYYpVwcDSEWbDsV1/vQ37xQwXbiOLmtJ2g2fm5Mn9cw6R9x0vuZusF1iSL7H5bvfJz/5ScOjaM/2DBQB4LP9/T31o+ciyWLkzDF1aFbholgs+KM9B+Bw1bJwI/eSdNW6ftOeHYD0t1HlA+FoRKNjVT44FpdzyIhv3Lf/gPm/j941h1JkLgjZf76jxHz59E0L9NLa2auKEP9wyncLOwC2VAzeCrNLAfCAuV1ydZYIyMEG3lNM14SYptu6cFavXGJOnL8UbB+sub5qxhybZR+p1cvDt3oBV0KPcLluamuyDAvZlH0Dw2ZQSR7Y+jVN5vzlvnngj23Dam949JLZ1rXGHDx+Tu66exZgtjc3yIVcbhnI67fGTN/QqNkpF/Prpy5yWKrB9OBu/dt9x+a2rxSQXtfSYGoqJacjhyUSL2vkTt63gD7hBoHIIxczVUMyrtNsAoQFmgIad0dvmQ3VYvEUDwdIG0u4LPduaFYVityYwbmB6QVZ2Bc9167TE/T32am6wxcF8LFyZSQDbmzVDbn19ZWaKmoWC2CtEVCcEvC/KxCOSx82Ecmfba1iuiLsH2DtekC+BZmWs4g+644DqRyqfgBEAZ1k0OI6HhWIQ8qF+EjqByPnckUAq7ykXIkX6W7tTWLjzkiexTckaNqk30c5w3OqCHJ1zLGhmd9bsxJCkGvpUKZyhfa9oISUg72DVr/voDJ7t4jRAzRT0/eWYvtgWUkAIeaPxJA9XfXSFRxTUsqkYmjrrRg3EbTtAn/vVHjFttb8XKFPqwuY9S22HvlzzWtKaHLM43ABJ/sqvn92Z6AIAJ/d7+6ZGzkLEkwdwA037auvvmrB4WJBICAMoWfAFoCNdgsx9mdMzlyVD4KcKysr3cepz/TtH+vvxEUEd/TvHr4dAH9KTlCsHm5dWLk0e4cuWvu6093C7L9VF8RXAyXi2N7ZsMpcuHbTrCqvMO1KDCBmrVQZnIztjgDckIDZ6pIps/9ENhaP43yrECCpkkuv+0p6ebW6qgqzuaNFjMlSmzl7U+7eyzeoHJJ7Tm1y5V6Vexfwh90ev2tOyMXr21YBxJlJsUAbWm2m7LXB2zlMJfuua200J3qySSx8NiGW8nRvFiQ/19VqTpw+azbPxigqd1ZJG9L981zjL25uj5amA2hW10qSpSeXraxSAgzl1wBHS1TV5MbgiBJvlCjhcDkD8myD5GfeiNQM3iGpkmNzsXdqxwK7rPuTuM9j1+9YkOw1O/uSuL9yc15ACd1HbgCQYMENyo0Af1Po7xG/t07SKiRHlemmC+aY8+OBxt4R9U9cYYbJo+nMTU2zjj15dTo1a1m41N5kzA4k5wmX8oTc3lSaWaOawiLyrEB2r7K/xwTsztyYX0GlrabUtKi/6QfjpsdjOyskEzM1PmqaFL96um/E9lMrULq+qVyCz7etPNAWsYQzIh1vSP+wWjdF9QK8AMYXu+oUcjFhGfQf/Gcbc8YYe8PfNH/bT5tx41zIuPAyYI+LAXza5qc4nsXNQGFXzMX1UTyqOAMWeFBFgwX2xRdftO9hBh/mjhsXKw/qUaYlciw07SyoLKyYrxtYV1e30KF2MU4DgJwTjOSfnxwxI/dLzC6VH0PzDdeUs2kBHVzBO7WN/YFLZGMiLkyWK3Iu3RJfhpFBK1DX6hx7XnpxByKZrbj9hiWt4+LfRsSKJO2F1jIxcpfMmqZ6G2e3Uq7oaV24R8bEzty4pdf3zFrp5B0Xgxiye/our90cMr19WaAEI9fe3CiXt+rL6ZzHJDg9LsCZjBn026wRE8j2azdz2bQ6sY810vmrU2UE3N+wUXcTyRh+O401laZPwJGScCNjV/1NyvZdadpX61wbagTYVNVDpd2uinm0g8zZ05gXFad4IMWtflsMGA9iKbd0tZnLs6CkQjp4jYr5KxUwnBEaQT5nhVi0o1dyz8fvBpatfzyAHGd3rFKc5lWrJ+gfmX1dLzdnX8C9CxAD2F0acoBSH+hvxVm7Mr4P9A6n1u1lH2rpXh+Z/7th2wtrVdvZK1+YEXwuUxY7DOIyy74NCHTj1nXGeACnAE8MYe7l0/r7VSG/1bpBeV2JNs6I72sTeCQZyAlnN4o6bChflin1pnE3lC0x5ZpDyu5tayxV2UK9FrMIEH7n+npzTAARqZrPfPeLNlP6/2fvvYPs2M6y3zVBmpxzjso5neDLBZtgwFxCFQZ8C5MK8wfYrgKb+v6wScYYzEeowgaMwdhlXKTiOoPtD2xwOD4+RzpHOWs00iRN1MxokkbSSLrPb+1Zs9fu6e6Z0ZF0JJ39llq9d/fq1d2r93Q//b7v87yu75Xm/E3fy71kpX5f6XqOay0vuERX8BiuJWz8So8xvf3jNwJpAPj4XbPH6ojxRADyEHnGC/HUU0/ZGxnLMLx3a3mzdSff09NjwxzoXK0lNOK2Z+48gK7KR5xuoL8dnznmMABIJZN/OTxkPn0mmWfnb1snzbM55S9N6eFGGDhoOyUHcrBHXhn7oMwxSLtR05RKBxAMCjJumsx1uRak4PoAhM0pD+varB648uoBLDIXktIuwf75vqeh0Lx47JRdRX4hk2+AVcgas7Nz5tmdm+SBWjATCjX3DY3Ki5fwmFLVolF5dqe7+/1NrUfuQm/CIwcYbFF49srwqOlsqLJ6gCDhcYWOe66MqV9VHJH+Xa3Kwp0NePbolHZMfSJ/dDbXmvOXBkxdZZllIK/PWW9rF/eMTAhgStRax0MO44W+cK/plIBo79CYyCTzZkDhayxfeX8tAoUlRQXmjuRjJslZk8zKyb4kGLENA/89tbklpZwboeGZJaCl6yVPYd56eZAzb6rqSrYpFpBfr9y3O3du6/d+29wQ0C+Tt+rMYlWRQPf2K/lsccQPqmAcjyGG7LEgLTxEK5Sq35LIEoEXC3cc22oL5ZlMDeGyDskXvIr87iAWERZGcgeR5ymRN/D4jSkEH6Z1uFfSRuSU7msuFSiVp0+MXmxL3Tob6sV7uVUaiGyLt69RIV7AX5sILKUKgwOmywSyyZOkzCGs36vKOdzXUmprCF/TS0Z7ufIO51Q/Wb+XEhFS9jfkmTtXe8z5uZGlMmmknlBuLSpV5JW8kNoTekD/rdUDeO3aNUsAudfoygM6jXS3j9gIpAHgI3ZBnrTDwcN19uxZMz4+bsO07u2aG7DvgVvLeaOpd/78eVsW6ZXc4Ni/X+UjTjcweHwOPPrLEXr+7KFL5tNnU/PoXBtCiLAUE+DPLU3OO6qLlJM1swj+kstJeGfCK3Jx5q6ZV+hxuYnVml9s2sSMhFSyv6FJchryLi7cMnPy/IxJzmVk/JpEnMUIPXF6+ebekqeUi/edY+e8JYmPHHtrQ6Vq+KrWrkrCjVydNISBx6dSmb60BkQS1j1y7pLduKtPYs1Mi7Ze4fcNAoXNAojT8lC2KbzbMzi2LHxM892bWs2h0xftloNjE8o/THrWqMCBZ29Dc72t9LCxsdL0qHQcZcdSTAfUIRB5tCsJWAmFn/HCx3kiEdWJsFKhu2KFqrGsX5cjLTwRZ5RDRxgZ26Dzj9Pzo83G5rqlerxj8vKlSgRmmE01xeasKrEIa9oQe4Hm6zPuyGHKdFceRnl+568rHy4hDn1doGhWMjC3Fr1nBQKUriQd+wsadZ5PRdT7pS0ePF+cGfBFvl/hYv4fYf99TUX2WgD4IXlQ2WNCofu6oiyB3+XAkuPGY+3AH99bNYYQRdDtO6x8Pqqk+JavijQQM/aK5XxOnryji+HyzWIJw55mjocPo35wif5+upVbCMkDwWzyFgGJ9LHHCnFP2HJv5P71K+T/9h/YbjLv6PevF0+kmJjz947x0ugmV0OXOUArChzaDV+l/9bqAXxQDOBX6fTTu31AI6BbT9rSI/DgRgC2L6rx5Ojlqmatb4AoF4L1l8d99kvG4bnjTfdejRs9pI/q6mqzYcPq84TYX9ADyDl+6eAZ8w+nrtv8qxyBJQCTy8cSHjLtADyFdskhw8OnaO+SVRfnWg9U8CHpGkAOoHgI4rzhdtc0FGTIcxM2HmRtFZvOjkozOdJvOjo6BdwKzF159qaUK3RleEwh04TH8imVXvvOsbOhuyA8DUirVS3irx5MEjEqxRxuUM5dnrxyN8TwBqDh+XvxxIXQflhIPmClQrZf8/ph+5Y6EU10uHg2Z0S8aKpTGbfj0f0Q5sMr+NUXjy/tC7FjgGVVmSRkxOydFGmgsrzUPL+CPuG2zibz8oVE6LhnOFV2h3zIDoHUEoVG8UShj0iEdMJeEK5uwvZKAudITDm3fIGsqduLYsy6npM6xySc4joJOFfnmTMjyfBpomdCqAIu+u20FGeacYGyZgHE9XqJWSfvJ3mYHAXh6QKFpGfmReDQ3wchwFx5vOzvzXr+sqy3GFY5rOg5NBclID0K41vb75dH7Xlp6IUZdXajchr3yWM5pcope8UqhqjSK0HybglsD+hiVgqQJn/Xd80G/R0UKlQ8PjlljkiqxVmpvKLk9PWJuTswkQB+9XrpsV5zHSul3xrLJPis0PcZAT+EnbdKQufc0LQ9rhYRdyZmb1pR7g++ebdprq9xXS/N8fABAl36iAOH7jsvrNxXAIwARB8cxnkOl3bwgD6s1QNICJg85lfygvyATiXd7SM0AmkA+AhdjCfxUPD47d+/395Ig+cHACQEvFqbnJy0JeO2bdtmS8Zx014rgHT74o2awuYcA/2t9UbpA0C8m/8tAPKp83pCS9aCpD1knpXTv2T7lJT+snKXFHiWe0yT8syFTSwxA+9LuTxqhCmRvyhVSJLQKOARqACpgtDukBLdMxWqHFe7G8oz8w2BXD8vy1/H56JsldHqu7wkIHxp3MvvylFuXEWD9NkKzdz0pHl691YBwxnTr5DvtLw+vj29vUMizuf9RWZsctpObuEz2zsV0h0wOza0qA5xrg0LD46Nm6HF0Cvtnt6xwXwn0M916RGynbP9WzrEYu4x29vrxXrOFbi8bfpFJhnV/pzt3thiDgaILORTXhoYsRPt9myStMyR41ZXsFKgkJJ35Ef2KV+QusbY09s6zMEY5vCMQpzZ+YXm+YCYNqLbtRKELpV0TmGhKpGoQsvGmmwbCh2XdmHQtjSWxwLEPZLtiQKQt1XHuV75cSdHwj3M7GtTWZY8aYlzSuybH2Ey1WCHxJm75GUOs03Sk3zJ1tJdvrZKoIuKHBgpCXViBpOWAADP0O/zuAhNzvvnbw1LGebuVgE7ws49Emu+IMC2R0CxZ4rf8F0L+qjRe+YKDN+b1sPXVlUoBvQ6W8atQaBvXKFmvHyEgvtV0u27NlZbkWnK6yFldEAsYAShj/dPysNZZn50d6N/GEufeekD1DEFDXDoyj4C9oLgkPbOa/iwweFaPYC8GKcJIMErnP4eHAE9gtKWHoEHNwKIg4blyrHHtXgAeSuHWYunrr6+3h7wWrb3z9ARNViGTMK9hHwcACTUgtDzJ85l2GoT/n7cZx5Oh7ykebdcz07rhaH+79H+pOduQBIOvvFAe+6yl6eXmWtKVE6OPDIexlXy5gBo9rRW2DkPS78ihdQ+TOGta6ZXBIYoy81YMC/I8zfvh04zVfGjuVoAp8g+vNdn3jEX+65YsMwYhtm+zW3mxZNdltyCBIxvZcVF0gQU2CyTvtvUtPUAAh7DbEtrgzku8If2YJCIUllaLPJKuSWaTAsMlwh8BeVrXJ9tkqg513vFElwuixXN5Bvewy3tTQIvNyxhZ1TEhSsh5JBnd20yh7pTt6Uf8uAuKeS8PnvKtG+UFIknC0Npv0oBp2IBpRwBeLQGCf9vrMq33t6rAjt+Hh6SLUikRBlki/EoyrE2qhAluS+GNLKpXFU7Qj3EyodU+BaZGndZCdvWiExE/h25p9QApk7v8NRdO+dlBSN8XKt8vSD4Ix+wXfl7k7PwsDPEKE7+vjfWFllx6E2KtU/eShA56GufXmJuyMtMDejzi2Bza32JIKLyQQWmh6fHVcYt14Z/vyUBaI4VwWfY05ClTgpo7tPfwP/64S10t2bjPsDvGuBEzVvfAIfIPgEKefFcLTgEKBL5uJd7jNs/+2binrNaS4eAVztSr+12aQD42r7+D/zs4zxrhKdW48HjhsubOTl6ra2tS8d8LwCQG/zp06dtmKepqcnOlzpcwwduxhw7x/Vvl9aZHgsalndASCsuZ+wpgcOD1jO4fFuWHMCzF6LzNi0gwdQmNuUL3dO28kayB4UB5eEAUOBdLLgjhq28Lh2SJRlX3d8gWCoTcJi7Np4K/hY7G56YNkxNqmU7rJw/AGJBSYVprimT7EauwP2CGR2fML2DI2ZDU600BXvtQzR5LMlPE9OzpkJhXzx/5N9hVQrNIhNDuHxk7Ko9PkgZg9pXlPD0mEKHinSaQbGGRyYSwKK2ojRBDhHxZFbeul7J0VDpBK+i21fySJKf+D0cPX9ZgDQJvPJzc+wxlSq/MVPewmwJdlOWLM727dhmXh5I9kFbgEmvwpkYocxrkkCZ1TJnhGyLdX3IbQPIl+RlyYu1znp+8Y2RIkDe302JSyOtUi8dvbNDM9ZLTEhVvjfXlRxpd021wtNngqXotBwwV6lrPKU8whoxackNlSCQgNkdW2PaesUEAGd0bOtU2m1K4WXYzv1jmrSHAwJV3zofLgWElA1l2QB8tfJOMp6UZIMoQiUOcled1Qi8QeoYkSd7UHmVCarQLetJ3CFNv26BX7zcWJXatiuH8JxSJqgCA7t4Z1OFvJfTNuSL93GDqrAckQ4guo0FAsdbG8oso5jKKvdqvKyGAS3GyHn/gn2vBhwCAv1wsutrNeDQvUBzv1utEQJ+EFVAVrv/dLvHYwRW/4t6PM4nfZSP0QisBsBRNQSQVVVVZTo7O1PObjXbp2ygL1T5QO+PKh+EgAkr34vxoGN6aUKhSUV+D7Qn8hsTgBdpF8phIf+SYfaqAgRtMWbzeBKuz5sq1b4dl4ekSpsuKPEfB928wljOKPEWxwQtkq4aDGB/G7ctUiQ9Yqburcsxz12E1So6MZZVZMpryw3VE/AoZd2RvtiNKQG3pIcm0TD5PzlvU8oRdN7BOUK1vamAoLG+QWAp2+zeutE+/K8KmF2+MiyAmDyfGp3vpECgD8hGlevF5KxM4K9Eos61FWXyEMsrJS/i5YFhG0Z2bWDvUq3E1yccEmBkcpYjILhVUi0gxVaJTnPMV0YnRYZJAjn6oTrJcMArODd/w5xfZDLXykN462626iyLYa1wb43yH6sryk2WXl5u3pFAtC5aXW3dMvDnjoM50iQ5aj87leoR5RdxTcxjpgNi1T7fFZ57Rx+ETL9zIXXMkVVBYgiBZGrg4gHLNQs65USd65tyL97S+POTKlJI89xQKkClX2xbbYE5ciU8LFwnwHjYlRlMNLeeZwBthSR6qNRRqt8htaCZMGpT10ujcFZyR43Ky6tTW7zSVGEhz89WSlG7zarNm6ffIOLShG5nBDwbywuslw+B5+kiyE+3Vc5NwE+sYcK9e8Ui5m+LPg4vkkaoIEK1k3nJyvzJm3faiAN/d/fidVurp43zfdDg0L0kr+V8HgQAvCyS2/vf/37z3//93zavm0jMW9/6VvPe9753STqHNm1tbQxLin35y182P/RDP5SyLP3l1R+BNAB89a/BE30EcR5AAFxcDiA3PsK+5FZt3brVgil/sNjevR37y6M+9/X1pVT5cGHcqPZRy3lIIGsDZvr4KYR0l7fU88eKNZ+R5y3MqIhwTXVUE3liieR/2lHDFu9GtRoAIHcoLy9LD3gMDTUeiNcE+nhoNktA95QefFG2RfpoL11MBQ20ndL2TNieulzzwiUBp6xSU9lUo4e16gSLBXpbwHtSeURD8sqVCwBe6IsGiLAxb90SKFys5Ws71n/r84qUqF9kq3dY2oPQ7+Gz3W71sjlSLjXy5AVFoiF1tDfW2pAxI5Erssi3j55Ztn1yQYbZ3tFsXj6zfF8VYjATPqbqBl7SCyqBB3EiKF5NX5BSCouKJaidAGaEey8PjdvJ7auzpUEl5wZNufqrkAwNgDKL37Wqh8yItQNJpF3e0qhya/RD7iXixVHWJEFop4fnt7HEDsGhZlW7gCDhNPaUhOo3U2i1fKmUWsoKfcEr1zuZzBH015fod1Cp9WUF8jbqN29lX/TCMqFQcIZC5heHeGFJ/fGT5/e0alvj/YQM0i/JFybsQHul6gNPmC1645lakLizagUTQm4Q6OMcYHSTL0ilkQPtFbomGVYH0uW24tmblhfT5TBSVg8iyFGRbtjfzxxoVI6kCC/y4vnGPcjdh9znKDDFtlHr/D5X+/l+gEPyqDluRO9X6zkkBHy/a/Oi5sC976Mf/ah9GT958qT5lV/5FSvH9ad/+qcpQ/LVr37V5la7havRVnVt0/OHNwJpAPjwxjq9p8AIxHnwuNEcPXrUhmN27dq1dAP3u3Db411zN3h/vf8Zrx83ML/Kh9veb7fSZ/Z14sQJ67X55HnEdsO3eKpVen4hchmudbnKtPWq5mzQyKW6IckN9NbidN4OSKbj0tiM8slyFR7L1jhlWiFpQoxj6jdbunOXJdAccXh2t3sbBRzO9i4dAoLRqaLRkgPZuNEMSSfwqb21oq/csczSPoV78eRhAN1O5dkd7+pb6sd9QEIESZZeTa0K15ErlyNQCGmiSNUr7sg7NSRyCBI12E6RRl4KAW2QOrpF6mB6RuSRbxw+I4kWZLjNpLsAAEAASURBVGQqpS0o4oWuCWHhHnnyaPvsThFMIpjDV+UBZHpmx6Yl5jDewqbaCitpk6lxRFeQ0HJTQ705cqHfnc6yOWLXN3LKFD6fs9qOw6pxGzREpY9e6BGgV96mhJ3zcxJSQEZeOn47CL/cun1L9W7X2ZJvtwI/KEhBiEsnWbSpeyC/cFpeyCT4S11PxRhCtEEDqBF+blPFGGSD8FJyLW/p9webFz0/ZFyOSm8vaHj4IOWMK7ytj6rru96yk6cV7lWXKhGX+tJBGsJm5f1RthCdvquaMAsWN1RbTUAHcHnp2SuPX5+814OL4WBAapOA3rBo14BDDZn1Cp5BIkYHDfhrEEh+x/dvlsbfevt74P7B74IJ8z/bBYv/OUDolgEAw0LAbv39nK8WHEIyc8xkx1bmOMLCypSAQxsVD+D9JoHgwfO9eO3t7Qbd04985CMmCAArKirscdzP8Ur3df9HIA0A7/+Ypntc5QiQA8gNK2jcrAFZhH8Rjo56IwfA0ZabfdxNO6rKx714ANEfJGz82f5Cc+1meNhsg7T2DvdGe8x2NxYptBu+LWOxz+q0RW/fqTJyh+Ux4qE/KrAYND1DTat0iDPkmeuUlhpSITf1YCMMd0UPUOoFt1Xkm2NdScZtsA++72+tNAfP9thVfWPJMK3JKjaNrXU2+b9cInZD8vyVCYhNLAK5YF9Pb203L5y6aBej79YzmnpuRSWlpqOmxIaGySMkJDypkGvQntm+QQzkC3Yx+YEXrLZgshVA7nt2bVQOoH43ajsuoEeVEiqc+Ma6F1SX2NkNSaBYnUK3QPNnxYQ+3XPFtFWrBq00+kp0jLBMxxXGHZSeIr/Jpo6N5qyYq1G2qbHKHJeHljDs4KS20+Qb16W5qshc9Orm5inXDfJIngAu1VlqilUzWwCvoj7hIcNbidmZsE2e2k5JBLxIUB/Zj2x5UcE8/F3AjmW8t0jYGTDO8ePFu6b+qKiyXYzgYFjZHd8B1aE+dGl5SBowtll1dREzh6l+WS8hPZOJfM52MXd7AWgyCEoAQ0AhAPOYwrVOwqhGpCVKxZGj+Y2zCbAIqCSf8IoYvsP6nQL+yPvbJmF0wsMtAsyAv5bKBEMeryCSMMd6J83+tgobAq8qSqRhsP+w+4EDhW7OGGHMmZxGIOu59/jg0H2OuhfZju7jf0FwCAjkRRjj+HxCCqAQ2Rrm73jHO2yaS5mq51DTHM1UUmcgz+3evdvU1CyXxnklhw3bOMy792M/9mN2PNnvb/zGb5g3v/nNr2Q36W0f0AikAeADGth0t4kRiPPMAeCCIWBuxGfOnLH6fivV92V7jFBx2A2fdbw5U384rMrHWj2AVB9BN3CyuEP6bSOmsyTDFPPQ1YPQudp4MK/Xw6xM3h4eLzyuCS8ykQ6Hx4Q6vBU5+iLJGCob+GG0RslrnIwJ6+IRQpIkyuPDOW+txHuYAGyDM6kAJVvApUMsy7Kcu6ZiQ6OkVW5ZD9yV8Wk9WBIPRProFPA5EuLVYx2Gt6tW5dT++7jzIBaYhhYYwxJQlvdxVuPeMzhsNtRXL4G/xJbL/0c4+eiFPvsQTqwVaaFCgsx6oENUuI4Ei5ioB093Ld/YW9LRWGO+dfRcCuBDI6+9qcoQ+gU8kTfn1w72Nl/6eEAA8cUzl+13WMbWBpKeMPp83YF9FtzsV/4ZV5k8zGti0Y6IRYwXt7KkwIzfxLuXGo5NdJb4f6dkTYLeueuETjVRkxcQ9lwE+YIeCKl+40yCSmF7FEhwRtZAp3Lszi2Wq3PL3Xy3ygmGATzWb0CoWsAWQEedYXIMZ5Wfh7gyOXrfOKvYb8BIWyhTTiDXDO/hJeXsTYi8QYi3XkBt9saccg3zzfU7yt8T2UOBVv32bwjkZZqGwixzZea2eUmkkc367V4cnzc7BXgBloe0jNKGkD/263zRIUxUyTECgHn2+GA2//lb9gSOaPlXB97C7hV4/ghp4j3Ds+ZAoZsHe3OA0N3fmLv+g21f6ffg/S0IDv3+n3/+eYP26jvf+c4leauvfOUr5sMf/rBdBkC8X8Z+6PfP/uzPlrokXefP//zPbXlOjvMLX/iC+Zmf+RnzyU9+0uYLLjVMf3gkRiANAB+Jy/DaPIgwAAZJY3h42ApHo8UVZ9xguPFygwxr66p8wB4Oq/KxFg8gx4T3r2nTTvO/PiUWsTwbFt4FqmAckJDuc13JB7F//HjmGktgDCc8JjzkMUJhPECZyhUuq8wXU1PnhsECJcRFmbJxyYZsqc6PzRdrK1svAOl562wvyf8AjkXKPzzUnerdyS2QtIoe1KV64MuHZG4rgX9AwPaW6uaGWYNyti70p8qiAAr9MGh7fbO5qmtzYPcOG5K+dm1K2nxD5voiA5h+2+orLSDjQevbuOr5MmGUnBvRZx7O5CNmyAMCKWVoXBU/BKCxqlJ5n4ZUXk6eLt/47sLHTarygbdsStqGtZXlIpqIhCAiyC15E68qhNwn8ecOeSBPXk4NYfr98Xn/rm3m22evBBcvfUc2p0nHTDS3rTwv8RvVuEPMmZHnDQ/c5gbVc1beXpRR6eJITF7gNuXDvRzioXP97ZX3NgrgkTd3USLNSKqUioFMWBqmMJeAF5Ux5fjN6MVgejQ1RaFTAs4nvPrGTfIi46FkjHl3CIJZwsrPbqwyV+Q9VrU8c0osaAxwiscXKUty/s5PJK5Zq8YqRx7NwjxFAIaS3tLybGk2zmdYgOjOb5fKGVLtBCb8//tUsxjvSe+fa7OWOfnBeNX27Nlj5anctnjbMH6fvufQAUO33rVnfr/BIeDUvez6+wn7TL7g5s2bbW1zvG5vetObwpqlLPu93/s98773vS9lWfDLoUOHrJ6rW45nkXDwT/3UT5m3ve1tbrGVz8Hj5wwNWCIw//t//+80AHSD8gjN0wDwEboYT+KhuDfksHMLysD4JI0wodawPsJAJO3wLMIeRs8ryB52/bAtN1du5nHHyQ3s+PHjZufOnea9/2dgEfy5XpLzjZRZU0gqynbU5YeGfvEezYvU0VKWGyvmTI3WXj1M2U++wmNIp+ANAYyOSVZjTkBmUoCUh3GUwSY93L3cg0OOmQtF7pYkxxGFsDOyCkyjwpjVxXny6hkzO3fd9Et6ZUZesfVCs7MekAvur0j6cfNi3g5IbLnXK8+bmSO5Fnl5KiV8jS7eLXmB+lTPN8qKlWumi2O9nng+h+SpdJaRlWeadT41An/kjo0IEN5RTqHPMnZtC3U8MJIBf9iwwrhMvtWLHJKVq+oSHaXm1o15W41Ew2IGdM7zAkTYzs0dkdUwXF+N9XXm8KVUcOzWMd/SWGFO9oya8tx1GgMAmHQC9RIA2QUiBGQYmK67pP9oQZkuqPMi8518T7yZrWUQHiTLUyCikLZjWzT3eJGgysdT8iDCR2cbPJE3tIzfBjWY0Y0kdxBJFmcAsw0Cnr3IuASMOsDkMO4SAKefPhE7+lTtg+kpeeYOLr5Q4KHeWCdtTR0fv89vnE1efELS2xXSLdI5f/N8cnmOznenWMx4DI8PJlMjKJmHRzFRmSTxo0bOplisY8oHAv54Tdq+fsz+rTuBZzeHMBHm7Qucms2Xw5sFWAkCLd+rF+zLgb8HDQ6DHsDg8Yd9X0sOIF7Bt7zlLWHdLC1rbW1d+gz4e8Mb3mCeffZZ87d/+7dLy6M+oLjwsY99LGp1evmrOAJpAPgqDv5rfdc+eKOUGiQNbsLkMq3W/D7cNoA6wr48AMLYw66du6HHvWH7IeSDw3fMt7rCvTY8PG/I5RMFvqrE6j3tPdzcMbh5ncJcJz2xXLfczXmwjskLRk1WpjDbVCqQJh25ZgHEdQIT5P25ygp4/ign1zUYfvyuv71ijL7clQCIAIdB5V0xJS3HPLtd+omSsXmmqkLh2XmruRfUFmyvLTNHLy73kgFkhqd0Dpq2t0k3UOzi9cWS+KkuVQhRIE1s4uHRcXnjEkK/baoXfMyr35s8joRXZkB1kStU3ePlRbJGhsSrm5prTXUJoPCuSCvySgoUlktepmsg1evp95UrL1hOfoE517fc+8fLQa3OtVOh6oz8UrO/QvliAoSTuh5oJDp5HPojT/FQCOnC7Yuw+aDO3YV6EVf2DTDUUFlka976y91nKsIgvEzu3ZJNJgE0xI0zV+YjSSM7VHf3vNi3YbZ3Me+vXF7gakm3FGpMcICNy2tKCbugh48+tjWooocA4z5tS44h1UKO9U1aUsa4SvBhDZIcqhcbnHVoDJ5QTh/mcvy6RmbFick0FxU2xpCY4QWBdq2Lf1C6BJb4cUqpDUWZ68zlRX3FN26tNt/7dIcVZkacmZy0wcFB+x2A5ogSDhS6OfcGwB1/+4R+29ra1kyaeFjgMO7+ZAcs5D9YwKslgfCSHBS+DunSLoKJDPiDTPeJT3xiVWHvI0eO2LrtUX2ml796I5AGgK/e2L9m9swDlLfkoAHe8NSRwAzpgyRnkpfXYvTBDdIZ+8Fbx5ykZ/8m7dq4uQOAvGHTT9AICSFDg2B0aVWd+eC/PB9ssvQdfbJDMYLO+RnKD4tOBxMLNFskgegGSIUg9RFl9QWZ5tzVG9bb0zeZChDxDqHHRojtxq08SwgYo+KFQrZ+3h9J9Of6o/fBvrcLQDx/LkgeyTF19WVWQkaybkYOGrGLL0cdql3+9OZm88IiAxmCwoUrqfstrKw3T29qEqFj3uzbnm8GJex8ZTS1DR1Rwu2FU5eW9sV1H5DeH5OzZ8X4vSDwt2vHVgtkFgQyr05IbkQhY8gkgIuWhlpzYTAJpNy2zOlzToBv4Lr07hTCTjWF7ZX3CGAh7Hv9TpY5oHrA1DqeVbh3SnmB4wJ51FEGROUprWHYB2+pnZmtIkLEhX4hYIQxc+mG0mnWm4zbMsTIGbShf50vIK9cOXt4RvHMQTy5IpJKsb4jTeSXsfM9fHSL6HJ7VbFtOwBpQ4CWyRl5rrxsFGap1vDt9ab/mjQYVcWDMHOxXlDw6hGGPjs4LbA8ofDtegv2KlQ1pU2kmKMCkFe0DRVw0PrbUF1o2dIvLVZZIS9RB6gcyXLztu/p1D1DLw+B+wbXzBElAIZMePIBMJAlAIeAQOa05T5BnXEAogOH7nzuZe7fd9x9xvWzVs8h58E9lPsUcybM34frmzn3VM53tQDQ3zbuM56/17/+9TadBtYv4+WM9AyMXD8iO4TSOb4vfvGL5kMf+pD54z/+Y9c0PX+ERmD5U+8ROrj0oTzZI+C8d7wh4qmrrq5e8wm7PtiQG7mr8gGBJHjjDXbODYqJG2vQWAb448ECk+2D/+e8PEpGpb3W2XDagrx9CwBP3Yx52J1XxQLNbBgPwMXDjhwo5vl35ZG5nWn2NBYkQnXaBlZfgTTm5DSxgswXBQron+9Ba1ayexwoELzWg4xQdnDLxHfCxBU6uG+dSwUvOapyQVI/eX86ZAE36fRdTIYEg72VCBxcUUg3zEYkhcLUogf4kKqi3MzKNy0qI0f4OEss2pGxCYV6x+3YbRYp49D55bIxfr/tdRXm6ycve+eUbSrqmk1jZbH1HN2Yvy4vpzEvnu72N1v2+YAYyC8uAk3IN75lyZvXUlGsUnAtNoxeWFYpoDlqZWL8XELCmdV1DarqsTw0Sn/o4hVL7PtQD3p0y39LGarfXCaAuEmhX4giu1urdK357SWOBhAOM5uya0MCUh0KfbJ/fmPI2uC9Zdqq8OxpkToK1iXCvTxo1+nCwabVT81q6eHxrdGYExInJIxpU+vNG9T1qSnJU8nCGykgr0Vew+H+66Fewx0K2XaLgLFLpBFC0/SP/NCpK9fMBknM+J5IRJ47ldsHQHxOpdrYr2/PSB8QDyCe7pHpJNim7i91jk+oHKIDefwt0BYRaECg+23XKW9xVCSTTdqPhshEVf0AJOH9YwqyVB04BNDAlK2rq7PMfr4DnLAozyHLo4CXf65xn/3tg/eoIDgE/CFhxT2I43br/f4dKHRzvKDY/QaA//mf/2m6urrs1NjY6B+CPTa34A/+4A8MhDnObaNkpD7+8Y+n8//c4Dxic9Xxdn9aj9iRpQ/niRkB3kjDblzcqL7zne/Ym1tHR8c9nS8gjSohkDy4OZFHSM4Jb/GrMVTtCWf4N0uOlRAyfxqs6xJr8Sc+8sIS+zDY717lob2sh1SYIYBcIc2/0bkQZKcNYEmWKb9qaEriunpekx+FhAbht1whHPLCcrMVNpUGGlUXkH0hP8y3DaUZ5vxYOFmDduSEoeHnQnL+tu4zod/DlxJ5WYhB27w/MW8hbAxcnbYSMjBHj1xaHiJ1fcAWbSovNJdGwkOMAONN8hQWyVO1II/aqLT2KNmGd8w3GLQQKCYD4VG/Tb2A27R0RQA5jQovwia9qby9kavjpn94TL+3u6ZTrGCqU9yQly/K9m7pMCcGZ5cABu0AfDUagwrlu+UJbJWUltnrQ91iJGocC9X1ST5mfmGJRJ9Tz8OtZ/5UZ605GEPaIDfujJi3QdDk+mD96Zj1B9oEqiP6J6SK8DeVNoJWKM8fXj+8fxjVPajckaffHyCS8C7SLEEjv5DzqROgbJQ3j5Jv1O/tlLeOUK87D3QKNyknkOtJdQ+ArDNeSiCzIOkC0ckZv5P/q7PShpIBgb59t0glL8nTTvs/++ld5k076vzVq/6MzIu797ja4mzM3zzkMec19Od4DjHuLS6U7M8Bh847Zxu+wv84lmPHjlnASf6xu4eynM/M3cSu+IwdPHjQ/MiP/IgNh68lncZunP7vNTUCaQ/ga+pyPzony00WoWesoaHhng/MeQABfpQhwvO3WvDHTnlLDYaQyQnizZu+eFv/oy+fW/bQdwfcVLzOHNaDLco2lGaZc+OpDzG/bUvhXbEgE3lg3L/RfGNytrux2By8mGQVA7Ko8Uu+XKa8fjfm50yuHki1JZkCifMCh8uNknIvdSfDNcEWePa6JdLsLEyz7pnNDbbs3NObmyzJol9klIlFlq7bbl9bjXnxwvK8P7ce4ERJtBe9kma5xaorLK8eYsG39FAeHJs0pQoFnu6NPl5kWPL0sB1czH07LWCcNLFIqxqlf1huigoEZOsEnMU+RryaEm++NdVUmO7xm3pw+ksTTNhBSZ4w7ZcH8Rt9gGu5pDJKzPqqUok6J2os5wkgZ95dUGh3vXTrZs16AdarqrWM58631tJ1keCMdsikQLzwsJG/uV0PEItaHyfpAsOc8ZqRx9QZhJNqATc8v+U6l1kBaUg71OG9qvAvEx64FuUiBsEfOYo7GktAyRJnLrTafEOLOansC4Yzx9lZlW+K8/OspxB5lw4xiB34qwU0yvOMfEvfxPUU8LdTBCS0A8+qgo4P/gCleDYPKgw8L/owVUDeuLXGndKa5gAlKvng3cf75xsAjvsHE2LGvgG6guCQMCjA8EGAQ3IZeUmGbIGtxnPIMRJuZZs0+POvXvpz2AikAWDYqKSX3dcRCL4VO4YuoRlucnzn7fleDADITZK6vn6Vj9X25QCka48XkfAsXkTWffPCmHm+OwnAXDs3h2gQBBBuHSHVwdSoo1tl5zAr+0KqgbhGWRl3TV9ANBlwwUPZPZh3Kjfw2GKZNh7stXpQ8mDnQY0IMFUkjvUsz51z+2DeCXs5hrWKh6tbIW407nyrkZQKD2b2KxRtzsWQLNhurwDi4YAHEfbxeS/37qkNDeaMNPd2bOywocQbYgkPKp9vyGPs7ulsNIdigOZ1AYisnDzzwsUkiMworDbNCsEDHFThzLKPYfwe6/Z09PyT0+e2+ipzLomL7Vo7/gLaioBaow7tNy+5F4B1JkMeXNi9JfJyEgotU24nUjXlFbcV1r2lnEOBdnkkIY5w7rcBi1o+HfB0JXqXt0leYNi00/LghRm5dBeGlH6gfeVJCJtrRc3iXJFF2A7v74zYsuTNUSVmUiFcQsAAL8gkPkvX73+PNArJOeV3RIgWLyGAbFi/gX6VjhuWxzpoCDLjIZ3XuXeNsT7RhlJ0lLpDRgagCfAbUgiYvNnD8v5haA7m6JhPSNplX0uZQsuJcDveQLzT6Fo2lmVa8Ef7N+9rtOfH57UaWp6Qu/gbD96b4voCgDmPX7BdFDjEgwg4ZNsozyESVsHjAGhSZWPbtm1LdXaD+/S/O3BIDh5yVbzEpi09AiuNQBoArjRC6fX3dQTwthFe5UbKzQ0CSFgO3mp3yrbkyEAgCeb6rKYP3wPY29trmPD8AUjxFPzZf12I7Ka9bJ1Ea1O9Sn7jbXUqwxVTEaSjqiBF28zfls87JIZ7NKYGb01+pn2Yuu0QIO7Rg7PHJHPVNsv7l6EqCjzE8RoCCuZETsDLd1UVFzolCn34chIoub78+bYGlbW7mJTtcOsAhEx6RtuyYVMLqusqrT3yzLIFXoeU9zcosIoECfp9Fz0vo+vDn7epXNwRhaFpf9oTXsb7Vl5Va0ON6L2Rc1dbXmxL1Pnbu89Pb2kVeEk9J0C68+rR7sDWDptblllUZWpyxPIVkSNfYGtBYOyacgUnZ+fMnfxyMy+wF2W7JF0CicE39jMpLxgTYGzq+rpE+TK/kf3MrTfb7FRVmOPKfctaJ9Au7y45o7Zustbqo6ksUN6dPHSVqpyRlalcP0hP2gfeVGpEZ2jZ3O0E+WdWL1JGtXqdIVL99XPLrxvrAWPBvFJSEBrFUqbsGiXp0OrDM3luOMk43itwRhUaZ/yuIMBg3xZDXoeWYkUCpsjWbJAo9YUR+km8EXGeVPZoFjmpTF5IQCFjxzn3aZ/YBh2jyilbchXLLy8uBxT+1P5G22at/wH8Lly4YAli5FDeL1sJHAIC/XAyuqJ8B+j523JfBChCVuF+RnrLao1713ve8x7zqU996p7uhavdT7rdkzMC6RzAJ+daPrJnAkgD+PGWDOGD78i9AL6ee+45W6VjLTc6d6LczFG+J9ThwiRu3WrnaAVSHom3cPJtOC7HKPzyySHzd9/qtg9bHrhM9gG3+JTLMfLcyNuUrxs2IIgH012FZa/rxk7lCc6PcBh2W083vD+wNGfkESJ5HxAWrP2aaJ2QyKAEGSG1KOsszzEXRqNdjJtUJ/jccBIMBvshaX+jarQCdAFdMIP7RXRwuUS0hyDQNzYdGQKnzVPtVQKI4bmB5JERKmxVOHFKjN6rIiL0yKPns4/pA1JEY1WJuRyRP0ibEuWnZWeLpbqYG4hXilAi3i/Cx9QDZn8D0wuW6cw2YbZ/U7M5MpAENWFt9m5oMt1Xryvcuz6RQymvIbmKlECbkA7iOqGlCYlzk/sWZbsUKj0Wkx5wQPWi45jdewQwIUBEWQcvIBPhv482vVwMCGAhzRI08v4Q/Sa/tEC5fuSUknbQp/ZWj1C/ZUTHg0bo95zq70L+wMvYL3A/JICMA7hWnlU8g85qJP3SouuOZ+vFS0nA6NY/2y5wvSDGvqRe3N8I6zhniCWU4DsiNjCgENupVIjjehki/eH7FPr9nf9na2LFGv7n/kN+HKFdSBWPgnFMPjAEKBKBYBkWBIfOA8kc0WfnOaSfn/iJnzDkM+IFdMsfhXNMH8OjOwJpD+Cje22emCPjZuTybrjB+QxdwqyEgNdqvDkD3gBrAK17NbYFSKJBuGPHjiXwB0D5i69dsGWrwvre0UBVhMUH3lRSnNi1rVS46sXu6NDrXtX7HZ68qwenAIZCZniLYA0r0cyCsZI8hcP0AIyyTQJuZ1VFIcoy5YGDsRlnDaU55kUvTEpbkv8hciApcldjwMO9VwAwyir1QD7ZF32e5H0h+Pw/Z5K5gbl5BTa/jH0sKBQ6JC29JgHEFy+kspSD+2yvLTdHLye1/KZU8/f0QPIc1+lgW9WmpcgoDK5wrIgv09Kwg7l8bTFPsEHkkXOjqaHs4H4ObKg3hwcS5xwWmkVjsUk1aQuzFgRas+21k/PQGszweYVaIfacHZyUx1XyHbjsAgZZ4kjvcmDkmnXIs3Y85voClABIYUYpvju35g01dwsUFqZmb6Z+58JbygXUsckTTEm1MCNf9Ljfr8Bgs0B2rQDdDXWQqb/XU5Jv8W2X8vZeViiXl5pt+qz3HOXwTQlMqva08gp9a1X1kEp5cc9L+y8IMrlPFChkvSAf6OGAoPqC9r1HVXYujMyZZzsq/C5X/RmxZ+xeCWer3tEaGgLwKJ/GhHF/JC1m7969prS01H73AaLTOCRHmXvXP/zDP9goSkGB0jhEiHv3u99t5Vl4oU6DwDVciNdo0zQAfI1e+Id92uSl8GYL+PNDL3xeawjY5RAiXgp7l5viKzEIJMFawf9+fDAS/LGvOM9PmYANkhZRViPQdEwltQAGsH+ZfIM5iceUfcAERp8Posbtm9Ivk0skW/lthAv1bF4WcnP97BFjN65UmPgLliHr2rs5AsVOKBiJjZflwcpVeLJZ3pwSgSpkSage0S92LaCe5XFVL/AojYoY4Ru5b+cEjpw1qo+LV+fNtrZ6K/FyUy8EgDZkZZztVv6gD/7ccn++p702gmyxzlQJYJKvWFZcaEWYh5WrNj67YOYCHjIIKaeGU6+Hvw8+71Lu2kuLof1RVXAJWltFnjnUPy0gJFSYlWuKVNqvSF438vIYDxjLhHlLC1UmThsL9yRMAA2oiKwP7HCbv6eXEzzcvChhXPX1unh49vaJ+Ytnmd8RxAjqSuPJ21CVp98Xcj14/0hRSKYpdJRkCfyFe4X3SHcPpi6EDer6Lqhvwq698uxViYDBbzZolQKTVJ/ZLG/zwIxYq3a/iVb8XnoXRcR5YUFGhjKF9BUEf9vrS+yLUFgZRepjZ2vcjvRNWTmj14sJvFbj3sPfuSN2rXX7h9HevSRDTHEEFB8c+sfA/QFgODk5ab797W+br33ta5ZMR1k25Gy4L/7Wb/2W+c3f/E1/s/Tn9AikjEAaAKYMR/rLgxgBbrzktLjcOn8fQRKGvy7ss8shJE8G7UDy/1h2L8ZbNDmIPGBbWlqWuuBG/JFvJLwFSwu9D9vri2KrdmyQF+VgjPevsTxXoC8Jbryu7cdNystzkh482Psketu3mDtFgy11uRaYASZgVOLRWS9vgKv8MapQbt/V+BDnbuWHHYphBgNQrowlQKwlagSqR+QrZL5HfSDivKet2ubXDUlYOmi7WqLDw65tUZ7Ch+MTNifRLWNeLoFfQpUAIeFOMVfzU0Ch33aj5GXCKlW4NlTc6BAz+DmRepKWIVFiMYUFyAmFZshrmpuXr/inSA5itgawod1se0PxEvhL9pP8BGkDkocf2oeEweRsl3I7j8W8IOzWPpK5hQKRU8lxzRH4g8jCbyLMdsszGCUUXalcuyGFrZ0BPKsETiVtadbr3EcVQidf76LKu4kK7Jqp9KBAvuetZLtNCgMXybOLx+rUMAA/NdS8Ub/hMwoXAypJk8Djh3H83YsVP/hOqDpXepQn5VXcVifXbcAQg16nbV5cJNr82K465UkuulsDbaO+8sIIKYKwL56yR9W4TxLZQMB+JcP7x32LsC86e6973etsZQ68frOzs1YSy3kVV+orvf61OwJpAPjavfYP7cxRiedmFHbzXUsIGGAWrPKxVgDpThqvIyETcv+4kfr2NdUvvSjtvygL6tb57ShvdVoJ7VGGaDSlsqKM7Qkdxhk1bTFL+pCHBokQ36iQMKT8wt1iT/KwBKSNKFdrUMAQF1Oe9tEVAHT+9nzeK+/SS4HwsN8GweNLKit3Rfl2zgBy1UIT5XjZBIKoyXusxwdcrmVyzn4OR5ROmxBblWl/R43AXYLUUaYSbw0iKlA/95b2MSr5FYgo83cU8NXvI8paVbkiLGQKEYYJe3pDrYgMieNVNNPUyPMKozofIoNCdWCcBRFqCNuPKbweBhC31MTXg97XJGLQIvM17FjRlHTM2LD121V6DVmVMKvQsXaPpoZnaUcFkmoJKLco/HpdLxSAU3JLIeiMXr+jSYQj9dsf8rvFGzmhFAfJIZqmUhFV1NeVaXlwh+dUi/i2SrKlenfZH79xcgDHtY+jAaCLp4/zb5A3Fq1J1t+VUHqTxM5PCTA6q9P2pao9DFBGIsjZj++qdx9XNeeecebMGfs3HhQvXlUHD6kRoA1yCqFf5+1dza4px0Z05dOf/vRSyJf7LKS4tKVHYKURSP5lrdQyvT49Avc4AiQrB0GW62q1AI4beViVj9Vu7/bHnIRpCB9sS64MXgzf/u6bl/yvKZ875bFAoyzKtor5G5fY3y59tEOXUvfn97W1Xtt3R4OmzfK8IBgcZZAgLgsEUC2hL1C5gnJfeNSalNM1uQiueuUphADiG57FS5J9iTMqQxzrTc39m7kpgotY0d2LzOgNFQLXCl23y2OFxAcEChiegEOMuraO8Rm1r42qfuGzlCdVSYPJt2ckHUNIcX9HrRbfseXX+nVerioHYtHZ6xXSvB2da0oFi8Me4xpiQjA8v0vSKDB2MeEhAR3JvUjyhXElLFusz4gtk5+HBA+e0+saE0KzSLBAKMErFmWURDsX+9sqsnIqbnvGr1hh1gKBMkgZVeofgWSuJmFhUgjGFKKGkUz5tW9eSL1erh+8mscD4A8vX5tC8+T/DQlgXxPZqPsaPSfH/saN1N9xh673OkLV2jisZjZMXo5vL78dhYoHVO7NWXXxektC4feL1/CEZF8Gp26and6xbZJnnVDyWoz0EErAQRJ7VHPiuB+hSwhAdQS01Zwj1Tbe+973mn/+539e03ar6Tvd5rUxAmkA+Nq4zq/qWcbdeMkBJOyxkpHATbgX7S4ApbO1AkAHJB0ZhdA0hdOdIXExKcJAkwgSEBh4kOJZcr6lMpEzqqwkhzxOAhR3FX4uLiqw+U2QONDd26dkdQACBpC4pRv8DXle8MTFAR7hLgveEluG/89DNM526+H5UkACxbUHEBAaJofPgShICjAuqQDBQ5/l5QIVL3alyqi4PpjjHSOkGmdtIkl0SZKGcbs6l/QS2iob8kZR7aREod3BaUSHRZRgoALG8dxRibAYx56tP4ycCd7QoNWUFSm8m2uqpXc3LnmU2sIseaVuK1Se2pIxuCM5FVjeUYbY8rFFYghtaEmfTBhyJ+sFyK56Mix2xeJ/XDZEl2G+Fku+Z70uNnl+jAcAlZA7VWAmZ5ELmZe3PN8yQPXzs2PDGBHirywuEIAGWApg6pTnZzgZheGbcs03IgAe17NL1TnCjJDsqDyg9N8i+ReOkfFBh29c4eIxeavDiDCdZdmmSyLa9fLUAVz7VX/64gTXecE0FHK2qVZdkG3alRv5Uv/csmtN2Jy6wLw8TYmk4tfUTv7lGfOjO+tSO13hGzlyaOlt37495Z6xwmYPfTVAjjB1Z2fnqvcNaHz7299ufvInf9K86U1vWvV26YbpEfBHIA0A/dFIf37oI7AaAEduzOWIKh9sTw4gwC4OaLoTA0giGg2QBHy67d36Tz5/WbVOU0Oqbh0POtiTQbAyOp9oT/5VnPdvvzTUXpJ3Dg8beXt4jAhloomGTylfD2Pqzd7QA96vguD2zwP6ZAwzlHDdFVWviDNKivkeRgDuZeVkMWEc28RstmkFFAoMWFAob2GP1jtP4W55wg57bNyw/eWKfRoGp8BYI7MSRb4rL6MAxE3tP1vgq07gjBq37A9P4rAEsgEEflgwbD8VAkSDU8vJCbQdFtAF1CHn4kqNCefYvEny4XIVCscK5aU8Y+VyOGKuRapxnXomkkSK1LWJb+gpHvE8iME2+yCOqIRZlBH6fdHXFJQOoW/7KDeoWsNhViqxaT+vLtiG0K/P+mWMGxRyhY1bpnO/ovSAawoFd4uIw+Rsv15kXG1et4x5aW6mxLTvmHaRRbrH5hQSTnpWtyiPz/dyNutFyqY1SBg6WxVvgn879NdZLiKYIPDpodS8VUK/ZwQMAcmIQ//IGsq+AZDI+4NQcS8SUxzXwzBePru7u5dksVa7T/L+gqHf1W6bbpceATcCaQDoRiI9f2AjEAfMAGBxMjAIpiLRElXlg+0xcvp8dnHYyVABwAFJV3mE7R0LmVJY/3U6XM+O/niQjgQYu/5+ZiKqNSTaqCrIYr1VvFXopzH5Bnv00iIQo8wYVSSqSgutPAyeIB6kaOD5peL87XcI3B2PkWTBy9M9Eu4Jcv3saEoAxDGRINBjc4aXrF06fXgK8Rq1Sh8wUb5sOczbIuHoMwPhoMz1114jhvFi7Vqcd0PWk+XW4lFbZz1dGytz5YVFO/G2GZtTeNPb3Zb6UnMyhJma7EV5a2L1HvUkT9ie68yEUTnl2uCM1WcE/FYX59i8v9zsLAtgb2rfJQV5qlARPW6Anjjwx4vD6YB0in+MMGnPxIR+N6lSS5weYLt+l0HZFPrnmm1VyBTQdUC1e2EM82KBfl//NVUlUd7kGZ17mPe0Qczbo54US428tk0SbaYe9d0bc+aUTUNMBan2nHDXCmBuV+ieS5WQjLllNolI4gtK0zZfgL9D1/eq2NhXppPhYNuP/qsvyDBXRXYgxH5Tf9+V8iKu1i5dumT/rh8Vvb+w43ahXwhofi3ysLb+Ms4Nhm869OuPSvrzvYzA6v+i7qX39DbpEVhhBHwAFmxK7g6kDwqhR1X5cBqAKwFAanaSDB4EkmzvWMT/9GJvqIeC48JLR5H7KGtXyDNuPcnvcd479NfODybJI9cVKrw+JTmURe9WuRL8pwQw8cJRZoxqG4QM8WiR6wYwnV9BT3FnU3ms5w6A6DyBwfPEUwh4LG1db547nwgPE/JGoqOiRJUjALViAQOskIqJswbllR1doTzdlqZKMalTw9DklzUon7BQMip37yxI6+6G5HBEhgmEdN2+N9XBiI0HotWlBWZ4Ma8PIGQZ1x7DdpO8kM9dSBwHtW7xisJKJv+Oqir4C9dJZ29bbaFAZILtO6NQ+ywHhatNVqNtRqaiPYj18pId6w9fL6xtr28wDM7LADqK6PMtaLz3iZGNpwyQh7dzQvV8yYu8dkPVYbzzsQe0+B/h26jjIp8QwWj2gdTNZbGChzXHy1xlgVgyrO/67FB+a4F+kw0KucPq9c15W1mGYPoeeURJEZhZyEwhEvnbIPDdPXnLeox/uvOW+Z//+R8byvXFkP3P7l6ANAovek899dQr0gj1j+VBfAbIEblob29fdfcu9PvmN785Hfpd9ailG0aNQBoARo1Mevl9HQG8gNzsghalA0hohJJx6PNRqSPK6Jcbv/PihbWjVvDRo0dtLlAQSDoACrD6/17uC9vcLoN9GSyd5Tcu1YMyznhwxlm+AEWcdXjSMjA4gxVCEBa+Ig/jRpXc4qGNIZRMZQ8X/hwL6PEF97dzBe1AMt+QmHFG+JbwKpOzPa3VAqm3zYGOauWpydskvUDqz/pWrdJhAxGghHal8oidCvEgwl7tW6w2sV/SM8i+UOautiTH5i1Sfo4au+QxjspbeG0mxEPlHcg2eUzj9BrJzbt5OwHi2IwqLgPynvl2QPVvv31xObkCYE5puW0C/kPXbhjK/sHIBmTbvD+tBx8SXr4qSaDOEgkCFxUKHMnzqL8TIDRi5BBNBnXO7RKcBmAiC0RO3pxeEOYVes0REASchdk+iY2/HBF27hRYSykzqGNpkYcPiRn0ClkHkA1aZ2m2uWBz/ZJr2nVu6AYCTsLC3LCCT4nUwflSPo+cw5cWvYudenG6pDCybzCCa+SJdW0Yy3f8+HeZEpXs80WRuUe4kmq8xOHVZ2I5f+euzBqSUQguP0o2NTW1BFLXcmwf+9jHDGksn/vc5zSeGpi0pUfgFYxAGgC+gsFLb/rKRwAAFgwBc+NGoqW5udlOK+3Fgbiwdjww6IsEa/KBguY8gF87M2wZk8H17jv1c6OMB/0Zz3sXbEcI8NSVpHcvuB7v3skQwOPakSLoQsNuWXCON7BrWHprqsDgG8+IOnlkNtYUW0CGoPSgvHRjYgkH7WrIMr/NruYKybosBzt+Gxi+ZwMs5Vp52Wp1DHhRAQnnYsaCvjbKcxf0/vn7IDzrwtO8UwzLu8bk297WKjNwddpsrJS3Lkd6dQKjk/KKjSncCLhiXMZitBjpa59yHZ3gs9+3+0xY9LiATZgJuylseVc5nQo3B47NtadyRoVkc4bEdrUmQWXfIG8gR+QAvL+Oz3sE8F6K8HAWChh22dq7wa0S3/FgUgYQbzKez96J68pznLfTdoW0w8CfkKlRJp86WNBLRrZ+U0Ui+NyyeYDV8jpeDQnjsrcOhahvlt41k/Jg+7IwkGDOeXl/gGM8g7TBs+lsn4hNAFMMAhgVMnwDMN9UKUD+1pFS4aUScMRnyF785gCBvrfQfWb5wwZSgFXyE9va2iLVEfzzc5/xGP72b/+2+dd//ddlY+DapOfpEVjLCKQB4FpGK932nkeAm2yYBxDw5pM4AIOUeKPKx2pZcVEAkIcCfQH8uNmGmdv2s4f77UONMl8AFY4XkICVKB9teHLaeiAyMpUzqAcKEh96blrbqBytuBwwyBtxuYMd2v5Qd6pnKdFz4v9tqsgRV1O2DAAZkQsHQELvrVIemhNeGzw2Vk9PQIFz4eH78grEjushHiH/OPE+BsEf6/2cuz2tlbb6BqXfqgSgsjTIE/IIUW6OfDtYqMf7wnXu3L52Cpgd6o4GonjakMKB8TsswolfCYPzrFP4HI8pIfWa4kR930l51WhPXVwsV78BypnFGfmDw17li2Db3SJuHOqJBv67VN82DmC2luelSNP4/VNNpGsxX9Rf7j6Tl+jEpGEo1wuAU2EGYJqjF5aDIpyEEjLkGaRaR5htqcmXx1EArCDX5iz6x473MBhO5u8HGZcJjW1XiK7mVkkaOUCIxMucvJuOAYyX0NkPbKl2H0Pn/K2i50noFz09JF9cji/3HF4ofc8h4u8Qy5z8E2AQIIh+ngOGzOnzQYBDSB+8eLa2toaeT9hC7pG/9mu/Zn76p3/a/PAP/3BYk/Sy9AiseQTSAHDNQ5be4H6OgCNuEMIlFELYl5svVT5We/N1INI/Lm6YeP6Ki4vN5s2b/VUpn7kRXxUD8uvnhnFwhFpp1Xq1ceGwZMIZYGKd6q6Oq4JCtaQ9KNuWI+9UrjTZ1mmeuRjOUzOFAAtt2BZhY0UyPbtr0KyLszh5ErbbIE9MnMcMwBMMqVIn2K8VvF01XMsFCuutyHICFBKmdXIveBBdibioYyV0GGd4IgF3gBA0Cn2dQsayVfvoEPt4ymr9iXksEgqg0DdqJp+P0dKj7WaJMZ8YSg0ruj4APVdFcFFq3JIAtFvHMVQq9w3vFpp9SJLcsmFX5fah53dLeZmLIeHmkmyrZee2Dc7x3p0SwSLKIPicjPGEQgiKe6mwAM8TlMYLjeQN4X/GiN8MmpGjOtdxeelcJQ6Oh1y9MPDHOjyDviHRAhkjW9U67ujl52iIxzNXiYrIuDhjHHcq1ItX9rZkfMLAH23JV2S8GxXyPeoBafJKXVgbOL4SAKQvQB45vtw3HPhjOfcQwB2TK6/GcgzPYBAcIjUFiGQ59yMfEPqf8USu9v6U2Fvif0Bqb2/vmkvSEfrFA/j5z3/+nvbrH0P6c3oE3AikAaAbifT8VRkBABiG5w+2L2/sqNivJS/GefHcCXBjR+iZPnbs2BF7w2Tbg8NSG0sBZa4nPUDkE+qTxlmY8RCtVTWDZJI94DA1VNxcnGl6rznwmNDQI+RLXhTlx4rlnRm6Om42VOaZG5JGIceOag3OKFN2OhBSdesScx2f8uzirFHeGcdADmsHQDytELROR+SB1Hw9vHT1CuGW5maZ63MzBjUUv6yZ6w+B6RP98Z47yB+En8OMsRyX12dkasRq3NHGgkJV8IB4gaeQnMZSgdQXL0YLZUNMuRxSncLf505VSDkUUk2DY0D8+dadHIVEb9qcP387PqPfV6KxwJvWmXXbZPDDkfaj9W7rGO9mZJk7mleSuydmc3GOKrHoZ0HtXjzH5DHyAtBQJACokL1v6jqRJyjvI78PiDW8UOCRZr/MyUtkTi4gMjmEaiels0i5NUK4creZ/YSGI3L/tlHGMMLD1yIgdlIAj98cjF/AN8Du4rW7plM5iF3D4b8z8hyp7gE5BtB5STmJhxdrJVdoHMKMMaQiDV4/H/zRliogMJWxHfIg+uFguzDwH2OPkDJRg7h84cBmKQAvuI4XSDyEvucQUWm+U0KS+wagElAY9By6l9qwPgn9dnR02MpIwfVR3/EY/s7v/I75t3/7t3ToN2qQ0svvaQTSAPCehi290VpHIOptmeWAQARbefOmXrADhavdhw8AeRjgCeBGvZq+AIkHh5OAK7jPRona9k5Hr7cPqxhCAxIi5lrSOwLIgp3JhLWXZJiLkwDHJBjAE0fOU6EeqAgmEz4GHBFKdWFnu7H+2yK5jZUqg1xYIZRpAeK1cI8ZcjBgnBOSn+HYdblMvYAcwBc25zXJgsAcrpPncGAivA+OFWLHiRVCu5sl65KiUagd4gVkwmDhjuh4CL1SRoxQ5k0BiDEd2xXtm+NsKckyFyajrxfesXMxbG72Q9m4qHJtALnakuJlLFe2S8hD35H3MNv0qEQd4xVm1N89OzJnySBuPW25tgt3bpstqsDxsifB4tq4+X7lyflVS9xy5uSbxtUZRmMyaHj52iXrA/P3ri4weYsjM6mhaxjBUcZLEjp9pySV40K4tMULGiZ/s6uxRDI/2ea5i+EvDGOL4d8NIpesRvwZjxpg7X6WP+MeRPnKsHq6gEMfGPKZsDJzXmQBgL630H1Ghoqwsl93PGpM3XIX+n3LW95ifvAHf9AtTs/TI3BfRiD6r/q+dJ/uJD0CK48AIHB8fNwWNPerfKy8ZaKFDwB5W3YVQ6LexP1+edBLozbSSlTlQ7TC0PU8+KiYEGWAjQsqoRVlSuMy/aqrGrRxhYmZQDRIbowuVpfAI2YFfOURo7QaYIRcMDxHQWDo+tym0O4xVcqIMrxJ51aoC1ylfHyl6FkDZAG2mJxRL/eavHP726usJ2xUbOM+eYGsV2yx0cbalYgdmeZcDJGGbraLpfzSpUTun9Pxc8cAGKzKVS6YWKAH2vKshiBEl6DW4nZJ4YR5/1w/1Mw91h8t2AwARpMwzurKC82IF9IMti3KFmhVaDTK5kVYiTK8c8cCZdv8ts0Cx8FcPLeePLuzAr8ILDfJY5sv+RrkYgi3jorAgU5fWGgYncKg1xACB54/2Ovf7g7/fcEOfskLU5Mri0/9uMYG2aMwq9X59YuQckCAEm3Dp1XXOs5g/HZ1dVl5J+4DD8MAh5S2DCtvCQD0wSEvtUhQMQfMcU8iLznoOcSbGPbi+3d/93eGSiFf/OIXYyMZD+O80/t48kbg4fzFPHnjlj6jNY5AlAeQZGzy/7Zs2WJDKmvs1jZ3AJCybuTJoP/FDXU19u/HBiKb5eghFwfgNiln7WxMPtpmsSwpLRdlTcViak5Ee6tay5UL5YUzeTjjZXOeNvK+Eg9synjlWwIFBAhKvkH8AEQSRowzpFDiNPk0BGbAsVQjOtqgsJ/vuaNZvvIgmyXxATuZY0BAOM52NIlxG0NCIQQcV0aPUnsFCh2etLl/SXBKXmKtQtyl8kblCvDgwuxUBYthhdrDSpw1yfs2EhE+5fh3IrYdkgfnzo3rAMCJsuoChajD3yfsJm2Sg7k0Hv1GUlckj7C8oGGGxy14bIRlGzQuhboO/J7rNRaDkqU5dT01nGtFzj3ihd9/W6XqV/ck9slnCEWwd5GK2StvZJRdXeyvVeFk2Mbu2ACU5yPCydTKBswTwkYOZoPIOlEGoDpx4oRpbW19ZEKjADxEnX1hZ+5vzz//vCWiUevXAUSkYFxYmbQVchcBhgcPHrSgsbq62vzu7/6u+Zd/+ZeU/qLG416Xf+QjHzFMl6WdiG3bts2GnNNkEzscT/R/aQD4RF/eR/vkXJUPwiyr8dZFnQ1vztxMAZN79+61xI+otv5yKkx8+cSgvyjl8xZ5OI70RgM4KhTEGezaOFuXg9RFas6g376iOD8FAPrr+NwkIsK50cSDuefqrGHyrVVghLDkgY5KC8JGFUoeoBqJF5oMCwn6fTQVZ5tLEuONM8Bm0BCnPrtIctjbWmFr0RLaJg+Q3C8YxXgRrwqkCpMJlCRBW7AvvpO3F6fDSB9TC+STph4r18BJxjzVXplSqg/CBCXhAKnk2GUpHQABbhitgOfpgMK03YcYrXFGjqLNxYtoVKzqF6P+BQi0y17Pi0vqdXRNJHcYSSyhRvUWkV84fjmKbR4pAs6AxbMjszon5ap6eo2uT+aE1s9GVCJBiBrNSTxyyNlcHrtuJ7YjdBxVwYT98XKyWx7o45J1EX2GTay1CkSOBrQhAac7FRqmljIhaOz1GyvtPOo/ZF54+Wtra4tq8kgsp2QbeYKtra3WixcmY0NeoQOGhLMBjHg2WfbjP/7j9hypavLGN77R/Pqv//p9Pa/GxkbzwQ9+cEl14ZOf/KTd55EjRywYvK87S3f2SI1A/BPskTrU9ME8ziMQ9AD6VT7IjSF0cq/GGzY5OBA+gky/uD6fF5kgSHrw28dVtCDs2hWTS4bHKajJ5/cN0/R8jE7bakKzJkuIwIR7g9jX+rs3RSBJBRN4DesVJiyWHmC2gLMfyvWPz33OxZMaAwC3SqLmdEx9YvpxmnKMdXC8IZlsU+m46wqrAhAdKHT7d/Oo8ndu/XblD8aVa8sWuLscAMj06fd7QADRl9shhE/NZsrSAVpL83NshQ88bbdgkIoZjDjzLAxh6UTCwj0RE54t1+W6NOWhb3fwi/MtqiZyxtPFw/sK2YQXDY4FT96UgDOpAQiXo20IOJuQfA3jh3ByALMu7aFU/fQsfUv9sFXEkGDOYZ1CseSGwmx/ritccsd6uEPqH+PxaxGLme36IaYEbFLH7Bvl6hDvvqC/hxkxr529flOV+7hsTj3vK1eu2JreayGMLevoAS8g/MuLLrXHg/dAt2uW4/1jQsD6Xe96l41gfOhDH7KeQF5uAbsASVQN7rf96I/+aEqXH/jAB6xH8IUXXkgDwJSRefK+pAHgk3dNH/kzClb54AYJiLsX4w2ZBwGhk/r6+jV18WL3mK1MMDczo+RssS5v3pKn4q5N/Obhy6MaEVrkKu5oQlqDkmiwIwljXVQYC6AGszNoyL5QqSLKNigM+VLM+i1ieB7viy5jBjPy/HB0qJH9Xjfr9X/qwxbWZUKWY9Z0lmbpAX3benLIvSJceEc5WsPyGiEfAtA5twKBBJZqnLXrPONIKJBMIMSc8M61UkAKyRgkSfBQqtjHiiXdPNwQeji7dB3j6uly7jBgfUOAee4m3qiERwqdwwsRoUu2Iz8PQMaYEMYkHK9/GlH1oN9pg3IDZ25748Vvyv6uJEmiOfl0tSJxUHEEQIdAMzl6TGj59asiSJQo9K6W0kjmr7SmF3P4OJLlNqpcSYratcszl3lrzszdXWfD/kPKC9xaFx2CDR4L9X4551NKi8Dzqj+XZVahv5sueSQxfl94qZ3czR7pJrrPAN59EeFl9D1h/VIliL/7R9V4qT19+rTZuHHjqlNSOBc8f4R+P/OZz1hACCjEe/gDP/ADD/xUCavDNiZnET3FtD3ZI5AGgE/29X3kzo7wRrDKh8vhW+vB8iCgL/JtuHGtxfCg/OvBXvvATmznAaWrE7YiQVzIsSyvTPpqCe9bjtyBMHbxFJH7tl4P/wLJfxxQAjuAkQc5EiYjCnPevJN4CE9LhDjOYNjGWbNCqUMhoVe3TYeA18WRVEDj1rn57B0AIrIzd5flnRXoHJqLMlXHNk/ergwzJKA2HUBZhFCD+oKubzevKMyNrWJCNY1TnkA12wEKmZztUQiZHDakZiidBrCYVIi2T/qJN/WlU7mYcXWY6Wc8IG/j+nbzLfIgIo4cZeR7RuWtsU2VQsmwbxM5mctfZkpzpXF5RSzRkJcFtie3LuiFY7kzahJHSbvwsuJ081xF2O5RAABAAElEQVR7f75FlVV8dq5bVy7STE2egrML8yZPsd6LSyXZEr/NKiHHqNAwYBfSCLmZO+RB5MXCaQ1u0MvPhQiRagAfXmByBwkfO8DHMfl6l8/ob4ewfNAgFgGqCKOu9YUv2NeD/o6sFR67tRwn9zEEn3/2Z3/2oQA+NwbkUgL40D8kJeezn/2s1VR069PzJ3ME0gDwybyuj9xZEeZwgC1Y5QMAyLq1GDdKRKO5WXGD5a15LfaCwr/Berr+9tRhjTKw2cWRZCY/AO+G8q2uasII/04JHIZ1UST9sxaBNw2H2S9gg91QGJEQGMxWAILNyVqBEYvXJs7QkbsY02ADoCnGu4fo8fB8hnLzkvspV54Z9VhhI4MFi3Uup4ajgSzA+OxgNKOWw2tRRZBgGTf/sAnBnhQrF8B+LkC4ASLjKWzUeJYDVNUGcesrE7Py0iav32ZJ5cRJvxAejhIrdseSI2AfZ60CPaMe4zXYtrOGsm2p0ip+m1KF5J2n0V/OZ0BWsF6u32a7tPKORRBPAIfo8mEILFerxi4jc0XeRDy9LVWSEQoJ49K+NOuWGU0OI4uWrLlsvWkWSaNH+XrHBpJ/CzQgvSHKCKU3KAUhCGbBepS9c/bdGxJ/G+67m0P0IiQKWIkKqbq2r+acqAZh6rUe59/8zd8YUmK+9KUvPdTzw5tKvXSEqj/96U+bX/iFXzDf+MY30iDw1fwRPYR9R/+lPoSdp3fx2hkBB9gI2QSrfEAAIZS7WsMLcPz4cdt8586d5to1eV7WGEL+z1NDkbsDgMWFPqmBGsf+TYR/kx4sf0cwT2GmHgoJ/wIs8YiRWwWJQqep/LIFiUPPS+su2R+esPjawMjTpLI8/WPgMzWB4yzMgzgxL4CVxIOmOSvb1BcrR259hvXATqm8xqiqqnDcWKdkQE57OW2Jpcn/ATY+kE6uSX7Cu3doUfoluTTxid0wTs93jVlJHLeecYT5C8EDwIH3EAFlCCeJknxAx6TtUNUK3xOVXJP4lKikEg3e8iXFczoGTNvf03AS3AT7R38vKLPit0EMOawCh2tDuDjFdAHQp6xSOBkAjcQLLyn9AvNMzggrn5HQc7jdNdN3l+eYorMoHou5pHy9q8muvC7kTQ6RRmoU6KsR+HxBkjEJL6m3iT5Smu+s91v5vzcsJ4AQliQPDr2/V0IaS93z/f/GyyxapFQg8quSrLQnXmLf9773mc997nMPJNcvbv/Ib7nSm/v37zeHDh0yf/EXf2E++tGPxm2WXveYj0AaAD7mF/BxOXxCC9wMIWoEk7bXEgJ2Qs8zyttzQs9r2Z7xwrv31dPRAHCTAJhPBgiOcZwoLm3x6MUZoCXM8BgOC+zx8D4aYB+zT7xdhF3xMJYo5HxFIWA8h0EjVy2ubBsA6eIK+YMQMuI8iM2qb9y7SKoY9A4AcFsnEJsvlLAuQ7V9FfocF3AMs40a52gAoi10nH0xItv0ib5gECAyjq7+cJXyCQk5uvAiXkm0/kqkXZirXD08sTnr16k8WoHCyrfMVRvW10LP8DAOxUjhbFX4GAJGlG1rUKWMGO9fq+Rygh4xv6/ZCDY5XrONAk6AW6p/kEcIiWJAnmQ8t0xUCzkdwfDlReblCMkb+nUkJQBqq673gLyGPeoThu/V+SSr1z/WhsJMMzCT9AoX6+WgsWS9OSuxzbI8J1vkb5H47P6mOKfv31xt/wb8VsikEKaEsboWopffx8P47O5PyL3U1tauepcu9PvWt77VfN/3fd+qt3tQDTkPmMlpe7JHIA0An+zr+8icHaHa3bt3hx4PAG61LGC0qoaGhiyrzolGOwDITWs1YaGjIhz4HrXgQZG4H2dBuRW/LcnrcexfyAbnYsAX4dULIeth0rrlPIydhw+gVifvCrmHlBpDew3NtTgjJ+xUDHMXgNg1Eu3xou/akvwlAOjvixJlhBzxZCJBoktivY31Chci9XFdbFlA7qSAyrzyQeOM0G2cpxWA2O8JUof11abQ7JjnQcQTBqh0wLK9qsh0X02CN0gMFQI8SMPgPYSIkimUuE8kC0LM6A3OCZDhdZuRN3deywYljxJnI/LARRmCyo4U4doAgsh1LFSIHc09XicAeCBirvGs9k2o+6omji8qd7BWHrcomRb25arR8Dlo1CqGhEHZP3IfR2eSY0SVGkK/YVZXUSwAOGlJKx0qb3h2eM6cHk2c/+xstJcfKaFWMYf5vRCmDtrFixe1TvmenZ3BVY/Ud+5NKBy87nWvW9W9yB08OnyEtx926Jf9v+c97zFo/jU1NUnzftrqDn796183X/nKV9zhpedP6AikAeATemEfxdMCnHETD5oDcMHlwe+wfQmTIPTss//Ynn7xEoSp6Qf7+a+T0eLPVPfojkhgpx8ffAX75Tsiw8djSp6xPk4cerM8NicDpAh/P7B/Hfhj+VLVEK8RFUI6qott+I/hnpRXq1eECUdAyBWwiTOAV3z9YZEOXGmQiI6avdw+ci2D+ZatKj1WKC/c/nJp74kQY4WrxXb17YZqD8fZZgHZOIBoc+diriV9lylMLLff0m4AeVQPcRVE9ilP8+We6NrD2+Xd61PlimoRJiAtMC2Qz6r6wGi/VQpMTl5fMKV5jk2bYT11/F5JU6yRhxIwlSMSBuxf2LOAaMAdDtYKAUAEl8MsT/uiskeUUc8XJm+YNcuLF8wrBPS1yxsJy/300GyoUDZ9Uakjysa0PzQD8ToeHUiGvclFHL7Bm9Vy73ipLkG+5IwujsO2zzAVC2Pm5Mlb9m+cv3O8Y5R7w+MfjB5EHcersZwoB8QPhJTdy+lqjgOJl9///d83n//85x966JfjI1/x537u56woNYQ60moAfw+Ddbya8Um3eXAjkAaAD25s0z2vcgTI51kphw+dP6Qf8CL6KvvsAgCI0cdKAJA2XznWZ9uH/Uf+XpdH8Ai2wfvhA7Dgerw3cUaYLs7IF4uzphXYv4RVz4eE/LL1BG7XuVUI8OBlRJ6lRyBOz/pllr+CwPVGVf6I83LSYRxDmfVVxXkK3aYCqzKBpXqFudG9o3pIglSTBBFs59vCfBK4+cvdZzQKT8Z4OgsEhE9fiWdKB3ULXd9uniWP4ZQ8gUzLTGSF3U1l0gaM3sddAZ6eiDA3uYVnY2RnttbpZSICHBLajmMGV4jQ06sDbhT6IseR40eHj1D1TuUchlVJ4fw6xFZOsoWTZ4xe4c56kVF0rn71GteC0m9h3sgOAc46kVMSWoNKG9Dv9Pt3tZm7tyR5o7xgyjrilcIgfQEI3QTA5jNVf15tYAigJ++vqqrKUMFjteZCvwCw7/3e713tZve13d///d/f1/7SnT0+I5AGgI/PtXrsj/RePYA8AFClp1wcN9igcfOnb8AdxdajDA/hV59/ObT+rtuG/Lo4I/QWZQnvYbRHBi9InHg0yoOXViBvTIXk/PnHUyKxYhUv9hfZz8jR4NkkR88JN68TEKxVpY9ahe2ghsIshkEbxw6ms5UIJG0Kq8aTVBKey+BBMrZufPe1VqoixKwVQK4WMJT0smqvFltRacSieeD2TYegV6/T+Yg8NddkiwSo/Vq1brmbA5i7PWaqW+7maNrFAcgy/ZbiyB146FyenevTn28R0H45AuDRjvBslG1Wft+ZEPCI9h6gb3ZmVjl5aAvesJPfD+Axyiy7fEkuJqF9SMk2q/2nt4lphKpDrECEE98QJEfr8kjfpAB/ct1uVQNpa6pfakreHy+I27dvN0hIAQohg0D8cmXU+C2QXwwYdKDQgUSWryYtZGmH9/iB6AT3qbVq5/31X/+1PQ88bg/jOO/x9NKbPaEjkAaAT+iFfZxOCw8eb8IAtOCbPDd9iqe3tbXZBPCo83J9RK3nIYF+2NGBGRuismDUCmIk5Gnm5mYNVS+QQt6nEBZ5Xwkp6ETYmnBdZsZdVX+4LcJAobTzlAOmfLZphTeVeWh326HE+TiA16kHuiuPFnacFnDEeB9L9PB2eYBh27NsIMKb5NqTK+jsltgSA1O3NCUFq3fKY0We3EaFgQklD07OLjJnE1txpt2jywGm65M5xIs4AAiLeSX2r6segtjwkkdpPFmW73UbqqStuKA8PV0xnQfVJYZU5o78OKxEUiSXJ6LBOm1Gp+I9iORXdntgh218gyl9KE76xa5P5s752/KZPMk+n1YdaDAZ5lVcbFOvVIA48OjC/PWqH1cjrzW/9yFbCnDeFGXfFpkDT/RyAJlgLEeH3gcUHsc6VbMXdjXi2a428diiDJJtEPiPMnLO8DBCUCF3kd+Tk6lh/bPt5a6ZBUZ4/gFVvNgxhZVRI/QKMHQT8iuARJZz3g4MurkDiQDL+wG6uEedO3fOhk7Xwk6G0fz+97/ffOELX9DLTdHSeac/pEfgYY1A8mnwsPaY3k96BAIj4Idw/dwZiCEIPeP1a29vD2yV+pU+4sLIly5dsmWVLs6rsP3l0dSNF78V6aExIymTqCAtD65TgVJfECYgXUDuKM68ZTrKsk1ZCTdzeSSFGpFxIQePcGbRCqFVwrPdMQCwQ561wyHyMe5kmiWy2+vls7nlyTnyMPHgbb2YscEKJOUFuapiQVmwLANp4URMjiP76pPnLs4AgLYmcUQjWLpxLGY2I0cuqAvIcsaQkmz1Ol4AIjl14xr7EYE94dklo+JGz0QSlCytWPxAmPxsjLQLza4sgqHgtu57HDmE/oPkD7cdc7xqvi6ev47PaPr5Go28rCSkX3KsjiTl6ZB5gbnL5BsvOVG2WeXojkZoCrbomMrljYV4EtRNhCkcFXJmrMkbbNAxl+pv5bgXEm8X+9o/z6clAI0Bqsinw/MX59UHwBECZgqyg3mhdF5D5zl0XkMYrtwzHChk7oAhn909KWqc3HL3YgnjF33T1ZoL/f78z/+8ecMb3rDazdLt0iNwX0cgDQDv63CmO4sbgai3bfL2WAeAcwCQGyQ5P9zYg7qBYfuIA4CEZ2AR7t1/wPzG158P29wu65SkSFz1j5nFXCS/AyRHkGJhWijIMFdm5FXxPFWuLQ985F8Ie5Fjh4dxQSGza6oQAuEAT9e4p/XntvPnceLUtKuxzNxor1aniCFdIQxjfx9hANEnmlAvd1qhx4ayAiungojyhAAu+YSQTMgt7I6pccy+hqaiSQSsbxWBZMTzGLHMtwRADM+rgwXNdGMx5O22o7IK7FJCmIx/Wb5AosZ+TiHLayKhXBVj2RePbi3NNl0qkxdlaBxevBp9HniDL45GX4stypc7ERBQ9vcF2acvANxYT+gUYomG3ewXMxlWMPl7gEEAKRNh1KjQszYzI/OEXMPPLezlB7BZK0/iOu30O5fCq6VQ+3c0wgPYJMJJoybILEEwSkj6Iicmg0GP5iGg6uTJk1ZGJSzlI9F65f+JJgDqmILG/cV5DPEW8hlvI5/dfSgICh1Y9KMUfX19dlu0Cddif/VXf2XJF3/8x398X7yQa9l3um16BNwIpAGgG4n0/FUbAcCfD+B4AJD7wxs8N1b/hht1kP72fptxgTFHHumaWDCzETlKdhvtN9oUZlwgPzA8rJiffdcMzkR7VgAecdIrLUqGJwEe1ingELA4ppw8JFMwmz+4Qmm3KYVB46w0pkID2yG6vBJA7FWOIsM0oDw8JmeWZCLwh+xKmfIQySfsE401OKK+fqDbNjhH+DrOLED0SsUF2zYKnAaZ3OgAMpZMGl6FqQVYAn0gvVKq64QmHfWIS0sEknQCAAI8idQlvn5rQZNSFRaumwwNxF06C7FEZY/k+CxvktwOBnCBQtnkwiE9kyNiiXCeUhXQ9lM1Z+lKku+HdBFgL3ddrnkhAoixH9IVoqyjXLV4x8N/J8j0uHJ3eA83iLhBycILqt3bL5mWNv1GowzmctD4ze5SfV9YxVGVSvycQcrDZevcu7u7bWUgaug+KOOlk7BrWOgVIWcHDplTecR5Drkn8VIKGCTcC4MWaRqiFe5FdqVjJlxM6Pff//3fQ/e/0vbp9ekRuF8jkAaA92sk0/2sOAJRHkA2BMA5LUBCP9x0n3nmmVWHYsIAIGLReBEdeeRTh8/EHGM8AaNNsiVxeW0An5NXosOrJdkLZiRm7+UCTUd6krl4rimMWHT+6jXNCQTMKu8QyZSgADQszJXAW/9YuNfM7QuQGmcJUkR4fpglmSh8DUhywJB8QwAfmnrIqwzL80eFDsgdUQYLeCUizEpl8OoVYgawRNlmCWWH1bidEthhKitYZ+vcOvHoYD+EwQeuZymQuiCx67uScJH8i5YB6TKFGLO0bHBs3NTmZ+rlJUOAXiQleaPAZcicAPJgSRdILJtcUl1SO25uWLaI3ft8dzLfMbh/gGqUFQu4hZ2ba19UkCcPdTgARAA9kfdqbFWOw564daV+G0HZGNdnmJYhnrwJVV45JpIHqQNhxnbdnpf06bYyS+4gXePAgQMrMvrD+rwfy4hCMIXlGxI6BhTiKQSoEp5Gv8+VonReQj+czDL6c1GOX/3VXzW/+Iu/aF7/+tffj8MN7eOP/uiPzGc+8xkbRgewokuIt5GSb2lLj4AbgTQAdCORnr+qI8DbNJ6Wy5cv27dtwJ8LB6/mwHj7Zntn3Kghj7S0tCyRR567EJ77xzZ4N+IAHmXF4tbn6AYfZ+tz9eANYee6bSChhBkeS4glZdLMe8mTTSHXDTBFOHNByW0k/b/QFX1+pRIVHppJjk/Yvpy3MWwdy/CKBT1rftugdw8v5tlATeMSESuonFEAKJRnC1AIoHVWo3wxKpxEmS2DtwJTeiVxaEB1nKGh+NLl8FAn222uL1EeW0KbD8fXLeXb+bazsXRR+sUtTw23dpRkKlzqb5H6GWJLlKFtGMy/89t2iv17OKLqiC295wEutiOkjKcPI00hqmJJi/JLx2bD9Qg3KNx9arGk3Gb1hdTRicXx8SuK2J14/5H/58q/FQq4HpDYNaFf8n2Li8VMf8QMAAermIkXVF46uU9x7wnmGwISEYVmDhnlT/7kT2wOcnl5uSWMvO1tb7P3J7ycQVmr+3Ha1PF9+9vfboE098X3vve95o1vfKMlwoWFxO/HPtN9PH4jEH2nefzOJX3Ej/EIcDOFvUe+XlDoeTWn5XsAueFBHuFm6yoHEB6NC8ECqOIAXmzoWAcYR3zQczWW7UlMdXgFcDY0kYoYXK6bG5u9LRUWBKITSLk4Qoe06ZcANCHBqrwMMWVd6+Vz8up6VgBWiTq6y7d1S2rw7i2Wh3PL/DmezDAWdEGOpEl03IUCsfOzU6ZB+WbDCs/6pA3XT73CuwMxJ2Ire4TUonXbk7N4PkY8mXaTAUFqt62bx3myabNSykJmTr5ahYeHCZuGjZHb9+Y6wFbqb8GtY06lkijbZLX4ZkQWyTGwiOcFwM+rRvHR/mvyXKr6SEyKAMzwKMPDt6mmwIbWg95H2NhR5khR2+TxhPWdce2KfelrbW2N2uSRWE5kgZziffv2LXkpV8o3hKDy9a9/3fzjP/6jBY2f+MQnbF1j7nm/9Eu/ZD7+8Y/f13MLVvFgf+gTcl/87u/+7vu6r3Rnj+8IRP91Pr7nlD7yR3QE4h6cvEH39/ebPXv23NMbsQOA9HPs2DH7dg6D0O3zxe4xC4qihmZe3qooQ5s5zvNFeHZA+nlRRng4TvakReHlOPBVlJMpFmV8Xtyl0Slbniwo0Gxr3+YaU1dZaoqK79jcvH7FGsnj8w3vXRzAg0ARJ4BNX5BF4gyQl8pcTbQGXJ+Tp7BMdYMnbN1ghVaVC9YmqZEyeQzxXEHWGJTMC3mRcWa9lDEAEPIF0iVRhjRLVwyJBU/V6YBX0+8LIkMYO9m1qdKLRleMtAxA6rTKp0XZrRvR50/e3rkQ7b9C1eMFGFcotD1xPWeJLOLvo1NePISgw4zcwCjGMqzhBREqwvZLXxMxYJrw917lCCJm/VRzkRkbHbHgyP3Nhh3Lq72M+wteyubm5mUh4qhjw0NIdY13v/vdts7vhz/84aX7EmXj8BI+aEM3EeOlOG3pEXAjkAaAbiTS81dtBBBQ5QaFjMJaVPT9AwYAkpeDGj/SD8GyUd/pSq064W+L1yUO4PHwDAIrf3sqGcQBQPTkLsaEf1fyvnXWwE5enh/ojqG2MFvh3fC8Ljw3yuE3U70TSwSYYG4e+WhhSfyuf+ZNFfHMXEqWxUnY0EewHBzLfKvWeUzMJ0g25AzikfW9sngQqcxBqbpC5TxieI5GxHx14HOl8C8yN3HWrFSA4YjyaWwHu5dqF1G2SVqPUaXb2Aayz2hPtDZgzvro/D48yYOz0Z64+oJMc+7qLen+rbPafwsiJoxJLmd07o4NWVNXmO9hFuepAxz6XkcEz3eKaUy1EIS78daGGR7dqLzB7fL6oR/o6iTXZc0qV3erJViE9fWoLCNFBRC4kixV8Hj/8i//0rKMP/jBDy6BP9qUlZXZKdj+fn6HVPeud73LfNd3fZeV1bmffaf7erxHIA0AH+/r91gdfdibPfkxhCXI+XkluSkAQIAkRBLycnxBVm6AL3RH58e1KRcpTsAZnb84gwARZ+TCxdn1Fdbz4I+zpupSAcBogFsrYDDghZiDuXkk44vParY3llmCwnVJ0lA72GcV31S4MM5a5OW8ejkcCLBdqXIYVyKp3M2mikk4QKEPPIiHLl1dRoBhHXl9W5Wbd1ski0aRQJCkmRKYhFHsyrQR/r2wQvh3fDYcSLMPbEoVNOKM0HucXZM2YZSRgwfjNsogaZwZSnrpCNvW6+WjTGHWTFFSsqg/vG5BgOyWnfx+GouyVQEnemzDPLNue5eTaKt31BdZLy5hY2y/mLtRALBNZeNOBIhRyL5QAYVSfw782X4kaYOW3qNs5P3dC0EFUtsHPvAB8x//8R+msDCRb/kwz/Md73iHOX78uHnuuece5m7T+3oMRiANAB+Di/SkHiJgDaIG+TGw6ZBfuFfD+8dE1QBYb84Af2PT160A7YFWwh9AnYSBq/hcIm9SGSDPA1o8yO/qvwVN6xUDhgE7ff2GmRFLlAINrg966hFYijLCx3HhX7yPvpcrrB9CtnG2Un5iQ3WZAGA0QKwRW7VvUSLF30+dhH8hmhCOndFJAxR9rTy/bRRj1rVBH/BwTzSzFSHtixEhSNdHnAfRjoFCxYcvL98HfVOdBOAxt0jYuKmw5ez8betRhFHN9cYTG3cMeZJr6ZuOBsI2/BtSh9kdP/p9XTHsDwCeI1O4bfil4UEmfFurc0CihgotjAWgDYHlfvFVkJLJENt4/pb/y0z2goevP+LYq/ITgtHJ1qmfyBXcJ0maMyJ6vBTwXuKpjbIcj/3LnxYyL+RfHhN4PCDA5wzJmx9+Zpv7+kjO8fohJ0V+4loIKuQjw/r95V/+ZfM93/M9D/3c3vnOd9pKI9/85jeXyHAP/SDSO3xkRyANAB/ZS/NkHxg3VOr7wqjbtm2b6enpsQDuXs4arT+kGAB+/s0Z8Ifg68GLY/IcLQcGbl/bG4qUFxbOcMQrA0jzk+DJSaNmMKWwapRMj3esUwCHRy/izoCRcYXGCEu2i1EaV9WindyrGNBA2HPQ09tzx+zmaAdeXEHcGTJInFWVFQnYLA9Lws5lai1VlYfJm5Yl2iKvTkVhrs41w4yJwdunY8vWeKxUPxiAFWcbapQLFhPmLpMMyUoexKCun9sfocrp+RlVscgxL4cARESi8Uxtlkh3dfFNC3jRNeSNAPFtwO2MwP+6u9Lhu6MXFV1jdAHJYfO5ESuFf5ESmtbvLG9dtqRRMq18jK2uorcEriPagVTZQNyZkDwafKPy2iEQnhDjlmB1RAh3o9i/ccLSMwv4C8OtuiDLjM2lAttsSdm0la0zgDhyJsMuHyPkl3EL9u5Kw3Uo7K2fiC395to4ryzfd8irmJ+L9/fRNUgfRDAoSbkWI9+P+9Mf/uEfpoR+19LHvbTl3gf4++xnP2vJJ2s97nvZZ3qbx28E0gDw8btmj+0RuxAwNyeEnnk7hvELg87JwKz15GDkASSbmposi9htzz4Amcx9PTO33s0Jfl6KIQ3g+Qvm/91WnzyImZCHORJRDxbwWK06rFkZJapyoDCdnsGEJq/J40Q1DEKtpdL/i5OHqZcHLg4AIlkSlFpx58YcRvClFWr3js9FhyVtHxyjACDe0B6VmmNylicgs7k6XwHITMs2HlYFjyAQs9IlK4hYc53iDCD9ckwZPMgbl2OuIwAkytMKwAOwI4NzLgaMb1Xe2oAXguV46RcP6TpdawS88SaneJLVN+NGmgCADp1EpqCxbbEAIDWNw4zKI10BCRe/HccQZfwGe8ajKeAZXui9XXIvxXkKlY/MmfPSC9xSyV9IuDWVrDN918KPF11KNBXx+gX//hgr/2/uKVWXeZRtcnLS9Pb2LssrXumYyUcG+H3pS1966KFfJGD+6Z/+yXz+85+3YtNI0mBIzvgRkpXOIb3+yR6BNAB8sq/vI3d2gECU8Lmp+kLPjsW7lgNG64/8QcAf5BF3k6MPBwD5/HJM6LFVD9YoYMC2xdLPizPAYJTx4CdJ/syVcO8i0jPr9eBOVP+QMIiEnkcUrvYBVFz/7BeR5ThrldfpeEztXsgbK7F7r92MPkeqYuAdPe2xT4tyMkyVQpbkjhFx5RxPDUWHsXG2dcXUQOb88KzGWZPOc3g62suLhzaO3VsiD2DcegtaQkq/cfkJyd7VOZ4ZnLIl/cKOE4mVKJYt7SFanI/J/6O6SpR0DNtfjmEWU1d4JKJMGwzfWb2IUFbuyrXrKm+Xep2yc0inCAd5hevCfxeEdDdVrtdvYn4Z+ONY0dw874X7///2zgPOjrJc4x/pdTe7KZvspoc0kpACAemJFAFpAgr8vAhIERSliFICCAhKEQFFAcsFvFyvgBS5CCICSruISChJIIT0Xje7KZuEQO77/zbf7uzszHfObM6esvu+MJlTpnzzzNmZZ97yvBOlEjhfjQgCoV+KPpLk7/Fwe/755xv0/nIhu3LPPfdYSKdMmdIAWuRgzhQRajVFAASUAOrvIKsIEOpF7gXyF2zyDgF0nUDSGRAXWLp8oNY/fPhwGz7mMwzPHxdubLMQlA/lxhxnECAfAVy7Pj6/j226rhdR2xdHh9f7tl5CxIQ98QQGjZw1cu/wCCHjQtXrMgm14lEJW7X0s/UZ+Ys+GyDyL2s98i3g45OoYds1nzbcxwYhjBtsPmft2Eb27GCKhRQi88LxkEO5RuRBXL3FMAlffuTxvOFJTUUQa4Q8+ww5GakZjl1kmM1RbBwGdyuMlPBwXH9dliF/z9cJZnepJJ8uXTHirFiKZIxpSL6Cy670yN8Mk4cYX9/hbfIgErbB0pu3t3gGIbavS3rE/BDxY3k8t/N8XtX2DcXN+b2P6t3JLK/eZqrFy70pRpOwQ4BQss6EAfX5gOFx5vo9HT6ITgwePDjRUO666y6rbJDt0K8bZCqPultO560bASWArfv8Z/XoIWXk6iGgGq74TRIC5uKG1h/6WuPGjbO5Nbxm+5A/Jgxv4zsif+IrUPAlsZOA7+ueQWjN1z0D75tPGmWwkIK5EaHR2py1DaZC2qIFCSaFDBBD8sbIQ6vctEVCafGkBgxWilfHZ7Qq8xkahakI4gJPEQzb3tamo6mSfmdVlqTVE7ViIYSQwk7bN5vBxW3le/GYWh3AhiMaIdIqszwknry5VOLOvvPE3lIUOdtcuIajaviuo+T1+SyVJ9fX/aSvaDAu8oRw6RIT5x2sJc+bpL/wbtbLSMiewpEFEsZn2ntwPPkaKjqMhIKjjOeKIDkcI3l8FArNXFX7eyvuKuKT0iovyqo21+ek9hNN7A/fn25764bbp6US1I7adiY/c7nFSEq59JV0tj9r1iyD3Muzzz7b6DqXzvq6jCKQLQT8V61sjUL30yoQgKTRkzLq6TTdEDDrkluDeCpeRHeTYH2MSmI+Y+Ki7as8ZXmfblyZVEeu3FRPWFg+aLQl8xGLnlK4MC+4Qug1vXfnhj4LvqXAJEgACQ0Hw8N7VBSb9vJZX8nF6iqaa527dDVrNkplqFQN4/TBe+frUMK+8Czuig2EIC6sv6GHtwU5iQsxVwnZY4IoL6iqJbJIjfTu2k4Ii7GEfpNUtX661T/G4UIQ39spSxLeP+/JD/R1KCF/zisPIxx5QYSHrG5f8v1Cz/cUeMwJhMjr1tv5ogIh8fXxAs/8zlZ4JFxWVTXGB16PDEt/kYlZLRqRc1dvMjOXNfaEr5KczTijKCWOWA6Tc0YYly4eWyQEHvR+Iki9aF3jMbn9rN3KQ0etV3Ly0N6moqK3/XtGZmX58uX2NQ9x5KrRRzdIDHlN5CAJIXP7TTInmgCRo5NQ+GHVtx2iGIR+zz33XHPQQQf5FtXvFIGcI6AEMOenoHUNgAt3HAF03jtH6qKQQYh15cqVjbT+IJcYOl1OU5CbBx7AOKO7xSopxoiz8tLuQgDjw3apvGfkhvlsayq3U7CaIGJDXSXHjvwtpto8rVoSgUeMzh4VIntCDiLHuEy6aITTFSFGK1J4CJd4OpwwJDmdXhvUq7upXBSfmwdBDMroELJfKAUnQWvboaPp3U2qZCUfk+pUNOQQgK4UjyFOxW2e7hhshzA3osNxNlxC0LN29rKNWobq3WDRQniZIbL9+RH5gW654RJe/sAT4qbSe2lV/PiCFehum25eLJgsFrwgzohMI768WYpMKIiB9IFv3LHxgLJIvIFxhic6zvBK0vN3RgRugwWPuHB5L4kar6mpJX940A8e1deUl5c12A3XB/J7kXXiQY9p9erVdo7IO9eHKGLIZ0H9zwYbTfjmo48+sgoF5BcnMUK/EFl0/5qbpCYZly6rCEQhoAQwChX9rNkQiLsoOg8eT9DB3MDgQCjyICeHyuFgJRs3DMgjjdW5+EISuWl8Ik/x0xc0JBPB7dHCzUcAd5Mbjc/WekgF6y3y6vdJRW2K8C2tz3y2bkP098iTzF5RbbpLBfD0nQUwFIvQJ7irzLd+st16/irkvc+DWS4haIijzxZ7PF+sl4okD5YqazfGqP2gzee8Y3iywoZ8C/p3o/sIIZHfwBYIsZDIqi1CFEUUGtuwKZ7k8D29iH1GpbePANJ+zkcAEan22WZL4KOXQHsxXJzSo0s7009wweu7bdMGs1rCzytE/JkilLCtjSn+YLmBkge4VnL1ooyQ8bxQYQk5geNEMgkNwpUiTTNHCGaUIXETZ+U9xEtds8lWB38ov9FRkjsZNq4RyEMxoREaNM6xI4XMIYmunRrefwhg2GMIMWTyPVgG90F/Xq41aIrGXa+Cy7vXLvT73HPPJfIauvV1rghkGwH/lSnbo9H9tVoE8OBxgSb0EkUAucgjHTNhwoQGvYIhfy73j/6c7oLN5zMXS4HF39+IxbRGbp4+W+nxDpJL5SN4/SR8i4ZenBHWC4Z3w8tBOnzrk4PlC7OxvWBvX7w5s0LVyMPL2pg9B5RIYUZb8ah9YsOkQVFpPFM+ApgJgijyxeFDb/Ce7h8+7x2E9oOYPLUenduanjKZzz41I0rbSZ5frW7fls+k8lVCy5u2iodWyEaqMPl6Tz9bBhsn3eIOxNtlQ35HUdXBkDuEo/sLCd8mpIeQPl5PUgCQrFm/s4JmRGl7s1zIX5SVCDkmzy/WPNAjf+S6jiBwjQTOYgnr0uaOvMJ2EjaPMx9e3SSsPKZfG6sJ2EMeUAaL7EwS4xpBNW5URS4Pj44cQgzpDES0gNcQRxdSDnsPIZruusE2IHI8TAYfMlONkfW+8Y1v2ImWa2qKQCEgoASwEM5SCxqju9BGHVJcHiBaf1T8jhw50vTu3btuVef5Y86NIbhtXs9aGe2hcBvYsoOff/TNs2v73YSgxRM48tbChMptlznFGj4CVybf+whgfwnfrvF4GPtI945lGwn9Rhv6f6mIDf2PgyQXPkDoGI8WrxEs5maPnE2UpSKItSQ3HkO2GQz/Ru2DMKPPyoq7iBh19D7WS9u1fiVdRYansWeMbXJsFd3aiKd4mxkoHbrI1eO48SK1kQcS+VWZ3WSZrVJw01+kVAjZbxFdG+YU4SD4h7yLr3sIrdoQ4kY4vKOQpg5C+DoL4aY6m9xD2gwSwqdQie1ukpg2RTdoBm4SUk6lbrj7BmN3tsbm07l3DeeDSAHYHH3sLBmHG9/RcYT8wb7iacSz+NaC+lQKcgvnxGgS4rFcGJH/B66TBhZbPcIlO/Md9+xfxK4yZpw3dO6Ygsb1gZCy8xgyx8sHMaQVJdcK5yXkM7YDwYTU8Todu/POOw3XqRtvvLHBdSiddXUZRSBXCCgBzBXyut9GCEAAuegGzWn99e/f3+DhC5ojgHwWJH9umXmSpD5MPBmEIeX/umVYz8rbymdDe0vnBbmZb67ZYlCtIGxIlwdufrNjPEtsv+2O+Pwovodc+Czef1K7Vvs2tTmNcdugq8WyjfHeHap3319cf9MOb4f8xyD543uoFsUSrmACnUK6ZNDGrVg8N+C0XHIGXd6gr7qa7ZFj6CPRkNwlEWSBdTG5L3sleliGcLfPunnCuxDb3j1LAt1BHNmsz8cbUtzGzK92nzfcE06w4fL7+lAeNDjbjJc5uLBt5qQZLBPCEzfOvQeXik5l/HlCWDvO+hd3NEtEciXOfOF3iOkyaSUXNkjwHiJ5w49hiXiwqRgOG32d44pDyIcMavyxbh/J++vapZPVOQx2ABnfvyFRC+8nU++5NriQcmlpaYPN4hkkrxDit2rVKksSu3fvblUGXEg57DEkxIx30OUdoxN4yy23mOeff77ZQ7+0dLvtttus/ikFM3T6OOGEExock75RBNJFQAlgukjpcs2OQNgDSGgXzx9P9IRkghYkf3G5Pa/NWS2J8NFh3uFl0oItIoHd7aNHty6ml7THIvyFoDG9ViFtO3bUagy23028QkVShCEemw0STgzXe0RVZrptM1/t0XXj+8qAVAbvw9bGdm+IJ4BIxfiMXKxgiDi8bDC8G+6EAgEgn5DuJmMqelhPY3VEB4vqjX4PLF5SHwEcLAUkPpkbyIqvzzLHlApnvwyQMSWiMzm/OpqgQfDWV1XLbyCaILJ/Wrr5DEIdZ4SAfV66vpJG4COASyobEzy3L1IUggQQb2Hv7h2snM7s5VXyexYqG3NYvpxFeg47I02if9cd5uP1O8xKecBCKmbmsvq/x2wRQDeeqDnXDggdnj7UBfbYYw8pSim3i/Iw6kLKzF1ImdeElqdNm2YGDRpk9f5QJIBEonNK4UjcNSlqDEk+Yx/jx483Z511ljnppJOSrKrLKgKNEKj/a230lX6gCGQegShPndsLF2En5gzBQ+uPC+mee+5Z571jWb6DHFpPHm6XCNu8bXss+WNxPFo+IydujaeHLvlLlYEWatz4iiVsRmOOdtIYbfv2T8zAojZSkbnDVIswcjDPv0uHNt7wLGG0OOkUN+bFKapz10uemM9qe93GL9HXk/+3XgoHKJx4f0l9hXQ/yVXrW9TZtBOiDBlcuLpaOnP4vaS0xfNZLwl/+gigbYMnhQRxVmorjONJqBU6DnSkiNoOeW8+W7+dS2hDr7VbHiewr0cylbR4B+NsoJDsNZuiu8iwTg1tVmKsn3gHl3sqi/FQsn/bJURSDZCxcVI2o6Uww+X/hTfPn1tUiNctR2cY/iInSHcPNC4/EvLnrEvgoQRsxouMUb7Yhx9+aB80+/XrVzckrkdxIWU6GeEpfPzxx80///lPm7dM+zVUCFjvscceM0cffXTdtjL14qijjjJMaopAJhBQApgJFHUbGUHAeQAhdjyN87SLCGvwadqRP0I3fB5HKGctrbKJ83ED+0xugD7zeaaiBKCrJN+MCRtBZ4t1DYlJCQRRRI87iIxJhzafmeqtbcRzKAUEooMXHgn5hb7OGOTe+SqE8YylIpC+6meOgZu4z/DeBXMYyXcM5jz26lwbdtu9XycJI7cRbLYZKoYJrztbEOOddd/HhU3d91Q5+2yQhGfXecKrQ+U8fezR5xsgXjGfB672+3gCN1Ry5T5eE+/h69FBPGOeAwj/LoKLkmIQFGIOfsfrfnJ+llc1fgjA80d6wwYpKFkhIWCmsJH/F2cDBZO4vsL8ZnbIf3QmeVuKRcKGt9wZoeJu9E3OA6PiF9HndKt+ueaUlJSYwYMHm6eeesr87W9/s/qmHAph43nz5pm+ffvmwZHpEBQBPwL58RfoH6N+24IQiCNsHKLLASSMwkWZsEqHDvWeOsgfxC8V+WNb7y+t907xPmwr1sd7hmwFryc0h7fLJ59CC7ewVQo5dOlUk4f0NDMkCR1DbqOX9M2l6MRIeHmLFAK0/cTvdaotMIlfhtDpnJUNCWhwPEVy401VIOKr/mVbqYozKnpKHtWS6gZC23h9BkrVZ89unezNf7Xkt+3YEd3iDu+cr0UfY0COxGdtZBs+K0Jt2mPg7COAtd83JlBuk6XdrOide9tovpvN84w/Bt/xDxWS5esd7J5vwJGOHnisV1RvkfMuOnryEOKkdRoNSj6AHMYZYekoAlgm3trde3c2r89b3+iBhm1xJhYGRMfHVmS2ACRuvKk+J8cY79/o0aMj1Qfi1ofoIfj8zW9+0xJHtxzXq1GjRrm3OlcE8hoBJYB5fXpa1+AggFVVVVbXC60/kq+dpev5c8sHw5PuMzdHYsMXHqMDhy83ixCtzz4VkuqzoAD0VgmDLg0l8o8tLxZh3w2mj+Rkic6vLYxBtmRtzWe2UKVms7/9W22SfvwIBvbsZmYsjc5rY61S6SAS9OZFbSkVQWzTtvGlBVKySGRJmPYe0quuRzNaf5Ap5Giorl0j+ZFo5/nau5FfNi+FB9FXgMIxrar040iHC5+lyu9bF6Oxxzbhpss9Vdx9uwlh83Sh6dQ23j9I5S7C0BOkypZK73AXEr6PI4B4FheE9P+CGDhi6T7jYWKk5NO+I32ON/foGEn+WJYq6iCZHleeewLINQXJF7QGy8rK3CGlNf/pT39qi0d++MMfxkYh0tqQLqQI5BCBxlfpHA5Gd926ESD/b+3atWbixIkNpByc54+5L+wbRG+mhIDjrLQjGnBx3yIH4q/RrRaJDp+l6r8bDJ1GbQetNzpiLFjX0LuEB61cyCnad2P6inafaPutEnHkmu0NycCGTfHeQfbXOYXniwKPdR6AIGwrI0KHwWPxhdBZLlh8QTuycEuyfYf1Es/VDpFP6WBDyDUiXo0sDqFrSMjQPkVSUBB/jlN1OWkvYPoIFt5DnwfO5g8KuYoziofoxhFnFF1EedLc8hXixV3h6UKzfuf54VGE7hol8qSAIPZqKVxC9/D1uevcphrNfd5bK/HiqX53moZd5Te0B7mCIhHzr50SMT6Pa+9QQcu4PPAAUkWLcDztKZMYeqQ/+clPbOg3iVZgkn3osopANhBQApgNlHUfdQjEhYDJ9yPsi/5Wnz596pbnhSOAvI5bn++coaHmE2m2uUfV9flIbj03Z/142yFhtHiChUdkmUcAGoFn+vXGGYULceFliM9aWruJhyyozUdOYC9p60Vob4OERREK9lnVpvj9sx4adT6rEG29MGELLg/5ijsGt5yTmnHvw3MEqfFeha2jjK224ES8XOIlpBKXohMqmoPEvLZPczzL7yf6f4s3NCTOwX0NkRArrdTijO8/jtHCYx2ElOPaofF9b9Fa9BHAqAIZSGc/yd8jDNtBdAo7dyavUtqkbf5Mpvqw7fASY1awkxiLknZxi/r6/5ZKqgJi1JMH9bCdZhzxc+sG+1S7z9w8SA4h31EdQNyy2Zij/zd79mwzduzYtLX+GJcL/VLwQc6gmiJQyAgoASzks1egY4fEQeqccVH997//bROrye8LGu+p+MWCxSDBZcKvEWgObD78tenYidByHDnwEzzkUXwePLxnMz35h+USCvMRQPr3+ggcQs3h/L5gAQb6fqs3bReZFpGx2SnoXCmEj5t+LanYYRZ5PFOARZWvz9AG9BnH4COAqQSiCY/GVf/SF5cCF7y0c1bWS4ownu5CviFWFIfgOSTXkqITCD1izMHetj17SGeLDfF5kugs+ghgiYTJhXXFwtBJPIA+I9czzghv0+94T2m7VrNxg+nQqbPBsbdU8veWSHvBrlJF/s7KeO9nt27SXq0y+nuJ0prVnvZwwSKd4PjIIdxTwrZvS6g3TPxYrpMQcyfwHFzPva4MdFMZISHjVA8Zbr3mmHPtQbuPB82gsHw6+7r99tutqHSuQr+ITdMO0xlVx++8845B3zCsk+qW0bkiEIeAEsA4ZPTzrCAAuYP8FRUV2co5KuicJfX8ufU+8IQGWQYyEGe11ZPxlZt9hGD4CCBeKZ+l0ufrJN03fFYsxMZn/ay+31brpQx6KsntQtC5QryFm0QiZ5UUuXAc9TS8dqvQlvki4eKzyhQexlTt3cj38+XnUQUdRwAZF2Qj6nsI3oYttV5DOq2ESSjrdWlHWFmKUDp2MIgwQzbxrBKS3iakCwK0WbxcEDB4Lt9FGd07fBbuwQv+eJ7Jbews4+ggBHbSwBIJb+PhlscR2d9GIapID5WKN/cD0eKrt4aeyCK0hjwWl9/HKkPKis30iApdt7l5It0SrAHv3VX6DoukDGLXG+WYq7dEH3ffrm3MghivuhyuWbSzAIRHh6PH9nW7y8l8yZIlVt8Peakk9t577xkI4AsvvGCFpZOsm6ll33rrLTN16tS6zV166aX29RlnnGEeeOCBus/1hSKQDgL+u006W9BlFIGECDgPIASPiyqevXHjxhm0tYI6gJDDdCp+w7snLynO8K74CBz5bb4CkFT6eRAHnwV77UYtt6EmnpyyfKoCE4hFlBEynrdqgykRAvn2gtr8sO5CJNCa6yKaflsk/xLvEt0/Pg551oLbE/hMKvkWn34i24rhVHW7YQxRBM8tMKR3be6Zex+e2xxFCQmHjaIO4Yhm83YhyJJ3uD1Gh5BQK5Ww5MpBGjuLN48CFfrfcv7B+DNZd6QQaiNhd1viKjPIIuvQ8m2DSJ4gF7RVCOUWyV+E4KHNyDRUCK6v+8eIvkXe8DBELM5oHefrnezrDlJb/V77+xvWU7rAyLHNWbNVPMq1KRHLVsdX1kswPm5IZpD8xuaK17m/PHzcePxos++Q0thlm/sLRJznzJljxZTR60vXiFLQ6/fCCy+06gTprpfp5aZMmdIgerIr23/ttdfMAQccYDfBtTid9Jpd2Z+um38IKAHMv3PSakaE/ALq+si90FbJycBwMWoq+QM8X49e2o/NWdEwdBgEPFVoKhWBS6WvtywghRHcr3u9RMKbPktVfOHPX2y4ZTxm4UKKPcp7WO8YWoJo9y2U8UBenA2W3LY5nh7L4uSSvDT/Mazw5Eiyn2B+o9tvcN4thQeMELOPBA0R4vah5yGhNr+v1utWSxo5/vq80N1l/Y88MjtjpcXZYs95LpXq7nmiiRhnW0SEPM4gp74qXaptV2+ID+Gv8XzXT9IHKsRzukq8kHMltzBo7HftNh4u6n8Lwe9DdUjBr0yJ5A6eNqS/+e5hu1sPaIMvs/iG6wqhX8SeqfxNYhR90BnkhhtuaBFECU/iQQcdZL7yla+YX/3qVzYCkwQPXbZlIBDtLmgZx6ZHkccILFiwwFCFt/fee9dp/blOILtC/gjhRRUPOCiKO/lDqDUe7wrb8HkPu0llpM97iHem0pNfV9yxjdkoci9xVltg0vDGHFyW8Foqfb91nvA320Ks951F68y/5q+1YtQUWQwVjxuyLZMG9zR9e3SzYdPgfoOvBwj5igubslx3wchXJMMyqY6BQgSf+bxcrIfn02c9yO/zmM3/83zfOUUYn1CzzxZ5CPTgXl1j+wqzzWCxRXgf/D6jiOmIPt3MJOncQW7nW4sqpYCq8W9skOg3Bh8EwtvetCMa0z6dd5ipvTaZY/ptNksWzDWLFy+2ossUYUDIsmmLFi2y+XvDhw9PtFuiFMi+3H///TkL/SYacBoLE3F58sknreD+0KFDzaOPPlq3VrbPS92O9UXWEVAPYNYh1x1S7UsYZvLkyQ20/vACcvFBC5A2S00JSZC/9c2pIyTO+JlZtnSJ6VHU3fTs1cuGHdl2Z2lH9TmRGEGLjxsxc7x69Det9e7tEM2yLtb7BdEI3qMosPB54FjP51mivZqvN21p57amSjqDxFmFhNKql8WH4fBuBvP+wtshnJmKXK0UmZWgwVUg1I5UjxtQYnPYSkV6pKyk2OD5WSYFJu64SrpLgY2nOKKsWzsJj8Z7qOhHu9pDUvFE+eRZGLuvxzHfp/KSbk3RvzfVQ4KP5BMuXhjyrjEmZ726tBG9x3hihEbjXI9On8/DB4mbubP/NeHpQXIS6Qfs9BYhl3FGXuK8mP326NJOzllDryXV2ucdONicPrmv2balpq6n7urVq22/3JqaGuv1R+uTiX68wTnRgEwaKgMUT0yaNMlGGtLdtgv9fuc73zFok7YU69ixoznuuOPMhAkTbF7jqaeeatvXqTewpZzh9I4js39l6e1Tl2rlCJDrRwJ2jx496pCAnEEA6b1JUYgla507190UuEG4yZe7Q/XmBVN3t9vo0Lt3oz7CdTtM4wXeLypiyWnDc0ZIlBAuxQVMK6SQggpcp03XPaIDSHA3nSSPzGelxd3N/Mp4/TZfiy6227u7iO1GeG/cPgfaFnPx+ZFFUumZSgB6iYQu0SikqHNJdb2YdE8hJuVCgClyGNu/RCpWN0V6O0uKi6QKp7YLihtXcF7UTiRNgh+EXg8SkjLPI8/CMfgwqBU69oSoLUGLD8/iZfXp+5FjusAT3h0oGC1yLWFCx8bbko4SavUQQJ8XLs7D53YDNnuLhEuVnLw5QuqDRJlx0yUkzj4NPgmFFuLBZ31NfVrFfkNLzQ++OMpAOK11le4voZArXn5IIMSMvDzmaIAyJw8YghIkhI4goruX9MGQPOIZM2aYAQMGWKWB0PC9b2+77TY7nuuuuy7xfr0bzpMvqRy+5ZZbzOGHH26++93vmmHDhpl77rnHnHzyyXaEXIeT4p0nh6bDSAMBJYBpgKSLZBaBPfbYo67Yw22ZCw0TIWEuOISIgjcHwsW854kcAujIoLtJ8N6JspLnw0Ufja9duXgREqMggclnVJBCBhGAxjuFl42+twuZJIfOhSzjJDbctrf5EqlkoaB4slsnOG+bokNJqgriVBI2vcRrhBhzlK0VYWImKlSdHh8eUzT7OgjxrRFvKqHfaiHRPivpUSw6NGtjF9ntk3iSwkqDpMuJrw0gFcZzI/QF3Q4pWFjoIdF4yeZ7+vtSoDLLk19IgYqPAHaR37FZX0+m3LjcfMn6xuFZ9x19emctb0huyQmkipcHmSqZZu30ALp13JwWfbM9uZ2rQ91q3HrM8apjFHl874jh5og9+tj3vn942EPzkyloXAPItQv+7VdWVpqlS5daosjfM3/njhAG53EPhrSWhHBCbpLYu+++a+644w7z0ksvtZjQL8cfJnXgdswxx9i+69dff7055ZRTDB7Be++910ZikmCmyxYWAkoAC+t8tcjRRmn9cZF3hC540NwcnMeAmwTh4mXLltXdHLixcLHv37+/WbVqVd2NItMhpeCY0KSDPDGRKxc2wqMLLDHcaGYv72k+FqkNKnLxtgWDfcs9N3e26cKs4e2799We/EKW2S5E1WepJGx6tN9h4n13xtTq+9UTlHCHD8K3yOCMrehhRZwJv0MoOW6XNwiJ9Fm37uJBFA9ynG3bEu+9Y50SCWX6XIxoJ/oIYKn0MfYRQDygPvN50lhvrWg4xlk/KtQ9RRzsu5N48oZJoQ4ePfJRl1RushOeS9/5LbK5sdHY4Vlc6incEc5mLjl0mDlzv0G7rO8HwaOfLlNJiShaB4zrBF5D9/fPnL/94IOheyB0c1afO3euTTfh2pCu0SOYqt+LLrqoRYV+uTaCNms6MgAANXdJREFUAw/UDz30kPnjH/9oOy/hHb3yyittruMXvvAFc8UVV9hoDF1PxowZky5sulyBIeC/WhXYwehwCw8Bnka5sGPpeOt4WiVMzBQ0tsGTPjqCkD/CSCScc3NwIaUoryGhpnT2G9xX0teIEzNNHlpPDvFk/uP1N8zW9sWmpr30bBVCSPXydpmihJhpLZaq/26q/L447507ni0pCmDoNOIzvFu+IpkBImJN+DRcBAJZobsI4Xty5AiVr5BcxCi9QdeKLG4c23ejGKFhPlpw2eqN9QQ1+Ll77WuTxjKfOabqVgjN0Vj02QpPC73izu28RIsc0jABJNeO9m3dhfyhW4hM0MyIPFHCtMFevOExBvtTh7+jsOeDFQ09iyyDh/zEieXmwilDDee+uQ25KPc3HBZwdg+GjhyiLkCuMcLJGEQm6C10BBGiGfX3f+utt9rrUrZCv7/85S8N4WaIGYTrzjvvtFW6mcbUkeDjjz/ehsTJA0RI+pFHHjEnnniiGT16tDn22GNtbuDvfvc7JX+ZPgF5tj0lgHl2QlrDcNwFF/LHEynkLd0ev3H44AmE/JHUHMw3CoaUIINM5BpRERhMRHc3FjfH++gulnH7bOrnHC+VhX2kiIJcSIeH2x6h5A9FCPhDIYOz5GbOHM8On8VZBR1KPB5EwnRLxRvks1QE07TjJh9PrtrKDdpneNei8udqJKfwYyHAI8WTOntF/THSzaOsqLMVUKa6FQ8m5FFeNijOcfskv88ngsxy9E722bIUGPk8YYzLV+DRU47HR2Dp8jJjaXyOJtXNaPWVSSgemZ71Ek6fL/mQFB6xbzx8cWkCVKD7CKAPN9s6MQQaYd6LD91dyGd84UholWZ9G/VgSNEHf/9cE4L5hitXrrReRNJM+Bt3xPDFF1+syzuEgP3jH/+wuYjNOnDZ+MMPP2wuvvhiAwlEl+++++4zRx11lJk1a1azdPcgx2/dunX2+LjOkZKDtxPyBwHlwZmCl2nTpjX3oev2c4yAEsAcn4DWuntH/pjvKvmD1JGvM3LkyAbkD2whV3EhJcgnHgPnNWA7hI15z3dcHN3NwRFD5txswqQtyXmkBykeC25MUduhiwXTIaPqOyZQofyBkMEZSyptq7lZSyut19A5pPoIMfARQMjF7BXx5ILqUl+HFI7PR374fv1mf/g2lXeNIoWg4QkNekPHSwUyxTcdhPyQWwhBRLdRfkJSxb3dtJfXMzxt+MokJ3GVJ4RaJDI8Kz3fl3ZpL4UT8cdIDp6vv2+F5NmtXVJPcIPHyutgkVBX8fj2lXNaLJhAfskjJcRPuDwqVaC/4LHYE6aFIMYZvYXXeLq7BHNT9+zT3lx53AQzYUB9AVfcdnP5OQ+ERAQgMnj7mIIPhowt/PdPoQgFaKwHOTzppJPsNYXrysEHH2xz45rjmJCYOfvss80555xjNw/5fO6552wxxo9//OOM7pLrLZ1QjjjiCHt9u+yyy2xV9NVXX23383//93/mzTfftPmSYbwyOhDdWF4goAQwL05D6xtEpjx/hFKnT59uysvLbeg3CZI8/SM3wxQ0LpLkADmPIYQQrwHv+RwC6EJIjhjyHsIImfUZT9dsa999900kR0F+F/mFwRxDSCFEEFK4WogRBG5RTAUq/XF9Ro/idZ78u3B+X3hbwr1i9+2WXRtTQOK+j/Neue8pJsG2SRcOW2ATOtY9y7tLCNSYnpLnRzi5m3Q4cZ1b2HZ3ed+27UYhUlJkEBGqHdy7yLy3NJ6g9eiww3jqQ0wv2aePAAZFxukm0lVyKntI5XgPqd5uL9498iPR5CPXc52M8eNV9WFXwuQ+dZreQm59BDDcms5hyrxcQstrdnb7CH7uXuO13GdANzOlzxbz1SP3r9PtdN/n25xrC4Vg6NuF/7aDYw3//f/617+2Qs9PP/20eeaZZ8yCBQsMD2tM/N02h3H9gnSScxc0CNrrr78e/Cgjr3ngRAibHsJEIfA2crxcx7CXX37ZHreSv4zAnfcbUQKY96eo5Q0QVX2eMnmyHjFihJ3vvvvulkBFecTiECCUiuePi3xScde4bfI5Y+jUqZOdwhdC8gmDHkM8Da5CmXUdMXRzLqy8hjQSev7oo4/MXnvtZY+V5XfFIIWTh/a2E9v5/jF7Wo8ZhPC9xevMeyLq+77MkbFxnsK4/XXp4L8UpOqBPECqb336fISgU+UopgpBb6SPm8c2ClHH1oo3iylsk4VAO5kbcueKxaPXtUN7G17He2jzNGWcNhFR/pW6dIsbeX94L6kG79RFsBQySa7dZ599KnKTVK/Xvt66qcoM60G7ONrGtTVthbDaBwL5PX22YzfDo0FFj062GnejCG7DQStrpGXdOglFyjLtZd9xleJ4cD9aWU8Iw8fmcfDZdnY+iRewiDLhpObQUX1Ey6+f2bBwpk1XwJue70bRB+Ru0KBBiYbKg+TPfvYzGxpFHoUJz19z2po1a6wnsqysrMFueE8OYybNpdqQdnLVVVdZ8edLLrnEHHLIIXY3r776qu0KQihcrXUg4L/qtw4M9CizjMD+++9vPWm0giPUASkiWZsLNkTOEUPIIRMJ32HPGhcz5BmQkdhVuZckh081cVFRUaPWSXgNXZ4RnkJIItIVvCbcCwGEPKJ9WF1dbS/6EEOIZhLSm2qshEUPHFFmJ7csuX+zJDQ6YWCpEEMJIQtBrJGOKUELvw9+x+t2MSTBLUcI2UcAkWf50BOCxmsX1KVz23VzCM5CT4cMltv4KeSttqCI92ELhpPR06sN59aHdEf2K5Yq7fgw+XDp0TvH0ycZTxrCyhJcDO/akj+KJuK8eMiwzPcIRBMK9tmajY0Jr1seaZvZAW+i+9zNEUEPGoTwhAnl5oz9BlmxaNqG4WHvJYLq+W5IxuCto71k+JrhGzue/fPPP99AiBCoz7aFrwFcT8KfNWVMjvSxrsMDUvuHP/zB6v5RBUy1NV5IcqjJBQQ7tdaBgBLA1nGe8+ooDzzwQMOEcaFjgixBCD/44AM7PfHEE5YY8jkXKEcGHTl89tln7ZM6nkSe9nNtXKwhdEzhCkXIIBdYF27GE8hNis+5KDsvoQsnu/eZOi4qbJkOH1thYaKYYo70sn1noXgJxUP4rrR+WyWFJz7buMVfPJHqZtVdvG0+KxeSstYjY4MHzFdg0bX9bt4CDwpEFok+Y5yRZxcXPmcdu34o5BzcVndpglxL/oKf1r+G4C1YG49xhx1+fH0C0FbE2dN7uLtUF/vMFYeQI/nlvfqb0yYPMHT+wPCm8eCSSQ+7byy78p0L/RJN4G8oXeP6c/PNN1vCde2116a7WkaWg1Tzdx729pGLHPYKJt2he/BkPQpNIHhsF52/o48+2ub5UXn8v//7v2bIkCGWEH71q19NuhtdvoAR2E1+/H5thwI+OB16YSPATxNvGcTQkUPycSB9XMj69u1bF/51xNDN8QymIiXZQIdjILSETZw4scGYeDp34WQ3d3mH3MzwDoZJIe/jpCt25Xg21Hxi3l8iPYA/XmlenbnALJZoYyXtPnYalaC+EOywPt3NXKnkjbOJg3qa6UI442wfkch5c368yuAkWf9tz/p7lBd7BZiHSW6dr4MIAs8LYlqdMWa09eaKhE2cjakoFvmVeO/h3oNKzVsL6zunhLczpm9XM3NlvERNiZC49VsaeurcNkb27S4izvHh4YlSsDF9cXRuY7mIRA8U7+xp+wwwnx/ZW0LX9eFgOvbw4EIhhS+Xzo0j13OuEci/ODH5dMfz9ttv26II8t9YN9tGPjBpIVQBO6MyF6mWphSBkFcYDNVDan/729+a0tJSO73yyivmzDPPtJ9xjQSzQji/DhudZw4B/6Nh5vajW1IEEiPAxQm9Py6QTBgXryOPPNI2MudJH4+hI4h8B0EkDFRRUVHnNXR5hsxJgGa72SKH9DymopCwUnifeP/iuiFwEXdkkDmElznbIgztvIRBgphOEUrcSaBIZJ8hPUUkea45+vjR1uNDzt574h38QGRo3hJyRsFJlCeK6HCq/L41Utjgs82f+PP7kEDxWTfpQOIzQtQ+AthTBJ59BLBE1pdKidhdpMqhTJWDWb0t/jmcHtGVMeSPAXXYLZoYusGujKhcxtt3/Phy86VJFWaweFfDhtePqlj+xgqBHOBVRxSa8GX47yx8bMH3LvRLG7RckD/Gcumll5rTTz/d7n+//fazeXjIVBGSboqR30c6Cl09uH6i58eExAyGvM15551nif2f//xn06dPH/s5D6tJsLMr6T8FjYASwII+fa1v8Ai0IpvwxS9+0R48Hr+g4VWDLDmPIQSRPMOf//znVt4BwkU4K0gKeU2bqEx71ghfM0FeyQFM17gII1DNxFN70PAMOmKI19AJ3vKaC7iTrnHEkJA0r1Ptn3W54bNPbvqY627yxQkD7HtCx7NFi5A8QkLHFJt8LKHk/qXdhDzFe6BqNQjjvVtsnB7LPosShQ4unyqHUQqHd8lSSdik2r9PX5BOG0s8Ei4U2FR69AG3bKv31IYPsmsHOoLUkm/ExKeKl++ECRVm/2E9Jf0gnlTz98NviUKIfDdCnWjm8XfN7z1d4zePh40Q7DXXXJPuahlfjpAsBPaGG26wBWXkNFOFnLSIhYERMeH6gPD117/+dTN16lTrXUTjj4gCx0ynj8cff9x8+ctftpXGJ5xwgj0mJX8ZP7V5v0ENAef9KdIBBhEI5rUEP0/1mgsfJAkPofMYMuc9Xjo8buTBQAa5kYwaNaqOJFK4kfTi6MJnYWHqVONs6vccH95BRw6Zu7CyCwk5MujIIXNXhEJ+kCOrwfBRqvGgv4dQ9buL1gohXG+rjsm1k+HUWariCttjWCqV44z8O7yl26RwI87w4PnayEFml3hIJkUqSMvEWYVo/C2tjM/ho89ylYTRo6y7ELwNW+PHvkd5UWyPXrY3ebA/fNyPDiExHUaGFLc1xSI3M7GXMZPKO5nSom6WJHHu3e8h3A0HmSIenPCm8fvId0Pyhd/+pEmTEv2dEt6GDBE5IATbUoxrAZ09yPvjXEKOeQgmlO+Ma8Lhhx9uvY633367+1jnrQwBJYCt7ITr4TZEgIslXjVCLsFwMsSQCW8iIRJHDPE4ujxD+mdCTMLkECJFZTOeNJbJtUGag4TQvYYgMnYIH6EwKj0puHEEsalFKNXSoYKq45kyMUeD7/kZy2KlaPYcWGK9inE4DZH8OzpexBnyLFGyL255RJVrhDwGSan7jjlFFBTCfhoTp6XN2kapmo5bn+4cyyPCrG4fg4SELayKJ4CTJfT+rwXx+ZFjPPmNRZKbWS2SMkErkYKbQ0b0Np8fVWYO2L2nHF9b+4DjHg7cgwHzcDccfgsIBeMR57fb1N9AcDzN+Xr16tXWc03oNAlZhTBSiHbyySdbz1tzjjGb2w5W/XI9e/DBB83vf/97m2qCh5HjxQjx03LujDPOsJIw2Ryj7it/EFACmD/nQkeSZwhADmmZxIUUMsiTNHPIHR4zbpaQPMghE8SQ3EOkFAjrOHX9PDusuuFws+D40FKkcpmbvSMJ3CC4oTovkSOFvA97jOo26HmBaDXhY7qZkFNIW7s5IguD7l2qApC9Bvc0//YQpHFS5PC+p8PGKJFvme2RbxlRViQae/EFLKOFgH3gkYeZIAT2ncXrY49+ZGl7M3tdfI4jHU7eFe9pnCEBUx2jgTi6n4xdJF7GihfxgN17mQOG9TLjBQ8kZ9IxHn4ggo4UUp3O757fRrAQyf0O3Lwpv4F0xpNkGbxYdK7AY8/DS7rG8f3gBz8wf/vb32xBWRKPd7r7yOVyQRLI60cffdT893//t1UeQBybcDBVx6R8vPHGG7kcqu47xwhoDmCOT4DuPn8RwDuGEHRQtobRcgPBY0avUUcOmRNmgSTiRUNnC/00RwwdSYzSNMwVAtwcILP9+/e35NWNg+Pj5uo8hczxtNAiy3mMHCEMhhIhB3hEowzR6klC5JicIbBM7uC81dVmb6kChhAiT7NI9P6Czjgp2XGrRM47tfdfxoqk24bPwi3owst2k7H7rH2gcjZqufadOsvH8QRzRXV8aLk8wrsIuYP47TWoxHxuaKmZJPqOqY4halx8Bul38kQLpPMF7wn9Mne/Afc74DcQ5TV0pND9Flg3G8bDGJqcFHYlMUK/VNwifNySyJ8jfsy5PqGtyvWGh1G8ff/1X/9lr0svvPCC9fw99dRTSWDTZVsgAv4rWws8YD0kRWBXEYAY4h0jWZvJGYnk5P6hYejyqCCGUZqGwTxDyOHgwYNtdW84nOy2nek5JI/cKTw5jCVojIHPmaKKUJy3CGLATYZj5TU3nnARiiMFUTdaihCGinwM02FjKuqGsFW8gvOFGM4VMoi0zDrp6rFh6ydmvrymDVzYaojfeuwTGZfPUhV4bJMQts82xHjn3Dq+/sM9JFwbVaXr1i0TAihxekMYeJxIzYztX2zG9+9hINSZNIoH0PyjEpYqcyzVb8D9DpjT0YLfQLa8hvzmKJwg9Jvkb4bQL9W13/ve92zOYCYxzOW2wB3iTYs3Oi3RzYNrE10/qHDm9Y9+9CN7zL/4xS8syXfVv7kct+47twhoCDi3+OveWwgC5P2RSM6FFw2vsEG4ojQN8WJw48XIu4KMOa+hyzVsDk1DbhTkelGhHEXOwuNP9d55RSEBbnIEAW8EVciODDJ3E0Q6zmsY3CeeVSqeB4wYK4LOm81iKdhAegbxZoovCClDFKOMPsbLPFW2/SkQ8TT57Vvc2ayQXsuRJs7JrtJjmBB3lJGPV7k5+juWh9jN3BleJp9vkEiyDC/rbka4qW836THcvIUYkId//vOfVniY32BTLeg55jfgzj9z5zl23kI3d7+JJF5Dfk+EfinUQgs0XWN8aOLxN8rxZuJ3n+6+m3M5jsuRYIrOuG5Q/Ut4l04fFMfwcErRB4bXn2uMmiKgBFB/A4pAhhDgRseNLYlx8aZIA0KGt9BVJrt5UNMQcsjF3RHDpmoa4q2hETzeHkJozW3kE4ZJoSMI7DtIBhwhYO48Uei7cdNKVZVaIxXJEL0VVTVmpUwrpDJ29YYambbafshrpdKYKdj6DGmULdKfLRhyDuJBaDUu/47lKko6m6XrY8ihfD9WCN4MEYgWJ54hl6+XFKxAKCkcoXUcAtS8R4uvZGf3jeD+s/Ga3xoPJ/we0iHjTRkTJBMSGP4d8Dfj8k2D5979JvBCOnLDfvl7IWeVceLdSmL/+te/zFFHHWVee+01K8qeZN18XtYRQOSx7r//foOwNQ9cXCfw/HEN4e/na1/7mpk2bZp9+Mrn49GxZQ8BJYDZw1r3pAgkQoCQalDTkBs1Exdz8vGCmobOa8jcp2lI2Azyx80hSeJ8ooGnuTDHFyddAyl2IUg8fxTXELKCJIRJQZq7q1ts2/ZPzXrpckJv4A3S4g4PIh48N1GYguA1oeiO7dqa9VLVDEEkVEylMDl4bYXREcKmZdoWWZZK244yme1bzerlS8yeo4abstIiQ2/mEplYLthlo24wOX7hqmjxBCd9eMnE0CEv4VxD93AQ5TXkd7F8+XL7MEC6QbrGtsjlPfXUU20BSLrrFcpyYIbuHySe8Pb3v/998/e//90WudA287TTTrN/N+gespyaIgACSgD1d6AIFBgC3DTxnBA+dqTQvfZpGkL4END+zne+Y84999y8PmpIQVVVlS2q4UaPR4ObXJgUQAid5wgCkySUmGkAICeE3RDwLQQBZTBuShVtpnGL217Ya8iDAA9EeP94eCB9wJ374Dz8gMDfCyFQCBGh31Si6HHj2dXPb7rpJkPnjXfeeceGn8kXzqSR00tVP57RQw891Fx55ZXmpJNOsoSZv3kkYCgIUVMEHAKZzSR2W9W5IqAINBsChMS44ZHbw+SMGx03zaCmIcQQHTCIoqsKJC+IMFownBynaei2ne05N2lCv1SoBnsoc+OH/AZDiXixeM+xQxZd+BCM3MT2gqHETB8P2HMDxiubD9qPqY7PjZeK9aRVtKm2nanvIfPgycR46anNWKlodV5D91uIqlB+8skn7W8CIXeqfiGAuSJ/YMKY6b5B4Qq9eTNt4IJBkgnp4ynFiBaQQ7v//vvb9/qPIuAQUA+gQ0LnikALRuC2224zd955p7n33nvtDcLlGxJOjtM0hCCicwipak7yFAU7Ny0m8v7SSdaHIFAcABF0pMC9Jszs+ic7QuhIIseWibw3SPcCkVFJd7xRx5zNz9D7I+8UMpJLUpTuMVOwxO801XiDXkPy4d58801LfiBFEDA8s/yuIUNoAebCHnjgAXPxxRdbxYBd2T+/+ai/Sx6SqHTmIa+srMw+mBxzzDHmrrvu2pXd6botEAH1ALbAk6qHpAgEEYCY0AWA6sfJkycHv4rUNMRb+Ne//tXmGuI1JKQZrE4mz5CpuTQNCY2hsUhVdTrkjwPiRkhIkAntxqBRZBAkhc47wmfcRCGDjhAGCWK6xIjtEXrHG5vueIPjy/ZriDHjpWI03WPM9hiD+yPsz4PK+PHjU4436DW8/PLLrRg73kF+T+S/ulQJiGKhGcSOhxXw8D2UscwFF1xgPf940cn/u/HGGwvtcHW8WUBAPYBZAFl3oQjkGgFkaiikSNcgRkysByF0HkNeczPmc8KHjgziVXGvB++CpiFeGvLo2EZz59FxfNxMnaeQuXvNOCBzjhAydyQRkuk8L5BL8soITdJlId8NEoFXDJIc1n/Mx7FzjhBuBvsoeSXfmDkv5Lzye0paMezb7q5+t6sewPPOO88ccsgh5uijj7Z/g4wHnPhNujmf8TfKQ1ohPJQwXrXsI6AewOxjrntUBLKOQBLyx+C4mTCRz8bkNMT4jpsMXi/IoJvoekK7qV3RNIScvP/++4acrWzk0XF8zvvHcQWNgo4gISS5nrAphNGtBylkGd736tXL5pvlsgglOP6418HzE7dMPn0O5oTw8VYmMc4TYVAKIZqT/F133XXm+uuv9w4N+Rmqc3fV+LsjlA2Bf/nll+3fHjmFHB+/QczN8fydddZZ9vjRBFRTBKIQUA9gFCr6mSKgCCRGgBsUxKmpmoZ0LIAE3n777XUagIkH0cwrMD5Cx0wk2RNepEgBwhHUswt6DHmNF8bdnJt5iLGbh8RSgbrPPvvYMccumCdfQK7x4kH+wh1pfEPkd3jVVVdZvT+qnJszzI2mJpPPBos3G6+xs131ALKdW2+91dx9991W5w9ZF6p+8chj/EYJAVMEQ8cUNUUgDgElgHHI6OeKgCKQMQS4KeG9iAonU+xBtS9FHMcdd5xtVu9Cyj5Nw4wNrgkbIjcSTwzeF7x/kA7CxkGvoXvtilBcCBlC6Agin2WiCCXVIUDMIUNDhgzJinc11XhSfQ+eeM6Ki4tt0Uaq5YPfE/Kl6AHyOG7cuOBXefF6VwggDxlOIB1vOcUkFCChb/iVr3zFHi/5uwhe8/skj1ZNEYhDQAlgHDL6uSKgCDQ7AtzoIYVUd5KsTs6SS9SP0jSEGDpyiMcjF141Cgi4uUL80smjY/lgEQrE0L3n+EnoD5JC9zpTniv2AVlgHHjTcoFZ0h8SXmTCmFRVJwmrgysVvnS9uPrqq5PutlmXh6jhhX3qqacMVfmvvPKK3R+V9niR0zXOJ5N7cLj55putzA1kF90/qpsJDdMZRE0R8CGgBNCHjn6nCCgCzYoAN7IDDjjAetKQqHHG53gN8Q66AhRHDJnjTaQzCIUnrkKZ3rC8J3+Qm2NzER3GgyjxrrZO4xhdJxRHCJ3XEG8iBNCRQecxZO6rAHX4BecQKcg0ZAqR5Hw3vKt478AXD2C6Bp7k/OHpfP3115s19JvumILLnXnmmebBBx8MfmRfv/TSS2bKlCmNPud4+A2DBWFmClqCBqF35JjuPnQAef75522xzIwZM4KL6mtFIBIBJYCRsOiHioAikC0ECNnhmQrmSfn2zY0RTwpEDDLoCGKcpiGkEHKYCU1DcqoQ1YVMQcSaywjZBkmhe80cUuDCyW7uCKILD7pxkZsIvvSExbua7wbpx7valCpliN+xxx6bt6HfpmJPPh8VvXgOw8bfApPzBqL1SfgXL7maIpAKASWAqRDS7/MCAXLDSGDH80Po77DDDjO33HJLzvvZ5gU4OgiLADdC8gjRfHPk0FUpQw7DmoYQQxdOTkfT0JEp5EgQ2M2FQZAYRzCM7LyG5Ifh4XNeQwgqxKGoqMh2z2guj2gmcaBKmb9xehM7UpPO9iHGpBFQ+UoBSEuyRx991Jx99tnWs+m6fYSPL+gNDH+n7xWBOASUAMYho5/nFQJ33HGHvcCjt8ZN7bLLLrPjI9Sjpgj4EHBeEn43UUUofB7UNIQYOnJIBSdeNUKyVFvijTnwwAN9u8vJdxxjULoGUkjYELLId4QKHTEMew2TEK3mPDikhSj8QKwc0pqucXxXXHGF9fxxPQh7QdPdTj4vd/DBB9sijwsvvDB2mOBQCCQ/9gD0i6wjoAQw65DrDjOBAOGQE044wXp8MpUsn4lx6TYKCwFummFNQ5drGNTMI0mf8C/dJUi2hyDyWb7ecKuqqgzajJApiB8eMhdGdh5D3uM5iitCyaaAMJ5NQtV9+/ZNLKgN6Tv++ONt6DjOQ1ZYv8rGo0X2hf7BHCuSOPxu84W4Nx6tflIoCKgQdKGcKR1nHQLkfyE6TLWfkr86WPRFExCAwFFoQMiRyRk3WKdpyG+NdAMeOB566CHrRaysrLSdVSCC4SIUvNRsN1fkkFAwVb9I6DhPGjI7TEHjGF3/ZBdShuTyms9dEUrYYwhhzDT5gGyzTTyuSQwSi1eWit+WQP44J/xu6OOLV3rFihW2FSO/KQg5BSF0AGEZDfsm+aXoslEIqAcwChX9LC8RwPuC+CkXfZLwn3766UZ9X/Ny4DqogkWACloKVJDtOOOMM+xx4K0KaxriNWSiahnPoCOFwXBytjQNZ86caUO/aMA1lYRCIh0pDHoMeY2FSaELLzcl/ErvZ9q9QcCTyqEQ+qVo5LXXXmsxoV88txSzkLNKVxyIHnjPmzfPFjOR50jFLwZhxJp6nu3K+k+rRUAJYKs99bk/8KRtlMhpwvvHTZb2S3huIIF68cv9uWypI4Do4QG85JJLUh4iN2MeTlwImXxDRwwpQiGPECFm5zVsDk1DV6VMQUS6VdUpDyywAMfoilDCBBGPKUUoQXIIMeR9sH9yYHOW3BD6pVVhUu8fpA+vLASwJXj/HC50mEEzkOsbhJjr3qBBgwxSL8i8/OlPf7Jhcq6fEydOdKvpXBFIjIASwMSQ6QqZQoALG5PPuClE3ciWLFli9d7IieFmlytbsGCB+eEPf2hefPFFG64pLy83//Ef/2GmTZumTdhzdVLybL+QJryGPLi4IhRHDHkPycyEpiGagpApJG/Ipcu2QXAhwM5j6AginxHedV7CIEGk1y+eLnIVkzzIsW2iAOeee64tAMn2seZqf1wvn3nmGUNlMOf6z3/+s23tl6vx6H4LGwElgIV9/lrt6LlxDBw40MSJqGYLmL/85S/m4Ycftl0s0JlDgJWb0umnn25+8pOfZGsYup8CRQByGNY0dOSQkB95X/yuXCiZeZSmIWFCOj984QtfsKLa+QQH5NcRQzeHwEH8+A6vIZ6uMEGM658MZt///vdt2PjVV1/NSeg31w9+PPgSNv/2t7+dT6dax1JgCCgBLLAT1hqHS4iHCfkNEqO5MV577bWGUAn5TvnW3YB8sXvuuceOszWeLz3mXUcAkhOlaejIYVjTcO3atfZhiAcSCGOmizR2/YgaboEcQ0hM//79bZ6b8xo6guj6JwdJIR4vNBg51lNOOcVKxvA+F5arBz9+F85TCnnO9/Oci3Oj+0wfASWA6WOlS+YIASoaL7roIlsZx42CirgjjzzSVv6RO5RvRkUiNwiSudUUgUwiAAFgCmoakgv32GOPWVFrupSk0jR0BCKT40q6LcZJLuGkSZPqCE1wG3g0g6QQ0ocYMqkfkEc6haACgDeUibZxdDvJpemDXy7R1303BQElgE1BTddRBGIQQM6Cm9rtt99uzjnnnJil9GNFIDMIQKLInzvppJMMRQHpaBoGK5QhT4SVCcFmixiSx0ZBA7m7SdrpQXwRgJ8+fbq55pprbH9jciiZ9tlnH4NWXi5NH/xyib7uuykIKAFsCmq6TotHIGmFMoAgGXLIIYfY6Te/+U2Lx0gPMPcI0B4R4vHkk0/G5sJBnJymoeub7ELJkKcoTUNXoZxpTUPGQc9eJHGSeu9feeUVc+KJJ1rP+ujRo3MPfmAE+uAXAENfFgwCSgAL5lTpQLOJQNIKZcjf1KlTrZbZAw88kDe5OTfddJOtFIQokFSP5pqaIuAQII8sm5qGFElBAtFWTOJxJOeRql9En50GnjuGTM71wS+TaOq28h0BJYD5foZ0fHmPAPlYkD+Ed+kUQd/VfLEf/OAHNsme3ClaSSkBzJczk9/jwGtIQQaeQhdmdV7DOE1DQsl4DslBjCJ3bIfCraQahS70S3eMl19+OdbTmQlEW8qDXyaw0G20fASUALb8c6xH2IwIuLAvkjS/+93vGpC/XGixxR0qXsmLL75YCWAcQPp5WghAxvAaJtE0dKQQ0WZSI2hllsQgfSeffLIN/ZKzmC+Wzw9++YKRjiO/EVACmN/nR0eX5whArGjNFGXcLPPFlADmy5louePg9x6laYjnD7JUVlZmi00ghE7XkNcUpVAMEuU1JPRLi7hvfetbtgAkX9ArlAe/fMFLx5GfCCgBzM/zoqNSBDKKgBLAjMKpG0uAgGulR/cK8g1dWNmFlMOahkFyePPNN1txdbyA+ZRaUSgPfglOky7aChFQAtgKT7oecmEj0JREdSWAhX3OC3X0iFnT//juu++2FbzB48BjyBTUNMRb6Ighn+MVpHIZT6GaIqAIZBYBJYCZxVO3pgg0OwJJE9UZUD4QwF/+8pcGsVwKAcaMGWPuvPNOc9BBBzU7XrqD3CIAkUsq+QIxrKqqskUfxx13XG4PQPeuCLRQBNq10OPSw1IEWiwCvXr1MkyFZPRLpggFEnjAAQeY++67zxx11FGGjhAU0Ki1XASSkj+QwPPXo0cPo+Sv5f4u9Mhyj4B6AHN/DnQEikCzIbBo0SKbmP/UU09Z7xtiuhj9Yun+kC0jkZ8OKfRIdoaYL5WhP/7xj91HOlcEFAFFQBHIEgLqAcwS0LobRSAXCFx77bXmwQcfrNv1xIkT7euXXnrJTJkype7z5nyxbds28+9//9tcccUVDXZzxBFHmNdff73BZ/pGEVAEFAFFIDsItMnObnQvioAikAsEyP1zyfbBebbIH8dMzuKnn35qZUCCGCALsmLFiuBH+loRUAQUAUUgSwgoAcwS0LobRaC1IxDWeYOQhj9r7Rjp8SsCioAikC0ElABmC2ndjyLQShGgYAUNt7C3D004vIBqioAioAgoAtlHQAlg9jHXPSoCrQqBDh062D7Jzz//fIPj5v3+++/f4LNcvEFk+NhjjzXl5eXWI/nkk0/mYhi6zxwjQMUxFemdOnUy/fr1M6effrqh44eaItBSEVAC2FLPrB6XIpBHCFx66aW2D+x//ud/WmHfSy65xFChfP755+d8lJs2bTLjx4+3YsU5H4wOIGcITJ061TzyyCNWiPqxxx4zc+fOtT2IczYg3bEi0MwIqAxMMwOsm1cEFIFaBNAAvPXWW60Q9NixY80dd9xhDj744LyCh5zEJ554wsrT5NXAdDBZRwDpJGSK6GbSvn37rO9fd6gINDcCSgCbG2HdviKgCBQMAkoAC+ZUNetA161bZy644ALbpu7VV19t1n3pxhWBXCGgIeBcIa/7VQRygMBnn31mZWFysGvdpSKQ9whcfvnlpmvXrqZnz542ReFPf/pT3o9ZB6gINBUBJYBNRU7XUwQKEIE2bdpESq8oMSzAk6lDTonAddddZ3/veHbjprfeeqtuO9/73vfM9OnTzV//+ldbuf61r31NH5jq0NEXLQ0BDQG3tDOqx6MIxCDwxhtv2CT3b37zm7YVXMxikR+3Fs2+fAwB0yrv8ccfNx9++KHp3LmzrZy+5ZZbzMiRIyPPlX5YjwAi5Ew+Gzx4sK38DS+zZMkSM2DAANutZr/99gt/re8VgYJHQFvBFfwp1ANQBNJDgBsdng0S2iEQdOdAnw9y8Ze//MV897vfjSUVECO13CDwj3/8w3zrW98ykydPNtu3bzfTpk0ztNGbNWuWDVfmZlSFsVc0KJmaYjz0YBSBqCkCLREBJYAt8azqMSkCIQS4mfXt29ecddZZ5qGHHjLnnHOOGT58uCV/l112mTnssMNMnz597FrO20dYmJAxfXwRcaZit3v37qEtF/7bjRs3mo8//rjuQObPn2/eeecdU1paanXh6r7I0QvIedDuv/9+e644L/lWRR0cZyG9fvPNNw3TgQceaEpKSsy8efMMfbSHDRtm1PtXSGdSx5oEAc0BTIKWLqsIFCgCzoOHJ2nlypWGysa3337bVjqecsop5he/+IW98Tnyx2E6D8jvf/97c9VVV9mbYvDzpkDhttmUdZtrHXLAJk6caCf2gWYh7yEA+WhVVVV2WBBUtcwgQGgdT/ihhx5qveBf//rXDVJFeF87duyYmZ3oVhSBPENAcwDz7ITocBSB5kbgzjvvNAgyL1261ED+0Obr1q1bo906D+DZZ59t8JL9/Oc/r/MSNlp45wesg+E5dGTyhRdeMDfeeKO5+uqr7Q1256I6awICYHr88cebyspK88orrzRhC7qKIqAIKAK1CKgHUH8JikArQ2DPPfc0M2bMMGPGjLGevyjyBySQOIxkeLxNhMaibPny5XWJ9qzj1nPL0vOXrh8ufLxt27Y676JbRufpIXDhhRea9957z/zP//xPeivoUoqAIqAIxCCgBDAGGP1YEWiJCPz973835PyRD7hlyxYrjUFhQZzhaSLkWFZWFtkNAY8UoVJ6+hYVFZmDDjrIPP3003ZzLuxM/iD9VQmpYfQGdt/ZDwL/+ELEH3zwgfnkk08CS7eul9/+9rcN3Sleeukl079//7w5+HvuucfwUMH5ZyJn7tlnn82b8elAFAFFIBoBJYDRuOinikCLQcCRqtdff93Qg5f8NohEdXW1+dWvfmXatWtnXOjWHbRbB88dHrt+/frZr9znbjn66FJA8uKLL5rXXnvNfO5znzNXXHGFmTNnjl0EwgYBhBhQtHDRRReZ++67z3oV3TaYu+3GEUP2g8fyySefDK7WKl6DDZ4/ctTAeciQIXl13JDRm2++2ZBLyfT5z3/ehqlnzpyZV+PUwSgCikBDBJQANsRD3ykCLQ4BSNX7779v0P/bY489DLpye++9t/XUPProo1bmIhy2dYSMili+iyOAhI/plwrBGzdunEF4F7mZhx9+2OKI95AQMZIld999t9m8ebP56U9/amVN8EC6/TBG9oV3C9LpzH1P4QryNSNGjHBftZo5hTtUblOMQxgdQs1UU1OTFxgce+yx5uijj7bnhvNz00032ZxSdCfVFAFFIH8RUAKYv+dGR6YIZASB1atX2+ILbs4UgDi5F7xKeGlcMYEjW+zUvUYepUuXLqa8vNyOJeyhwyN32mmnmfHjx9tl8AAip4F3ESOEjICxI56//vWvzW9+8xvz7rvv2qIStgcRhNycccYZtiqZUPGUKVOsN8nt76OPPrIEkNB1azNCrBBpMIGIu8mR7HzCA23JP/zhDwaPrcqn5NOZ0bEoAo0RUALYGBP9RBFoUQjQ1xQtOchX79697bER8t1rr71sOPiGG26whM2RLRZwr/HGsX4UAYQ8Ih6NhAZFCfRNhQzi5UNjEMNzBxk49dRTzdChQ634NHmC7Nt5iP74xz/asPBXv/pVSxYpGmFZchUhkBhFKxCf4uJi+741/QMZj5rOPPPMvIEBDzPeYCRTzj//fPPEE09Y0p83A9SBKAKKQCMElAA2gkQ/UARaFgKEcCdNmtSAPLmQ74MPPmiuv/76ugpdd+TueypOye3Da/fMM89YjyEeRQyx3A0bNphrrrnG5v7RqWLUqFE2ZLz77rvbZVgWCRlXAOKKOPBoETbGnnvuOUv8+O7ll1+2JJFwNbmJ7BtDmBlSSTGJWv4hQFs6zhGk/oILLrDeXML+aoqAIpC/CCgBzN9zoyNTBJodAdpkTZ06tc7jF94hRSPkeD3yyCPWi0eeHzl+d911lw37du3a1TzwwANm9uzZtkjhyiuvtEUjjvBBABcvXlznQXQEDnJAUQdGcUhFRYXBE3j66adbT58rLHHFKVQAjx49Ojw8fZ8nCFDZDeknt5QcU1IC+I2oKQKKQP4ioK3g8vfc6MgUgZwjgOgwkzMKDyB7hH0HDhxoiz5+9KMf2fAy/WkJ7VIBTKiZsCXkD5JIYcBvf/tbKwGDoDSh3eOOO85uFpIIaaA9HYRvzZo1dj2KQg455BC7zMKFC+sIoxuLzvMXAc699tDN3/OjI1MEQEAJoP4OFAFFIG0EIH4TJkyoW57CDSaMwg9Cu0ceeaR9T3iY/D+KT/DwHX744TZPjHwxPIV8TtHAiSeeaO69917raURvkCIVJsgkRsXr+vXrbYsu+4H+k1cI0CbwqKOOMgMGDLApARSBoDcZ7mGcV4PWwSgCioDRVnD6I1AEFIGMI4AHyBWSUOULOaTSF0/egQceaE466STrIWQZiknOO+88SwiPOeYY6z3Ec0j18Ze+9CWbV0aYmmriQYMGZXysusFdQ4BWgbT7Q+6HIh1EoS+//HJL+Hdty7q2IqAINCcCSgCbE13dtiKgCKSFANIxt99+e11l8L777mu+8Y1vWPman/3sZ2batGlm2bJljYpV0tq4LqQIKAKKgCLQCAElgI0g0Q8UAUUg1whQOYykCOLP6N3hYaKDiPMq5np8un9FQBFQBAodASWAhX4GdfyKgCKgCCgCioAioAgkREBlYBICposrAoqAIqAIKAKKgCJQ6AgoASz0M6jjVwQUAUVAEVAEFAFFICECSgATAqaLKwKKgCKgCCgCioAiUOgIKAEs9DOo41cEFAFFQBFQBBQBRSAhAkoAEwKmiysCioAioAgoAoqAIlDoCCgBLPQzqONXBBQBRUARUAQUAUUgIQJKABMCposrAoqAIqAIKAKKgCJQ6AgoASz0M6jjVwQUAUVAEVAEFAFFICECSgATAqaLKwKKgCKgCCgCioAiUOgIKAEs9DOo41cEFAFFQBFQBBQBRSAhAkoAEwKmiysCioAioAgoAoqAIlDoCCgBLPQzqONXBBQBRUARUAQUAUUgIQJKABMCposrAoqAIqAIKAKKgCJQ6AgoASz0M6jjVwQUAUVAEVAEFAFFICECSgATAqaLKwKKgCKgCCgCioAiUOgIKAEs9DOo41cEFAFFQBFQBBQBRSAhAkoAEwKmiysCioAioAgoAoqAIlDoCCgBLPQzqONXBBQBRUARUAQUAUUgIQJKABMCposrAoqAIqAIKAKKgCJQ6AgoASz0M6jjVwQUAUVAEVAEFAFFICECSgATAqaLKwKKgCKgCCgCioAiUOgIKAEs9DOo41cEFAFFQBFQBBQBRSAhAkoAEwKmiysCioAioAgoAoqAIlDoCCgBLPQzqONXBBQBRUARUAQUAUUgIQJKABMCposrAoqAIqAIKAKKgCJQ6AgoASz0M6jjVwQUAUVAEVAEFAFFICECSgATAqaLKwKKgCKgCCgCioAiUOgIKAEs9DOo41cEFAFFQBFQBBQBRSAhAkoAEwKmiysCioAioAgoAoqAIlDoCCgBLPQzqONXBBQBRUARUAQUAUUgIQJKABMCposrAoqAIqAIKAKKgCJQ6AgoASz0M6jjVwQUAUVAEVAEFAFFICECSgATAqaLKwKKgCKgCCgCioAiUOgIKAEs9DOo41cEFAFFQBFQBBQBRSAhAkoAEwKmiysCioAioAgoAoqAIlDoCCgBLPQzqONXBBQBRUARUAQUAUUgIQJKABMCposrAoqAIqAIKAKKgCJQ6AgoASz0M6jjVwQUAUVAEVAEFAFFICECSgATAqaLKwKKgCKgCCgCioAiUOgIKAEs9DOo41cEFAFFQBFQBBQBRSAhAkoAEwKmiysCioAioAgoAoqAIlDoCCgBLPQzqONXBBQBRUARUAQUAUUgIQJKABMCposrAoqAIqAIKAKKgCJQ6AgoASz0M6jjVwQUAUVAEVAEFAFFICECSgATAqaLKwKKgCKgCCgCioAiUOgIKAEs9DOo41cEFAFFQBFQBBQBRSAhAv8PuRtVmyyuGFkAAAAASUVORK5CYII=\" width=\"640\">"
      ],
      "text/plain": [
       "<IPython.core.display.HTML object>"
      ]
     },
     "metadata": {},
     "output_type": "display_data"
    }
   ],
   "source": [
    "x_ = np.arange(-3, 3, .1)\n",
    "y_ = np.arange(-3, 3, .1)\n",
    "\n",
    "xx_, yy_ = np.meshgrid(x_,y_)\n",
    "F = xx_**3 + 3*yy_**3 + 3*xx_**2 + 3*yy_**2 + 24\n",
    "\n",
    "fig = plt.figure()\n",
    "ax = fig.gca(projection = '3d')\n",
    "surf = ax.plot_surface(xx_, yy_, F)\n",
    "\n",
    "ax.set_xlabel('X Label')\n",
    "ax.set_ylabel('Y Label')\n",
    "ax.set_zlabel('Z Label')\n",
    "\n",
    "plt.show()"
   ]
  },
  {
   "cell_type": "markdown",
   "metadata": {},
   "source": [
    "# EJEMPLO: MAXIMIZACIÓN DE UTILIDADES\n",
    "El total de los ingresos semanales que obtiene una fábrica y vender sus sistemas de estantes con altavoces está dado por:\n",
    "\n",
    "$$ R(x, y) = -\\frac{1}{4}x^2 -\\frac{3}{8}y^2 -\\frac{1}{4}xy + 300x + 240 y$$\n",
    "\n",
    "- donde x denota el número completo de unidades ensambladas.\n",
    "- y el número de kits fabricados y vendidos cada semana.\n",
    "\n",
    "El total del costo semanal atribuible a la fabricación de esos altavoces es: \n",
    "\n",
    "$$ C(x, y) = 180x + 140y + 5000$$\n",
    "\n",
    "Determine cuántas unidades ensambladas y cuántos kits debería fabricar por semana para maximizar sus utilidades.\n",
    "\n",
    "**¿Cuál es la utilidad máxima?**"
   ]
  },
  {
   "cell_type": "code",
   "execution_count": 64,
   "metadata": {},
   "outputs": [
    {
     "data": {
      "image/png": "[encoded data removed]",
      "text/latex": [
       "$$\\left ( x, \\quad y\\right )$$"
      ],
      "text/plain": [
       "(x, y)"
      ]
     },
     "execution_count": 64,
     "metadata": {},
     "output_type": "execute_result"
    }
   ],
   "source": [
    "var (\"x, y\")"
   ]
  },
  {
   "cell_type": "code",
   "execution_count": 65,
   "metadata": {},
   "outputs": [
    {
     "data": {
      "image/png": "[encoded data removed]",
      "text/latex": [
       "$$- 0.25 x^{2} - 0.25 x y + 120 x - 0.375 y^{2} + 226 y - 5000$$"
      ],
      "text/plain": [
       "        2                             2               \n",
       "- 0.25⋅x  - 0.25⋅x⋅y + 120⋅x - 0.375⋅y  + 226⋅y - 5000"
      ]
     },
     "execution_count": 65,
     "metadata": {},
     "output_type": "execute_result"
    }
   ],
   "source": [
    "A = -1/4 *x**2 -3/8*y**2 -1/4*x*y + 300*x + 240*y\n",
    "B = 180*x+14*y+5000\n",
    "f = A-B\n",
    "f"
   ]
  },
  {
   "cell_type": "code",
   "execution_count": 71,
   "metadata": {},
   "outputs": [
    {
     "data": {
      "image/png": "[encoded data removed]",
      "text/latex": [
       "$$\\left ( - 0.5 x - 0.25 y + 120, \\quad - 0.25 x - 0.75 y + 226\\right )$$"
      ],
      "text/plain": [
       "(-0.5⋅x - 0.25⋅y + 120, -0.25⋅x - 0.75⋅y + 226)"
      ]
     },
     "execution_count": 71,
     "metadata": {},
     "output_type": "execute_result"
    }
   ],
   "source": [
    "dfx = f.diff(x)\n",
    "dfy = f.diff(y)\n",
    "dfx, dfy"
   ]
  },
  {
   "cell_type": "code",
   "execution_count": 76,
   "metadata": {},
   "outputs": [
    {
     "data": {
      "image/png": "[encoded data removed]",
      "text/latex": [
       "$$\\left ( - 0.5 x - 0.25 y + 120, \\quad - 0.25 x - 0.75 y + 226, \\quad \\left \\{ x : 107.2, \\quad y : 265.6\\right \\}\\right )$$"
      ],
      "text/plain": [
       "(-0.5⋅x - 0.25⋅y + 120, -0.25⋅x - 0.75⋅y + 226, {x: 107.2, y: 265.6})"
      ]
     },
     "execution_count": 76,
     "metadata": {},
     "output_type": "execute_result"
    }
   ],
   "source": [
    "pc1 = solve([dfx, dfy], [x, y])\n",
    "\n",
    "dfx, dfy, pc1"
   ]
  },
  {
   "cell_type": "code",
   "execution_count": 83,
   "metadata": {},
   "outputs": [
    {
     "data": {
      "image/png": "[encoded data removed]",
      "text/latex": [
       "$$\\left ( -0.5, \\quad -0.75\\right )$$"
      ],
      "text/plain": [
       "(-0.5, -0.75)"
      ]
     },
     "execution_count": 83,
     "metadata": {},
     "output_type": "execute_result"
    }
   ],
   "source": [
    "ddfx = dfx.diff(x)\n",
    "ddfx = dfx.diff(y)\n",
    "ddfy = dfy.diff(y)\n",
    "ddfy = dfy.diff(x)\n",
    "ddfx, ddfy, ddf"
   ]
  },
  {
   "cell_type": "code",
   "execution_count": null,
   "metadata": {},
   "outputs": [],
   "source": []
  },
  {
   "cell_type": "markdown",
   "metadata": {},
   "source": [
    "# EJEMPLO OPTIMIZACIÓN \n",
    "\n",
    "$$ V = xyz $$\n",
    "\n",
    "Sujeta a la restricción: \n",
    "\n",
    "$$ g(x, y, z) = 2xz + 2yz + xy = 12 $$"
   ]
  },
  {
   "cell_type": "code",
   "execution_count": 84,
   "metadata": {},
   "outputs": [],
   "source": [
    "x, y, z, ld = symbols(\"x y z \\lambda\")\n",
    "\n",
    "V = x*y*z\n",
    "g = 2*x*z + 2*y*z + x*y -12 "
   ]
  },
  {
   "cell_type": "code",
   "execution_count": 85,
   "metadata": {},
   "outputs": [
    {
     "data": {
      "image/png": "[encoded data removed]",
      "text/latex": [
       "$$- \\lambda \\left(x y + 2 x z + 2 y z - 12\\right) + x y z$$"
      ],
      "text/plain": [
       "-\\lambda⋅(x⋅y + 2⋅x⋅z + 2⋅y⋅z - 12) + x⋅y⋅z"
      ]
     },
     "execution_count": 85,
     "metadata": {},
     "output_type": "execute_result"
    }
   ],
   "source": [
    "L = V - ld*g\n",
    "L"
   ]
  },
  {
   "cell_type": "code",
   "execution_count": 86,
   "metadata": {},
   "outputs": [
    {
     "data": {
      "image/png": "[encoded data removed]",
      "text/latex": [
       "$$\\left [ \\left \\{ \\lambda : - \\frac{1}{2}, \\quad x : -2, \\quad y : -2, \\quad z : -1\\right \\}, \\quad \\left \\{ \\lambda : \\frac{1}{2}, \\quad x : 2, \\quad y : 2, \\quad z : 1\\right \\}\\right ]$$"
      ],
      "text/plain": [
       "[{\\lambda: -1/2, x: -2, y: -2, z: -1}, {\\lambda: 1/2, x: 2, y: 2, z: 1}]"
      ]
     },
     "execution_count": 86,
     "metadata": {},
     "output_type": "execute_result"
    }
   ],
   "source": [
    "pcs = solve(map(L.diff,[x, y, z, ld]))\n",
    "pcs"
   ]
  },
  {
   "cell_type": "code",
   "execution_count": 87,
   "metadata": {},
   "outputs": [
    {
     "data": {
      "image/png": "[encoded data removed]",
      "text/latex": [
       "$$\\left ( -4, \\quad 4\\right )$$"
      ],
      "text/plain": [
       "(-4, 4)"
      ]
     },
     "execution_count": 87,
     "metadata": {},
     "output_type": "execute_result"
    }
   ],
   "source": [
    "V.subs(pcs[0]), V.subs(pcs[1])"
   ]
  }
 ],
 "metadata": {
  "kernelspec": {
   "display_name": "Python 3",
   "language": "python",
   "name": "python3"
  },
  "language_info": {
   "codemirror_mode": {
    "name": "ipython",
    "version": 3
   },
   "file_extension": ".py",
   "mimetype": "text/x-python",
   "name": "python",
   "nbconvert_exporter": "python",
   "pygments_lexer": "ipython3",
   "version": "3.6.5"
  }
 },
 "nbformat": 4,
 "nbformat_minor": 2
}
