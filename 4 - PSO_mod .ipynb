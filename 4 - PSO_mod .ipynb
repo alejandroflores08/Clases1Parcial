{
 "cells": [
  {
   "cell_type": "code",
   "execution_count": 22,
   "metadata": {},
   "outputs": [
    {
     "name": "stdout",
     "output_type": "stream",
     "text": [
      "Requirement already satisfied: pyswarm in /anaconda3/lib/python3.6/site-packages (0.6)\n",
      "Requirement already satisfied: numpy in /anaconda3/lib/python3.6/site-packages (from pyswarm) (1.14.3)\n",
      "\u001b[31mdistributed 1.21.8 requires msgpack, which is not installed.\u001b[0m\n",
      "\u001b[33mYou are using pip version 10.0.1, however version 18.0 is available.\n",
      "You should consider upgrading via the 'pip install --upgrade pip' command.\u001b[0m\n",
      "Collecting psopy\n",
      "  Downloading https://files.pythonhosted.org/packages/c4/33/268ff98320884be7379e5cf616df1242c338f54e67addadbad6185ffd2bd/psopy-0.2.2-py3-none-any.whl\n",
      "Requirement already satisfied: numpy in /anaconda3/lib/python3.6/site-packages (from psopy) (1.14.3)\n",
      "Requirement already satisfied: scipy in /anaconda3/lib/python3.6/site-packages (from psopy) (1.1.0)\n",
      "\u001b[31mdistributed 1.21.8 requires msgpack, which is not installed.\u001b[0m\n",
      "Installing collected packages: psopy\n",
      "Successfully installed psopy-0.2.2\n",
      "\u001b[33mYou are using pip version 10.0.1, however version 18.0 is available.\n",
      "You should consider upgrading via the 'pip install --upgrade pip' command.\u001b[0m\n"
     ]
    }
   ],
   "source": [
    "!pip install pyswarm\n",
    "!pip install psopy"
   ]
  },
  {
   "cell_type": "markdown",
   "metadata": {},
   "source": [
    "# Ejercicio \n",
    "\n",
    "Minimice la siguiente función \n",
    "\n",
    "$f(x) = x^2$"
   ]
  },
  {
   "cell_type": "code",
   "execution_count": 21,
   "metadata": {},
   "outputs": [],
   "source": [
    "from pyswarm import pso\n",
    "import numpy as np"
   ]
  },
  {
   "cell_type": "code",
   "execution_count": 23,
   "metadata": {},
   "outputs": [],
   "source": [
    "def f(x):\n",
    "    x1 = x[0]\n",
    "    return x1**2"
   ]
  },
  {
   "cell_type": "code",
   "execution_count": 36,
   "metadata": {},
   "outputs": [
    {
     "name": "stdout",
     "output_type": "stream",
     "text": [
      "Stopping search: Swarm best objective change less than 1e-08\n"
     ]
    },
    {
     "data": {
      "text/plain": [
       "(array([-8.44671902e-07]), 7.134706214759553e-13)"
      ]
     },
     "execution_count": 36,
     "metadata": {},
     "output_type": "execute_result"
    }
   ],
   "source": [
    "lb = [-1000000]\n",
    "ub = [1000000]\n",
    "pso(f, lb, ub)"
   ]
  },
  {
   "cell_type": "markdown",
   "metadata": {},
   "source": [
    "# Ejercicio\n",
    "\n",
    "\n",
    "Minimice la siguiente función \n",
    "\n",
    "$$f(x) = x^2$$\n",
    "\n",
    "sujeta a la restricción\n",
    "\n",
    "$$ g(x) = x \\geq 5$$"
   ]
  },
  {
   "cell_type": "code",
   "execution_count": 32,
   "metadata": {},
   "outputs": [],
   "source": [
    "def f(x):\n",
    "    x2 = x[0]\n",
    "    return x2**2"
   ]
  },
  {
   "cell_type": "code",
   "execution_count": 33,
   "metadata": {},
   "outputs": [],
   "source": [
    "def g(x):\n",
    "    x2 = x[0]\n",
    "    return [x-5]"
   ]
  },
  {
   "cell_type": "code",
   "execution_count": 34,
   "metadata": {},
   "outputs": [
    {
     "name": "stdout",
     "output_type": "stream",
     "text": [
      "Stopping search: Swarm best position change less than 1e-08\n"
     ]
    },
    {
     "data": {
      "text/plain": [
       "(array([5.]), 25.00000004498648)"
      ]
     },
     "execution_count": 34,
     "metadata": {},
     "output_type": "execute_result"
    }
   ],
   "source": [
    "lb = [-100000]\n",
    "ub = [100000]\n",
    "pso (f, lb, ub, f_ieqcons = g )"
   ]
  },
  {
   "cell_type": "code",
   "execution_count": 31,
   "metadata": {},
   "outputs": [],
   "source": [
    "pso?"
   ]
  },
  {
   "cell_type": "markdown",
   "metadata": {},
   "source": [
    "# Ejercicio\n",
    "\n",
    "Una caja rectangular sin tapa se hace con $12 m^2$ de cartón.\n",
    "\n",
    "Calcule el volumen máximo de esta caja."
   ]
  },
  {
   "cell_type": "markdown",
   "metadata": {},
   "source": [
    "Solucion:\n",
    "\n",
    "Sean $x, y$ y $z$ el largo, el ancho\n",
    "y la altura, respectivamente, de la caja medidos en metros. Buscamos maximizar\n",
    "\n",
    "$$V=xyz $$\n",
    "\n",
    "sujeta a la restricción\n",
    "\n",
    "$$g(x,y,z) = 2xz + 2yz + xy = 12$$"
   ]
  },
  {
   "cell_type": "code",
   "execution_count": 42,
   "metadata": {},
   "outputs": [],
   "source": [
    "def V(w):\n",
    "    x = w[0]\n",
    "    y = w[1]\n",
    "    z = w[2]\n",
    "    return -x*y*z"
   ]
  },
  {
   "cell_type": "code",
   "execution_count": 43,
   "metadata": {},
   "outputs": [],
   "source": [
    "def g(w):\n",
    "    x = w[0]\n",
    "    y = w[1]\n",
    "    z = w[2]\n",
    "    return -2*x*z - 2*y*z - x*y + 12"
   ]
  },
  {
   "cell_type": "code",
   "execution_count": 47,
   "metadata": {},
   "outputs": [
    {
     "name": "stdout",
     "output_type": "stream",
     "text": [
      "Stopping search: Swarm best position change less than 1e-08\n"
     ]
    },
    {
     "data": {
      "text/plain": [
       "(array([1.23555111, 3.5559237 , 0.79375086]), -3.487364595297982)"
      ]
     },
     "execution_count": 47,
     "metadata": {},
     "output_type": "execute_result"
    }
   ],
   "source": [
    "lb = (0,0,0)\n",
    "ub = (12, 12, 12)\n",
    "pso (V, lb, ub, f_ieqcons = g,maxiter= 200 )"
   ]
  },
  {
   "cell_type": "code",
   "execution_count": 48,
   "metadata": {},
   "outputs": [],
   "source": [
    "pso?"
   ]
  },
  {
   "cell_type": "markdown",
   "metadata": {},
   "source": [
    "# Ejercicio\n",
    "\n",
    "Un agricultor tiene $2 400$ metros de material y quiere construir una barda para\n",
    "cercar un campo rectangular que bordea un río recto, de modo que no necesita barda a\n",
    "lo largo del río. \n",
    "\n",
    "¿Cuáles son las dimensiones que debe tener el campo para encerrar el\n",
    "área más grande?\n",
    "\n",
    "### Solución\n",
    "\n",
    "- Queremos maximizar el área $A$ del rectángulo.\n",
    "\n",
    "$$A(x,y) = xy $$\n",
    "\n",
    "Ademas tenemos una restriccion, utilizamos la información dada de que la longitud total de la barda es $2400$ metros\n",
    "\n",
    "$$2x + y = 2400 $$"
   ]
  },
  {
   "cell_type": "code",
   "execution_count": 83,
   "metadata": {},
   "outputs": [],
   "source": [
    "def A(w):\n",
    "    x = w[0]\n",
    "    y = w[1]\n",
    "    return -x*y\n",
    "def g(w):\n",
    "    x = w[0]\n",
    "    y = w[1]\n",
    "    return  [(2*x + y - 2400)*-1]"
   ]
  },
  {
   "cell_type": "code",
   "execution_count": 85,
   "metadata": {},
   "outputs": [
    {
     "name": "stdout",
     "output_type": "stream",
     "text": [
      "Stopping search: Swarm best position change less than 1e-08\n"
     ]
    },
    {
     "data": {
      "text/plain": [
       "(array([ 594.36510103, 1211.26974634]), -719936.4651593361)"
      ]
     },
     "execution_count": 85,
     "metadata": {},
     "output_type": "execute_result"
    }
   ],
   "source": [
    "lb = (0,0)\n",
    "ub = (2000, 2000)\n",
    "pso (A, lb, ub, f_ieqcons = g,maxiter= 300 )"
   ]
  },
  {
   "cell_type": "markdown",
   "metadata": {},
   "source": [
    "# Ejercicio\n",
    "\n",
    "Se va un fabricar una lata que ha de contener $1 L$ de aceite. Encuentre\n",
    "las dimensiones que debe tener la lata de manera que minimicen el costo del metal para fabricarla.\n",
    "\n",
    "De esta manera, el área superficial es\n",
    "$$A(r,h) = 2\\pi r^2 + 2\\pi r h  $$\n",
    "\n",
    "El volumen está dado como $1 L$, que tomamos como $1000$ $cm^3$\n",
    "\n",
    "$$\\pi r^2h=1000 $$\n",
    "\n"
   ]
  },
  {
   "cell_type": "code",
   "execution_count": 90,
   "metadata": {},
   "outputs": [],
   "source": [
    "from sympy import*\n",
    "def A(w):\n",
    "    r = w[0]\n",
    "    h = w[1]\n",
    "    return 2*pi*r**2 + 2*pi*r*h\n",
    "def g(w):\n",
    "    r = w[0]\n",
    "    h = w[1]\n",
    "    return pi*r**2*h - 1000"
   ]
  },
  {
   "cell_type": "code",
   "execution_count": 91,
   "metadata": {},
   "outputs": [
    {
     "name": "stdout",
     "output_type": "stream",
     "text": [
      "Stopping search: Swarm best position change less than 1e-08\n"
     ]
    },
    {
     "data": {
      "text/plain": [
       "(array([ 5.26681816, 11.47502073]), 176.352442255088*pi)"
      ]
     },
     "execution_count": 91,
     "metadata": {},
     "output_type": "execute_result"
    }
   ],
   "source": [
    "lb = (0, 0)\n",
    "ub = (1000, 1000)\n",
    "pso (A, lb, ub, f_ieqcons = g,maxiter= 300 )"
   ]
  }
 ],
 "metadata": {
  "kernelspec": {
   "display_name": "Python 3",
   "language": "python",
   "name": "python3"
  },
  "language_info": {
   "codemirror_mode": {
    "name": "ipython",
    "version": 3
   },
   "file_extension": ".py",
   "mimetype": "text/x-python",
   "name": "python",
   "nbconvert_exporter": "python",
   "pygments_lexer": "ipython3",
   "version": "3.6.5"
  },
  "toc": {
   "base_numbering": 1,
   "nav_menu": {},
   "number_sections": true,
   "sideBar": true,
   "skip_h1_title": false,
   "title_cell": "Table of Contents",
   "title_sidebar": "Contents",
   "toc_cell": false,
   "toc_position": {},
   "toc_section_display": true,
   "toc_window_display": false
  }
 },
 "nbformat": 4,
 "nbformat_minor": 2
}
