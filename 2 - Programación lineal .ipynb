{
 "cells": [
  {
   "cell_type": "markdown",
   "metadata": {},
   "source": [
    "# EJEMPLO 1"
   ]
  },
  {
   "cell_type": "markdown",
   "metadata": {},
   "source": [
    "La compañia de Pepe diseña y vende dos tipos de anillos: AA y TT. La empresa puede producir hasta 24 anillos cada día\n",
    "usando como máximo un total de 60 h de mano de obra. Le toma 3 h anillo AA y 2h uno del tipo TT, y además el beneficio\n",
    "por cada anillo AA es 40 pesos y por anillo 30 pesos. Maximice el beneficio."
   ]
  },
  {
   "cell_type": "markdown",
   "metadata": {},
   "source": [
    "Función:\n",
    "\n",
    "$$ f(x, y) = 40x + 30y $$\n",
    "\n",
    "Restricciones: \n",
    "\n",
    "$$ x +y \\leq 24 $$\n",
    "\n",
    "$$ 3x + 2y \\leq 60 $$\n",
    "\n",
    "$$ x \\geq 0 $$\n",
    "\n",
    "$$ y \\geq 0 $$"
   ]
  },
  {
   "cell_type": "code",
   "execution_count": 69,
   "metadata": {},
   "outputs": [],
   "source": [
    "%matplotlib notebook\n",
    "from sympy import * \n",
    "import numpy as np \n",
    "import math\n",
    "import matplotlib.pyplot as plt\n",
    "init_printing()"
   ]
  },
  {
   "cell_type": "code",
   "execution_count": 70,
   "metadata": {},
   "outputs": [
    {
     "data": {
      "image/png": "[encoded data removed]",
      "text/latex": [
       "$$\\left ( x, \\quad y\\right )$$"
      ],
      "text/plain": [
       "(x, y)"
      ]
     },
     "execution_count": 70,
     "metadata": {},
     "output_type": "execute_result"
    }
   ],
   "source": [
    "var (\"x y\")"
   ]
  },
  {
   "cell_type": "code",
   "execution_count": 71,
   "metadata": {},
   "outputs": [
    {
     "data": {
      "image/png": "[encoded data removed]",
      "text/latex": [
       "$$40 x + 30 y$$"
      ],
      "text/plain": [
       "40⋅x + 30⋅y"
      ]
     },
     "execution_count": 71,
     "metadata": {},
     "output_type": "execute_result"
    }
   ],
   "source": [
    "f = 40*x + 30*y\n",
    "f"
   ]
  },
  {
   "cell_type": "code",
   "execution_count": 72,
   "metadata": {},
   "outputs": [
    {
     "data": {
      "image/png": "[encoded data removed]",
      "text/latex": [
       "$$3 x + 2 y \\leq 60$$"
      ],
      "text/plain": [
       "3⋅x + 2⋅y ≤ 60"
      ]
     },
     "execution_count": 72,
     "metadata": {},
     "output_type": "execute_result"
    }
   ],
   "source": [
    "x + y <= 24\n",
    "3*x + 2*y <= 60"
   ]
  },
  {
   "cell_type": "code",
   "execution_count": 73,
   "metadata": {},
   "outputs": [
    {
     "data": {
      "text/plain": [
       "array([12., 12.])"
      ]
     },
     "execution_count": 73,
     "metadata": {},
     "output_type": "execute_result"
    }
   ],
   "source": [
    "A = [ [1,1], [3,2]]\n",
    "b = [24, 60]\n",
    "np.linalg.solve(A, b) ## solución del sistema "
   ]
  },
  {
   "cell_type": "code",
   "execution_count": 74,
   "metadata": {},
   "outputs": [
    {
     "data": {
      "image/png": "[encoded data removed]",
      "text/latex": [
       "$$9$$"
      ],
      "text/plain": [
       "9"
      ]
     },
     "execution_count": 74,
     "metadata": {},
     "output_type": "execute_result"
    }
   ],
   "source": [
    "g = lambda x: x**2\n",
    "g(3)\n",
    "# arreglo semejante al de abajo"
   ]
  },
  {
   "cell_type": "code",
   "execution_count": 75,
   "metadata": {},
   "outputs": [
    {
     "data": {
      "text/plain": [
       "([0, 12, 20, 0, 12, 20], array([ 0, 24, 40]))"
      ]
     },
     "execution_count": 75,
     "metadata": {},
     "output_type": "execute_result"
    }
   ],
   "source": [
    "[0,12,20]*2, np.array([0,12,20])*2 #primero es en lista, el segundo es trabajar con vector"
   ]
  },
  {
   "cell_type": "code",
   "execution_count": 76,
   "metadata": {},
   "outputs": [],
   "source": [
    "f = lambda X,Y: 40*np.array(X) + 30*np.array(Y)"
   ]
  },
  {
   "cell_type": "code",
   "execution_count": 77,
   "metadata": {},
   "outputs": [
    {
     "data": {
      "text/plain": [
       "array([720, 840, 800])"
      ]
     },
     "execution_count": 77,
     "metadata": {},
     "output_type": "execute_result"
    }
   ],
   "source": [
    "# evaluamos todas las funciones\n",
    "f([0,12,20], [24,12,0])\n",
    "# la mayor es f (12,12) = 840"
   ]
  },
  {
   "cell_type": "markdown",
   "metadata": {},
   "source": [
    "# ALGORITMO SIMPLEX"
   ]
  },
  {
   "cell_type": "markdown",
   "metadata": {},
   "source": [
    "# EJEMPLO UTILIZANDO PULP"
   ]
  },
  {
   "cell_type": "code",
   "execution_count": 78,
   "metadata": {},
   "outputs": [
    {
     "name": "stdout",
     "output_type": "stream",
     "text": [
      "Requirement already satisfied: pulp in /anaconda3/lib/python3.6/site-packages (1.6.8)\n",
      "Requirement already satisfied: pyparsing>=2.0.1 in /anaconda3/lib/python3.6/site-packages (from pulp) (2.2.0)\n",
      "\u001b[31mdistributed 1.21.8 requires msgpack, which is not installed.\u001b[0m\n",
      "\u001b[33mYou are using pip version 10.0.1, however version 18.0 is available.\n",
      "You should consider upgrading via the 'pip install --upgrade pip' command.\u001b[0m\n"
     ]
    }
   ],
   "source": [
    "!pip install pulp"
   ]
  },
  {
   "cell_type": "code",
   "execution_count": 79,
   "metadata": {},
   "outputs": [],
   "source": [
    "from pulp import * "
   ]
  },
  {
   "cell_type": "code",
   "execution_count": 80,
   "metadata": {},
   "outputs": [
    {
     "data": {
      "text/plain": [
       "pulp.pulp.LpVariable"
      ]
     },
     "execution_count": 80,
     "metadata": {},
     "output_type": "execute_result"
    }
   ],
   "source": [
    "#pulp.LpVariable? #como se declaran variables \n",
    "pulp.LpVariable"
   ]
  },
  {
   "cell_type": "code",
   "execution_count": 81,
   "metadata": {},
   "outputs": [],
   "source": [
    "mi_lp_problema = pulp.LpProblem (\"Mi LP Problema\", pulp.LpMinimize)\n",
    "\n",
    "x = pulp.LpVariable('x', lowBound=0, cat='Continuous')\n",
    "y = pulp.LpVariable('y', lowBound=0, cat='Continuous')\n",
    "\n",
    "#objective function\n",
    "mi_lp_problema += x + 2*y\n",
    "\n",
    "#constraints\n",
    "mi_lp_problema += 3*x + 4*y >= 1\n",
    "mi_lp_problema += 2*x + 5*y >= 2"
   ]
  },
  {
   "cell_type": "code",
   "execution_count": 82,
   "metadata": {},
   "outputs": [
    {
     "data": {
      "text/plain": [
       "Mi LP Problema:\n",
       "MINIMIZE\n",
       "1*x + 2*y + 0\n",
       "SUBJECT TO\n",
       "_C1: 3 x + 4 y >= 1\n",
       "\n",
       "_C2: 2 x + 5 y >= 2\n",
       "\n",
       "VARIABLES\n",
       "x Continuous\n",
       "y Continuous"
      ]
     },
     "execution_count": 82,
     "metadata": {},
     "output_type": "execute_result"
    }
   ],
   "source": [
    "mi_lp_problema"
   ]
  },
  {
   "cell_type": "code",
   "execution_count": 83,
   "metadata": {},
   "outputs": [
    {
     "data": {
      "text/plain": [
       "'Optimal'"
      ]
     },
     "execution_count": 83,
     "metadata": {},
     "output_type": "execute_result"
    }
   ],
   "source": [
    "mi_lp_problema.solve()\n",
    "pulp.LpStatus[mi_lp_problema.status]"
   ]
  },
  {
   "cell_type": "code",
   "execution_count": 84,
   "metadata": {
    "scrolled": true
   },
   "outputs": [
    {
     "name": "stdout",
     "output_type": "stream",
     "text": [
      "x = 0.0\n",
      "y = 0.4\n"
     ]
    }
   ],
   "source": [
    "for variable in mi_lp_problema.variables():\n",
    "    print(\"{} = {}\".format(variable.name, variable.varValue))"
   ]
  },
  {
   "cell_type": "markdown",
   "metadata": {},
   "source": [
    "We have also checked the status of the solver, there are 5 status codes:\n",
    "\n",
    "- **Not solved**: Status prior to solving the problem.\n",
    "- **Optimal**: An optimal solution has been found. \n",
    "- **Infeasible**: There are no feasible solutions (e.g. if you set the constraints x <= 1 and x >=2).\n",
    "- **Unbounded**: The constraints aren't bounded, maximising the solution will tend towrads infinity (e.g. if the only constraints was x >= 3).\n",
    "- **Undefined**: The optimal solution may exist but may not have been found."
   ]
  },
  {
   "cell_type": "markdown",
   "metadata": {},
   "source": [
    "# EJEMPLO MINIMIZAR\n",
    "$$min \\ x_1 + 2x_2$$\n",
    "$$s.t. \\ 3x_1 + 4x_2 \\geq 1$$\n",
    "    $$2x_1 + 5x_2 \\geq 2$$\n",
    "    $$x_1, x_2 \\geq 0$$"
   ]
  },
  {
   "cell_type": "code",
   "execution_count": 85,
   "metadata": {},
   "outputs": [],
   "source": [
    "from scipy.optimize import linprog"
   ]
  },
  {
   "cell_type": "code",
   "execution_count": 86,
   "metadata": {},
   "outputs": [
    {
     "name": "stdout",
     "output_type": "stream",
     "text": [
      "Optimization terminated successfully.\n",
      "         Current function value: 0.800000    \n",
      "         Iterations: 2\n",
      "     fun: 0.8\n",
      " message: 'Optimization terminated successfully.'\n",
      "     nit: 2\n",
      "   slack: array([0.6, 0. ])\n",
      "  status: 0\n",
      " success: True\n",
      "       x: array([0. , 0.4])\n"
     ]
    }
   ],
   "source": [
    "c = [1,2]\n",
    "A = [[-3,-4], [-2, -5]]\n",
    "\n",
    "b = [-1,-2]\n",
    "\n",
    "x0_bounds = (0, None)\n",
    "x1_bounds = (0, None)\n",
    "\n",
    "res = linprog(c, A_ub=A, b_ub=b, bounds=(x0_bounds, x1_bounds), \n",
    "              options={\"disp\": True})\n",
    "\n",
    "print(res)"
   ]
  },
  {
   "cell_type": "markdown",
   "metadata": {},
   "source": [
    "### Mismo ejercicio de arriba"
   ]
  },
  {
   "cell_type": "code",
   "execution_count": 2,
   "metadata": {},
   "outputs": [
    {
     "name": "stdout",
     "output_type": "stream",
     "text": [
      "2 - Programación lineal .ipynb   WhiskasModel.lp\r\n",
      "Clase 1 - derivadas.ipynb\r\n"
     ]
    }
   ],
   "source": [
    "#!pip install cvxopt\n",
    "!ls"
   ]
  },
  {
   "cell_type": "code",
   "execution_count": 3,
   "metadata": {},
   "outputs": [],
   "source": [
    "from cvxopt import matrix, solvers"
   ]
  },
  {
   "cell_type": "code",
   "execution_count": 6,
   "metadata": {},
   "outputs": [
    {
     "name": "stdout",
     "output_type": "stream",
     "text": [
      "     pcost       dcost       gap    pres   dres   k/t\n",
      " 0:  6.7308e-01  3.7308e+00  6e+00  1e+00  5e+00  1e+00\n",
      " 1:  8.4233e-01  1.0964e+00  5e-01  1e-01  6e-01  6e-03\n",
      " 2:  8.0538e-01  8.2298e-01  2e-02  8e-03  4e-02  2e-03\n",
      " 3:  8.0005e-01  8.0026e-01  2e-04  1e-04  5e-04  3e-05\n",
      " 4:  8.0000e-01  8.0000e-01  2e-06  1e-06  5e-06  3e-07\n",
      " 5:  8.0000e-01  8.0000e-01  2e-08  1e-08  5e-08  3e-09\n",
      "Optimal solution found.\n",
      "[ 1.86e-08]\n",
      "[ 4.00e-01]\n",
      "\n"
     ]
    }
   ],
   "source": [
    "A = matrix ([ [-3.0, -2.0, -1.0, 0.0], [-4.0, -5.0, 0.0, -1.0]])\n",
    "\n",
    "b = matrix([-1.0, -2.0, 0.0, 0.0])\n",
    "c = matrix([1.0, 2.0])\n",
    "sol = solvers.lp(c, A, b)\n",
    "\n",
    "print(sol['x'])"
   ]
  },
  {
   "cell_type": "markdown",
   "metadata": {},
   "source": [
    "# EJEMPLO 2 \n",
    "## CON PULP"
   ]
  },
  {
   "cell_type": "markdown",
   "metadata": {},
   "source": [
    "Minimize: $$2x_1 + x_2 $$\n",
    "subject to $$-x_1 + x_2 \\leq 1$$\n",
    "$$ x_1 + x_2 \\geq 2$$\n",
    "$$ x_2 \\geq 0$$\n",
    "$$x_1 - 2x_2 \\leq 4$$\n"
   ]
  },
  {
   "cell_type": "code",
   "execution_count": null,
   "metadata": {},
   "outputs": [],
   "source": [
    "#pulp. Otra forma de resolver esta en el ejemplo siguiente.\n",
    "mi_lp_ejemplo = pulp.LpProblem(\"Mi Lp problema\", pulp.LpMinimize)\n",
    "\n",
    "x_1 = pulp.LpVariable('x_1', lowBound=0, cat='Continuous') \n",
    "x_2 = pulp.LpVariable('x_2', lowBound=0, cat='Continuous')\n",
    "\n",
    "#objective function\n",
    "mi_lp_ejemplo += 2*x_1 + x_2\n",
    "\n",
    "#constraints\n",
    "mi_lp_ejemplo += -x_1 + x_2 <= 1\n",
    "mi_lp_ejemplo += x_1 + x_2 >= 2\n",
    "mi_lp_ejemplo += x_2 >= 0\n",
    "mi_lp_ejemplo += x_1 - 2*x_2 <= 4"
   ]
  },
  {
   "cell_type": "code",
   "execution_count": null,
   "metadata": {},
   "outputs": [],
   "source": [
    "mi_lp_ejemplo"
   ]
  },
  {
   "cell_type": "code",
   "execution_count": null,
   "metadata": {},
   "outputs": [],
   "source": [
    "mi_lp_ejemplo.solve()\n",
    "pulp.LpStatus[mi_lp_ejemplo.status]"
   ]
  },
  {
   "cell_type": "code",
   "execution_count": null,
   "metadata": {},
   "outputs": [],
   "source": [
    "for variable in mi_lp_ejemplo.variables():\n",
    "    print(\"{} = {}\".format(variable.name, variable.varValue))"
   ]
  },
  {
   "cell_type": "markdown",
   "metadata": {},
   "source": [
    "# EJEMPLO 3\n",
    "Considere el siguiente problema de programación lineal:\n",
    "\n",
    "Minimizar\n",
    "$$f = -x_0 + 4 x_1 $$\n",
    "Sujeto a:\n",
    "$$-3x_0 + x_1 \\leq 6$$\n",
    "$$x_0 + 2x_1 \\leq 4$$\n",
    "$$x_1 \\geq -3$$\n",
    "Donde:\n",
    "$$-\\infty\\leq x_0 \\leq\\infty$$"
   ]
  },
  {
   "cell_type": "code",
   "execution_count": null,
   "metadata": {},
   "outputs": [],
   "source": [
    "from scipy.optimize import linprog"
   ]
  },
  {
   "cell_type": "code",
   "execution_count": null,
   "metadata": {},
   "outputs": [],
   "source": [
    "c = [-1, 4]\n",
    "A = [[-3, 1], [1,2]]\n",
    "b = [6, 4]\n",
    "\n",
    "x0_bounds = (None, None) \n",
    "x1_bounds = (-3, None)\n",
    "\n",
    "res = linprog(c, A_ub = A, b_ub = b, bounds = (x0_bounds, x1_bounds) , options = {\"disp\":True})"
   ]
  },
  {
   "cell_type": "code",
   "execution_count": 7,
   "metadata": {},
   "outputs": [
    {
     "ename": "NameError",
     "evalue": "name 'res' is not defined",
     "output_type": "error",
     "traceback": [
      "\u001b[0;31m---------------------------------------------------------------------------\u001b[0m",
      "\u001b[0;31mNameError\u001b[0m                                 Traceback (most recent call last)",
      "\u001b[0;32m<ipython-input-7-c08785e04264>\u001b[0m in \u001b[0;36m<module>\u001b[0;34m()\u001b[0m\n\u001b[0;32m----> 1\u001b[0;31m \u001b[0mres\u001b[0m\u001b[0;34m\u001b[0m\u001b[0m\n\u001b[0m",
      "\u001b[0;31mNameError\u001b[0m: name 'res' is not defined"
     ]
    }
   ],
   "source": [
    "res"
   ]
  },
  {
   "cell_type": "markdown",
   "metadata": {},
   "source": [
    "# EJEMPLO - PROBLEMA DE MEZCLA\n",
    "\n",
    "Los costos del pollo, res, y cordero son \\$ 0.013, \\$ 0.008 y \\$ 0.010 respectivamente, mientras que los costos del arroz, trigo y gel son \\$ 0.002, \\$ 0.005 y \\$ 0.001 respectivamente (todos los costos son por gramo). Para este ejercicio se ignorarán las vitaminas y minerales\n",
    "\n",
    "Variables: \n",
    "$$x_1 = porcentaje \\ de \\ carne \\ de \\ pollo \\ en \\ un \\ bote \\ de \\ comida \\ de \\ gato$$\n",
    "$$x_2 = porcentaje \\ de \\ res \\ usada \\ en \\ un \\ bote \\ de \\ comida \\ de \\ gato$$\n",
    "\n",
    "La función objetivo será: \n",
    "\n",
    "$$ min: \\ 0.013x_1 + 0.008x_2$$\n",
    "\n",
    "restricciones: \n",
    "$$1.000x_1 + 1.000x_2 = 100.0$$\n",
    "$$0.100x_1 + 0.200x_2 \\geq 8.0$$\n",
    "$$0.080x_1 + 0.100x_2 \\geq 6.0$$\n",
    "$$0.001x_1 + 0.005x_2 \\leq 2.0$$\n",
    "$$0.002x_1 + 0.005x_2 \\leq 0.4$$\n"
   ]
  },
  {
   "cell_type": "code",
   "execution_count": 88,
   "metadata": {},
   "outputs": [],
   "source": [
    "from pulp import *"
   ]
  },
  {
   "cell_type": "code",
   "execution_count": 89,
   "metadata": {},
   "outputs": [],
   "source": [
    "prob = LpProblem ('The whiskas problem', LpMinimize)"
   ]
  },
  {
   "cell_type": "code",
   "execution_count": 90,
   "metadata": {},
   "outputs": [
    {
     "data": {
      "text/plain": [
       "example"
      ]
     },
     "execution_count": 90,
     "metadata": {},
     "output_type": "execute_result"
    }
   ],
   "source": [
    "LpVariable ('example', upBound = 100)"
   ]
  },
  {
   "cell_type": "code",
   "execution_count": 92,
   "metadata": {},
   "outputs": [],
   "source": [
    "x1 = LpVariable(\"ChickenPercent\", 0, None, LpInteger)\n",
    "x2 = LpVariable (\"BeefPercent\", 0)\n",
    "\n",
    "prob += 0.013*x1 + 0.008*x2, 'Total cost of ingredients per can'\n",
    "\n",
    "prob += x1 + x2 == 100, \"PercentagesSum\"\n",
    "prob += 0.100*x1 + 0.200*x2 >= 8.0, \"ProteinRequirement\"\n",
    "prob += 0.080*x1 + 0.100*x2 >= 6.0, \"FatRequirement\"\n",
    "prob += 0.001*x1 + 0.005*x2 <= 2.0, \"FibreRequirement\"\n",
    "prob += 0.002*x1 + 0.005*x2 <= 0.4, \"SaltRequirement\""
   ]
  },
  {
   "cell_type": "code",
   "execution_count": 94,
   "metadata": {},
   "outputs": [
    {
     "data": {
      "image/png": "[encoded data removed]",
      "text/latex": [
       "$$1$$"
      ],
      "text/plain": [
       "1"
      ]
     },
     "execution_count": 94,
     "metadata": {},
     "output_type": "execute_result"
    }
   ],
   "source": [
    "prob.writeLP(\"WhiskasModel.lp\")\n",
    "prob.solve()"
   ]
  },
  {
   "cell_type": "code",
   "execution_count": 95,
   "metadata": {},
   "outputs": [
    {
     "name": "stdout",
     "output_type": "stream",
     "text": [
      "Status: Optimal\n"
     ]
    }
   ],
   "source": [
    "print(\"Status:\", LpStatus[prob.status])"
   ]
  },
  {
   "cell_type": "code",
   "execution_count": 96,
   "metadata": {},
   "outputs": [
    {
     "name": "stdout",
     "output_type": "stream",
     "text": [
      "BeefPercent = 66.0\n",
      "ChickenPercent = 34.0\n"
     ]
    }
   ],
   "source": [
    "for v in prob.variables():\n",
    "    print(v.name, \"=\", v.varValue)"
   ]
  },
  {
   "cell_type": "code",
   "execution_count": 97,
   "metadata": {},
   "outputs": [
    {
     "name": "stdout",
     "output_type": "stream",
     "text": [
      "Costo Total de ingredientes por bote =  0.97\n"
     ]
    }
   ],
   "source": [
    "print(\"Costo Total de ingredientes por bote = \", value(prob.objective))"
   ]
  },
  {
   "cell_type": "markdown",
   "metadata": {},
   "source": [
    "# EJEMPLO 3\n",
    "El obejtivo de este problema es determinar la mejor estrategia de inversión dados diferentes tipos de bono, la máxima cantidad que puede ser invetida en cada bono, el porcentaje de retorno y los años de madurez. \n",
    "\n",
    "- Hay una cantidad fija de dinero disponible ($750, 000).\n",
    "- Por lo menos la mitad de ese dinero debe ser invertido en bonos con 10 años o más para la madurez.\n",
    "- Se puede invertir un máximp del 25% de esta cantidad en cada bono.\n",
    "- Finalmente, hay otra restricción que no permite usar más del 35% en bonos de alto riesgo. \n",
    "\n",
    "La función objetivo será:\n",
    "$$max_{[x_1,...,x_6]} (8.65x_1+9.52x_2+10x_3+8.75x_4+9.25x_5+9x_6)/100$$\n",
    "Restricciones:\n",
    "$$x_1 + x_2 + x_4 + x_6 \\geq 750,000*0.5$$\n",
    "$$x_2 + x_3 + x_5 \\leq 750,000*0.35$$\n",
    "$$x_1 + x_2 + x_3 + x_4 + x_5 + x_6 \\leq 750,000$$\n",
    "$$ 0 \\leq x_1, x_2, ..., x_6 \\leq 750,000*0.25$$"
   ]
  },
  {
   "cell_type": "code",
   "execution_count": null,
   "metadata": {},
   "outputs": [],
   "source": [
    "opt.linprog? "
   ]
  },
  {
   "cell_type": "markdown",
   "metadata": {},
   "source": [
    "## 1.1 Plantear restricciones..."
   ]
  },
  {
   "cell_type": "code",
   "execution_count": null,
   "metadata": {},
   "outputs": [],
   "source": [
    "import numpy as np\n",
    "import scipy.optimize as opt"
   ]
  },
  {
   "cell_type": "code",
   "execution_count": null,
   "metadata": {},
   "outputs": [],
   "source": [
    "c = np.array([-8.65, -9.52, -10, -8.75, -9.25, -9])/100\n",
    "A = np.array([[-1, -1, 0, -1, 0, -1], [0, 1, 1, 0, 1, 0], [1, 1, 1, 1, 1, 1]])\n",
    "b = np.array([-0.5, 0.35, 1])*750000\n",
    "\n",
    "Ai_bounds = (0, 0.25*750000)\n",
    "\n",
    "\n",
    "res = opt.linprog(c, A_ub = A, b_ub = b, bounds = (Ai_bounds),  options = {\"disp\": True})"
   ]
  },
  {
   "cell_type": "code",
   "execution_count": null,
   "metadata": {
    "scrolled": true
   },
   "outputs": [],
   "source": [
    "res"
   ]
  },
  {
   "cell_type": "code",
   "execution_count": null,
   "metadata": {},
   "outputs": [],
   "source": [
    "opt.linprog?"
   ]
  },
  {
   "cell_type": "code",
   "execution_count": null,
   "metadata": {},
   "outputs": [],
   "source": [
    "#mi_lp_ejemplo2 = pulp.LpProblem(\"Mi Lp p2\", pulp.LpMaximize)\n",
    "\n",
    "#x_1 = pulp.LpVariable('x_1', upBound=0, cat='Continuous') \n",
    "#x_2 = pulp.LpVariable('x_2', upBound=0, cat='Continuous')\n",
    "#x_3 = pulp.LpVariable('x_3', upBound=0, cat='Continuous')\n",
    "#x_4 = pulp.LpVariable('x_4', upBound=0, cat='Continuous') \n",
    "#x_5 = pulp.LpVariable('x_5', upBound=0, cat='Continuous')\n",
    "#x_6 = pulp.LpVariable('x_6', upBound=0, cat='Continuous')\n",
    "\n",
    "\n",
    "#objective function\n",
    "#mi_lp_ejemplo2 += (8.65x_1+9.52x_2+10x_3+8.75x_4+9.25x_5+9x_6)/100 \n",
    "\n",
    "#constraints\n",
    "#mi_lp_ejemplo2 += x_1 + x_2 + x_4 + x_6 >= 750000*0.5\n",
    "#mi_lp_ejemplo2 += x_2 + x_3 + x_5 <= 750000*0.35\n",
    "#mi_lp_ejemplo2 += x_1 + x_2 + x_3 + x_4 + x_5 + x_6 <= 750000\n",
    "#mi_lp_ejemplo2 += 0 <= x_1 <= 7500000*.025\n",
    "#mi_lp_ejemplo2 += 0 <= x_2 <= 7500000*.025\n",
    "#mi_lp_ejemplo2 += 0 <= x_3 <= 7500000*.025\n",
    "#mi_lp_ejemplo2 += 0 <= x_4 <= 7500000*.025\n",
    "#mi_lp_ejemplo2 += 0 <= x_5 <= 7500000*.025\n",
    "#mi_lp_ejemplo2 += 0 <= x_6 <= 7500000*.025\n",
    "\n",
    "#siguiente: mi_lp_ejemplo2\n",
    "\n",
    "#siguiente: mi_lp_ejemplo2.solve()\n",
    "#pulp.LpStatus[mi_lp_ejemplo2.status]\n",
    "\n",
    "#última: for variable in mi_lp_ejemplo2.variables():\n",
    "#             print ('{} = {}'.format(variable.name, variable.varValue))"
   ]
  }
 ],
 "metadata": {
  "kernelspec": {
   "display_name": "Python 3",
   "language": "python",
   "name": "python3"
  },
  "language_info": {
   "codemirror_mode": {
    "name": "ipython",
    "version": 3
   },
   "file_extension": ".py",
   "mimetype": "text/x-python",
   "name": "python",
   "nbconvert_exporter": "python",
   "pygments_lexer": "ipython3",
   "version": "3.6.5"
  }
 },
 "nbformat": 4,
 "nbformat_minor": 2
}
